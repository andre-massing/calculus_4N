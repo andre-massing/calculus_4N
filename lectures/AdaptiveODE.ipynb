{
 "cells": [
  {
   "cell_type": "markdown",
   "id": "yellow-chicago",
   "metadata": {
    "slideshow": {
     "slide_type": "slide"
    }
   },
   "source": [
    "<!-- KODE = \"ja\", \"nei\", default \"ja\" -->\n",
    "\n",
    "\n",
    "<!-- dom:TITLE: Numerical solution of ordinary differential equations: Euler's and Heun's method -->\n",
    "# Numerical solution of ordinary differential equations: Error estimation and step size control\n",
    "<!-- dom:AUTHOR: Anne Kværnø, André Massing) -->\n",
    "<!-- Author: -->  \n",
    "**Anne Kværnø, André Massing**\n",
    "\n",
    "Date: **March 22, 2021**\n",
    "\n",
    "$\\newcommand{mb}[1]{\\mathbf{#1}}$\n",
    "\n",
    "If you want to have a nicer theme for your jupyter notebook,\n",
    "download the [cascade stylesheet file tma4125.css](https://www.math.ntnu.no/emner/TMA4125/2020v/part_II/notebooks/tma4125.css)\n",
    "and execute the next cell:"
   ]
  },
  {
   "cell_type": "code",
   "execution_count": 1,
   "id": "similar-rochester",
   "metadata": {
    "slideshow": {
     "slide_type": "slide"
    }
   },
   "outputs": [
    {
     "data": {
      "text/html": [
       "<link href='http://fonts.googleapis.com/css?family=Alegreya+Sans:100,300,400,500,700,800,900,100italic,300italic,400italic,500italic,700italic,800italic,900italic' rel='stylesheet' type='text/css'> <link href='http://fonts.googleapis.com/css?family=Arvo:400,700,400italic' rel='stylesheet' type='text/css'> <link href=\"https://fonts.googleapis.com/css?family=News+Cycle\" rel=\"stylesheet\"> <link href='http://fonts.googleapis.com/css?family=Nixie+One' rel='stylesheet' type='text/css'> <link href='http://fonts.googleapis.com/css?family=PT+Mono' rel='stylesheet' type='text/css'> <link href='http://fonts.googleapis.com/css?family=Shadows+Into+Light' rel='stylesheet' type='text/css'> <link href=\"https://fonts.googleapis.com/css?family=Source+Code+Pro\" rel=\"stylesheet\"> <style> @font-face {\n",
       "    /*font-family: \"Computer Modern\";*/\n",
       "    /*src: url('http://mirrors.ctan.org/fonts/cm-unicode/fonts/otf/cmunss.otf');*/\n",
       "    font-family: 'News Cycle', sans-serif;\n",
       "}\n",
       "\n",
       "\n",
       "/* main background */\n",
       "\n",
       "\n",
       "/*#notebook_panel { \n",
       "        background: #C9D4E2;\n",
       "    }*/\n",
       "\n",
       "div.cell {\n",
       "    /*max-width:600px;*/\n",
       "    /*margin-left:16% !important;*/\n",
       "    /*margin-right:auto;*/\n",
       "}\n",
       "\n",
       "div.text_cell {\n",
       "    max-width: 120ex;\n",
       "    /* instead of 100%, */\n",
       "}\n",
       "\n",
       "div.text_cell_render {\n",
       "    font-family: 'Alegreya Sans', Computer Modern, \"Helvetica Neue\", Arial, Helvetica, Geneva,   sans-serif;\n",
       "    line-height: 135%;\n",
       "    /*font-size:    45pt;*/\n",
       "    font-size: 130%;\n",
       "    /*width:600px;*/\n",
       "    /*margin-left:auto;*/\n",
       "    /*margin-right:auto;*/\n",
       "}\n",
       "\n",
       ".CodeMirror {\n",
       "    /*font-family: 'Source Code Pro', monospace;*/\n",
       "    /*font-style: italic;*/\n",
       "    /*font-weight: bold;*/\n",
       "    /*font-size: 120%;*/\n",
       "}\n",
       "\n",
       "\n",
       "/*.prompt{\n",
       "        display: None;\n",
       "    }*/\n",
       "\n",
       ".text_cell_render h1 {\n",
       "    font-family: 'Nixie One', serifV;\n",
       "    font-style: regular;\n",
       "    font-weight: 400;\n",
       "    font-size: 45pt;\n",
       "    line-height: 100%;\n",
       "        color: #497BB9;    \n",
       "    /*color: #5889C5;*/\n",
       "    /*color: rgb(0, 51, 102);*/\n",
       "    /*font-weight: 200;*/\n",
       "    /*font-size: 50pt;*/\n",
       "    margin-bottom: 0.5em;\n",
       "    margin-top: 0.5em;\n",
       "    display: block;\n",
       "}\n",
       "\n",
       ".text_cell_render h2 {\n",
       "    font-family: 'Nixie One', serif;\n",
       "    font-weight: 400;\n",
       "    font-size: 30pt;\n",
       "    line-height: 100%;\n",
       "    /*color: rgb(0,51,102);*/\n",
       "    color: #497BB9;    \n",
       "    margin-bottom: 0.1em;\n",
       "    margin-top: 0.3em;\n",
       "    display: block;\n",
       "}\t\n",
       "\n",
       ".text_cell_render h3 {\n",
       "    font-family: 'Nixie One', serif;\n",
       "    margin-top:16px;\n",
       "    font-size: 22pt;\n",
       "    font-weight: 600;\n",
       "    margin-bottom: 3px;\n",
       "    font-style: regular;\n",
       "    color: rgb(102,102,0);\n",
       "}\n",
       "\n",
       ".text_cell_render h4 {    /*Use this for captions*/\n",
       "    font-family: 'Nixie One', serif;\n",
       "    font-size: 14pt;\n",
       "/*    text-align: center;*/\n",
       "    margin-top: 0em;\n",
       "    margin-bottom: 2em;\n",
       "    font-style: regular;\n",
       "}\n",
       "\n",
       ".text_cell_render h5 {  /*Use this for small titles*/\n",
       "    font-family: 'Nixie One', sans-serif;\n",
       "    font-weight: 400;\n",
       "    font-size: 16pt;\n",
       "    color: rgb(163,0,0);\n",
       "    /*color: #5889C5;*/\n",
       "    /*margin-bottom: .5em;\n",
       "    margin-top: 0.5em;*/\n",
       "    font-style: italic;\n",
       "    margin-bottom: .1em;\n",
       "    margin-top: 0.8em;\n",
       "    display: block;\n",
       "}\n",
       "\n",
       ".warning {\n",
       "    color: rgb( 240, 20, 20)\n",
       "}\n",
       "\n",
       "</style> \n",
       "<script>\n",
       " MathJax.Hub.Config( {\n",
       "    TeX: {\n",
       "        Macros: {\n",
       "            NN: \"{\\\\bf N}\",\n",
       "            RR: \"{\\\\mathbb{R}}\",\n",
       "            mcO: \"{\\\\mathcal{O}}\"\n",
       "        },\n",
       "        equationNumbers: { autoNumber: \"AMS\" },\n",
       "        extensions: [\"AMSmath.js\", \"begingroup.js\"] \n",
       "    },\n",
       "    tex2jax: {\n",
       "        inlineMath: [ ['$', '$'], [\"\\\\(\", \"\\\\)\"]], displayMath: [ ['$$', '$$'], [\"\\\\[\", \"\\\\]\"]]\n",
       "    },\n",
       "    displayAlign: 'center', // Change this to 'center' to center equations.\n",
       "    \"HTML-CSS\": {\n",
       "        styles: {\n",
       "            '.MathJax_Display': {\n",
       "                \"margin\": 4\n",
       "            }\n",
       "        }\n",
       "    }\n",
       "}\n",
       ");\n",
       "</script>\n"
      ],
      "text/plain": [
       "<IPython.core.display.HTML object>"
      ]
     },
     "execution_count": 1,
     "metadata": {},
     "output_type": "execute_result"
    }
   ],
   "source": [
    "from IPython.core.display import HTML\n",
    "def css_styling():\n",
    "    try:\n",
    "        with open(\"tma4125.css\", \"r\") as f:\n",
    "            styles = f.read()\n",
    "            return HTML(styles)\n",
    "    except FileNotFoundError:\n",
    "        pass #Do nothing\n",
    "\n",
    "# Comment out next line and execute this cell to restore the default notebook style \n",
    "css_styling()"
   ]
  },
  {
   "cell_type": "markdown",
   "id": "virtual-verse",
   "metadata": {
    "slideshow": {
     "slide_type": "slide"
    }
   },
   "source": [
    "As always, we start by calling the necessary modules: And of course we want to import the required modules."
   ]
  },
  {
   "cell_type": "code",
   "execution_count": 2,
   "id": "photographic-adult",
   "metadata": {
    "slideshow": {
     "slide_type": "slide"
    }
   },
   "outputs": [],
   "source": [
    "%matplotlib inline\n",
    "\n",
    "import numpy as np\n",
    "from numpy import pi\n",
    "from numpy.linalg import solve, norm    \n",
    "import matplotlib.pyplot as plt\n",
    "\n",
    "# Use a funny plotting style\n",
    "plt.xkcd()\n",
    "\n",
    "newparams = {'figure.figsize': (6.0, 6.0), 'axes.grid': True,\n",
    "             'lines.markersize': 8, 'lines.linewidth': 2,\n",
    "             'font.size': 14}\n",
    "plt.rcParams.update(newparams)"
   ]
  },
  {
   "cell_type": "markdown",
   "id": "noticed-adventure",
   "metadata": {
    "slideshow": {
     "slide_type": "slide"
    }
   },
   "source": [
    "## Error estimation\n",
    "Given two methods, one of order $p$ and the other of order $p+1$ or higher. Assume we have \n",
    "reached a point $(t_n,\\mb{y}_n)$. One step forward with each of these methods can be written as\n",
    "\n",
    "\\begin{align*} \n",
    "  \\mb{y}_{n+1} &= \\mb{y}_n + \\tau \\mb{\\Phi}(t_n, \\mb{y}_n; \\tau), && \\text{order $p$}, \\\\ \n",
    "  \\widehat{\\mb{y}}_{n+1} &= \\mb{y}_n + \\tau \\widehat{\\mb{\\Phi}}(t_n, \\mb{y}_n; \\tau), && \\text{order $\\widehat{p} = p+1$ or more}. \\\\ \n",
    "\\end{align*}\n",
    "\n",
    "Let $\\mb{y}(t_{n+1};t_n,\\mb{y}_n)$ be the exact solution of the ODE through $(t_n,\\mb{y}_n)$. \n",
    "We would like to find an estimate for *the local error* $\\mb{l}_{n+1}$, that is, the error in one step starting from  $(t_n, \\mb{y}_n)$,\n",
    "\n",
    "$$\n",
    "\\mb{l}_{n+1} = \\mb{y}(t_{n+1};t_n,\\mb{y}_n) - \\mb{y}_{n+1}.\n",
    "$$"
   ]
  },
  {
   "cell_type": "markdown",
   "id": "canadian-flexibility",
   "metadata": {
    "slideshow": {
     "slide_type": "slide"
    }
   },
   "source": [
    "As we already have seen, the local error is found by finding the power series in $\\tau$ of the exact \n",
    "and the numerical solution. The local error is of order $p$ if the lowest order terms in the series where the exact and the numerical solution differ is of order $p+1$. So the local errors of the two methods are\n",
    "\n",
    "\\begin{align*}\n",
    "\\mb{y}(t_{n+1};t_n,\\mb{y}_n) - \\mb{y}_{n+1} &= \\mb{\\Psi}(t_n,y_n)\\tau^{p+1}  +\\dotsc, \\\\ \n",
    "\\mb{y}(t_{n+1};t_n,\\mb{y}_n) - \\widehat{\\mb{y}}_{n+1} &= \\widehat{\\mb{\\Psi}}(t_n,y_n)\\tau^{p+2} + \\dotsc,\n",
    "\\end{align*}\n",
    "\n",
    "where $\\Psi(t_n,y_n)$ is a term consisting of method parameters and differentials of $\\mb{f}$ and \n",
    "$\\dotsc$ contains all the terms of the series of order $p+2$ or higher. "
   ]
  },
  {
   "cell_type": "markdown",
   "id": "nonprofit-northern",
   "metadata": {
    "slideshow": {
     "slide_type": "slide"
    }
   },
   "source": [
    "Taking the difference gives\n",
    "\n",
    "$$\n",
    "\\widehat{\\mb{y}}_{n+1} - \\mb{y}_{n+1} = \\mb{\\Psi}(t_n,\\mb{y}_n)\\tau^{p+1} + \\ldots.\n",
    "$$\n",
    "\n",
    "Assume now that $\\tau$ is small, such that the *principal error term* $\\mb{\\Psi(t_n,y_n)}\\tau^{p+1}$ dominates the error series. Then a reasonable approximation to the unknown local error $\\mb{l}_{n+1}$ is the *local error estimate* $\\mb{le}_{n+1}$:\n",
    "\n",
    "$$\n",
    "\\mb{le}_{n+1} = \\widehat{\\mb{y}}_{n+1} - \\mb{y}_{n+1} \\approx \\mb{y}(t_{n+1};t_n,\\mb{y}_n) - \\mb{y}_{n+1}.\n",
    "$$"
   ]
  },
  {
   "cell_type": "markdown",
   "id": "recognized-tonight",
   "metadata": {
    "slideshow": {
     "slide_type": "slide"
    }
   },
   "source": [
    "## Stepsize control\n",
    "The next step is to control the local error, that is, choose the step size so that $\\|\\mb{le}_{n+1}\\| \\leq \\text{Tol}$ for some given tolerance Tol, and for some chosen norm $\\|\\cdot\\|$. \n",
    "\n",
    "Essentially: "
   ]
  },
  {
   "cell_type": "markdown",
   "id": "planned-adobe",
   "metadata": {
    "slideshow": {
     "slide_type": "slide"
    }
   },
   "source": [
    "Given $t_n, \\mb{y}_n$ and a step size $\\tau_n$. \n",
    "* Do one step with the method of choice, and find an error estimate $\\mb{le}_{n+1}$. \n",
    "\n",
    "* if  $\\|\\mb{le}\\|_{n+1} < \\text{Tol}$\n",
    "\n",
    "    * Accept the solution $t_{n+1}, \\mb{y}_{n+1}$.\n",
    "\n",
    "    * If possible, increase the step size for the next step.\n",
    "\n",
    "\n",
    "* else\n",
    "\n",
    "    * Repeat the step from $(t_n,\\mb{y}_n)$ with a reduced step size $\\tau_{n}$.\n",
    "\n",
    "\n",
    "In both cases, the step size will change. But how? "
   ]
  },
  {
   "cell_type": "markdown",
   "id": "victorian-yorkshire",
   "metadata": {
    "slideshow": {
     "slide_type": "slide"
    }
   },
   "source": [
    "From the discussion above, we have that\n",
    "\n",
    "$$\n",
    "\\| \\mb{le}_{n+1} \\| \\approx D  \\tau_{n}^{p+1}.\n",
    "$$\n",
    "\n",
    "where $\\mb{le}_{n+1}$ is the error estimate we can compute, $D$ is some unknown quantity, which we assume almost constant from one step to the next. What we want is a step size $\\tau_{new}$ such that\n",
    "\n",
    "$$\n",
    "\\text{Tol} \\approx D \\tau _{new}^{p+1}.\n",
    "$$\n",
    "\n",
    "From these two approximations we get:\n",
    "\n",
    "$$\n",
    "\\frac{\\text{Tol}}{\\|\\mb{le}_{n+1}\\|} \\approx \\left(\\frac{\\tau _{new}}{\\tau _n}\\right)^{p+1}\n",
    "\\qquad \\Rightarrow \\qquad\n",
    "\\tau_{new} \\approx \\left( \\frac{\\text{Tol}}{\\|\\mb{le}_{n+1}\\|} \\right)^{\\frac{1}{p+1}} \\tau _{n}.\n",
    "$$"
   ]
  },
  {
   "cell_type": "markdown",
   "id": "above-swift",
   "metadata": {
    "slideshow": {
     "slide_type": "slide"
    }
   },
   "source": [
    "That is, if the current step $\\tau_n$ was rejected, we try a new step $\\tau _{new}$\n",
    "with this approximation.\n",
    "However, it is still possible that this new step will be rejected as well.\n",
    "To avoid too many rejected steps, it is therefore common to be a bit restrictive when choosing the new \n",
    "step size, so the following is used in practice:\n",
    "\n",
    "$$\n",
    "\\tau _{new} = P\\cdot \\left( \\frac{\\text{Tol}}{\\|\\mb{le}_{n+1}\\|} \\right)^{\\frac{1}{p+1}} \\tau _{n}.\n",
    "$$\n",
    "\n",
    "where the *pessimist factor* $P<1$ is some constant, normally chosen between 0.5 and 0.95."
   ]
  },
  {
   "cell_type": "markdown",
   "id": "entitled-disposition",
   "metadata": {
    "slideshow": {
     "slide_type": "slide"
    }
   },
   "source": [
    "## Implementation\n",
    "We have all the bits and pieces for constructing an adaptive ODE solver based on Euler's and Heuns's methods. There are still some practical aspects to consider: \n",
    "\n",
    "* The combination of the two methods, implemented in `heun_euler` can be written as\n",
    "\n",
    "\\begin{align*}\n",
    "      \\mb{k}_1 &= \\mb{f}(t_n, \\mb{y}_n), \\\\ \n",
    "      \\mb{k}_2 &= \\mb{f}(t_n+\\tau, \\mb{y}_n+\\tau \\mb{k}_1), \\\\ \n",
    "      \\mb{y}_{n+1} &= \\mb{y}_n + \\tau \\mb{k}_1, && \\text{Euler} \\\\ \n",
    "      \\widehat{\\mb{y}}_{n+1} &= \\mb{y}_n + \\frac{\\tau}{2}(\\mb{k}_1 + \\mb{k}_2), && \\text{Heun} \\\\ \n",
    "      \\mb{le}_{n+1} &= \\|\\widehat{\\mb{y}}_{n+1} - \\mb{y}_{n+1}\\| = \\frac{\\tau}{2}\\|\\mb{k}_2-\\mb{k}_1 \\|.\n",
    "    \\end{align*}"
   ]
  },
  {
   "cell_type": "markdown",
   "id": "cleared-notification",
   "metadata": {
    "slideshow": {
     "slide_type": "slide"
    }
   },
   "source": [
    "* Even if the error estimate is derived for the lower order method, in this case Euler's method, it is common to advance the solution with the higher order method, since the additional accuracy is for free. \n",
    "\n",
    "* Adjust the last step to be able to terminate the solutions exactly in $T$. \n",
    "\n",
    "* To avoid infinite loops, add some stopping criteria. In the code below, there is a maximum number of allowed steps (rejected or accepted). "
   ]
  },
  {
   "cell_type": "markdown",
   "id": "classical-gathering",
   "metadata": {
    "slideshow": {
     "slide_type": "slide"
    }
   },
   "source": [
    "A Runge - Kutta methods with an error estimate are usually called **embedded Runge - Kutta methods** or **Runge - Kutta pairs**, and\n",
    "the coefficients can be written in a Butcher tableau as follows\n",
    "\n",
    "$$\n",
    "\\begin{array}{c|ccccl}\n",
    "    c_1 & a_{11} & a_{12} & \\cdots & a_{1s} \\\\ \n",
    "    c_2 & a_{21} & a_{22} & \\cdots & a_{2s} \\\\ \n",
    "    \\vdots & \\vdots &&&\\vdots \\\\ \n",
    "    c_s & a_{s1} & a_{s2} & \\cdots & a_{ss} \\\\ \\hline\n",
    "        & b_1 & b_2 & \\cdots & b_s  & \\qquad\\text{Order $p$}\\\\ \\hline\n",
    "        & \\widehat{b}_1 & \\widehat{b_2} & \\cdots & \\widehat{b}_s  & \\qquad\\text{Order $\\widehat{p}= p+1$}\n",
    "   \\end{array}.\n",
    "$$"
   ]
  },
  {
   "cell_type": "markdown",
   "id": "julian-surface",
   "metadata": {
    "slideshow": {
     "slide_type": "slide"
    }
   },
   "source": [
    "Since \n",
    " * $\\mb{y}_{n+1} = \\mb{y}_n + \\tau_n\\sum_{i=1}^s b_i \\mb{k}_i$\n",
    " * $\\widehat{\\mb{y}}_{n+1} = \\mb{y}_n + \\tau_n\\sum_{i=1}^s \\widehat{b}_i \\mb{k}_i$\n",
    " \n",
    "the error estimate is simply given by\n",
    "$$\n",
    "\\mb{le}_{n+1} = \\tau_n\\sum_{i=1}^s (\\widehat{b}_i - b_i)\\mb{k}_i.\n",
    "$$\n"
   ]
  },
  {
   "cell_type": "markdown",
   "id": "lesser-clark",
   "metadata": {
    "slideshow": {
     "slide_type": "slide"
    }
   },
   "source": [
    "Recalling Euler and Heun,\n",
    "$$\n",
    "\\begin{array}{ccccccc}\n",
    "    \\displaystyle\n",
    "    \\begin{array}{c|c}\n",
    "      0 & 0 \\\\ \\hline & 1\n",
    "    \\end{array}\n",
    "    & \\qquad  &\n",
    "    \\displaystyle\n",
    "    \\begin{array}{c|cc}\n",
    "      0 & 0 & 0\\\\ 1 & 1 &0 \\\\ \\hline & \\frac{1}{2} & \\frac{1}{2} \n",
    "    \\end{array}\n",
    "    \\\\\n",
    "    \\text{Euler} && \\text{Heun}\n",
    "  \\end{array}\n",
    "$$\n",
    "\n",
    "and the Heun-Euler pair can be written as\n",
    "$$\n",
    "\\begin{array}{c|cc} 0 & & \\\\ 1 & 1 &   \\\\ \\hline & 1 & 0 \\\\ \\hline \\displaystyle & \\frac{1}{2} &  \\frac{1}{2} \n",
    " \\end{array}\n",
    "$$"
   ]
  },
  {
   "cell_type": "markdown",
   "id": "irish-median",
   "metadata": {
    "slideshow": {
     "slide_type": "slide"
    }
   },
   "source": [
    "A particular mention deserves also the classical 4-stage Runge-Kutta method\n",
    "from a previous numerical exercise, which can be written as\n",
    "\n",
    "$$\n",
    "\\begin{array}{c|cccc}\n",
    "      0 & 0 & 0 & 0 & 0\\\\ \\frac{1}{2} &  \\frac{1}{2} & 0 & 0 & 0\\\\ \\frac{1}{2} & 0 & \\frac{1}{2} & 0 & 0\\\\ 1 &  0 & 0 & 1 & 0 \\\\ \\hline & \\frac{1}{6} & \\frac{1}{3} & \\frac{1}{3} & \\frac{1}{6}  \n",
    "    \\end{array}\n",
    "$$\n",
    "\n",
    "See this [list of Runge - Kutta methods](https://en.wikipedia.org/wiki/List_of_Runge–Kutta_methods) for more."
   ]
  },
  {
   "cell_type": "markdown",
   "id": "proved-ratio",
   "metadata": {
    "slideshow": {
     "slide_type": "slide"
    }
   },
   "source": [
    "For the last one there exist also a embedded Runge-Kutta 4(3) variant\n",
    "due to **Fehlberg**:\n",
    "$$\n",
    "\\begin{array}{c|ccccc}\n",
    "      0 & 0 & 0 & 0 & 0 & 0\n",
    "      \\\\ \n",
    "      \\frac{1}{2} & \\frac{1}{2} & 0 & 0 & 0 & 0\n",
    "      \\\\ \n",
    "      \\frac{1}{2} & 0 & \\frac{1}{2} & 0 & 0 & 0\n",
    "      \\\\\n",
    "      1 &  0 & 0 & 1 & 0 & 0\n",
    "      \\\\\n",
    "      1 & \\frac{1}{6} & \\frac{1}{3} & \\frac{1}{3} & \\frac{1}{6} & 0 \n",
    "      \\\\\n",
    "      \\hline \n",
    "      & \\frac{1}{6} & \\frac{1}{3} & \\frac{1}{3} & 0 & \\frac{1}{6} \n",
    "      \\\\\n",
    "     \\hline \n",
    "      & \\frac{1}{6} & \\frac{1}{3} & \\frac{1}{3} & \\frac{1}{6} & 0\n",
    "\\end{array}\n",
    "$$"
   ]
  },
  {
   "cell_type": "code",
   "execution_count": 3,
   "id": "adaptive-glucose",
   "metadata": {
    "slideshow": {
     "slide_type": "slide"
    }
   },
   "outputs": [],
   "source": [
    "import numpy as np\n",
    "from  numpy.linalg import norm\n",
    "import matplotlib.pyplot as plt\n",
    "from ode import EmbeddedExplicitRungeKutta"
   ]
  },
  {
   "cell_type": "markdown",
   "id": "expired-sarah",
   "metadata": {
    "slideshow": {
     "slide_type": "slide"
    }
   },
   "source": [
    "**Example**: Solving the Brusselator (a simple model for chemical oscillators)\n",
    "See this [Brusselator](https://en.wikipedia.org/wiki/Brusselator) for more.\n",
    "\\begin{align}\n",
    "y_1' &= 1 + y_1^2 y_2 - 4 y_1 \\\\\n",
    "y_2' &= 3y_1 - y_1^2y_2\n",
    "\\end{align}"
   ]
  },
  {
   "cell_type": "code",
   "execution_count": 4,
   "id": "sudden-classic",
   "metadata": {
    "slideshow": {
     "slide_type": "slide"
    }
   },
   "outputs": [
    {
     "name": "stdout",
     "output_type": "stream",
     "text": [
      "Step is rejected at t = 0.3337238268400299 with err = 0.00013372999077240302\n",
      "Step is rejected at t = 6.468657177019609 with err = 0.00010024865552681722\n",
      "Step is rejected at t = 6.701491630733507 with err = 0.00045656237053228594\n",
      "Step is rejected at t = 6.805555131065931 with err = 0.00011243286809915643\n",
      "Step is rejected at t = 7.223756987746132 with err = 0.00025273741484123076\n",
      "Step is rejected at t = 7.257808207693208 with err = 0.00011752473164987421\n",
      "Step is rejected at t = 13.76138978952863 with err = 0.005219640704669287\n",
      "Step is rejected at t = 13.867196633546301 with err = 0.00010272508994329972\n",
      "Step is rejected at t = 14.047403146306515 with err = 0.00010348703182738191\n",
      "Step is rejected at t = 14.37720496935941 with err = 0.0002950203237570343\n",
      "Step is rejected at t = 14.411358510267524 with err = 0.000123146699524268\n",
      "Finishing time-stepping reaching t = 20.30861292959841 with final time T = 20\n",
      "Used 147 steps out of 1000 with 11 being rejected\n"
     ]
    }
   ],
   "source": [
    "def f(t,y):\n",
    "    return np.array([1.0+y[0]**2*y[1]-4*y[0],\n",
    "                     3*y[0]-y[0]**2*y[1]])\n",
    "\n",
    "y0 = np.array([1.5,\n",
    "               3])\n",
    "t0, T = 0, 20\n",
    "\n",
    "Nmax = 1000\n",
    "tol = 1e-4\n",
    "\n",
    "#Fehlberg method\n",
    "a = np.array([[0.0, 0,   0,   0,   0],\n",
    "              [1/2, 0,   0,   0,   0],\n",
    "              [0, 1/2,   0,   0,   0],\n",
    "              [0,   0,   1,   0,   0],\n",
    "              [1/6, 1/3, 1/3, 1/6, 0]])\n",
    "b =  np.array([1/6, 1/3, 1/3, 0, 1/6])\n",
    "bhat = np.array([1/6, 1/3, 1/3, 1/6, 0])\n",
    "c = np.array([0.,\n",
    "               1/2,\n",
    "               1/2,\n",
    "               1,\n",
    "               1])\n",
    "p = 4\n",
    "\n",
    "fehlberg = EmbeddedExplicitRungeKutta(a=a,b=b, c=c, bhat=bhat, order=p)\n",
    "ts, ys, ts_rej, ys_rej = fehlberg(y0, t0, T, f, Nmax, tol, store_rejected=True)"
   ]
  },
  {
   "cell_type": "code",
   "execution_count": 5,
   "id": "severe-litigation",
   "metadata": {
    "slideshow": {
     "slide_type": "slide"
    }
   },
   "outputs": [
    {
     "data": {
      "text/plain": [
       "<matplotlib.legend.Legend at 0x102eb5d00>"
      ]
     },
     "execution_count": 5,
     "metadata": {},
     "output_type": "execute_result"
    },
    {
     "data": {
      "image/png": "[encoded data removed]",
      "text/plain": [
       "<Figure size 432x432 with 1 Axes>"
      ]
     },
     "metadata": {},
     "output_type": "display_data"
    }
   ],
   "source": [
    "plt.figure()\n",
    "plt.plot(ts, ys[:,0], \"co-\", label=\"$y_1$\", markersize=\"4\")\n",
    "plt.plot(ts, ys[:,1], \"mo-\", label=\"$y_2$\", markersize=\"4\")\n",
    "#plt.plot(ts_rej, ys_rej[:,0], \"bx\", label=\"$y_1$ (rej)\", markersize=\"10\")\n",
    "#plt.plot(ts_rej, ys_rej[:,1], \"rx\", label=\"$y_2$ (rej)\", markersize=\"10\")\n",
    "plt.xlabel(\"$t$\")\n",
    "plt.ylabel(\"$y_1, y_2$\")\n",
    "plt.legend(loc=\"upper right\")"
   ]
  }
 ],
 "metadata": {
  "celltoolbar": "Slideshow",
  "kernelspec": {
   "display_name": "Python 3",
   "language": "python",
   "name": "python3"
  },
  "language_info": {
   "codemirror_mode": {
    "name": "ipython",
    "version": 3
   },
   "file_extension": ".py",
   "mimetype": "text/x-python",
   "name": "python",
   "nbconvert_exporter": "python",
   "pygments_lexer": "ipython3",
   "version": "3.9.2"
  },
  "latex_envs": {
   "LaTeX_envs_menu_present": true,
   "autoclose": false,
   "autocomplete": true,
   "bibliofile": "biblio.bib",
   "cite_by": "apalike",
   "current_citInitial": 1,
   "eqLabelWithNumbers": true,
   "eqNumInitial": 1,
   "hotkeys": {
    "equation": "Ctrl-E",
    "itemize": "Ctrl-I"
   },
   "labels_anchors": false,
   "latex_user_defs": false,
   "report_style_numbering": false,
   "user_envs_cfg": false
  }
 },
 "nbformat": 4,
 "nbformat_minor": 5
}
