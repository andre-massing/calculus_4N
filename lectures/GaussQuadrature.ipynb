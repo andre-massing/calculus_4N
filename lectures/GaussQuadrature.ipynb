{
 "cells": [
  {
   "cell_type": "markdown",
   "id": "8fba61fd",
   "metadata": {
    "editable": true
   },
   "source": [
    "<!-- HTML file automatically generated from DocOnce source (https://github.com/doconce/doconce/)\n",
    "doconce format html GaussQuadrature.do.txt KODE=ja SPLITSEC=yes --skip_inline_comments --without_answers --without_solutions -->\n",
    "<!-- KODE = \"ja\", \"nei\", default \"ja\" -->\n",
    "\n",
    "<!-- dom:TITLE: Numerical integration: Newton-Cotes and Gauß quadrature formulas -->"
   ]
  },
  {
   "cell_type": "markdown",
   "id": "e4384417",
   "metadata": {
    "editable": true
   },
   "source": [
    "# Numerical integration: Newton-Cotes and Gauß quadrature formulas\n",
    "**Anne Kværnø, André Massing**\n",
    "\n",
    "Date: **Sep 14, 2021**\n",
    "\n",
    "If you want to have a nicer theme for your jupyter notebook,\n",
    "download the [cascade stylesheet file calculus4N.css](https://www.math.ntnu.no/emner/TMA4130/2021h/lectures/calculus4N.css)\n",
    "and execute the next cell:"
   ]
  },
  {
   "cell_type": "code",
   "execution_count": 1,
   "id": "b5c98326",
   "metadata": {
    "collapsed": false,
    "editable": true
   },
   "outputs": [],
   "source": [
    "from IPython.core.display import HTML\n",
    "def css_styling():\n",
    "    try:\n",
    "        fname = \"calculus4N.css\"\n",
    "        with open(fname, \"r\") as f:\n",
    "            styles = f.read()\n",
    "            return HTML(styles)\n",
    "    except FileNotFoundError:\n",
    "        print(f\"Could not find css file '{fname}'\")\n",
    "\n",
    "# Comment out next line and execute this cell to restore the default notebook style \n",
    "css_styling()"
   ]
  },
  {
   "cell_type": "markdown",
   "id": "1c055b7a",
   "metadata": {
    "editable": true
   },
   "source": [
    "# Newton-Cotes formulas\n",
    "\n",
    "We have already seen that *given* $n+1$ distinct but\n",
    "otherwise arbitrary quadrature\n",
    "nodes $\\{x_i\\}_{i=0}^n \\subset [a,b]$, we can construct\n",
    "a quadrature rule\n",
    "$\n",
    "\\mathrm{Q}[\\cdot](\\{x_i\\}_{i=0}^{n+1},\\{w_i\\}_{i=0}^{n+1})\n",
    "$\n",
    "based on polynomial interpolation\n",
    "which has degree of exactness equals to $n$.\n",
    "\n",
    "An classical example was the trapezoidal rule,\n",
    "which are based on the\n",
    "two quadrature points $x_0=a$ and $x_1=b$\n",
    "and which has degree of exactness equal\n",
    "to $1$.\n",
    "\n",
    "The trapezoidal is the simplest example of a quadrature formula \n",
    "which belongs to the so-called **Newton Cotes formulas**.\n",
    "\n",
    "By definition, **Newton-Cotes formulas** are quadrature rules\n",
    "which are based on **equidistributed nodes**\n",
    "$\\{x_i\\}_{i=0}^n \\subset [a,b]$\n",
    "and have degree of exactness equals to $n$.\n",
    "\n",
    "The simplest choices here --- the *closed* Newton-Cotes methods ---\n",
    "use the nodes $x_i = a + ih$ with $h = (b-a)/n$. Examples of these are\n",
    "the Trapezoidal rule and Simpson's rule.  The main appeal of these\n",
    "rules is the simple definition of the nodes.\n",
    "\n",
    "If $n$ is odd, the Newton-Cotes method with $n+1$ nodes has degree of\n",
    "precision $n$; if $n$ is even, it has degree of precision $n+1$. The\n",
    "corresponding convergence order for the composite rule is, as for all\n",
    "such rules, one larger than the degree of precision, provided that the\n",
    "function $f$ is sufficiently smooth.\n",
    "\n",
    "However, for $n \\ge 8$ negative weights begin to appear in the definitions.\n",
    "Note that for a positive function $f(x) \\geqslant 0$\n",
    "we have that the integral $I[f](a,b) \\geqslant 0$\n",
    "But for a quadrature rule with negative weights \n",
    "*we have not necessarily that $Q[f](a,b) \\geqslant 0$!*\n",
    "This has the undesired effect that the numerical integral of a\n",
    "positive function can be negative. For instance, $f$ could represent a\n",
    "mass distribution, and $I[f]$ is then the total mass. If you use\n",
    "quadrature rules with negative weights, it might happen that you\n",
    "obtain a negative mass, which is completely unphysical.\n",
    "\n",
    "In addition, negative weights can lead to cancellation errors in the\n",
    "numerical evaluation, which may result in a lower practical accuracy.\n",
    "Since the rules with $n=6$ and $n=7$ yield the same convergence order,\n",
    "this mean that it is mostly the rules with $n \\le 6$ that are used in practice.\n",
    "\n",
    "The *open* Newton-Cotes methods, in contrast, use the nodes \n",
    "$x_i = a + (i+1/2)h$ with $h = (b-a)/(n+1)$. The simplest example here\n",
    "is the midpoint rule.\n",
    "Here negative weights appear already for $n \\ge 2$. Thus the midpoint rule\n",
    "is the only such rule that is commonly used in applications."
   ]
  },
  {
   "cell_type": "markdown",
   "id": "718b636b",
   "metadata": {
    "editable": true
   },
   "source": [
    "# Gauß quadrature\n",
    "In the first lecture on quadrature rules, we compared the trapezoidal rule with Gauß-Legendre\n",
    "quadrature rule which are both based on two quadrature points and\n",
    "observed that\n",
    "* the Gauß-Legendre quadrature was much more accurate than the trapezoidal rule, and more specifically,\n",
    "\n",
    "* the Gauß-Legendre quadrature *has degree of exactness equal to $3$ and not only $1$*.\n",
    "\n",
    "**Question.**\n",
    "\n",
    "* Is there a general approach to construct quadrature rules $Q[\\cdot](\\{x_i\\}_{i=0}^n,\\{w_i\\}_{i=0}^n)$ based on $n+1$ nodes with a degree of exactness $> n$?\n",
    "\n",
    "* What is the maximal degree of exactness we can achieve?\n",
    "\n",
    "**Observation/Intuition:**\n",
    "* If we predefine $n+1$ distinct quadrature points in some way, e.g. by choosing equi-distributed quadrature points, then we have only $n+1$ *free* parameters left, namely the weights $\\{w_i\\}_{i=0}^n$. In the interpolation-based construction of quadrature rules, those weights are then determined in such a way that we achieve the highest degree of exactness possible for a *predefined, given* set of quadrature points. By setting $w_i := I[l_i], i = 0, \\ldots n$ where $l_i$ are the Lagrange/cardinal function associated with $\\{x_i\\}_{i=0}^n$, we ensure that the resulting quadrature rule has a degree of exactness of $n$, *no matter how we chose the $n+1$ distinct quadrature points*!\n",
    "\n",
    "* But if we don't predefine the quadrature nodes, we have $2n+2$ *free parameters* ($n+1$ nodes and $n+1$ weights) to play with. So we might hope that with $2n+2$ free parameters, we can construct quadrature rules which are exact for $p \\in \\mathbb{P}_{2n+1}$, as such polynomials are determined by at most $2n+1$ coefficients.\n",
    "\n",
    "That leads us to the following definition."
   ]
  },
  {
   "cell_type": "markdown",
   "id": "526cb5be",
   "metadata": {
    "editable": true
   },
   "source": [
    "## Definition 1: Gaussian quadrature\n",
    "\n",
    "A quadrature rule \n",
    "$Q[\\cdot](\\{x_i\\}_{i=0}^n,\\{w_i\\}_{i=0}^n)$ based on $n+1$ nodes\n",
    "which has degree of exactness equals to $2n+1$ is called a\n",
    "**Gaussian (Legendre) quadrature** (GQ).\n",
    "\n",
    "With this definition,\n",
    "both the Gau\\ss-Legendre with $n=2$ quadrature points and the\n",
    "the midpoint rule are Gaussian quadrature rules.\n",
    "\n",
    "**Notice.**\n",
    "\n",
    "We only need to find somehow the *quadrature points* for a Gaussian quadrature.\n",
    "If the quadrature points are known, then\n",
    "the weights are again determined by $w_i = I[l_i]$, since \n",
    "every other choice of the weights will lead to a quadrature rule\n",
    "with has a degree of exactness $< n$!\n",
    "\n",
    "How can we find these \"mystical quadrature points\" to construct a Gaussian\n",
    "quadrature rule? For that we need\n",
    "to briefly review the\n",
    "concept of orthogonality for functions, which you already encountered in\n",
    "[Calculus 3](https://wiki.math.ntnu.no/lib/exe/fetch.php?tok=b0392e&media=https%3A%2F%2Fwww.math.ntnu.no%2Femner%2FTMA4110%2F2020h%2Fnotater%2F9-projeksjon.pdf).\n",
    "Afterwards we take a short dive into the theory of\n",
    "orthogonal polynomials.\n",
    "We take the following constructive approach.\n",
    "By assuming that there exist Gaussian quadratures rule,\n",
    "we will derive certain properties which uniquely characterizes\n",
    "their quadrature points and weights. Then we turn the tables\n",
    "and show that if we define a quadrature rule\n",
    "with weights and points satisfying those characteristic properties,\n",
    "then it must be a Gaussian quadrature rule."
   ]
  },
  {
   "cell_type": "markdown",
   "id": "823ebc54",
   "metadata": {
    "editable": true
   },
   "source": [
    "## Orthogonal polynomials\n",
    "\n",
    "Two functions $f, g: [a,b] \\to \\mathbb{R}$ are orthogonal if"
   ]
  },
  {
   "cell_type": "markdown",
   "id": "c8a523e2",
   "metadata": {
    "editable": true
   },
   "source": [
    "$$\n",
    "{\\langle f, g \\rangle} := \\int_a^b f(x) g(x) {\\,\\mathrm{d}x} = 0.\n",
    "$$"
   ]
  },
  {
   "cell_type": "markdown",
   "id": "f2b43e77",
   "metadata": {
    "editable": true
   },
   "source": [
    "Usually, it will be clear from the context which interval $[a,b]$\n",
    "we picked.\n",
    "\n",
    "Next, we find some clues regarding the properties\n",
    "of the sought quadrature points."
   ]
  },
  {
   "cell_type": "markdown",
   "id": "592eb925",
   "metadata": {
    "editable": true
   },
   "source": [
    "## Lemma 1: (From Gaussian quadratures to orthogonality)\n",
    "\n",
    "Assume that a given quadrature rule\n",
    "$Q[\\cdot](\\{x_i, w_i\\}_{i=0}^n)$ on $I = [a,b]$\n",
    "with $n+1$ points is a Gaussian quadrature rule.\n",
    "Let"
   ]
  },
  {
   "cell_type": "markdown",
   "id": "416fd7db",
   "metadata": {
    "editable": true
   },
   "source": [
    "$$\n",
    "\\omega_{n+1} = \\Pi_{i=0}^n (x-x_i)\n",
    "$$"
   ]
  },
  {
   "cell_type": "markdown",
   "id": "98d1c3aa",
   "metadata": {
    "editable": true
   },
   "source": [
    "the $n+1$st Newton polynomial associated with the $n+1$ quadrature points\n",
    "$x_i$. Then $\\omega_{n+1}(x)$ is orthogonal on $\\mathbb{P}^n(I)$; that is,\n",
    ":"
   ]
  },
  {
   "cell_type": "markdown",
   "id": "ade8dfde",
   "metadata": {
    "editable": true
   },
   "source": [
    "<!-- Equation labels as ordinary links -->\n",
    "<div id=\"gqr:eq:omega-orthog\"></div>\n",
    "\n",
    "$$\n",
    "\\begin{equation}\n",
    "\\int_a^b p(x) \\omega_{n+1}(x) dx = 0 \\quad \\text{for } p \\in \\mathbb{P}^n(I).\n",
    "\\label{gqr:eq:omega-orthog} \\tag{1}\n",
    "\\end{equation}\n",
    "$$"
   ]
  },
  {
   "cell_type": "markdown",
   "id": "42b52dc2",
   "metadata": {
    "editable": true
   },
   "source": [
    "**Proof.**\n",
    "By definition, a Gaussian quadrature rule with $n+1$ quadrature points has\n",
    "a degree of exactness of $2n+1$. On the other hand\n",
    "$p(x) \\omega_{n+1}(x) \\in \\mathbb{P}^{2n+1}(I)$\n",
    "for $p\\in \\mathbb{P}^{n}(I)$. \n",
    "Consequently,"
   ]
  },
  {
   "cell_type": "markdown",
   "id": "5fe31f6f",
   "metadata": {
    "editable": true
   },
   "source": [
    "<!-- Equation labels as ordinary links -->\n",
    "<div id=\"_auto1\"></div>\n",
    "\n",
    "$$\n",
    "\\begin{equation}\n",
    "\\int_a^b p(x) \\omega_{n+1}(x) {\\,\\mathrm{d}x} = Q[p(x) \\omega_{n+1}(x)]\n",
    "= \\sum_{i=0}^n p(x_i) \\omega_{n+1}(x_i) = 0\n",
    "\\label{_auto1} \\tag{2}\n",
    "\\end{equation}\n",
    "$$"
   ]
  },
  {
   "cell_type": "markdown",
   "id": "9c2933d7",
   "metadata": {
    "editable": true
   },
   "source": [
    "since by the definition of $\\omega_{n+1}(x)$ we have that $\\omega_{n+1}(x_i) = 0$ for $i=0,\\ldots n$.\n",
    "\n",
    "Note that $\\omega_{n+1}(x) = c_0 + c_1 x + \\ldots c_{n+1} x^{n+1}$ is\n",
    "the unique polynomial of degree $n+1$ with roots given by $\\{x_i\\}_{i=0}^n$ and\n",
    "a leading coefficient $c_{n+1} = 1$.\n",
    "\n",
    "Next, we show the converse of the previous lemma."
   ]
  },
  {
   "cell_type": "markdown",
   "id": "fa34b30c",
   "metadata": {
    "editable": true
   },
   "source": [
    "## Lemma 2: (From orthogonality to Gaussian quadratures)\n",
    "\n",
    "Let $\\{x_i\\}_{i=0}^n \\subset [a,b]$ be $n+1$ distinct points and assume\n",
    "that the corresponding (Newton) polynomial\n",
    "$\\omega_{n+1}(x) = \\Pi_{i=0}^n (x-x_i)$\n",
    "satisfies the orthogonality property ([1](#gqr:eq:omega-orthog)).\n",
    "Then the corresponding interpolation based quadrature rule\n",
    "$Q[\\cdot](\\{x_i, w_i\\}_{i=0}^n)$\n",
    "with weights $w_i = \\int_a^b l_i(x) {\\,\\mathrm{d}x}$ is a Gaussian quadrature rule, i.e.\n",
    "its degree of exactness is $2n+1$ (and not only $n$).\n",
    "\n",
    "**Proof.**\n",
    "Defining the weights by $w_i = \\int_a^b l_i(x) {\\,\\mathrm{d}x}$\n",
    "for any given quadrature points $\\{x_i\\}_{i=0}^n$\n",
    "guarantess that the resulting quadrature the \n",
    "degree of exactness is at least $n$.\n",
    "We need to show that the additional orthogonality property implies that\n",
    "we in fact can obtain a degree of exactness of $2n+1$; that is,\n",
    "$Q[p] = I[p]$  all $p \\in \\mathbb{P}^{2n+1}(I)$.\n",
    "\n",
    "Let $p_n \\in \\mathbb{P}^{n}(I)$ be the interpolation\n",
    "polynomial of degree $n$ which satisfies $p(x_i) = p_n(x_i)$ for\n",
    "$i=0,\\ldots n$. Then the polynomial $q(x) := p(x) - p_n(x)$ is of degree $2n+1$\n",
    "and satisfies $q(x_i) = 0$ for $i=1,\\ldots,n$. Thus\n",
    "$\\{x_i\\}_{i=0}^n$ are roots of $q(x)$, and thus we can write\n",
    "$ p(x) - p_n(x) = q(x) = \\omega_{n+1}(x) r(x)$ for some $r \\in \\mathbb{P}^{n}(I)$.\n",
    "Thus"
   ]
  },
  {
   "cell_type": "markdown",
   "id": "ee3a7c5b",
   "metadata": {
    "editable": true
   },
   "source": [
    "<!-- Equation labels as ordinary links -->\n",
    "<div id=\"_auto2\"></div>\n",
    "\n",
    "$$\n",
    "\\begin{equation}\n",
    "\\int_a^b p(x)\n",
    "=\n",
    "\\int_a^b \\bigl(\\omega_{n+1}(x) r(x) + p_n(x) \\bigr) {\\,\\mathrm{d}x}\n",
    "\\label{_auto2} \\tag{3}\n",
    "\\end{equation}\n",
    "$$"
   ]
  },
  {
   "cell_type": "markdown",
   "id": "bccd0d21",
   "metadata": {
    "editable": true
   },
   "source": [
    "<!-- Equation labels as ordinary links -->\n",
    "<div id=\"_auto3\"></div>\n",
    "\n",
    "$$\n",
    "\\begin{equation}  \n",
    "=\n",
    "\\int_a^b \\omega_{n+1}(x) r(x) {\\,\\mathrm{d}x} +\n",
    "\\int_a^b p_n(x) {\\,\\mathrm{d}x}\n",
    "\\label{_auto3} \\tag{4}\n",
    "\\end{equation}\n",
    "$$"
   ]
  },
  {
   "cell_type": "markdown",
   "id": "6cb7205e",
   "metadata": {
    "editable": true
   },
   "source": [
    "<!-- Equation labels as ordinary links -->\n",
    "<div id=\"_auto4\"></div>\n",
    "\n",
    "$$\n",
    "\\begin{equation}  \n",
    "=\n",
    "\\int_a^b p_n(x) {\\,\\mathrm{d}x}\n",
    " \\quad (\\text{Orthogonality property of } \\omega_{n+1})\n",
    "\\label{_auto4} \\tag{5}\n",
    "\\end{equation}\n",
    "$$"
   ]
  },
  {
   "cell_type": "markdown",
   "id": "df58744b",
   "metadata": {
    "editable": true
   },
   "source": [
    "<!-- Equation labels as ordinary links -->\n",
    "<div id=\"_auto5\"></div>\n",
    "\n",
    "$$\n",
    "\\begin{equation}  \n",
    "=\n",
    "Q[p_n]\n",
    " \\quad (Q[\\cdot]\\text{ has a degree of exactness } = n)\n",
    "\\label{_auto5} \\tag{6}\n",
    "\\end{equation}\n",
    "$$"
   ]
  },
  {
   "cell_type": "markdown",
   "id": "a11257e6",
   "metadata": {
    "editable": true
   },
   "source": [
    "<!-- Equation labels as ordinary links -->\n",
    "<div id=\"_auto6\"></div>\n",
    "\n",
    "$$\n",
    "\\begin{equation}  \n",
    "=\n",
    "Q[p_n]\n",
    "+\n",
    "Q[\\omega_{n+1} r] \n",
    " \\quad (\\text{since }  \\omega_{n+1}(x_i) = 0, i=0,\\ldots,n)\n",
    "\\label{_auto6} \\tag{7}\n",
    "\\end{equation}\n",
    "$$"
   ]
  },
  {
   "cell_type": "markdown",
   "id": "855ef792",
   "metadata": {
    "editable": true
   },
   "source": [
    "<!-- Equation labels as ordinary links -->\n",
    "<div id=\"_auto7\"></div>\n",
    "\n",
    "$$\n",
    "\\begin{equation}  \n",
    "=\n",
    "Q[\\underbrace{p_n + \\omega_{n+1} r}_{=p}]\n",
    "= Q[p].\n",
    "\\label{_auto7} \\tag{8}\n",
    "\\end{equation}\n",
    "$$"
   ]
  },
  {
   "cell_type": "markdown",
   "id": "bf906f94",
   "metadata": {
    "editable": true
   },
   "source": [
    "**Intermediate summary.**\n",
    "\n",
    "The last two lemma reveal that the location of the quadrature points for a Gaussian rule\n",
    "is closely linked to the orthogonality of certain polynomials.  The next 2 steps\n",
    "are now to\n",
    "* construct such orthogonality polynomials $p_{n+1}$ for $n=0,1, 2,3\\ldots$, and\n",
    "\n",
    "* to show that they always have **$n+1$ distinct real roots** $\\{x_i\\}_{i=0}^n$ **residing** in $(a,b)$.\n",
    "\n",
    "So these $n+1$ roots will be then the quadrature points to our Gaussian quadrature rule.\n",
    "\n",
    "The next lemma shows that\n",
    "on a given interval and any given degree $k$, we can always construct a polynom\n",
    "$p_{k} \\in \\mathbb{P}^{k}(I)$ which is orthogonal to all $p \\in \\mathbb{P}^{k-1}(I)$."
   ]
  },
  {
   "cell_type": "markdown",
   "id": "a98ae54c",
   "metadata": {
    "editable": true
   },
   "source": [
    "## Lemma 3: Orthogonal polynomials on $[a,b]$\n",
    "\n",
    "<div id=\"quad:lem:orthopolys\"></div>\n",
    "There is a sequence of $\\{p_k\\}_{k=1}^{\\infty}$\n",
    "of polynomials satisfying"
   ]
  },
  {
   "cell_type": "markdown",
   "id": "acd00977",
   "metadata": {
    "editable": true
   },
   "source": [
    "<!-- Equation labels as ordinary links -->\n",
    "<div id=\"_auto8\"></div>\n",
    "\n",
    "$$\n",
    "\\begin{equation}\n",
    "p_0(x) = 1,\n",
    "\\label{_auto8} \\tag{9}\n",
    "\\end{equation}\n",
    "$$"
   ]
  },
  {
   "cell_type": "markdown",
   "id": "82068072",
   "metadata": {
    "editable": true
   },
   "source": [
    "<!-- Equation labels as ordinary links -->\n",
    "<div id=\"quad:eq:poly_normalization\"></div>\n",
    "\n",
    "$$\n",
    "\\begin{equation}  \n",
    "p_k(x) = x^k + r_{k-1}(x) \\quad \\text{for } k=1,2,\\ldots\n",
    "\\label{quad:eq:poly_normalization} \\tag{10}\n",
    "\\end{equation}\n",
    "$$"
   ]
  },
  {
   "cell_type": "markdown",
   "id": "2717a436",
   "metadata": {
    "editable": true
   },
   "source": [
    "with $r_{k-1} \\in \\mathbb{P}_{k-1}$ and satisfying the\n",
    "*orthogonality property*"
   ]
  },
  {
   "cell_type": "markdown",
   "id": "b116f447",
   "metadata": {
    "editable": true
   },
   "source": [
    "<!-- Equation labels as ordinary links -->\n",
    "<div id=\"_auto9\"></div>\n",
    "\n",
    "$$\n",
    "\\begin{equation}\n",
    "{\\langle p_k, p_l \\rangle} = \\int_a^b p_k(x) p_l(x) dx = 0\n",
    "\\quad \\text{for } k \\neq l,\n",
    "\\label{_auto9} \\tag{11}\n",
    "\\end{equation}\n",
    "$$"
   ]
  },
  {
   "cell_type": "markdown",
   "id": "d79340ec",
   "metadata": {
    "editable": true
   },
   "source": [
    "and that every polynomial $q_n \\in \\mathbb{P}_{n}$\n",
    "can be written as a linear combination of\n",
    "those orthogonal polynomials up to order $n$.\n",
    "In other words"
   ]
  },
  {
   "cell_type": "markdown",
   "id": "7825f9d2",
   "metadata": {
    "editable": true
   },
   "source": [
    "$$\n",
    "\\mathbb{P}_{n} = \\mathrm{Span} \\{p_0,\\ldots, p_n\\}\n",
    "$$"
   ]
  },
  {
   "cell_type": "markdown",
   "id": "c009d4a1",
   "metadata": {
    "editable": true
   },
   "source": [
    "**Proof.**\n",
    "We start from the sequence $\\{\\phi_k\\}_{k=0}^{\\infty}$ of monomials\n",
    "$\\phi_k(x) = x^k$ and apply the Gram-Schmidt orthogonalization\n",
    "procedure:"
   ]
  },
  {
   "cell_type": "markdown",
   "id": "a29cb8c2",
   "metadata": {
    "editable": true
   },
   "source": [
    "$$\n",
    "\\begin{align*}\n",
    " \\widetilde{p}_0\n",
    " &:= 1\n",
    "\\\\ \n",
    " \\widetilde{p}_1\n",
    " &:= \\phi_1 - \\dfrac{{\\langle \\phi_1, \\widetilde{p \\rangle}_0}}{\\|\\widetilde{p}_0\\|^2} \\widetilde{p}_0\n",
    " \\\\ \n",
    " \\widetilde{p}_2\n",
    " &:= \\phi_2\n",
    " - \\dfrac{{\\langle \\phi_2, \\widetilde{p \\rangle}_0}}{\\|\\widetilde{p}_0\\|^2} \\widetilde{p}_0\n",
    " - \\dfrac{{\\langle \\phi_2, \\widetilde{p \\rangle}_1}}{\\|\\widetilde{p}_1\\|^2} \\widetilde{p}_1\n",
    " \\\\ \n",
    " \\ldots\n",
    " \\\\ \n",
    "\\widetilde{p}_k\n",
    "&= \\phi_k - \\sum_{j=0}^{k-1}\\frac{\n",
    "{\\langle \\phi_k, \\widetilde{p \\rangle}_j}}\n",
    "{\\|\\widetilde{p}_j\\|^2} \\widetilde{p}_j\n",
    "\\end{align*}\n",
    "$$"
   ]
  },
  {
   "cell_type": "markdown",
   "id": "11354e4c",
   "metadata": {
    "editable": true
   },
   "source": [
    "By construction, $\\widetilde{p}_n \\in \\mathbb{P}_{n}$ and\n",
    "${\\langle p_k, p_l \\rangle} = 0$ for $k\\neq l$.\n",
    "Since $\\widetilde{p}_k(x) = a_k x^k + a_{k-1} x^{k-1} + \\ldots a_0$,\n",
    "we simply define\n",
    "$p_k(x) = \\widetilde{p}_k/a_k$\n",
    "to satisfy ([10](#quad:eq:poly_normalization))."
   ]
  },
  {
   "cell_type": "markdown",
   "id": "d291d57e",
   "metadata": {
    "editable": true
   },
   "source": [
    "## Lemma 4: Roots of orthogonal polynomials\n",
    "\n",
    "Each of the polynomials $p_k$ defined in\n",
    "Theorem [Lemma 3: Orthogonal polynomials on $[a,b]$](#quad:lem:orthopolys)\n",
    "has $k$ **distinct real roots**.\n",
    "\n",
    "**Proof.**\n",
    "Take $k>0$ and denote by $x_0, x_1, \\ldots, x_{l-1} \\in (a,b)$\n",
    "the $l$ points at which $p_k$ switches sign in $[a,b]$.\n",
    "Clearly, these are roots for the polynomial $p_k$.\n",
    "The polynomial $q_l(x) = \\Pi_{i=0}^{l-1}(x-x_i)$\n",
    "switches the sign at exactly the same points as $p_k$.\n",
    "Thus the polynomial $p_k(x)q_l(x)$ must be either strictly positive or strictly negative\n",
    "except for the points $x_0,\\ldots,x_{l-1}$ where it is $0$.\n",
    "Consequently,\n",
    "$\\int_a^b  p_k(x)q_l(x) {\\,\\mathrm{d}x}$ is either $> 0$ or $< 0$. But if $l < k$, this\n",
    "contradicts the orthogonality property for for $p_k$, namely that\n",
    "$\\int_a^b  p_k(x)q_l(x) {\\,\\mathrm{d}x} = 0$ for all $q_l$ with a degree $l < k$. Thus $k=l$.\n",
    "\n",
    "All the previous lemma can be now summarized in\n",
    "the final statement regarding the construction of Gaussian quadrature rules."
   ]
  },
  {
   "cell_type": "markdown",
   "id": "65bc2f31",
   "metadata": {
    "editable": true
   },
   "source": [
    "## Theorem 1: Construction of Gaussian quadrature with $n+1$ nodes\n",
    "\n",
    "For every $n \\in \\mathbb{N}$, there exists\n",
    "an orthogonal polynomial $p_{n+1} \\in \\mathbb{P}_{n+1}$ \n",
    "on $[a,b]$\n",
    "satisfying"
   ]
  },
  {
   "cell_type": "markdown",
   "id": "62f03029",
   "metadata": {
    "editable": true
   },
   "source": [
    "$$\n",
    "{\\langle p_{n+1}, q \\rangle} = 0 \\quad {\\forall\\;} q \\in \\mathbb{P}_{n}.\n",
    "$$"
   ]
  },
  {
   "cell_type": "markdown",
   "id": "6af0e58f",
   "metadata": {
    "editable": true
   },
   "source": [
    "The polynomial $p_{n+1}$ has $n+1$ distinct and real roots $\\{x_i\\}_{i=0}^n$ all residing in $(a,b)$.\n",
    "Define the weights $\\{w_i\\}_{i=0}^n$ by"
   ]
  },
  {
   "cell_type": "markdown",
   "id": "3b97e469",
   "metadata": {
    "editable": true
   },
   "source": [
    "$$\n",
    "w_i = \\int_{a}^{b} \\ell_i(x) {\\,\\mathrm{d}x}.\n",
    "$$"
   ]
  },
  {
   "cell_type": "markdown",
   "id": "44693a52",
   "metadata": {
    "editable": true
   },
   "source": [
    "where $\\{\\ell_i\\}_{i=0}^n$ are the $n+1$ cardinal functions\n",
    "associated with\n",
    "$\\{x_i\\}_{i=0}^n$.\n",
    "Then the resulting quadrature rule $Q[\\cdot](\\{x_i,\\omega_i\\}_{i=0}^n)$ is\n",
    "a Gaussian quadrature.\n",
    "\n",
    "**Proof.** This is just a summary of 4 the previous lemma.\n",
    "\n",
    "**Recipe 1 to construct a Gaussian quadrature with $n+1$ nodes.**\n",
    "\n",
    "To construct a Gaussian formula on $[a,b]$ based\n",
    "on $n+1$ nodes you proceed as follows\n",
    "1. Construct a polynomial $p_{n+1} \\in \\mathbb{P}_{n+1}(a,b)$ such that $\\displaystyle \\int_{a}^b p_{n+1}(x) q(x) {\\,\\mathrm{d}x} \\quad {\\forall\\;} q \\in \\mathbb{P}_{n}. $ You can start from the monomials $\\{1,x, x^2, \\ldots, x^{n+1}\\}$ and use Gram-Schmidt to orthogonalize them.\n",
    "\n",
    "2. Determine the $n+1$ **real** roots $\\{x_i\\}_{i=0}^n$ of $p_{n+1}$ which serve then as quadrature nodes.\n",
    "\n",
    "3. Calculate the cardinal functions $\\ell_i(x)$ associated with $n+1$ nodes $\\{x_i\\}_{i=0}^n$ and then the weights are given by $\\displaystyle w_i = \\int_{a}^{b} \\ell_i(x) {\\,\\mathrm{d}x}.$\n",
    "\n",
    "This is the recipe you are asked to use in Exercise set 10.\n",
    "Alternatively one can start from a reference interval,\n",
    "leading  to\n",
    "\n",
    "**Recipe 2 to construct a Gaussian quadrature with $n+1$ nodes.**\n",
    "\n",
    "To construct a Gaussian formula on $[a,b]$ based\n",
    "on $n+1$ nodes you proceed as follows\n",
    "\n",
    "1. Construct a polynomial $p_{n+1} \\in \\mathbb{P}_{n+1}(-1,1)$ which satisfies  $ \\displaystyle \\int_{-1}^1 p_{n+1}(x) q(x) {\\,\\mathrm{d}x} \\quad {\\forall\\;} q \\in \\mathbb{P}_{n}. $\n",
    "\n",
    "2. You determine the $n+1$ **real** roots $\\{x_i\\}_{i=0}^n$ of $p_{n+1}$ which serve then as quadrature nodes.\n",
    "\n",
    "3. Calculate the cardinal functions $\\ell_i(x)$ associated with $n+1$ nodes $\\{x_i\\}_{i=0}^n$ and then the weights are given by $\\displaystyle w_i = \\int_{a}^{b} \\ell_i(x) {\\,\\mathrm{d}x}.$\n",
    "\n",
    "4. Finally, transform the resulting Gauß quadrature formula to the desired interval $[a,b]$ via $\\displaystyle x_i = \\frac{b-a}{2}\\widehat{x}_i + \\frac{b+a}{2}, \\quad  w_i = \\frac{b-a}{2}\\widehat{w}_i \\quad \\text{for } i = 0, \\ldots n. $"
   ]
  },
  {
   "cell_type": "markdown",
   "id": "309c6155",
   "metadata": {
    "editable": true
   },
   "source": [
    "# Two examples revisited"
   ]
  },
  {
   "cell_type": "markdown",
   "id": "38ffbc03",
   "metadata": {
    "editable": true
   },
   "source": [
    "## Example: Revisiting the midpoint rule\n",
    "\n",
    "The midpoint rule is in fact the Gauß-Legendre rule with 1 node $x_0$, which explains\n",
    "why it is has a degree of exactness to $2n+2 = 2\\cdot 0 +1 = 1$ (and not $0$ like the\n",
    "left and right endpoint rules).\n",
    "\n",
    "Let's consider $[a,b] = [0,1]$. We need to find one quadrature point, which\n",
    "is the simple root of an orthogonal linear polynomial $p_1$.\n",
    "To construct this polynomial, we start from the first two monomials $\\phi_0(x) =1$ and $\\phi(x) = x$.\n",
    "Using the Gram-Schmidt algorithm as outlined above, we set"
   ]
  },
  {
   "cell_type": "markdown",
   "id": "3d4c2dde",
   "metadata": {
    "editable": true
   },
   "source": [
    "<!-- Equation labels as ordinary links -->\n",
    "<div id=\"_auto10\"></div>\n",
    "\n",
    "$$\n",
    "\\begin{equation}\n",
    "p_0 = \\phi_0 = 1\n",
    "\\label{_auto10} \\tag{12}\n",
    "\\end{equation}\n",
    "$$"
   ]
  },
  {
   "cell_type": "markdown",
   "id": "3e7b1b7d",
   "metadata": {
    "editable": true
   },
   "source": [
    "<!-- Equation labels as ordinary links -->\n",
    "<div id=\"_auto11\"></div>\n",
    "\n",
    "$$\n",
    "\\begin{equation}  \n",
    "p_1 = \\phi_1 - \\dfrac{{\\langle \\phi_1, p_0 \\rangle}}{\\|p_0\\|^2} p_0  =\n",
    "       x - \\dfrac{\\int_0^1 x \\cdot 1 {\\,\\mathrm{d}x} }{\\int_0^1 1 \\cdot 1 {\\,\\mathrm{d}x}}\n",
    "       = x - \\dfrac{0.5}{1}\n",
    "\\label{_auto11} \\tag{13}\n",
    "\\end{equation}\n",
    "$$"
   ]
  },
  {
   "cell_type": "markdown",
   "id": "a3fcc51c",
   "metadata": {
    "editable": true
   },
   "source": [
    "Now $p_1(x)$ has the root $x_0 = 0.5$ which defines our single quadrature point.\n",
    "In this case, the cardinal function $l_0(x) = 1$ and thus the weight $w_0$\n",
    "corresponding to $x_0 = 0.5$ is $w_0 = \\int_0^1 l_0(x) {\\,\\mathrm{d}x} = 1$."
   ]
  },
  {
   "cell_type": "markdown",
   "id": "cfc2257e",
   "metadata": {
    "editable": true
   },
   "source": [
    "## Example: Revisiting Gauß-Legendre quadrature with 2 nodes\n",
    "\n",
    "We will now derive the Gauß-Legendre quadrature with 2 nodes\n",
    "we encountered in the previous lectures, again for $[a,b] = [0,1]$.\n",
    "Today we will calculate everything manually first, and then later do it programmatically in Python.\n",
    "\n",
    "The 2 nodes $x_0, x_1$ we are looking for at the 2 roots for the quadratic polynomial\n",
    "$p_2(x)$ satisfying $\\int_0^1 p_2(x) q_(x) {\\,\\mathrm{d}x} = 0 $ for all $q \\in \\mathbb{P}^1(I)$.\n",
    "Again, we start from the monomials $\\phi_0(x) = 1, \\phi_1(x) = x, \\phi_2(x) = x^2$.\n",
    "To compute the first two orthogonal polynomials $p_0$ and $p_1$, we perform exactly the same\n",
    "calculations as in the previous example, and add a third Gram-Schmidt step leading to"
   ]
  },
  {
   "cell_type": "markdown",
   "id": "83db2dfb",
   "metadata": {
    "editable": true
   },
   "source": [
    "<!-- Equation labels as ordinary links -->\n",
    "<div id=\"_auto12\"></div>\n",
    "\n",
    "$$\n",
    "\\begin{equation}\n",
    "p_0 = \\phi_0 = 1\n",
    "\\label{_auto12} \\tag{14}\n",
    "\\end{equation}\n",
    "$$"
   ]
  },
  {
   "cell_type": "markdown",
   "id": "bf342978",
   "metadata": {
    "editable": true
   },
   "source": [
    "<!-- Equation labels as ordinary links -->\n",
    "<div id=\"_auto13\"></div>\n",
    "\n",
    "$$\n",
    "\\begin{equation}  \n",
    "p_1\n",
    "= \\phi_1 - \\dfrac{{\\langle \\phi_1, p_0 \\rangle}}{\\|p_0\\|^2} p_0\n",
    "= x - \\dfrac{\\int_0^1 x \\cdot 1 {\\,\\mathrm{d}x} }{\\int_0^1 1 \\cdot 1 {\\,\\mathrm{d}x}}\n",
    "       = x - 0.5\n",
    "\\label{_auto13} \\tag{15}\n",
    "\\end{equation}\n",
    "$$"
   ]
  },
  {
   "cell_type": "markdown",
   "id": "305b603e",
   "metadata": {
    "editable": true
   },
   "source": [
    "<!-- Equation labels as ordinary links -->\n",
    "<div id=\"_auto14\"></div>\n",
    "\n",
    "$$\n",
    "\\begin{equation}  \n",
    "p_2 = \\phi_2\n",
    "- \\dfrac{{\\langle \\phi_2, p_0 \\rangle}}{\\|p_0\\|^2} p_0 \n",
    "- \\dfrac{{\\langle \\phi_2, p_1 \\rangle}}{\\|p_1\\|^2} p_1\n",
    "\\label{_auto14} \\tag{16}\n",
    "\\end{equation}\n",
    "$$"
   ]
  },
  {
   "cell_type": "markdown",
   "id": "030d82a0",
   "metadata": {
    "editable": true
   },
   "source": [
    "<!-- Equation labels as ordinary links -->\n",
    "<div id=\"_auto15\"></div>\n",
    "\n",
    "$$\n",
    "\\begin{equation}  \n",
    "= \n",
    "x^2\n",
    "- \\dfrac{\\int_0^1 x^2 \\cdot 1 {\\,\\mathrm{d}x} }{\\int_0^1 1 \\cdot 1 {\\,\\mathrm{d}x}}\n",
    "- \\dfrac{\\int_0^1 x^2 \\cdot (x-0.5) {\\,\\mathrm{d}x} }{\\int_0^1 (x-0.5)\\cdot (x-0.5) {\\,\\mathrm{d}x}} (x-0.5)\n",
    "\\label{_auto15} \\tag{17}\n",
    "\\end{equation}\n",
    "$$"
   ]
  },
  {
   "cell_type": "markdown",
   "id": "b27e889a",
   "metadata": {
    "editable": true
   },
   "source": [
    "Computing the various integrals gives us"
   ]
  },
  {
   "cell_type": "markdown",
   "id": "7c7841b8",
   "metadata": {
    "editable": true
   },
   "source": [
    "<!-- Equation labels as ordinary links -->\n",
    "<div id=\"_auto16\"></div>\n",
    "\n",
    "$$\n",
    "\\begin{equation}\n",
    "\\int_0^1 x^2 \\cdot 1 {\\,\\mathrm{d}x} = \\dfrac{1}{3},\n",
    "\\qquad\n",
    "\\int_0^1 1 \\cdot 1 {\\,\\mathrm{d}x} = 1\n",
    "\\label{_auto16} \\tag{18}\n",
    "\\end{equation}\n",
    "$$"
   ]
  },
  {
   "cell_type": "markdown",
   "id": "5ba60379",
   "metadata": {
    "editable": true
   },
   "source": [
    "<!-- Equation labels as ordinary links -->\n",
    "<div id=\"_auto17\"></div>\n",
    "\n",
    "$$\n",
    "\\begin{equation}  \n",
    "\\int_0^1 x^2 \\cdot (x-0.5) {\\,\\mathrm{d}x} = \\dfrac{1}{4} - \\dfrac{1}{6} = \\dfrac{1}{12},\n",
    "\\qquad\n",
    "\\int_0^1 (x-0.5)\\cdot (x-0.5) {\\,\\mathrm{d}x} = \\dfrac{1}{12} \n",
    "\\label{_auto17} \\tag{19}\n",
    "\\end{equation}\n",
    "$$"
   ]
  },
  {
   "cell_type": "markdown",
   "id": "e38a0425",
   "metadata": {
    "editable": true
   },
   "source": [
    "and thus"
   ]
  },
  {
   "cell_type": "markdown",
   "id": "c93e3620",
   "metadata": {
    "editable": true
   },
   "source": [
    "<!-- Equation labels as ordinary links -->\n",
    "<div id=\"_auto18\"></div>\n",
    "\n",
    "$$\n",
    "\\begin{equation}\n",
    "p_2(x) = x^2 - \\dfrac{1}{3} - \\dfrac{12}{12}(x-\\dfrac{1}{2}) = x^2 - x + \\dfrac{1}{6}.\n",
    "\\label{_auto18} \\tag{20}\n",
    "\\end{equation}\n",
    "$$"
   ]
  },
  {
   "cell_type": "markdown",
   "id": "2d2d8108",
   "metadata": {
    "editable": true
   },
   "source": [
    "Now a general 2nd order polynomial $p_2(x) = x^2 + p x + q$ has the 2 roots"
   ]
  },
  {
   "cell_type": "markdown",
   "id": "c66e0c44",
   "metadata": {
    "editable": true
   },
   "source": [
    "<!-- Equation labels as ordinary links -->\n",
    "<div id=\"_auto19\"></div>\n",
    "\n",
    "$$\n",
    "\\begin{equation}\n",
    "x_0 = -\\dfrac{p}{2} - \\sqrt{\\left(\\dfrac{p}{2}\\right)^2 - q}\n",
    "= \\dfrac{1}{2} - \\sqrt{\\dfrac{1}{12}}\n",
    "= \\dfrac{1}{2} - \\dfrac{\\sqrt{3}}{6}\n",
    "\\label{_auto19} \\tag{21}\n",
    "\\end{equation}\n",
    "$$"
   ]
  },
  {
   "cell_type": "markdown",
   "id": "f60c6cfd",
   "metadata": {
    "editable": true
   },
   "source": [
    "<!-- Equation labels as ordinary links -->\n",
    "<div id=\"_auto20\"></div>\n",
    "\n",
    "$$\n",
    "\\begin{equation}  \n",
    "x_1 = -\\dfrac{p}{2} + \\sqrt{\\left(\\dfrac{p}{2}\\right)^2 - q}\n",
    "= \\dfrac{1}{2} + \\dfrac{\\sqrt{3}}{6}.\n",
    "\\label{_auto20} \\tag{22}\n",
    "\\end{equation}\n",
    "$$"
   ]
  },
  {
   "cell_type": "markdown",
   "id": "94025894",
   "metadata": {
    "editable": true
   },
   "source": [
    "Next, to compute the final weights, we need the cardinal functions"
   ]
  },
  {
   "cell_type": "markdown",
   "id": "f3268ce9",
   "metadata": {
    "editable": true
   },
   "source": [
    "<!-- Equation labels as ordinary links -->\n",
    "<div id=\"_auto21\"></div>\n",
    "\n",
    "$$\n",
    "\\begin{equation}\n",
    "l_0(x) = \\dfrac{x-x_1}{x_0 - x_1}, \\quad \n",
    "l_1(x) = \\dfrac{x-x_0}{x_1 - x_0}\n",
    "\\label{_auto21} \\tag{23}\n",
    "\\end{equation}\n",
    "$$"
   ]
  },
  {
   "cell_type": "markdown",
   "id": "83233674",
   "metadata": {
    "editable": true
   },
   "source": [
    "Now inserting the found values $x_0$ and $x_1$ shows (after some simple computations) that\n",
    "$w_0 = \\int_1^1 l_0(x) {\\,\\mathrm{d}x} = 0.5$ and $w_1 = \\int_0^1 l_1(x) {\\,\\mathrm{d}x} = 0.5$.\n",
    "\n",
    "Let's redo these computations in\n",
    "form of a little Python program\n",
    "which can be easily generalized to\n",
    "at up to $5$ nodes. We will use\n",
    "`sympy` Python module for symbolic\n",
    "calculations quite a bit.  We start\n",
    "with the snippets"
   ]
  },
  {
   "cell_type": "code",
   "execution_count": 2,
   "id": "5af22f92",
   "metadata": {
    "collapsed": false,
    "editable": true
   },
   "outputs": [],
   "source": [
    "from sympy.abc import x # Denote our integration variable x\n",
    "from sympy import integrate"
   ]
  },
  {
   "cell_type": "markdown",
   "id": "899e86e6",
   "metadata": {
    "editable": true
   },
   "source": [
    "Spend a minute and have look at [integrate](https://docs.sympy.org/latest/modules/integrals/integrals.html)\n",
    "submodule.\n",
    "\n",
    "First we construct the first 3 orthogonal polynomials\n",
    "(order 0, 1, 2) on $[0,1]$. Spend 2 minutes to understand the\n",
    "code below:"
   ]
  },
  {
   "cell_type": "code",
   "execution_count": 3,
   "id": "dfb4799d",
   "metadata": {
    "collapsed": false,
    "editable": true
   },
   "outputs": [],
   "source": [
    "# Interval\n",
    "a, b = 0, 1\n",
    "\n",
    "# Define scalar product:\n",
    "def scp(p,q):\n",
    "    return integrate(p*q, (x, a, b))\n",
    "\n",
    "# Define monomials up to order 2\n",
    "mono = lambda x,m: x**m\n",
    "def mono(x,m):\n",
    "    return x**m\n",
    "\n",
    "phis = [ mono(x,m) for m in range(3)]\n",
    "print(phis)"
   ]
  },
  {
   "cell_type": "markdown",
   "id": "9c81f882",
   "metadata": {
    "editable": true
   },
   "source": [
    "Construct orthogonal polynomials (not normalized)"
   ]
  },
  {
   "cell_type": "code",
   "execution_count": 4,
   "id": "84487349",
   "metadata": {
    "collapsed": false,
    "editable": true
   },
   "outputs": [],
   "source": [
    "ps = []\n",
    "for phi in phis:\n",
    "    ps.append(phi)\n",
    "    for p in ps[:-1]:\n",
    "        ps[-1] = ps[-1] - scp(p, ps[-1])/scp(p, p)*p\n",
    "        \n",
    "print(\"ps\")\n",
    "print(ps)"
   ]
  },
  {
   "cell_type": "markdown",
   "id": "c8b14c47",
   "metadata": {
    "editable": true
   },
   "source": [
    "Now write a code snippet to check whether they are actually orthogonal."
   ]
  },
  {
   "cell_type": "code",
   "execution_count": 5,
   "id": "0e50d091",
   "metadata": {
    "collapsed": false,
    "editable": true
   },
   "outputs": [],
   "source": [
    "for p in ps:\n",
    "    for q in ps:\n",
    "        int_p_q = scp(p,q)\n",
    "        print(\"int_p_q = {}\".format(int_p_q))"
   ]
  },
  {
   "cell_type": "markdown",
   "id": "9090b03d",
   "metadata": {
    "editable": true
   },
   "source": [
    "Compute the roots of the second order polynomial. \n",
    "Of course you can do it by hand\n",
    "but le'ts us `sympy` for it.\n",
    "Spend a minute a have a look at [solve](https://docs.sympy.org/latest/modules/solvers/solvers.html) submodule."
   ]
  },
  {
   "cell_type": "code",
   "execution_count": 6,
   "id": "8bfb156a",
   "metadata": {
    "collapsed": false,
    "editable": true
   },
   "outputs": [],
   "source": [
    "from sympy.solvers import solve\n",
    "\n",
    "print(ps[-1])\n",
    "xqs = solve(ps[-1])\n",
    "print(xqs)"
   ]
  },
  {
   "cell_type": "markdown",
   "id": "5b646740",
   "metadata": {
    "editable": true
   },
   "source": [
    "Next construct the cardinal functions\n",
    "$\\ell_0$ and $\\ell_1$ associated with the 2 roots."
   ]
  },
  {
   "cell_type": "code",
   "execution_count": 7,
   "id": "3671fd05",
   "metadata": {
    "collapsed": false,
    "editable": true
   },
   "outputs": [],
   "source": [
    "# Non-normalized version\n",
    "L_01 = (x-xqs[1])\n",
    "print(L_01)\n",
    "print(L_01.subs(x, xqs[1]))\n",
    "print(L_01.subs(x, xqs[0]))\n",
    "# Normalize\n",
    "L_01 /= L_01.subs(x, xqs[0])\n",
    "print(L_01.subs(x, xqs[0]))\n",
    "\n",
    "# Non-normalized version\n",
    "L_11 = (x-xqs[0])\n",
    "# Normalize\n",
    "L_11 /= L_11.subs(x, xqs[1])\n",
    "\n",
    "Ls = [L_01, L_11]\n",
    "print(Ls)"
   ]
  },
  {
   "cell_type": "markdown",
   "id": "10194b47",
   "metadata": {
    "editable": true
   },
   "source": [
    "Finally, compute the weights."
   ]
  },
  {
   "cell_type": "code",
   "execution_count": 8,
   "id": "a4492c9c",
   "metadata": {
    "collapsed": false,
    "editable": true
   },
   "outputs": [],
   "source": [
    "ws = [integrate(L, (x, a, b)) for L in Ls ] \n",
    "print(ws)"
   ]
  }
 ],
 "metadata": {},
 "nbformat": 4,
 "nbformat_minor": 5
}
