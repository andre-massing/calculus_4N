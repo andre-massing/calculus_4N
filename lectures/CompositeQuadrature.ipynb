{
 "cells": [
  {
   "cell_type": "markdown",
   "metadata": {
    "slideshow": {
     "slide_type": "slide"
    }
   },
   "source": [
    "<!-- dom:TITLE: Numerical integration: Part II -->\n",
    "# Numerical integration II: Composite quadrature rules\n",
    "<!-- dom:AUTHOR: Anne Kværnø, André Massing -->\n",
    "<!-- Author: -->  \n",
    "**Anne Kværnø, André Massing**\n",
    "\n",
    "Date: **Sept 8, 2021**\n",
    "\n",
    "If you want to have a nicer theme for your jupyter notebook,\n",
    "download the [cascade stylesheet file calculus4N.css](https://www.math.ntnu.no/emner/TMA4130/2021h/lectures/calculus4N.css)\n",
    "and execute the next cell."
   ]
  },
  {
   "cell_type": "code",
   "execution_count": 8,
   "metadata": {
    "slideshow": {
     "slide_type": "slide"
    }
   },
   "outputs": [
    {
     "data": {
      "text/html": [
       "<link href='http://fonts.googleapis.com/css?family=Alegreya+Sans:100,300,400,500,700,800,900,100italic,300italic,400italic,500italic,700italic,800italic,900italic' rel='stylesheet' type='text/css'> <link href='http://fonts.googleapis.com/css?family=Arvo:400,700,400italic' rel='stylesheet' type='text/css'> <link href=\"https://fonts.googleapis.com/css?family=News+Cycle\" rel=\"stylesheet\"> <link href='http://fonts.googleapis.com/css?family=Nixie+One' rel='stylesheet' type='text/css'> <link href='http://fonts.googleapis.com/css?family=PT+Mono' rel='stylesheet' type='text/css'> <link href='http://fonts.googleapis.com/css?family=Shadows+Into+Light' rel='stylesheet' type='text/css'> <link href=\"https://fonts.googleapis.com/css?family=Source+Code+Pro\" rel=\"stylesheet\"> <style> @font-face {\n",
       "    /*font-family: \"Computer Modern\";*/\n",
       "    /*src: url('http://mirrors.ctan.org/fonts/cm-unicode/fonts/otf/cmunss.otf');*/\n",
       "    font-family: 'News Cycle', sans-serif;\n",
       "}\n",
       "\n",
       "\n",
       "/* main background */\n",
       "\n",
       "\n",
       "/*#notebook_panel { \n",
       "        background: #C9D4E2;\n",
       "    }*/\n",
       "\n",
       "div.cell {\n",
       "    /*max-width:600px;*/\n",
       "    /*margin-left:16% !important;*/\n",
       "    /*margin-right:auto;*/\n",
       "}\n",
       "\n",
       "div.text_cell {\n",
       "    /*max-width: 120ex;*/\n",
       "    /* instead of 100%, */\n",
       "}\n",
       "\n",
       "div.text_cell_render {\n",
       "    font-family: 'Alegreya Sans', Computer Modern, \"Helvetica Neue\", Arial, Helvetica, Geneva,   sans-serif;\n",
       "    line-height: 135%;\n",
       "    /*font-size:    45pt;*/\n",
       "    font-size: 130%;\n",
       "    /*width:600px;*/\n",
       "    /*margin-left:auto;*/\n",
       "    /*margin-right:auto;*/\n",
       "}\n",
       "\n",
       ".CodeMirror {\n",
       "    /*font-family: 'Source Code Pro', monospace;*/\n",
       "    /*font-style: italic;*/\n",
       "    /*font-weight: bold;*/\n",
       "    /*font-size: 120%;*/\n",
       "}\n",
       "\n",
       "\n",
       "/*.prompt{\n",
       "        display: None;\n",
       "    }*/\n",
       "\n",
       ".text_cell_render h1 {\n",
       "    font-family: 'Nixie One', serifV;\n",
       "    font-style: regular;\n",
       "    font-weight: 400;\n",
       "    font-size: 45pt;\n",
       "    line-height: 100%;\n",
       "        color: #497BB9;    \n",
       "    /*color: #5889C5;*/\n",
       "    /*color: rgb(0, 51, 102);*/\n",
       "    /*font-weight: 200;*/\n",
       "    /*font-size: 50pt;*/\n",
       "    margin-bottom: 0.5em;\n",
       "    margin-top: 0.5em;\n",
       "    display: block;\n",
       "}\n",
       "\n",
       ".text_cell_render h2 {\n",
       "    font-family: 'Nixie One', serif;\n",
       "    font-weight: 400;\n",
       "    font-size: 30pt;\n",
       "    line-height: 100%;\n",
       "    /*color: rgb(0,51,102);*/\n",
       "    color: #497BB9;    \n",
       "    margin-bottom: 0.1em;\n",
       "    margin-top: 0.3em;\n",
       "    display: block;\n",
       "}\t\n",
       "\n",
       ".text_cell_render h3 {\n",
       "    font-family: 'Nixie One', serif;\n",
       "    margin-top:16px;\n",
       "    font-size: 22pt;\n",
       "    font-weight: 600;\n",
       "    margin-bottom: 3px;\n",
       "    font-style: regular;\n",
       "    color: rgb(102,102,0);\n",
       "}\n",
       "\n",
       ".text_cell_render h4 {    /*Use this for captions*/\n",
       "    font-family: 'Nixie One', serif;\n",
       "    font-size: 14pt;\n",
       "/*    text-align: center;*/\n",
       "    margin-top: 0em;\n",
       "    margin-bottom: 2em;\n",
       "    font-style: regular;\n",
       "}\n",
       "\n",
       ".text_cell_render h5 {  /*Use this for small titles*/\n",
       "    font-family: 'Nixie One', sans-serif;\n",
       "    font-weight: 400;\n",
       "    font-size: 16pt;\n",
       "    color: rgb(163,0,0);\n",
       "    /*color: #5889C5;*/\n",
       "    /*margin-bottom: .5em;\n",
       "    margin-top: 0.5em;*/\n",
       "    font-style: italic;\n",
       "    margin-bottom: .1em;\n",
       "    margin-top: 0.8em;\n",
       "    display: block;\n",
       "}\n",
       "\n",
       ".warning {\n",
       "    color: rgb( 240, 20, 20)\n",
       "}\n",
       "\n",
       "</style> \n",
       "<script>\n",
       " MathJax.Hub.Config( {\n",
       "    TeX: {\n",
       "        Macros: {\n",
       "            NN: \"{\\\\bf N}\",\n",
       "            RR: \"{\\\\mathbb{R}}\",\n",
       "            mcO: \"{\\\\mathcal{O}}\"\n",
       "        },\n",
       "        equationNumbers: { autoNumber: \"AMS\" },\n",
       "        extensions: [\"AMSmath.js\", \"begingroup.js\"] \n",
       "    },\n",
       "    tex2jax: {\n",
       "        inlineMath: [ ['$', '$'], [\"\\\\(\", \"\\\\)\"]], displayMath: [ ['$$', '$$'], [\"\\\\[\", \"\\\\]\"]]\n",
       "    },\n",
       "    displayAlign: 'center', // Change this to 'center' to center equations.\n",
       "    \"HTML-CSS\": {\n",
       "        styles: {\n",
       "            '.MathJax_Display': {\n",
       "                \"margin\": 4\n",
       "            }\n",
       "        }\n",
       "    }\n",
       "}\n",
       ");\n",
       "</script>\n"
      ],
      "text/plain": [
       "<IPython.core.display.HTML object>"
      ]
     },
     "execution_count": 8,
     "metadata": {},
     "output_type": "execute_result"
    }
   ],
   "source": [
    "from IPython.core.display import HTML\n",
    "def css_styling():\n",
    "    try:\n",
    "        fname = \"calculus4N.css\"\n",
    "        with open(fname, \"r\") as f:\n",
    "            styles = f.read()\n",
    "            return HTML(styles)\n",
    "    except FileNotFoundError:\n",
    "        print(f\"Could not find css file '{fname}'\")\n",
    "\n",
    "# Comment out next line and execute this cell to restore the default notebook style \n",
    "css_styling()"
   ]
  },
  {
   "cell_type": "markdown",
   "metadata": {
    "slideshow": {
     "slide_type": "slide"
    }
   },
   "source": [
    "As usual, we import the necessary modules before we get started."
   ]
  },
  {
   "cell_type": "code",
   "execution_count": 9,
   "metadata": {
    "slideshow": {
     "slide_type": "fragment"
    }
   },
   "outputs": [],
   "source": [
    "%matplotlib inline\n",
    "\n",
    "import numpy as np\n",
    "from numpy import pi\n",
    "import matplotlib.pyplot as plt\n",
    "newparams = {'figure.figsize': (8.0, 4.0), 'axes.grid': True,\n",
    "             'lines.markersize': 8, 'lines.linewidth': 2,\n",
    "             'font.size': 14}\n",
    "plt.rcParams.update(newparams)"
   ]
  },
  {
   "cell_type": "markdown",
   "metadata": {
    "slideshow": {
     "slide_type": "slide"
    }
   },
   "source": [
    "# General construction of quadrature rules\n",
    "In the following, you will learn the steps on how to construct realistic\n",
    "algorithms for numerical integration, similar to those used in software like\n",
    "Matlab of SciPy.  The steps are:"
   ]
  },
  {
   "cell_type": "markdown",
   "metadata": {
    "slideshow": {
     "slide_type": "slide"
    }
   },
   "source": [
    "**Construction.**\n",
    "\n",
    "1. Choose $n+1$ distinct nodes on a standard interval $I$, often chosen to be $I=[-1,1]$. \n",
    "\n",
    "2. Let $p_n(x)$ be the polynomial interpolating some general function $f$ in the nodes, and let the  $Q[f](-1,1)=I[p_n](-1,1)$.  \n",
    "\n",
    "3. Transfer the formula $Q$ from $[-1,1]$ to some interval $[a,b]$.\n",
    "\n",
    "4. Design a composite formula, by dividing the interval $[a,b]$ into\n",
    "  subintervals and applying the quadrature formula on each subinterval.\n",
    "\n",
    "5. Find an expression for the error $E[f](a,b) = I[f](a,b)-Q[f](a,b)$. \n",
    "\n",
    "6. Find an expression for an estimate of the error, and use this to create an adaptive algorithm.\n",
    "\n",
    "\n",
    "In this course, we will not have the time to cover the last two steps."
   ]
  },
  {
   "cell_type": "markdown",
   "metadata": {
    "slideshow": {
     "slide_type": "slide"
    }
   },
   "source": [
    "# Constructing quadrature rules on a single interval\n",
    "\n",
    "We have already seen in the previous Lecture how quadrature rules\n",
    "on a given interval $[a,b]$ can be constructed using polynomial\n",
    "interpolation."
   ]
  },
  {
   "cell_type": "markdown",
   "metadata": {
    "slideshow": {
     "slide_type": "fragment"
    }
   },
   "source": [
    "For $n+1$ quadrature points $\\{x_i\\}_{i=0}^n \\subset [a,b]$,\n",
    "we compute weights by\n",
    "\n",
    "$$\n",
    "w_i =\\int_a^b \\ell_i(x) {\\,\\mathrm{d}x} \\quad \\text{for } i = 0, \\ldots, n.\n",
    "$$\n",
    "\n",
    "where $\\ell_i(x)$ are the cardinal functions associated with\n",
    "$\\{x_i\\}_{i=0}^n$ satisfying $\\ell_i(x_j) = \\delta_{ij}$ for\n",
    "$i,j = 0,1,\\ldots, n$.\n",
    "The resulting quadrature rule has (at least) degree of exactness\n",
    "equal to $n$."
   ]
  },
  {
   "cell_type": "markdown",
   "metadata": {
    "slideshow": {
     "slide_type": "slide"
    }
   },
   "source": [
    "But how to you proceed if you know want to\n",
    "compute an integral on a different interval, say\n",
    "$[c,d]$?\n",
    "Do we have to reconstruct all the cardinal functions and recompute\n",
    "the weights?"
   ]
  },
  {
   "cell_type": "markdown",
   "metadata": {
    "slideshow": {
     "slide_type": "fragment"
    }
   },
   "source": [
    "The answer is NO! One can easily transfer quadrature points and weights\n",
    "from one interval to another.\n",
    "One typically choose the simple **reference interval** $\\widehat{I} = [-1, 1]$.\n",
    "Then you determine some $n+1$ quadrature points\n",
    "$\\{\\widehat{x}_i\\}_{i=0}^n \\subset [-1,1]$ and quadrature weights\n",
    "$\\{\\widehat{w}_i\\}_{i=0}^n$ to define a quadrature rule $Q(\\widehat{I})$"
   ]
  },
  {
   "cell_type": "markdown",
   "metadata": {
    "slideshow": {
     "slide_type": "slide"
    }
   },
   "source": [
    "The quadrature points can then be transferred to an arbitrary interval\n",
    "$[a,b]$ to define a quadrature rule $Q(a,b)$ using the transformation\n",
    "\n",
    "$$\n",
    "x = \\frac{b-a}{2}\\widehat{x} + \\frac{b+a}{2}, \\quad  \\text{so} \\quad {\\,\\mathrm{d}x} = \\frac{b-a}{2}\\,\\mathrm{d}\\widehat{x},\n",
    "$$"
   ]
  },
  {
   "cell_type": "markdown",
   "metadata": {
    "slideshow": {
     "slide_type": "fragment"
    }
   },
   "source": [
    "and thus we define\n",
    "$\\{x_i\\}_{i=0}^n$\n",
    "and\n",
    "$\\{w_i\\}_{i=0}^n$ by\n",
    "\n",
    "$$\n",
    "x_i = \\frac{b-a}{2}\\widehat{x}_i + \\frac{b+a}{2}, \\quad  w_i = \\frac{b-a}{2}\\widehat{w}_i\n",
    "\\quad \\text{for } i = 0, \\ldots n.\n",
    "$$"
   ]
  },
  {
   "cell_type": "markdown",
   "metadata": {
    "slideshow": {
     "slide_type": "slide"
    }
   },
   "source": [
    "## Example 1: Simpson's rule\n",
    "\n",
    "* Choose standard interval $[-1,1]$. For Simpson's rule, choose the\n",
    "  nodes $x_0=-1$, $x_1=0$ and $x_2=1$.  The corresponding cardinal\n",
    "  functions are\n",
    "\n",
    "  * $\\displaystyle \\ell_0 = \\frac{1}{2}(x^2-x), \\qquad \\ell_1(x) = 1-x^2, \\qquad \\ell_2(x) = \\frac{1}{2}(x^2+x). $\n",
    "\n",
    "  which gives the weights\n",
    "\n",
    "  * $\\displaystyle\n",
    "    w_0 = \\int_{-1}^1 \\ell_0(x)dx = \\frac{1}{3}, \\qquad\n",
    "    w_1 = \\int_{-1}^1 \\ell_1(x)dx = \\frac{4}{3}, \\qquad\n",
    "    w_2 = \\int_{-1}^1 \\ell_2(x)dx = \\frac{1}{3}$\n",
    "\n",
    "  such that\n",
    "\n",
    "  * $ \\displaystyle \\int_{-1}^1 f(t) dx \\approx \\int_{-1}^1 p_2(x) dx = \\sum_{i=0}^2 w_i f(x_i) = \\frac{1}{3} \\left[\\; f(-1) + 4 f(0) + f(1) \\; \\right].$ \n",
    "\n",
    "\n",
    "* After transferring the nodes and weights,\n",
    "  Simpson's rule over the interval $[a,b]$ becomes\n",
    "\n",
    "  * $\\displaystyle S(a,b) = \\frac{b-a}{6}\\left[\\; f(a)+4f(c)+f(b)\\; \\right], \\qquad c=\\frac{b+a}{2}$."
   ]
  },
  {
   "cell_type": "markdown",
   "metadata": {
    "slideshow": {
     "slide_type": "slide"
    }
   },
   "source": [
    "# Composite quadrature rules\n",
    "To generate more accurate quadrature rule $Q(a,b)$\n",
    "we have in principle two possibilities:\n",
    "* Increase the order of the interpolation polynomial used to construct the quadrature rule."
   ]
  },
  {
   "cell_type": "markdown",
   "metadata": {
    "slideshow": {
     "slide_type": "fragment"
    }
   },
   "source": [
    "* Subdivide the interval $[a,b]$ into smaller subintervals and apply a quadrature rule on each of\n",
    "  the subintervals, leading to **Composite Quadrature Rules** which we will consider next.\n",
    "  "
   ]
  },
  {
   "cell_type": "markdown",
   "metadata": {
    "slideshow": {
     "slide_type": "slide"
    }
   },
   "source": [
    "Select $m \\geqslant 2$ and divide $[a,b]$ into $m$ equally spaced\n",
    "subintervals $[x_{i-1}, x_{i}]$ defined by $x_i = a + i h$ with $h =\n",
    "(b-a)/m$ for $i=1,\\ldots, m$.\n",
    "Then for a given quadrature rule $\\mathrm{Q}[\\cdot](x_{i-1},x_i)$ the corresponding\n",
    "composite quadrature rule $\\mathrm{CQ}[\\cdot]({[x_{i-1}, x_{i}]}_{i=1}^{m})$ is given by\n",
    "\n",
    "<!-- Equation labels as ordinary links -->\n",
    "<div id=\"quad:composite_qr\"></div>\n",
    "\n",
    "$$\n",
    "\\begin{equation}\n",
    "\\int_a^b f {\\,\\mathrm{d}x} \\approx \\mathrm{CQ}[f]({[x_{i-1}, x_{i}]}_{i=1}^{m}) = \\sum_{i=1}^m \\mathrm{Q}[f](x_{i-1},x_i).\n",
    "\\label{quad:composite_qr} \\tag{1}\n",
    "\\end{equation}\n",
    "$$"
   ]
  },
  {
   "cell_type": "markdown",
   "metadata": {
    "slideshow": {
     "slide_type": "slide"
    }
   },
   "source": [
    "## Composite trapezoidal rule\n",
    "Using the trapezoidal rule\n",
    "$\\mathrm{T}[f](x_{i-1},x_{i})\n",
    "=\n",
    "\\tfrac{h}{2} f(x_{i-1}) + \\tfrac{h}{2} f(x_{i})\n",
    "$\n",
    "the resulting composite trapezoidal rule is given by\n",
    "\n",
    "$$\n",
    "\\begin{align*}\n",
    "\\int_a^b f {\\,\\mathrm{d}x} \\approx \\mathrm{CT}[f]({[x_{i-1}, x_{i}]}_{i=1}^{m})\n",
    "= h \\left[ \\tfrac{1}{2} f(x_0) + f(x_1) + \\ldots + f(x_{m-1}) + \\tfrac{1}{2} f(x_m) \\right]\n",
    "\\end{align*}\n",
    "$$"
   ]
  },
  {
   "cell_type": "markdown",
   "metadata": {
    "slideshow": {
     "slide_type": "slide"
    }
   },
   "source": [
    "<!-- --- begin exercise --- -->\n",
    "\n",
    "## Exercise 1: Testing the accuracy of the composite trapezoidal rule\n",
    "<div id=\"quad:ex:ctr\"></div>\n",
    "\n",
    "Have a look at the `CT` function which implements the composite trapezoidal rule:"
   ]
  },
  {
   "cell_type": "code",
   "execution_count": 10,
   "metadata": {
    "slideshow": {
     "slide_type": "fragment"
    }
   },
   "outputs": [],
   "source": [
    "def CT(f, a, b, m):\n",
    "    \"\"\" Computes an approximation of the integral f\n",
    "    using the composite trapezoidal rule.\n",
    "    Input:\n",
    "        f:  integrand\n",
    "        a:  left interval endpoint\n",
    "        b:  right interval endpoint\n",
    "        m:  number of subintervals\n",
    "    \"\"\"\n",
    "    x = np.linspace(a,b,m+1)\n",
    "    h = float(b - a)/m\n",
    "    fx = f(x[1:-1])\n",
    "    ct = h*(np.sum(fx) + 0.5*(f(x[0]) + f(x[-1])))\n",
    "    return ct"
   ]
  },
  {
   "cell_type": "markdown",
   "metadata": {
    "slideshow": {
     "slide_type": "slide"
    }
   },
   "source": [
    "Use this function to compute an approximate value of integral\n",
    "\n",
    "$$\n",
    "I(0,1) = \\int_0^1 \\cos\\left(\\frac{\\pi}{2}x\\right) = \\frac{2}{\\pi} = 0.636619\\dotsc.\n",
    "$$\n",
    "\n",
    "for $m = 4, 8, 16, 32, 64$ corresponding to\n",
    "$ h = 2^{-2}, 2^{-3}, 2^{-4}, 2^{-5}, 2^{-6}$.\n",
    "Tabulate the corresponding quadrature errors $I(0,1) - Q(0,1)$.\n",
    "What do you observe?"
   ]
  },
  {
   "cell_type": "code",
   "execution_count": 11,
   "metadata": {
    "slideshow": {
     "slide_type": "slide"
    }
   },
   "outputs": [
    {
     "name": "stdout",
     "output_type": "stream",
     "text": [
      "I[f] = 0.6366197723675814\n",
      "Q[f, 0, 1, 4] = 0.6284174365157311\n",
      "I[f] - Q[f] = 8.202e-03\n",
      "I[f] = 0.6366197723675814\n",
      "Q[f, 0, 1, 8] = 0.6345731492255537\n",
      "I[f] - Q[f] = 2.047e-03\n",
      "I[f] = 0.6366197723675814\n",
      "Q[f, 0, 1, 16] = 0.6361083632808496\n",
      "I[f] - Q[f] = 5.114e-04\n",
      "I[f] = 0.6366197723675814\n",
      "Q[f, 0, 1, 32] = 0.6364919355013015\n",
      "I[f] - Q[f] = 1.278e-04\n",
      "I[f] = 0.6366197723675814\n",
      "Q[f, 0, 1, 64] = 0.636587814113642\n",
      "I[f] - Q[f] = 3.196e-05\n"
     ]
    }
   ],
   "source": [
    "def f(x):\n",
    "    return np.cos(pi/2*x)\n",
    "\n",
    "a, b = 0, 1\n",
    "int_f = 2/pi\n",
    "\n",
    "for m in [4, 8, 16, 32, 64]:\n",
    "    qr_f = CT(f, a, b, m)\n",
    "    print(f\"I[f] = {int_f}\")\n",
    "    print(f\"Q[f, {a}, {b}, {m}] = {qr_f}\")\n",
    "    print(f\"I[f] - Q[f] = {int_f - qr_f:.3e}\")"
   ]
  },
  {
   "cell_type": "markdown",
   "metadata": {
    "slideshow": {
     "slide_type": "slide"
    }
   },
   "source": [
    "<!-- --- begin solution of exercise --- -->\n",
    "**Solution.**"
   ]
  },
  {
   "cell_type": "code",
   "execution_count": 12,
   "metadata": {
    "slideshow": {
     "slide_type": "fragment"
    }
   },
   "outputs": [
    {
     "name": "stdout",
     "output_type": "stream",
     "text": [
      "I[f] = 0.6366197723675814\n",
      "Q[f, 0, 1, 4] = 0.636587814113642\n",
      "I[f] - Q[f] = 3.196e-05\n",
      "I[f] = 0.6366197723675814\n",
      "Q[f, 0, 1, 8] = 0.636587814113642\n",
      "I[f] - Q[f] = 3.196e-05\n",
      "I[f] = 0.6366197723675814\n",
      "Q[f, 0, 1, 16] = 0.636587814113642\n",
      "I[f] - Q[f] = 3.196e-05\n",
      "I[f] = 0.6366197723675814\n",
      "Q[f, 0, 1, 32] = 0.636587814113642\n",
      "I[f] - Q[f] = 3.196e-05\n",
      "I[f] = 0.6366197723675814\n",
      "Q[f, 0, 1, 64] = 0.636587814113642\n",
      "I[f] - Q[f] = 3.196e-05\n"
     ]
    }
   ],
   "source": [
    "# Define function\n",
    "def f(x):\n",
    "    return np.cos(pi*x/2)\n",
    "\n",
    "# Exact integral\n",
    "int_f = 2/pi \n",
    "\n",
    "# Interval\n",
    "a, b = 0, 1\n",
    "\n",
    "# Compute integral numerically\n",
    "for m in [4, 8, 16, 32, 64]:\n",
    "    cqr_f = CT(f, a, b, m)\n",
    "    print(f\"I[f] = {int_f}\")\n",
    "    print(f\"Q[f, {a}, {b}, {m}] = {qr_f}\")\n",
    "    print(f\"I[f] - Q[f] = {int_f - qr_f:.3e}\")"
   ]
  },
  {
   "cell_type": "markdown",
   "metadata": {
    "slideshow": {
     "slide_type": "slide"
    }
   },
   "source": [
    "<!-- --- end solution of exercise --- -->\n",
    "\n",
    "<!-- Closing remarks for this Exercise -->\n",
    "\n",
    "### Remarks\n",
    "\n",
    "We observe that for each *doubling* of the number of subintervals\n",
    "we decrease the error by a *fourth*.\n",
    "That means that if we look at\n",
    "the quadrature error $I[f]-\\mathrm{CT}[f]$\n",
    "as a function of the number of subintervals $m$\n",
    "(or equivalently as a function of $h$),\n",
    "then\n",
    "$|I[f]-\\mathrm{CT}[f]| \\approx \\tfrac{C}{m^2} = C h^2$.\n",
    "\n",
    "\n",
    "<!-- --- end exercise --- -->"
   ]
  },
  {
   "cell_type": "markdown",
   "metadata": {
    "slideshow": {
     "slide_type": "slide"
    }
   },
   "source": [
    "## Error estimate for the composite trapezoidal rule\n",
    "We will now theoretically explain the experimentally observed\n",
    "convergence rate in the previous [Exercise 1: Testing the accuracy of the composite trapezoidal rule](#quad:ex:ctr)."
   ]
  },
  {
   "cell_type": "markdown",
   "metadata": {
    "slideshow": {
     "slide_type": "fragment"
    }
   },
   "source": [
    "First we have to recall the error estimate for\n",
    "for the trapezoidal rule on a single interval $[a,b]$.\n",
    "If $f\\in C^2(a,b)$, then there is a $\\xi \\in (a,b)$ such that\n",
    "\n",
    "$$\n",
    "I[f]-\\mathrm{T}[f]=\\frac{(b-a)^3}{12}f''(\\xi).\n",
    "$$"
   ]
  },
  {
   "cell_type": "markdown",
   "metadata": {
    "slideshow": {
     "slide_type": "slide"
    }
   },
   "source": [
    "## Theorem 1: Quadrature error estimate for composite trapezoidal rule\n",
    "\n",
    "Let $f\\in C^2(a,b)$, then\n",
    "the quadrature error $I[f]-\\mathrm{CT}[f]$\n",
    "for the composite trapezoidal rule can be estimated by\n",
    "\n",
    "<!-- Equation labels as ordinary links -->\n",
    "<div id=\"quad:thm:ctr_est\"></div>\n",
    "\n",
    "$$\n",
    "\\begin{equation}\n",
    "|I[f]-\\mathrm{CT}[f]|\n",
    "\\leqslant\n",
    "\\dfrac{M_2}{12} \\dfrac{(b-a)^3}{m^2}\n",
    "=\n",
    "\\dfrac{M_2}{12}\n",
    "h^2(b-a)\n",
    "\\label{quad:thm:ctr_est} \\tag{2}\n",
    "\\end{equation}\n",
    "$$\n",
    "\n",
    "where  $M_2 = \\max_{\\xi\\in[a,b]} |f''(\\xi)|$."
   ]
  },
  {
   "cell_type": "markdown",
   "metadata": {
    "slideshow": {
     "slide_type": "slide"
    }
   },
   "source": [
    "**Proof.**\n",
    "\n",
    "$$\n",
    "\\begin{align*}\n",
    "|I[f]-\\mathrm{CT}[f]|\n",
    "&=\n",
    "\\biggl \\lvert\n",
    "\\sum_{i=1}^m\n",
    "\\Bigl [\n",
    "\\int_{x_{i-1}}^{x_i} f(x) {\\,\\mathrm{d}x}\n",
    "- \\bigl(\n",
    "\\tfrac{h}{2}f(x_{i-1})\n",
    "+\n",
    "\\tfrac{h}{2}f(x_{i})\n",
    "\\bigr)\n",
    "\\Bigr]\n",
    "\\biggr \\rvert\n",
    "\\\\ \n",
    "&\\leqslant\n",
    "\\sum_{i=1}^m\n",
    "\\frac{h^3}{12}|f''(\\xi_i)|\n",
    "\\leqslant \n",
    "M_2 \\sum_{i=1}^m\n",
    "\\frac{(h)^3}{12}\n",
    "\\\\ \n",
    "&=\n",
    "M_2 \n",
    "\\frac{h^3}{12}\n",
    "\\underbrace{m}_{\\tfrac{(b-a)}{h}}\n",
    "=\n",
    "\\dfrac{M_2}{12}\n",
    "h^2(b-a)\n",
    "=\n",
    "\\frac{M_2}{12}\n",
    "\\frac{(b-a)^3}{m^2}\n",
    "\\end{align*}.\n",
    "$$"
   ]
  },
  {
   "cell_type": "markdown",
   "metadata": {
    "slideshow": {
     "slide_type": "slide"
    }
   },
   "source": [
    "## Interlude: Convergence of $h$-dependent approximations\n",
    "\n",
    "Let $X$ be the exact solution, and $X(h)$ some numerical solution depending on a\n",
    "parameter $h$, and let $e(h)$ be the norm of the error, so $e(h)=\\|X-X(h)\\|$. The numerical approximation $X(h)$ converges to $X$ if $e(h) \\rightarrow 0$ as $h\\rightarrow 0$. \n",
    "The order of the approximation is $p$ if there exists a positive constant $M$ such that\n",
    "$$\n",
    "e(h) \\leq M h^p\n",
    "$$"
   ]
  },
  {
   "cell_type": "markdown",
   "metadata": {
    "slideshow": {
     "slide_type": "slide"
    }
   },
   "source": [
    "The Big $\\mathcal{O}$-notation we can simply write\n",
    "$$\n",
    "e(h) = \\mathcal{O}(h^p)\n",
    "\\qquad\\text{ as } h \\to 0.\n",
    "$$\n",
    "This is often used when we are not directly interested in any expression for the constant $M$, we only need to know it exists.\n",
    "\n",
    "Again, we see that a higher approximation order $p$ leads for small values of $h$ to a better approximation of the solution. Thus we are generally interested in approximations of higher order."
   ]
  },
  {
   "cell_type": "markdown",
   "metadata": {
    "slideshow": {
     "slide_type": "slide"
    }
   },
   "source": [
    "### Numerical verification\n",
    "\n",
    "The following is based on the assumption that  $e(h)\\approx C h^p$ for some\n",
    "unknown constant $C$. This assumption is often reasonable for sufficiently\n",
    "small $h$. \n",
    "\n",
    "Choose a test problem for which the exact solution is known and compute the\n",
    "error for a decreasing sequence of $h_k$'s, for instance $h_k=H/2^k$,\n",
    "$k=0,1,2,\\dots$. The procedure is then quite similar to what was done for\n",
    "iterative processes."
   ]
  },
  {
   "cell_type": "markdown",
   "metadata": {},
   "source": [
    "$$\n",
    "\\begin{array}{rcl} e(h_{k+1}) &\\approx& C h_{k+1}^p \\\\  e(h_k) &\\approx& C h_k^p \\end{array}\n",
    "  \\qquad \\Rightarrow \\qquad \n",
    "  \\frac{e(h_{k+1})}{e(h_k)} \\approx \\left( \\frac{h_{k+1}}{h_k} \\right)^p \n",
    "  \\qquad \\Rightarrow \\qquad \n",
    "  p \\approx \\frac{\\log{(e(h_{k+1})/e(h_k))}}{\\log{(h_{k+1}/h_k)}}\n",
    "$$"
   ]
  },
  {
   "cell_type": "markdown",
   "metadata": {
    "slideshow": {
     "slide_type": "slide"
    }
   },
   "source": [
    "For one refinement step where one passes from $h_k \\to h_{k+1}$, the number\n",
    "$$\n",
    "EOC(k) \\approx \\frac{\\log{(e(h_{k+1})/e(h_k))}}{\\log{(h_{k+1}/h_k)}}\n",
    "$$\n",
    "is often called the \"Experimental order of convergence at refinement level k\""
   ]
  },
  {
   "cell_type": "markdown",
   "metadata": {
    "slideshow": {
     "slide_type": "slide"
    }
   },
   "source": [
    "Since\n",
    "$$\n",
    "e(h) \\approx Ch^p \\qquad \\Rightarrow \\qquad \n",
    "\\underbrace{\\log{e(h)}}_{y} \\approx \\underbrace{\\log{C}}_{a} + p \\underbrace{\\log{h}}_{x}\n",
    "$$\n",
    "a plot of $e(h)$ as a function of $h$ using a logarithmic scale on both axes (a log-log plot)\n",
    "will be a straight line with slope $p$. Such a plot is referred to as\n",
    "an *error plot* or a *convergence plot*."
   ]
  },
  {
   "cell_type": "markdown",
   "metadata": {
    "slideshow": {
     "slide_type": "slide"
    }
   },
   "source": [
    "## Exercise 1 (extension): Examine the convergence order of composite trapezoidal rule"
   ]
  },
  {
   "cell_type": "code",
   "execution_count": 6,
   "metadata": {
    "slideshow": {
     "slide_type": "slide"
    }
   },
   "outputs": [],
   "source": [
    "# Insert your code here."
   ]
  },
  {
   "cell_type": "markdown",
   "metadata": {
    "slideshow": {
     "slide_type": "slide"
    }
   },
   "source": [
    "**Solution**"
   ]
  },
  {
   "cell_type": "code",
   "execution_count": 19,
   "metadata": {
    "slideshow": {
     "slide_type": "fragment"
    }
   },
   "outputs": [
    {
     "name": "stdout",
     "output_type": "stream",
     "text": [
      "Number of subintervals m = 4\n",
      "Q[f] = 0.6284174365157311\n",
      "I[f] - Q[f] = 8.2023358519e-03\n",
      "Number of subintervals m = 8\n",
      "Q[f] = 0.6345731492255537\n",
      "I[f] - Q[f] = 2.0466231420e-03\n",
      "Number of subintervals m = 16\n",
      "Q[f] = 0.6361083632808496\n",
      "I[f] - Q[f] = 5.1140908673e-04\n",
      "Number of subintervals m = 32\n",
      "Q[f] = 0.6364919355013015\n",
      "I[f] - Q[f] = 1.2783686628e-04\n",
      "Number of subintervals m = 64\n",
      "Q[f] = 0.636587814113642\n",
      "I[f] - Q[f] = 3.1958253939e-05\n",
      "[2.00278934 2.00069577 2.00017385 2.00004346]\n"
     ]
    },
    {
     "data": {
      "application/vnd.jupyter.widget-view+json": {
       "model_id": "63b9e35f51fb4d5f99d909d74c606085",
       "version_major": 2,
       "version_minor": 0
      },
      "text/plain": [
       "Canvas(toolbar=Toolbar(toolitems=[('Home', 'Reset original view', 'home', 'home'), ('Back', 'Back to previous …"
      ]
     },
     "metadata": {},
     "output_type": "display_data"
    }
   ],
   "source": [
    "%matplotlib widget\n",
    "# Define function\n",
    "def f(x):\n",
    "    return np.cos(pi*x/2)\n",
    "\n",
    "# Exact integral\n",
    "int_f = 2/pi \n",
    "\n",
    "# Interval\n",
    "a, b = 0, 1\n",
    "\n",
    "errs = []\n",
    "hs = []\n",
    "\n",
    "# Compute integral numerically\n",
    "for m in [4, 8, 16, 32, 64]:\n",
    "    cqr_f = CT(f, a, b, m)\n",
    "    print(\"Number of subintervals m = {}\".format(m))\n",
    "    print(\"Q[f] = {}\".format(cqr_f))\n",
    "    err = int_f - cqr_f\n",
    "    errs.append(err)\n",
    "    hs.append((b-a)/m)\n",
    "    print(\"I[f] - Q[f] = {:.10e}\".format(err))\n",
    "\n",
    "hs = np.array(hs)\n",
    "errs = np.array(errs)\n",
    "\n",
    "eocs = np.log(errs[1:]/errs[:-1])/np.log(hs[1:]/hs[:-1])\n",
    "print(eocs)\n",
    "plt.loglog(hs, errs, \"bo-\")\n",
    "plt.xlabel(\"log(h)\")\n",
    "plt.ylabel(\"log(err)\")\n",
    "\n",
    "# Adding infinity in first row to eoc list\n",
    "# to make it the same length as errs\n",
    "eocs = np.insert(eocs, 0, np.Inf)"
   ]
  },
  {
   "cell_type": "code",
   "execution_count": 18,
   "metadata": {},
   "outputs": [
    {
     "data": {
      "text/html": [
       "<div>\n",
       "<style scoped>\n",
       "    .dataframe tbody tr th:only-of-type {\n",
       "        vertical-align: middle;\n",
       "    }\n",
       "\n",
       "    .dataframe tbody tr th {\n",
       "        vertical-align: top;\n",
       "    }\n",
       "\n",
       "    .dataframe thead th {\n",
       "        text-align: right;\n",
       "    }\n",
       "</style>\n",
       "<table border=\"1\" class=\"dataframe\">\n",
       "  <thead>\n",
       "    <tr style=\"text-align: right;\">\n",
       "      <th></th>\n",
       "      <th>Error</th>\n",
       "      <th>EOC</th>\n",
       "    </tr>\n",
       "  </thead>\n",
       "  <tbody>\n",
       "    <tr>\n",
       "      <th>0</th>\n",
       "      <td>0.008202</td>\n",
       "      <td>inf</td>\n",
       "    </tr>\n",
       "    <tr>\n",
       "      <th>1</th>\n",
       "      <td>0.002047</td>\n",
       "      <td>2.002789</td>\n",
       "    </tr>\n",
       "    <tr>\n",
       "      <th>2</th>\n",
       "      <td>0.000511</td>\n",
       "      <td>2.000696</td>\n",
       "    </tr>\n",
       "    <tr>\n",
       "      <th>3</th>\n",
       "      <td>0.000128</td>\n",
       "      <td>2.000174</td>\n",
       "    </tr>\n",
       "    <tr>\n",
       "      <th>4</th>\n",
       "      <td>0.000032</td>\n",
       "      <td>2.000043</td>\n",
       "    </tr>\n",
       "  </tbody>\n",
       "</table>\n",
       "</div>"
      ],
      "text/plain": [
       "      Error       EOC\n",
       "0  0.008202       inf\n",
       "1  0.002047  2.002789\n",
       "2  0.000511  2.000696\n",
       "3  0.000128  2.000174\n",
       "4  0.000032  2.000043"
      ]
     },
     "metadata": {},
     "output_type": "display_data"
    },
    {
     "name": "stdout",
     "output_type": "stream",
     "text": [
      "      Error       EOC\n",
      "0  0.008202       inf\n",
      "1  0.002047  2.002789\n",
      "2  0.000511  2.000696\n",
      "3  0.000128  2.000174\n",
      "4  0.000032  2.000043\n"
     ]
    }
   ],
   "source": [
    "# Do a pretty print of the tables using panda\n",
    "import pandas as pd\n",
    "from IPython.display import display\n",
    "\n",
    "table = pd.DataFrame({'Error': errs, 'EOC' : eocs})\n",
    "display(table)\n",
    "print(table)"
   ]
  },
  {
   "cell_type": "markdown",
   "metadata": {
    "slideshow": {
     "slide_type": "slide"
    }
   },
   "source": [
    "<!-- --- begin exercise --- -->\n",
    "\n",
    "## Exercise: Composite Simpson's rule\n",
    "\n",
    "The composite Simpson's rule is considered in detail in homework assignment 2.\n"
   ]
  },
  {
   "cell_type": "markdown",
   "metadata": {
    "slideshow": {
     "slide_type": "slide"
    }
   },
   "source": [
    "## Theorem 2: Quadrature error estimate for composite Simpon's rule\n",
    "\n",
    "Let $f\\in C^4(a,b)$, then\n",
    "the quadrature error $I[f]-\\mathrm{CT}[f]$\n",
    "for the composite trapezoidal rule can be estimated by\n",
    "\n",
    "<!-- Equation labels as ordinary links -->\n",
    "<div id=\"quad:thm:csr_est\"></div>\n",
    "\n",
    "$$\n",
    "\\begin{equation}\n",
    "|I[f]-\\mathrm{CSR}[f]|\n",
    "\\leqslant\n",
    "\\dfrac{M_4}{2880} \\dfrac{(b-a)^5}{m^4}\n",
    "=\n",
    "\\dfrac{M_4}{2880}\n",
    "h^4(b-a)\n",
    "\\label{quad:thm:csr_est} \\tag{3}\n",
    "\\end{equation}\n",
    "$$\n",
    "\n",
    "where  $M_4 = \\max_{\\xi\\in[a,b]} |f^{(4)}(\\xi)|$.\n",
    "\n",
    "\n",
    "\n",
    "\n",
    "**Proof.**\n",
    "\n",
    "*Will be part of homework assignment 2.*"
   ]
  }
 ],
 "metadata": {
  "kernelspec": {
   "display_name": "Python 3 (ipykernel)",
   "language": "python",
   "name": "python3"
  },
  "language_info": {
   "codemirror_mode": {
    "name": "ipython",
    "version": 3
   },
   "file_extension": ".py",
   "mimetype": "text/x-python",
   "name": "python",
   "nbconvert_exporter": "python",
   "pygments_lexer": "ipython3",
   "version": "3.9.6"
  }
 },
 "nbformat": 4,
 "nbformat_minor": 4
}
