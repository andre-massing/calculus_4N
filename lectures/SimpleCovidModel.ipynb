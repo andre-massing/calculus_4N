{
 "cells": [
  {
   "cell_type": "markdown",
   "id": "aboriginal-stake",
   "metadata": {
    "slideshow": {
     "slide_type": "slide"
    }
   },
   "source": [
    "# A simple epidemic model for Covid 19 and its numerical solution\n",
    "**André Massing**\n",
    "\n",
    "Date: **March 26, 2021**\n",
    "\n",
    "$\\newcommand{mb}[1]{\\mathbf{#1}}$\n",
    "If you want to have a nicer theme for your jupyter notebook,\n",
    "download the [cascade stylesheet file tma4125.css](https://www.math.ntnu.no/emner/TMA4125/2020v/part_II/notebooks/tma4125.css)\n",
    "and execute the next cell:"
   ]
  },
  {
   "cell_type": "code",
   "execution_count": 1,
   "id": "verbal-horizontal",
   "metadata": {
    "slideshow": {
     "slide_type": "slide"
    }
   },
   "outputs": [
    {
     "data": {
      "text/html": [
       "<link href='http://fonts.googleapis.com/css?family=Alegreya+Sans:100,300,400,500,700,800,900,100italic,300italic,400italic,500italic,700italic,800italic,900italic' rel='stylesheet' type='text/css'> <link href='http://fonts.googleapis.com/css?family=Arvo:400,700,400italic' rel='stylesheet' type='text/css'> <link href=\"https://fonts.googleapis.com/css?family=News+Cycle\" rel=\"stylesheet\"> <link href='http://fonts.googleapis.com/css?family=Nixie+One' rel='stylesheet' type='text/css'> <link href='http://fonts.googleapis.com/css?family=PT+Mono' rel='stylesheet' type='text/css'> <link href='http://fonts.googleapis.com/css?family=Shadows+Into+Light' rel='stylesheet' type='text/css'> <link href=\"https://fonts.googleapis.com/css?family=Source+Code+Pro\" rel=\"stylesheet\"> <style> @font-face {\n",
       "    /*font-family: \"Computer Modern\";*/\n",
       "    /*src: url('http://mirrors.ctan.org/fonts/cm-unicode/fonts/otf/cmunss.otf');*/\n",
       "    font-family: 'News Cycle', sans-serif;\n",
       "}\n",
       "\n",
       "\n",
       "/* main background */\n",
       "\n",
       "\n",
       "/*#notebook_panel { \n",
       "        background: #C9D4E2;\n",
       "    }*/\n",
       "\n",
       "div.cell {\n",
       "    /*max-width:600px;*/\n",
       "    /*margin-left:16% !important;*/\n",
       "    /*margin-right:auto;*/\n",
       "}\n",
       "\n",
       "div.text_cell {\n",
       "    max-width: 120ex;\n",
       "    /* instead of 100%, */\n",
       "}\n",
       "\n",
       "div.text_cell_render {\n",
       "    font-family: 'Alegreya Sans', Computer Modern, \"Helvetica Neue\", Arial, Helvetica, Geneva,   sans-serif;\n",
       "    line-height: 135%;\n",
       "    /*font-size:    45pt;*/\n",
       "    font-size: 130%;\n",
       "    /*width:600px;*/\n",
       "    /*margin-left:auto;*/\n",
       "    /*margin-right:auto;*/\n",
       "}\n",
       "\n",
       ".CodeMirror {\n",
       "    /*font-family: 'Source Code Pro', monospace;*/\n",
       "    /*font-style: italic;*/\n",
       "    /*font-weight: bold;*/\n",
       "    /*font-size: 120%;*/\n",
       "}\n",
       "\n",
       "\n",
       "/*.prompt{\n",
       "        display: None;\n",
       "    }*/\n",
       "\n",
       ".text_cell_render h1 {\n",
       "    font-family: 'Nixie One', serifV;\n",
       "    font-style: regular;\n",
       "    font-weight: 400;\n",
       "    font-size: 45pt;\n",
       "    line-height: 100%;\n",
       "        color: #497BB9;    \n",
       "    /*color: #5889C5;*/\n",
       "    /*color: rgb(0, 51, 102);*/\n",
       "    /*font-weight: 200;*/\n",
       "    /*font-size: 50pt;*/\n",
       "    margin-bottom: 0.5em;\n",
       "    margin-top: 0.5em;\n",
       "    display: block;\n",
       "}\n",
       "\n",
       ".text_cell_render h2 {\n",
       "    font-family: 'Nixie One', serif;\n",
       "    font-weight: 400;\n",
       "    font-size: 30pt;\n",
       "    line-height: 100%;\n",
       "    /*color: rgb(0,51,102);*/\n",
       "    color: #497BB9;    \n",
       "    margin-bottom: 0.1em;\n",
       "    margin-top: 0.3em;\n",
       "    display: block;\n",
       "}\t\n",
       "\n",
       ".text_cell_render h3 {\n",
       "    font-family: 'Nixie One', serif;\n",
       "    margin-top:16px;\n",
       "    font-size: 22pt;\n",
       "    font-weight: 600;\n",
       "    margin-bottom: 3px;\n",
       "    font-style: regular;\n",
       "    color: rgb(102,102,0);\n",
       "}\n",
       "\n",
       ".text_cell_render h4 {    /*Use this for captions*/\n",
       "    font-family: 'Nixie One', serif;\n",
       "    font-size: 14pt;\n",
       "/*    text-align: center;*/\n",
       "    margin-top: 0em;\n",
       "    margin-bottom: 2em;\n",
       "    font-style: regular;\n",
       "}\n",
       "\n",
       ".text_cell_render h5 {  /*Use this for small titles*/\n",
       "    font-family: 'Nixie One', sans-serif;\n",
       "    font-weight: 400;\n",
       "    font-size: 16pt;\n",
       "    color: rgb(163,0,0);\n",
       "    /*color: #5889C5;*/\n",
       "    /*margin-bottom: .5em;\n",
       "    margin-top: 0.5em;*/\n",
       "    font-style: italic;\n",
       "    margin-bottom: .1em;\n",
       "    margin-top: 0.8em;\n",
       "    display: block;\n",
       "}\n",
       "\n",
       ".warning {\n",
       "    color: rgb( 240, 20, 20)\n",
       "}\n",
       "\n",
       "</style> \n",
       "<script>\n",
       " MathJax.Hub.Config( {\n",
       "    TeX: {\n",
       "        Macros: {\n",
       "            NN: \"{\\\\bf N}\",\n",
       "            RR: \"{\\\\mathbb{R}}\",\n",
       "            mcO: \"{\\\\mathcal{O}}\"\n",
       "        },\n",
       "        equationNumbers: { autoNumber: \"AMS\" },\n",
       "        extensions: [\"AMSmath.js\", \"begingroup.js\"] \n",
       "    },\n",
       "    tex2jax: {\n",
       "        inlineMath: [ ['$', '$'], [\"\\\\(\", \"\\\\)\"]], displayMath: [ ['$$', '$$'], [\"\\\\[\", \"\\\\]\"]]\n",
       "    },\n",
       "    displayAlign: 'center', // Change this to 'center' to center equations.\n",
       "    \"HTML-CSS\": {\n",
       "        styles: {\n",
       "            '.MathJax_Display': {\n",
       "                \"margin\": 4\n",
       "            }\n",
       "        }\n",
       "    }\n",
       "}\n",
       ");\n",
       "</script>\n"
      ],
      "text/plain": [
       "<IPython.core.display.HTML object>"
      ]
     },
     "execution_count": 1,
     "metadata": {},
     "output_type": "execute_result"
    }
   ],
   "source": [
    "from IPython.core.display import HTML\n",
    "def css_styling():\n",
    "    try:\n",
    "        with open(\"tma4125.css\", \"r\") as f:\n",
    "            styles = f.read()\n",
    "            return HTML(styles)\n",
    "    except FileNotFoundError:\n",
    "        pass #Do nothing\n",
    "\n",
    "# Comment out next line and execute this cell to restore the default notebook style \n",
    "css_styling()"
   ]
  },
  {
   "cell_type": "markdown",
   "id": "written-walter",
   "metadata": {
    "slideshow": {
     "slide_type": "slide"
    }
   },
   "source": [
    "As always, we start by calling the necessary modules: And of course we want to import the required modules.\n"
   ]
  },
  {
   "cell_type": "code",
   "execution_count": null,
   "id": "insured-mother",
   "metadata": {
    "slideshow": {
     "slide_type": "slide"
    }
   },
   "outputs": [],
   "source": [
    "%matplotlib widget\n",
    "\n",
    "import numpy as np\n",
    "from numpy import pi\n",
    "from numpy.linalg import solve, norm    \n",
    "import matplotlib.pyplot as plt\n",
    "\n",
    "# Use a funny plotting style\n",
    "plt.xkcd()\n",
    "#'figure.figsize': (6.0, 6.0)\n",
    "newparams = {'axes.grid': True,\n",
    "             'lines.markersize': 8, \n",
    "             'lines.linewidth': 2,\n",
    "             'font.size': 14}\n",
    "plt.rcParams.update(newparams)"
   ]
  },
  {
   "cell_type": "markdown",
   "id": "rocky-cincinnati",
   "metadata": {
    "slideshow": {
     "slide_type": "slide"
    }
   },
   "source": [
    "## Plan for the day\n",
    "\n",
    "* Part I: Extension of the SIR model\n",
    "* Part II: Numerical solution of SIR-like models"
   ]
  },
  {
   "cell_type": "markdown",
   "id": "premier-funds",
   "metadata": {
    "slideshow": {
     "slide_type": "slide"
    }
   },
   "source": [
    "## Part I: Extending the SIR model for disease spreading\n",
    "\n"
   ]
  },
  {
   "cell_type": "markdown",
   "id": "breeding-dimension",
   "metadata": {
    "slideshow": {
     "slide_type": "slide"
    }
   },
   "source": [
    "### Review of the SIR model\n",
    "\n",
    "Motivated by the ongoing corona virus pandemic, we considered\n",
    "the simplest ODE model describing how an an infectious disease spread in a population.\n",
    "\n",
    "The model goes under the name [[SIR model]](https://en.wikipedia.org/wiki/Compartmental_models_in_epidemiology#The_SIR_model)\n",
    "and a particular example of a **compartmental model in epidemiology**.\n",
    "An overview over more complicated model can be for example found on [[wikipedia]]( https://en.wikipedia.org/wiki/Compartmental_models_in_epidemiology#Elaborations_on_the_basic_SIR_model)."
   ]
  },
  {
   "cell_type": "markdown",
   "id": "restricted-bacteria",
   "metadata": {
    "slideshow": {
     "slide_type": "slide"
    }
   },
   "source": [
    "The SIR models divides the population into three\n",
    "population classes or **compartments**, namely\n",
    "* S(t): number individuals  **susceptible** for infection,\n",
    "* I(t): number **infected** individuals, capable of transmitting the disease,\n",
    "* R(t): number  **removed** individuals who cannot be infected due death or to immunity  \n",
    "  after recovery\n",
    "\n",
    "The model is of the spreading of a disease is based\n",
    "on moving individual from $S$ to $I$ and then from $S$ to $R$, in short-hand notation\n",
    "\n",
    "$$\n",
    "S \\to I \\to R\n",
    "$$"
   ]
  },
  {
   "cell_type": "markdown",
   "id": "meaning-gravity",
   "metadata": {
    "slideshow": {
     "slide_type": "slide"
    }
   },
   "source": [
    "We assume a \n",
    "  * birth rate and rate of death not caused by Covid 19 can be neglected (no vital dynamics)\n",
    "  * no incubation time, immediately transition from $S$ to $I$\n",
    "  * large population so we model it $N, I, R$ as continuous functions \n",
    "\n",
    "Note that we then have that the total population/number of individuals $N(t)$ satisfies\n",
    "$$\n",
    "S(t) + I(t) + R(t) = N(t) = \\mathrm{const}\n",
    "$$\n",
    "and we assume that we have rescaled the population number such that $N = 1$, so $I, S, R$ measures the proportion of susceptible, infectious and removed inviduals."
   ]
  },
  {
   "cell_type": "markdown",
   "id": "supreme-museum",
   "metadata": {
    "slideshow": {
     "slide_type": "slide"
    }
   },
   "source": [
    "The final ODE system is given by\n",
    "\n",
    "$$\n",
    "\\begin{align}\n",
    "S' &= - \\beta S I\n",
    "\\\\\n",
    "I' &= \\beta S I - \\gamma I\n",
    "\\\\\n",
    "R' &= \\gamma I,\n",
    "\\end{align}\n",
    "$$\n",
    "\n",
    "where \n",
    "\n",
    "* $\\beta$ denotes the **infection rate**, and\n",
    "* $\\gamma$ the **removal rate**. \n",
    "\n",
    "Having this ODE in mind, an epidemic model can be simply specified by writing\n",
    "down a *state transition diagram*\n",
    "\n",
    "$$\n",
    "S \\overset{\\beta}{\\to} I \\overset{\\gamma}{\\to} R\n",
    "$$"
   ]
  },
  {
   "cell_type": "markdown",
   "id": "departmental-huntington",
   "metadata": {
    "slideshow": {
     "slide_type": "slide"
    }
   },
   "source": [
    "### A closer look at the derivation of the SIR model\n",
    "We give a brief motivation for the SIR model following the presentation \n",
    "in [[Chapter 8.3]](https://link.springer.com/chapter/10.1007/978-3-030-16877-3_8https://link.springer.com/chapter/10.1007/978-3-030-16877-3_8) of\n",
    "the book [[Programming for Computations - Python]](https://link.springer.com/book/10.1007/978-3-030-16877-3https://link.springer.com/book/10.1007/978-3-030-16877-3)."
   ]
  },
  {
   "cell_type": "markdown",
   "id": "recorded-adelaide",
   "metadata": {
    "slideshow": {
     "slide_type": "slide"
    }
   },
   "source": [
    "**Question**: How can we derive this model?\n",
    "\n",
    "Starting from a number of susceptible inviduals $S(t)$ and infectious individuals $I(t)$\n",
    "at some time $t$ we want to know how many susceptible inviduals get infected during \n",
    "a time interval $\\Delta t$.\n",
    "\n",
    "The change during this time interval  $\\tau$ can be described a\n",
    "\\begin{align}\n",
    "S(t+\\Delta t) - S(t) = - \\beta \\Delta t S(t) I(t) \n",
    "\\tag{1}\n",
    "\\label{eq} \n",
    "\\end{align}\n",
    "What is the meaning behind the right-hand side term of \\eqref{eq}? "
   ]
  },
  {
   "cell_type": "markdown",
   "id": "complicated-doubt",
   "metadata": {
    "slideshow": {
     "slide_type": "slide"
    }
   },
   "source": [
    " * First, we have a negative sign since $S$ is decreasing due to infections.\n",
    " "
   ]
  },
  {
   "cell_type": "markdown",
   "id": "wicked-criminal",
   "metadata": {
    "slideshow": {
     "slide_type": "slide"
    }
   },
   "source": [
    " * Second, the term $$ S(t)I(t).$$\n",
    "   is simply the number of **all possible contact pairs** between susceptible and infectious \n",
    "   individuals.\n",
    "   "
   ]
  },
  {
   "cell_type": "markdown",
   "id": "cardiovascular-aircraft",
   "metadata": {
    "slideshow": {
     "slide_type": "slide"
    }
   },
   "source": [
    " * Third the infection rate $\\beta$ is composed of two factor $$ \\beta = p \\mu$$ where\n",
    "   * $p$ is probality with which a $S$-$I$ actually occur per unit time interval, so $p \\Delta t\n",
    "     S(t)I(t)$ measures the number of **actual** contacts between susceptible and infectious \n",
    "   individuals. \n",
    "   * $\\mu$ is the probabilty with which an $S$ individual gets infected during an $S$-$I$ contact"
   ]
  },
  {
   "cell_type": "markdown",
   "id": "grave-sierra",
   "metadata": {
    "slideshow": {
     "slide_type": "fragment"
    }
   },
   "source": [
    "Thus the total number of people newly infected during the time period $\\Delta t$ is thus $$\\underbrace{\\mu p \\Delta}_{:=\\beta} t S(t) I(t)$$ and therefore\n",
    "$$\n",
    "S(t+\\Delta t) - S(t) = - \\beta \\Delta t S(t) I(t) \\Leftrightarrow   - \\beta S(t) I(t)\n",
    "= \\dfrac{S(t+\\Delta t) - S(t)}{\\Delta t} \\to S'(t) \\quad \\text{for } \\Delta t \\to 0.\n",
    "$$"
   ]
  },
  {
   "cell_type": "markdown",
   "id": "working-binary",
   "metadata": {
    "slideshow": {
     "slide_type": "slide"
    }
   },
   "source": [
    "### $R_0$ number and start of outbreaks\n",
    "\n",
    "Looking at $$ I' = \\beta S I - \\gamma I$$ we see that an outbreak of a disease (read: increase of number of infections) can only occur\n",
    "if $I'(0) > 0$, but this is of course equivalent to \n",
    "$$\n",
    "0 < \\beta S(0) I(0) - \\gamma I(0) \\Leftrightarrow \\underbrace{\\dfrac{\\beta}{\\gamma}}_{:=R_0} S(0) > 1 \n",
    "$$"
   ]
  },
  {
   "cell_type": "markdown",
   "id": "negative-testing",
   "metadata": {
    "slideshow": {
     "slide_type": "slide"
    }
   },
   "source": [
    "$$\n",
    " \\dfrac{\\beta}{\\gamma} =: R_0\n",
    "$$\n",
    "is known as the  **basic reproduction number** and corresponds basically to the number of individuals infected by each infectious individual."
   ]
  },
  {
   "cell_type": "markdown",
   "id": "surgical-fundamentals",
   "metadata": {
    "slideshow": {
     "slide_type": "fragment"
    }
   },
   "source": [
    "The $R_0$ can be affected by e.g. social distancing, (temporal) immunization, vaccination campaign etc. It also determines the treshold for flock immunity. If for instance the basic reproduction number is $2$, the fraction of susceptible individual should be less that $0.5$ to avoid\n",
    "an outbreak in the presence of infected individuals."
   ]
  },
  {
   "cell_type": "markdown",
   "id": "light-superior",
   "metadata": {
    "slideshow": {
     "slide_type": "slide"
    }
   },
   "source": [
    "### Breakout session (20 min)\n",
    "\n",
    "1. **Warm-up discussion**: \n",
    "   * How many people have you met *physically* since Monday? \n",
    "   * How can *social distancing* be taken into account in SIR model? (The person in the group who has met the least number of people since Monday will be the appointed as group leader :)"
   ]
  },
  {
   "cell_type": "markdown",
   "id": "disciplinary-pavilion",
   "metadata": {
    "slideshow": {
     "slide_type": "fragment"
    }
   },
   "source": [
    "2. **Challenge**: To prevent the collapse of our health care system, we need to predict the number of additional hospitalized patients (caused by Covid 19) at any point in time. Discuss in your group how to incorporate the dynamics of the fraction $H(t)$ of hospitalized patients into the SIR model to arrive at a $SIHR$ model. **Hint**: With which population category with $H$ interact? "
   ]
  },
  {
   "cell_type": "markdown",
   "id": "paperback-buffer",
   "metadata": {
    "slideshow": {
     "slide_type": "fragment"
    }
   },
   "source": [
    "3. **Cool-down**: The SIR and even the SIHR model are very simplified models for diseaese spreading. Discuss possible effects/phenomena/parameters one might want to include in these models (e.g natural birth and death rates...) in a more accurate model. You can think of anything which somehow impact the population number or course of disease. Collect keywords on the [[mentimeter]](https://www.menti.com) word cloud, the group leader will quickly summarize (some) ideas."
   ]
  },
  {
   "cell_type": "markdown",
   "id": "invalid-champagne",
   "metadata": {
    "slideshow": {
     "slide_type": "slide"
    }
   },
   "source": [
    "##### Feeback: Discussion, ipad solution and mentimeter poll\n",
    "\n",
    "* Draw state diagram A, B, C and perform poll\n",
    "* Activate word cloud"
   ]
  },
  {
   "cell_type": "markdown",
   "id": "south-pursuit",
   "metadata": {
    "slideshow": {
     "slide_type": "slide"
    }
   },
   "source": [
    "## Part II: An adaptive Runge-Kutta method for the SIHR model\n",
    "\n",
    "In this part we want to implement an adaptive Runge-Kutta method to solve the\n",
    "extended $SIHR$ model numerically."
   ]
  },
  {
   "cell_type": "markdown",
   "id": "orange-stationery",
   "metadata": {
    "slideshow": {
     "slide_type": "slide"
    }
   },
   "source": [
    "### Review:  Runge-Kutta methods"
   ]
  },
  {
   "cell_type": "markdown",
   "id": "written-plate",
   "metadata": {
    "slideshow": {
     "slide_type": "slide"
    }
   },
   "source": [
    "**Explicit** Runge-Kutta schemes are specified in the form of a **Butcher table**:\n",
    "\n",
    "\\begin{equation*}\n",
    "\\begin{array}{c|ccc}\n",
    "c_1 & a_{11} & \\cdots & a_{1s}\n",
    "\\\\ \n",
    "\\vdots & \\vdots & & \\vdots\n",
    "\\\\ \n",
    "c_s & a_{s1} & \\cdots & a_{ss}\n",
    "\\\\ \n",
    "\\hline\n",
    "& b_1 & \\cdots & b_s\n",
    "\\end{array}\n",
    "\\end{equation*}\n",
    "\n",
    "with $c_1 = 0$ and $a_{ij} = 0$ for $j \\geqslant i$."
   ]
  },
  {
   "cell_type": "markdown",
   "id": "forced-cathedral",
   "metadata": {
    "slideshow": {
     "slide_type": "fragment"
    }
   },
   "source": [
    "So starting from $y_i, t_i$ and chosen step size $\\tau_i$\n",
    "the discrete solution at $t_{i+1}$ is computed as follows\n",
    "\n",
    "* Compute stage derivatives $k_j$ for $j=1,\\ldots,s$:\n",
    "  \\begin{equation*}\n",
    "  k_{j} =\n",
    "  f(t_i + c_j \\tau, y_i +  \\tau \\sum_{l=1}^{j-1} {a}_{jl} k_l)\n",
    "  \\end{equation*}\n",
    "* Compute the next time step via\n",
    "  \\begin{equation*}  \n",
    "  y_{i+1} = y_{i} + \\tau \\sum_{j=1}^s b_j k_j\n",
    "  \\end{equation*}"
   ]
  },
  {
   "cell_type": "code",
   "execution_count": null,
   "id": "combined-defensive",
   "metadata": {
    "slideshow": {
     "slide_type": "slide"
    }
   },
   "outputs": [],
   "source": [
    "class ExplicitRungeKutta:\n",
    "    def __init__(self, a, b, c):\n",
    "        self.a = a\n",
    "        self.b = b\n",
    "        self.c = c\n",
    "\n",
    "    def __call__(self, y0, t0, T, f, Nmax):\n",
    "        # Extract Butcher table\n",
    "        a, b, c = self.a, self.b, self.c\n",
    "        \n",
    "        # Stages\n",
    "        s = len(b)\n",
    "        ks = [np.zeros_like(y0, dtype=np.double) for s in range(s)]\n",
    "\n",
    "        # Start time-stepping\n",
    "        ys = [y0]\n",
    "        ts = [t0]\n",
    "        dt = (T - t0)/Nmax\n",
    "        \n",
    "        while(ts[-1] < T):\n",
    "            t, y = ts[-1], ys[-1]\n",
    "            \n",
    "            # Compute stages derivatives k_j\n",
    "            for j in range(s):\n",
    "                t_j = t + c[j]*dt\n",
    "                dY_j = np.zeros_like(y, dtype=np.double)\n",
    "                for l in range(j):\n",
    "                    dY_j += a[j,l]*ks[l]\n",
    "\n",
    "                ks[j] = f(t_j, y + dt*dY_j)\n",
    "                \n",
    "            # Compute next time-step\n",
    "            dy = np.zeros_like(y, dtype=np.double)\n",
    "            for j in range(s):\n",
    "                dy += b[j]*ks[j]\n",
    "            \n",
    "            ys.append(y + dt*dy)\n",
    "            ts.append(t + dt)\n",
    "            \n",
    "        return (np.array(ts), np.array(ys))"
   ]
  },
  {
   "cell_type": "markdown",
   "id": "possible-feeding",
   "metadata": {
    "slideshow": {
     "slide_type": "slide"
    }
   },
   "source": [
    "**Usage example** \n",
    "\n",
    "We use the class above to create a Runge-Kutta solver based on Heun's method\n",
    "which is specified by \n",
    "\\begin{equation*}\n",
    "  \\begin{array}{c|cc}\n",
    "   0 & 0 & 0 \\\\ \n",
    "      1 & 1 & 0 \n",
    "        \\\\ \n",
    "      \\hline \n",
    "      & \\frac{1}{2} & \\frac{1}{2} \n",
    "\\end{array}\n",
    "\\end{equation*}\n",
    "and the ODE\n",
    "$$\n",
    "y' = \\lambda y\n",
    "$$"
   ]
  },
  {
   "cell_type": "code",
   "execution_count": null,
   "id": "incident-library",
   "metadata": {
    "slideshow": {
     "slide_type": "slide"
    }
   },
   "outputs": [],
   "source": [
    "%matplotlib widget\n",
    "# Define Butcher table for Heun\n",
    "a = np.array([[0,   0],\n",
    "              [1., 0]])\n",
    "b = np.array([1/2, 1/2.])\n",
    "c = np.array([0., 1])\n",
    "\n",
    "# Create a new Runge Kutta solver\n",
    "rk2 = ExplicitRungeKutta(a, b, c)\n",
    "\n",
    "# Initial time, stop time\n",
    "t0, T = 0, 1\n",
    "# Initial value\n",
    "y0 = 1\n",
    "# Number of steps\n",
    "Nmax = 10\n",
    "\n",
    "# rhs of IVP\n",
    "lam = 1\n",
    "f = lambda t,y: lam*y\n",
    "\n",
    "# the solver can be simply called as function:\n",
    "ts, ys = rk2(y0, t0, T, f, Nmax)"
   ]
  },
  {
   "cell_type": "code",
   "execution_count": null,
   "id": "valid-craft",
   "metadata": {
    "slideshow": {
     "slide_type": "slide"
    }
   },
   "outputs": [],
   "source": [
    "plt.plot(ts, ys, \"c--o\", label=\"$y_{\\mathrm{heun}}$\")\n",
    "plt.legend()"
   ]
  },
  {
   "cell_type": "markdown",
   "id": "surface-playlist",
   "metadata": {
    "slideshow": {
     "slide_type": "slide"
    }
   },
   "source": [
    "### Review: Runge-Kutta method with stepsize control"
   ]
  },
  {
   "cell_type": "markdown",
   "id": "thorough-tunisia",
   "metadata": {
    "slideshow": {
     "slide_type": "slide"
    }
   },
   "source": [
    "Given $t_n, \\mb{y}_n$ and a step size $\\tau_n$. \n",
    "* Do one step with the method of choice, and find an error estimate $\\mb{le}_{n+1}$. \n",
    "\n",
    "* if  $\\|\\mb{le}\\|_{n+1} < \\text{Tol}$\n",
    "\n",
    "    * Accept the solution $t_{n+1}, \\mb{y}_{n+1}$.\n",
    "\n",
    "    * If possible, use increased step size $\\tau_{n+1} := \\tau_{new}$ for the next step.\n",
    "\n",
    "* else\n",
    "\n",
    "    * Repeat the step from $(t_n,\\mb{y}_n)$ with a reduced step size $\\tau_n := \\tau_{new}$.\n",
    "\n",
    "In both cases the the new time-step suggestion $\\tau_{new}$ is computed by\n",
    "$$\n",
    "\\tau_{new} \\approx \\left( \\frac{\\text{Tol}}{\\|\\mb{le}_{n+1}\\|} \\right)^{\\frac{1}{p+1}} \\tau _{n}.\n",
    "$$"
   ]
  },
  {
   "cell_type": "markdown",
   "id": "entitled-council",
   "metadata": {
    "slideshow": {
     "slide_type": "slide"
    }
   },
   "source": [
    "A Runge - Kutta methods with an error estimate are usually called **embedded Runge - Kutta methods** or **Runge - Kutta pairs**, and\n",
    "the coefficients can be written in a Butcher tableau as follows\n",
    "\n",
    "$$\n",
    "\\begin{array}{c|ccccl}\n",
    "    c_1 & a_{11} & a_{12} & \\cdots & a_{1s} \\\\ \n",
    "    c_2 & a_{21} & a_{22} & \\cdots & a_{2s} \\\\ \n",
    "    \\vdots & \\vdots &&&\\vdots \\\\ \n",
    "    c_s & a_{s1} & a_{s2} & \\cdots & a_{ss} \\\\ \\hline\n",
    "        & b_1 & b_2 & \\cdots & b_s  & \\qquad\\text{Order $p$}\\\\ \\hline\n",
    "        & \\widehat{b}_1 & \\widehat{b_2} & \\cdots & \\widehat{b}_s  & \\qquad\\text{Order $\\widehat{p}= p+1$}\n",
    "   \\end{array}.\n",
    "$$\n",
    " "
   ]
  },
  {
   "cell_type": "markdown",
   "id": "planned-relevance",
   "metadata": {
    "slideshow": {
     "slide_type": "slide"
    }
   },
   "source": [
    "The error is simply estimated  by $$\\| \\mb{le}_{n+1}\\|$$ with \n",
    "$$ \\mb{le}_{n+1} = \\tau_n\\sum_{i=1}^s (\\widehat{b}_i - b_i)\\mb{k}_i.\n",
    "$$"
   ]
  },
  {
   "cell_type": "markdown",
   "id": "bored-forum",
   "metadata": {
    "slideshow": {
     "slide_type": "slide"
    }
   },
   "source": [
    "### Breakout session 2 (20 min): Implementing an adaptive Runge-Kutta solver\n",
    "Now we ask you to \n",
    "* Extend the Runge-Kutta class to include adaptive time-stepping\n",
    "* Run a first quick test using the example above: $y' = y$, $y(0)$ with the exact solution $y(t) = e^t$ with $tol=10^{-3}$ to see whether you get a meaningful result "
   ]
  },
  {
   "cell_type": "markdown",
   "id": "martial-price",
   "metadata": {
    "slideshow": {
     "slide_type": "slide"
    }
   },
   "source": [
    "##### Feedback: Provide link to solution code and load it"
   ]
  },
  {
   "cell_type": "code",
   "execution_count": null,
   "id": "monetary-dream",
   "metadata": {
    "slideshow": {
     "slide_type": "slide"
    }
   },
   "outputs": [],
   "source": [
    "# %load rkm.py\n",
    "import numpy as np\n",
    "from numpy.linalg import norm, solve\n",
    "import matplotlib.pyplot as plt\n",
    "\n",
    "class EmbeddedExplicitRungeKutta:\n",
    "    # TODO: Extend __init__ so that it also takes in 'bhat' and 'order' as additional argument \n",
    "    def __init__(self, a, b, c):\n",
    "        self.a = a\n",
    "        self.b = b\n",
    "        self.c = c\n",
    "        ...\n",
    "        ...\n",
    "\n",
    "    # TODO: Extend previous __call__ routine to take in toleranse tol as well:\n",
    "    def __call__(self, y0, t0, T, f, Nmax):\n",
    "        \n",
    "        # TODO: Extract Butcher table and \n",
    "        a, b, c, bhat, order = ...\n",
    "        \n",
    "        # Stages\n",
    "        s = len(b)\n",
    "        ks = [np.zeros_like(y0, dtype=np.double) for s in range(s)]\n",
    "\n",
    "        # Start time-stepping\n",
    "        ys = [y0]\n",
    "        ts = [t0]\n",
    "\n",
    "        # TODO: What is a simple choice for the initial time step?\n",
    "        dt = ...\n",
    "\n",
    "        # Counting steps\n",
    "        N = 0\n",
    "        N_rej = 0\n",
    "        \n",
    "        while(ts[-1] < T and N < Nmax):\n",
    "            t, y = ts[-1], ys[-1]\n",
    "            N += 1\n",
    "\n",
    "            # Compute stages derivatives k_j\n",
    "            for j in range(s):\n",
    "                t_j = t + c[j]*dt\n",
    "                dY_j = np.zeros_like(y, dtype=np.double)\n",
    "                for l in range(j):\n",
    "                    dY_j += a[j,l]*ks[l]\n",
    "\n",
    "                ks[j] = f(t_j, y + dt*dY_j)\n",
    "                \n",
    "            # Compute next time-step\n",
    "            dy = np.zeros_like(y, dtype=np.double)\n",
    "            for j in range(s):\n",
    "                dy += b[j]*ks[j]\n",
    "            \n",
    "            # bhat was not given then fall back to a standard RKM witu uniform step size\n",
    "            if bhat is None:\n",
    "                ys.append(y + dt*dy)\n",
    "                ts.append(t + dt)\n",
    "            # TODO: \n",
    "            # Compute yhat or dyhat, estimate error, \n",
    "            # decide whether to accept step or not, compute new time step\n",
    "            else:\n",
    "                # TODO: Compute dyhat\n",
    "                dyhat = ...\n",
    "                \n",
    "                \n",
    "                # TODO: Error estimate, use norm() function for this\n",
    "                err = ...\n",
    "\n",
    "                # TODO: Accept time-step\n",
    "                if err <= tol:\n",
    "                    ...\n",
    "                    ...\n",
    "             \n",
    "                else:\n",
    "                    print(f\"Step is rejected at t = {t} with err = {err}\")\n",
    "                    N_rej += 1\n",
    "  \n",
    "                # TODO: Compute New step size\n",
    "                dt = ...\n",
    "        \n",
    "        print(f\"Finishing time-stepping reaching t = {ts[-1]} with final time T = {T}\")\n",
    "        print(f\"Used {N} steps out of {Nmax} with {N_rej} being rejected\")\n",
    "          \n",
    "        return (np.array(ts), np.array(ys))"
   ]
  },
  {
   "cell_type": "markdown",
   "id": "surgical-ocean",
   "metadata": {
    "slideshow": {
     "slide_type": "slide"
    }
   },
   "source": [
    "**Test example 1:**\n",
    "\n",
    "$$\n",
    "y'(t) = y(t), \\quad y(0) = 1\n",
    "$$\n",
    "Solve until $T=1$ with \n",
    "and the Heun-Euler pair can be written as\n",
    "$$\n",
    "\\begin{array}{c|cc} 0 & & \\\\ 1 & 1 &   \\\\ \\hline & 1 & 0 \\\\ \\hline \\displaystyle & \\frac{1}{2} &  \\frac{1}{2} \n",
    " \\end{array}\n",
    "$$"
   ]
  },
  {
   "cell_type": "code",
   "execution_count": null,
   "id": "numeric-effectiveness",
   "metadata": {
    "slideshow": {
     "slide_type": "slide"
    }
   },
   "outputs": [],
   "source": [
    "## Test solver\n",
    "\n",
    "# Initial time, stop time\n",
    "t0, T = 0, 1\n",
    "# Initial value\n",
    "y0 = 1\n",
    "# Number of steps\n",
    "Nmax = 1000\n",
    "\n",
    "# rhs of IVP\n",
    "lam = 1\n",
    "f = lambda t,y: lam*y\n",
    "\n",
    "#Heun-Euler\n",
    "a    = np.array([[0,   0],\n",
    "                 [1., 0]])\n",
    "bhat = np.array([1/2, 1/2.])\n",
    "b    = np.array([1, 0.])\n",
    "c = np.array([0., 1])\n",
    "order = 1\n",
    "\n",
    "# Run method\n",
    "Nmax = 10000\n",
    "tol = 1.0e-2\n",
    "euler_heun = EmbeddedExplicitRungeKutta(a, b, c, bhat, order)\n",
    "ts, ys = euler_heun(y0, t0, T, f, Nmax, tol)"
   ]
  },
  {
   "cell_type": "code",
   "execution_count": null,
   "id": "liquid-korea",
   "metadata": {
    "slideshow": {
     "slide_type": "slide"
    }
   },
   "outputs": [],
   "source": [
    "%matplotlib widget\n",
    "plt.plot(ts, ys, \"-o\", label=\"$y_{heun}$\")\n",
    "plt.legend()"
   ]
  },
  {
   "cell_type": "markdown",
   "id": "annoying-macintosh",
   "metadata": {
    "slideshow": {
     "slide_type": "slide"
    }
   },
   "source": [
    "### A SIR model class\n",
    "$$\n",
    "\\begin{align}\n",
    "S' &= - \\beta  S I\n",
    "\\\\\n",
    "I' &= \\beta S I - \\gamma I\n",
    "\\\\\n",
    "R' &= \\gamma I,\n",
    "\\end{align}\n",
    "$$"
   ]
  },
  {
   "cell_type": "code",
   "execution_count": null,
   "id": "statewide-confidence",
   "metadata": {
    "slideshow": {
     "slide_type": "slide"
    }
   },
   "outputs": [],
   "source": [
    "class SIR:\n",
    "    def __init__(self, beta, gamma):\n",
    "        self.beta = beta\n",
    "        self.gamma = gamma\n",
    "    \n",
    "    def __call__(self, t, y):\n",
    "        return np.array([-self.beta*y[0]*y[1],\n",
    "                          self.beta*y[0]*y[1] - self.gamma*y[1],\n",
    "                          self.gamma*y[1]])"
   ]
  },
  {
   "cell_type": "code",
   "execution_count": null,
   "id": "brazilian-defensive",
   "metadata": {
    "slideshow": {
     "slide_type": "slide"
    }
   },
   "outputs": [],
   "source": [
    "# Data for the SIR model\n",
    "R_0 = 2\n",
    "gamma = 1/18.\n",
    "beta = R_0*gamma\n",
    "\n",
    "# Define rhs for ODE\n",
    "sir = SIR(beta=beta, gamma=gamma)\n",
    "\n",
    "# Trondheim has 200.000 inhabitants we start with 1 infected person\n",
    "I_0 = 1/200000\n",
    "S_0 = 1 - I_0\n",
    "R_0 = 0\n",
    "\n",
    "y0 = np.array([S_0, \n",
    "               I_0,\n",
    "               R_0])\n",
    "\n",
    "t, T = 0, 365 # days, we consider a whole year\n",
    "print(y0)"
   ]
  },
  {
   "cell_type": "markdown",
   "id": "gothic-nicaragua",
   "metadata": {
    "slideshow": {
     "slide_type": "slide"
    }
   },
   "source": [
    "Testing our solver using either the Heun-Euler defined by\n",
    "$$\n",
    "\\begin{array}{c|cc} 0 & & \\\\ 1 & 1 &   \\\\ \\hline & 1 & 0 \\\\ \\hline \\displaystyle & \\frac{1}{2} &  \\frac{1}{2} \n",
    " \\end{array}\n",
    "$$\n",
    "or \n",
    "the\n",
    "embedded Runge-Kutta 4(3) variant\n",
    "due to **Fehlberg**:\n",
    "$$\n",
    "\\begin{array}{c|ccccc}\n",
    "      0 & 0 & 0 & 0 & 0 & 0\n",
    "      \\\\ \n",
    "      \\frac{1}{2} & \\frac{1}{2} & 0 & 0 & 0 & 0\n",
    "      \\\\ \n",
    "      \\frac{1}{2} & 0 & \\frac{1}{2} & 0 & 0 & 0\n",
    "      \\\\\n",
    "      1 &  0 & 0 & 1 & 0 & 0\n",
    "      \\\\\n",
    "      1 & \\frac{1}{6} & \\frac{1}{3} & \\frac{1}{3} & \\frac{1}{6} & 0 \n",
    "      \\\\\n",
    "      \\hline \n",
    "      & \\frac{1}{6} & \\frac{1}{3} & \\frac{1}{3} & 0 & \\frac{1}{6} \n",
    "      \\\\\n",
    "     \\hline \n",
    "      & \\frac{1}{6} & \\frac{1}{3} & \\frac{1}{3} & \\frac{1}{6} & 0\n",
    "\\end{array}\n",
    "$$"
   ]
  },
  {
   "cell_type": "code",
   "execution_count": null,
   "id": "standing-bonus",
   "metadata": {
    "slideshow": {
     "slide_type": "slide"
    }
   },
   "outputs": [],
   "source": [
    "### NB: If your solver doesn't work just uncomment the next line\n",
    "from rkm import EmbeddedExplicitRungeKutta\n",
    "\n",
    "#Heun-Euler\n",
    "a    = np.array([[0,   0],\n",
    "                 [1., 0]])\n",
    "bhat = np.array([1/2, 1/2.])\n",
    "b    = np.array([1, 0.])\n",
    "c = np.array([0., 1])\n",
    "order = 1\n",
    "\n",
    "# Run method\n",
    "Nmax = 10000\n",
    "tol = 1.0e-4\n",
    "euler_heun = EmbeddedExplicitRungeKutta(a, b, c, bhat, order)\n",
    "ts, ys = euler_heun(y0, t0, T, sir, Nmax, tol)"
   ]
  },
  {
   "cell_type": "code",
   "execution_count": null,
   "id": "asian-device",
   "metadata": {
    "slideshow": {
     "slide_type": "slide"
    }
   },
   "outputs": [],
   "source": [
    "%matplotlib widget\n",
    "plt.plot(ts, ys, \"-\", markersize=3)\n",
    "plt.legend([\"S\", \"I\", \"R\"])"
   ]
  },
  {
   "cell_type": "code",
   "execution_count": null,
   "id": "bacterial-nylon",
   "metadata": {
    "slideshow": {
     "slide_type": "slide"
    }
   },
   "outputs": [],
   "source": [
    "#Fehlberg method\n",
    "a = np.array([[0.0, 0,   0,   0,   0],\n",
    "              [1/2, 0,   0,   0,   0],\n",
    "              [0, 1/2,   0,   0,   0],\n",
    "              [0,   0,   1,   0,   0],\n",
    "              [1/6, 1/3, 1/3, 1/6, 0]])\n",
    "b =  np.array([1/6, 1/3, 1/3, 0, 1/6])\n",
    "bhat = np.array([1/6, 1/3, 1/3, 1/6, 0])\n",
    "c = np.array([0.,\n",
    "               1/2,\n",
    "               1/2,\n",
    "               1,\n",
    "               1])\n",
    "p = 3\n",
    "fehlberg = EmbeddedExplicitRungeKutta(a, b, c, bhat, order)\n",
    "\n",
    "Nmax = 10000\n",
    "tol = 1.0e-5\n",
    "ts, ys = fehlberg(y0, t0, T, sir, Nmax, tol)"
   ]
  },
  {
   "cell_type": "code",
   "execution_count": null,
   "id": "configured-reach",
   "metadata": {
    "slideshow": {
     "slide_type": "slide"
    }
   },
   "outputs": [],
   "source": [
    "%matplotlib widget\n",
    "plt.plot(ts, ys, \"-o\", markersize=3)\n",
    "plt.legend([\"S\", \"I\", \"R\"])"
   ]
  },
  {
   "cell_type": "markdown",
   "id": "second-differential",
   "metadata": {
    "slideshow": {
     "slide_type": "slide"
    }
   },
   "source": [
    "##### Final mentimeter if time permitts\n",
    "\n",
    "* For $R_0=2$, can you find the turning, i.e. when $I(t)$ starts to decrease? What is percentage of the population that got infected after a year?\n",
    "* For $R_0=3$, can you find the turning? What is percentage of the population that got infected after a year?"
   ]
  }
 ],
 "metadata": {
  "celltoolbar": "Slideshow",
  "kernelspec": {
   "display_name": "Python 3",
   "language": "python",
   "name": "python3"
  },
  "language_info": {
   "codemirror_mode": {
    "name": "ipython",
    "version": 3
   },
   "file_extension": ".py",
   "mimetype": "text/x-python",
   "name": "python",
   "nbconvert_exporter": "python",
   "pygments_lexer": "ipython3",
   "version": "3.9.2"
  }
 },
 "nbformat": 4,
 "nbformat_minor": 5
}
