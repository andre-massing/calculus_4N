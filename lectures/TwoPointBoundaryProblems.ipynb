{
 "cells": [
  {
   "cell_type": "markdown",
   "metadata": {
    "slideshow": {
     "slide_type": "slide"
    }
   },
   "source": [
    "$\\newcommand{mb}[1]{\\mathbf{#1}}$\n",
    "\n",
    "<!-- dom:TITLE: Partial differential equations and finite difference methods. -->\n",
    "#  Finite difference methods for two-point value problems\n",
    "<!-- dom:AUTHOR: Anne Kværnø -->\n",
    "<!-- Author: -->  \n",
    "**Anne Kværnø, André Massing**\n",
    "\n",
    "Date: **April 19, 2021**"
   ]
  },
  {
   "cell_type": "code",
   "execution_count": 1,
   "metadata": {
    "slideshow": {
     "slide_type": "slide"
    }
   },
   "outputs": [
    {
     "data": {
      "text/html": [
       "<link href='http://fonts.googleapis.com/css?family=Alegreya+Sans:100,300,400,500,700,800,900,100italic,300italic,400italic,500italic,700italic,800italic,900italic' rel='stylesheet' type='text/css'> <link href='http://fonts.googleapis.com/css?family=Arvo:400,700,400italic' rel='stylesheet' type='text/css'> <link href=\"https://fonts.googleapis.com/css?family=News+Cycle\" rel=\"stylesheet\"> <link href='http://fonts.googleapis.com/css?family=Nixie+One' rel='stylesheet' type='text/css'> <link href='http://fonts.googleapis.com/css?family=PT+Mono' rel='stylesheet' type='text/css'> <link href='http://fonts.googleapis.com/css?family=Shadows+Into+Light' rel='stylesheet' type='text/css'> <link href=\"https://fonts.googleapis.com/css?family=Source+Code+Pro\" rel=\"stylesheet\"> <style> @font-face {\n",
       "    /*font-family: \"Computer Modern\";*/\n",
       "    /*src: url('http://mirrors.ctan.org/fonts/cm-unicode/fonts/otf/cmunss.otf');*/\n",
       "    font-family: 'News Cycle', sans-serif;\n",
       "}\n",
       "\n",
       "\n",
       "/* main background */\n",
       "\n",
       "\n",
       "/*#notebook_panel { \n",
       "        background: #C9D4E2;\n",
       "    }*/\n",
       "\n",
       "div.cell {\n",
       "    /*max-width:600px;*/\n",
       "    /*margin-left:16% !important;*/\n",
       "    /*margin-right:auto;*/\n",
       "}\n",
       "\n",
       "div.text_cell {\n",
       "    max-width: 120ex;\n",
       "    /* instead of 100%, */\n",
       "}\n",
       "\n",
       "div.text_cell_render {\n",
       "    font-family: 'Alegreya Sans', Computer Modern, \"Helvetica Neue\", Arial, Helvetica, Geneva,   sans-serif;\n",
       "    line-height: 135%;\n",
       "    /*font-size:    45pt;*/\n",
       "    font-size: 130%;\n",
       "    /*width:600px;*/\n",
       "    /*margin-left:auto;*/\n",
       "    /*margin-right:auto;*/\n",
       "}\n",
       "\n",
       ".CodeMirror {\n",
       "    /*font-family: 'Source Code Pro', monospace;*/\n",
       "    /*font-style: italic;*/\n",
       "    /*font-weight: bold;*/\n",
       "    /*font-size: 120%;*/\n",
       "}\n",
       "\n",
       "\n",
       "/*.prompt{\n",
       "        display: None;\n",
       "    }*/\n",
       "\n",
       ".text_cell_render h1 {\n",
       "    font-family: 'Nixie One', serifV;\n",
       "    font-style: regular;\n",
       "    font-weight: 400;\n",
       "    font-size: 45pt;\n",
       "    line-height: 100%;\n",
       "        color: #497BB9;    \n",
       "    /*color: #5889C5;*/\n",
       "    /*color: rgb(0, 51, 102);*/\n",
       "    /*font-weight: 200;*/\n",
       "    /*font-size: 50pt;*/\n",
       "    margin-bottom: 0.5em;\n",
       "    margin-top: 0.5em;\n",
       "    display: block;\n",
       "}\n",
       "\n",
       ".text_cell_render h2 {\n",
       "    font-family: 'Nixie One', serif;\n",
       "    font-weight: 400;\n",
       "    font-size: 30pt;\n",
       "    line-height: 100%;\n",
       "    /*color: rgb(0,51,102);*/\n",
       "    color: #497BB9;    \n",
       "    margin-bottom: 0.1em;\n",
       "    margin-top: 0.3em;\n",
       "    display: block;\n",
       "}\t\n",
       "\n",
       ".text_cell_render h3 {\n",
       "    font-family: 'Nixie One', serif;\n",
       "    margin-top:16px;\n",
       "    font-size: 22pt;\n",
       "    font-weight: 600;\n",
       "    margin-bottom: 3px;\n",
       "    font-style: regular;\n",
       "    color: rgb(102,102,0);\n",
       "}\n",
       "\n",
       ".text_cell_render h4 {    /*Use this for captions*/\n",
       "    font-family: 'Nixie One', serif;\n",
       "    font-size: 14pt;\n",
       "/*    text-align: center;*/\n",
       "    margin-top: 0em;\n",
       "    margin-bottom: 2em;\n",
       "    font-style: regular;\n",
       "}\n",
       "\n",
       ".text_cell_render h5 {  /*Use this for small titles*/\n",
       "    font-family: 'Nixie One', sans-serif;\n",
       "    font-weight: 400;\n",
       "    font-size: 16pt;\n",
       "    color: rgb(163,0,0);\n",
       "    /*color: #5889C5;*/\n",
       "    /*margin-bottom: .5em;\n",
       "    margin-top: 0.5em;*/\n",
       "    font-style: italic;\n",
       "    margin-bottom: .1em;\n",
       "    margin-top: 0.8em;\n",
       "    display: block;\n",
       "}\n",
       "\n",
       ".warning {\n",
       "    color: rgb( 240, 20, 20)\n",
       "}\n",
       "\n",
       "</style> \n",
       "<script>\n",
       " MathJax.Hub.Config( {\n",
       "    TeX: {\n",
       "        Macros: {\n",
       "            NN: \"{\\\\bf N}\",\n",
       "            RR: \"{\\\\mathbb{R}}\",\n",
       "            mcO: \"{\\\\mathcal{O}}\"\n",
       "        },\n",
       "        equationNumbers: { autoNumber: \"AMS\" },\n",
       "        extensions: [\"AMSmath.js\", \"begingroup.js\"] \n",
       "    },\n",
       "    tex2jax: {\n",
       "        inlineMath: [ ['$', '$'], [\"\\\\(\", \"\\\\)\"]], displayMath: [ ['$$', '$$'], [\"\\\\[\", \"\\\\]\"]]\n",
       "    },\n",
       "    displayAlign: 'center', // Change this to 'center' to center equations.\n",
       "    \"HTML-CSS\": {\n",
       "        styles: {\n",
       "            '.MathJax_Display': {\n",
       "                \"margin\": 4\n",
       "            }\n",
       "        }\n",
       "    }\n",
       "}\n",
       ");\n",
       "</script>\n"
      ],
      "text/plain": [
       "<IPython.core.display.HTML object>"
      ]
     },
     "execution_count": 1,
     "metadata": {},
     "output_type": "execute_result"
    }
   ],
   "source": [
    "from IPython.core.display import HTML\n",
    "def css_styling():\n",
    "    try:\n",
    "        with open(\"tma4125.css\", \"r\") as f:\n",
    "            styles = f.read()\n",
    "            return HTML(styles)\n",
    "    except FileNotFoundError:\n",
    "        pass #Do nothing\n",
    "\n",
    "# Comment out next line and execute this cell to restore the default notebook style \n",
    "css_styling()"
   ]
  },
  {
   "cell_type": "markdown",
   "metadata": {
    "slideshow": {
     "slide_type": "slide"
    }
   },
   "source": [
    "## Introduction\n",
    "In this note the finite difference method for solving partial differential equations\n",
    "(PDEs) will be presented. "
   ]
  },
  {
   "cell_type": "markdown",
   "metadata": {
    "slideshow": {
     "slide_type": "slide"
    }
   },
   "source": [
    "Roughly speaking, a finite difference method consists of the following steps: \n",
    "1. Discretize the domain on which the equation is defined.  \n",
    "\n",
    "2. On each grid point, replace the derivatives with an approximation, using the values in neighbouring grid points. \n",
    "\n",
    "3. Replace the exact solutions by their approximations.\n",
    "\n",
    "4. Solve the resulting system of equations. "
   ]
  },
  {
   "cell_type": "markdown",
   "metadata": {
    "slideshow": {
     "slide_type": "slide"
    }
   },
   "source": [
    "We will first see how to find approximations to the\n",
    "derivative of a function, and then how these can be used to solve boundary value\n",
    "problems like\n",
    "\n",
    "$$\n",
    "u'' + p(x) u' + q(x) u = r(x), \\qquad a \\leq x \\leq b, \\qquad u(a)=u_a, \\quad\n",
    "u(b)=u_b,\n",
    "$$\n",
    "\n",
    "and time dependent partial differential equations like the heat equation\n",
    "\n",
    "$$\n",
    "u_t = u_{xx}.\n",
    "$$\n",
    "\n",
    "The technique described here is, however, applicable to several other PDEs,\n",
    "and it is therefore important to try to understand the underlying idea."
   ]
  },
  {
   "cell_type": "markdown",
   "metadata": {
    "slideshow": {
     "slide_type": "slide"
    }
   },
   "source": [
    "## Numerical differentiation\n",
    "\n",
    "This is the main tool for finite difference methods.\n",
    "\n",
    "Given a sufficiently smooth function $u$. How can we find an approximation to\n",
    "$u'(x)$ or $u''(x)$ in some given point $x$, just by using evaluation of the\n",
    "function itself?"
   ]
  },
  {
   "cell_type": "markdown",
   "metadata": {
    "slideshow": {
     "slide_type": "slide"
    }
   },
   "source": [
    "[The derivative of\n",
    "$u$](https://wiki.math.ntnu.no/tma4100/tema/differentiation?&#definisjonen_av_den_deriverte_gitt_som_en_grenseverd)\n",
    "is defined as\n",
    "\n",
    "$$\n",
    "u'(x) = \\lim_{h\\rightarrow 0} \\frac{u(x+h)-u(x)}{h}.\n",
    "$$"
   ]
  },
  {
   "cell_type": "markdown",
   "metadata": {
    "slideshow": {
     "slide_type": "slide"
    }
   },
   "source": [
    "Given a sufficiently small value of $h$, the right hand side can be used an\n",
    "approximation to the *first derivative* $u'(x)$. A small collection of the most used approximations to the first order derivative\n",
    "$u'(x)$ is:"
   ]
  },
  {
   "cell_type": "markdown",
   "metadata": {
    "slideshow": {
     "slide_type": "fragment"
    }
   },
   "source": [
    "$$\n",
    "u'(x) \\approx \\left\\{\n",
    "   \\begin{array}{ll}\n",
    "     \\displaystyle \\frac{u(x+h)-u(x)}{h} =: \\partial^+ u(x), \\qquad & \\text{Forward difference,} \\\\ \n",
    "     \\displaystyle \\frac{u(x)-u(x-h)}{h} =: \\partial^- u(x), & \\text{Backward difference,} \\\\ \n",
    "     \\displaystyle \\frac{u(x+h)-u(x-h)}{2h} =: \\partial^{\\circ} u(x), & \\text{Central difference.}\n",
    "   \\end{array} \\right.\n",
    "$$"
   ]
  },
  {
   "cell_type": "markdown",
   "metadata": {
    "slideshow": {
     "slide_type": "fragment"
    }
   },
   "source": [
    "The first one is taken directly from the definition, and so is the second, and the\n",
    "third is just the mean of the first two."
   ]
  },
  {
   "cell_type": "markdown",
   "metadata": {
    "slideshow": {
     "slide_type": "slide"
    }
   },
   "source": [
    "A common approximation to the *second\n",
    "derivative* is\n",
    "\n",
    "$$\n",
    "u''(x) \\approx \\partial^+ \\partial^- u(x) =  \\frac{u(x+h)-2u(x)+u(x-h)}{h^2}.\n",
    "$$"
   ]
  },
  {
   "cell_type": "markdown",
   "metadata": {
    "slideshow": {
     "slide_type": "slide"
    }
   },
   "source": [
    "**Numerical example 1:**\n",
    "Test the method on the function $u(x)=\\sin(x)$ at the point $x=\\frac{\\pi}{4}$.\n",
    "Compare with the exact derivative. Try different step sizes, e.g.  $h=0.1, h=0.01, h=0.001$.\n",
    "Notice how the error in each case changes with $h$."
   ]
  },
  {
   "cell_type": "code",
   "execution_count": null,
   "metadata": {
    "slideshow": {
     "slide_type": "slide"
    }
   },
   "outputs": [],
   "source": [
    "%matplotlib inline\n",
    "\n",
    "from numpy import *               \n",
    "from scipy.sparse import diags\t        # Greate diagonal matrices\n",
    "from scipy.linalg import solve\t        # Solve linear systems\n",
    "from matplotlib.pyplot import *     \t\n",
    "from mpl_toolkits.mplot3d import Axes3D  # For 3-d plot\n",
    "from matplotlib import cm \n",
    "newparams = {'figure.figsize': (8.0, 4.0), 'axes.grid': True,\n",
    "             'lines.markersize': 8, 'lines.linewidth': 2,\n",
    "             'font.size': 14}\n",
    "rcParams.update(newparams)\n",
    "from numpy import *"
   ]
  },
  {
   "cell_type": "code",
   "execution_count": null,
   "metadata": {
    "slideshow": {
     "slide_type": "slide"
    }
   },
   "outputs": [],
   "source": [
    "# Numerical differentiation\n",
    "\n",
    "# Forward difference\n",
    "def diff_forward(u, x, h=0.1):\n",
    "    return (u(x+h)-u(x))/h\n",
    "\n",
    "# Backward difference\n",
    "def diff_backward(u, x, h=0.1):\n",
    "    return (u(x)-u(x-h))/h\n",
    " \n",
    "# Central difference for f'(x):\n",
    "def diff_central(u, x, h=0.1):\n",
    "    return (u(x+h)-u(x-h))/(2*h)\n",
    "# end of diff_central\n",
    "\n",
    "# Central difference for f''(x):\n",
    "def diff2_central(u, x, h=0.1):\n",
    "    return (u(x+h)-2*u(x)+u(x-h))/h**2\n",
    "# end of diff2_central"
   ]
  },
  {
   "cell_type": "code",
   "execution_count": null,
   "metadata": {
    "slideshow": {
     "slide_type": "slide"
    }
   },
   "outputs": [],
   "source": [
    "# Numerical example 1\n",
    "x = pi/4\n",
    "du_exact = cos(x)\n",
    "ddu_exact = -sin(x)\n",
    "h = 0.1\n",
    "u = sin\n",
    "du = diff_forward(u, x, h)\n",
    "print('Approximations to the first derivative')\n",
    "print(f'Forward difference:  du  = {du:12.8f},  Error = {du_exact-du:10.3e}')\n",
    "du = diff_backward(u, x, h)\n",
    "print(f'Backward difference: du  = {du:12.8f},  Error = {du_exact-du:10.3e}')\n",
    "du = diff_central(u, x, h)\n",
    "print(f'Central difference:  du  = {du:12.8f},  Error = {du_exact-du:10.3e}')\n",
    "print('Approximation to the second derivative') \n",
    "ddu = diff2_central(u, x, h)\n",
    "print(f'Central difference:  ddu = {ddu:12.8f}, Error = {ddu_exact-ddu:10.3e}')"
   ]
  },
  {
   "cell_type": "markdown",
   "metadata": {
    "slideshow": {
     "slide_type": "slide"
    }
   },
   "source": [
    "## Error analysis\n",
    "In this case the error analysis is quite simple: Perform a Taylor expansion of the\n",
    "error around $x$. The Taylor expansion becomes a power series in $h$."
   ]
  },
  {
   "cell_type": "markdown",
   "metadata": {
    "slideshow": {
     "slide_type": "slide"
    }
   },
   "source": [
    "The expansion for the error of the forward difference is:\n",
    "\n",
    "\\begin{align*}\n",
    "e(x;h) &= u'(x) - \\frac{u(x+h)-u(x)}{h} \n",
    "\\\\\n",
    "       &= u'(x) - \\frac{(u(x)+u'(x)h + \\frac{1}{2}u''(\\xi)h^2) - u(x)}{h}\n",
    "       \\\\\n",
    "       &= -\\frac{1}{2}u''(\\xi)h\n",
    "\\end{align*}\n",
    "\n",
    "for some $\\xi\\in (x,x+h)$.  "
   ]
  },
  {
   "cell_type": "markdown",
   "metadata": {
    "slideshow": {
     "slide_type": "slide"
    }
   },
   "source": [
    "The expansion for the error of the central difference is slightly more complicated:\n",
    "\n",
    "\\begin{align*}\n",
    "e(x; h) &= u'(x) - \\frac{u(x+h)-u(x-h)}{2h} \\\\ \n",
    "        &= u'(x) \\\\ &- \\frac{\\big(u(x)+u'(x)h + \\frac{1}{2} u''(x)h^2 + \\frac{1}{6} u'''(\\xi_1)h^3 \\big) - \\big(u(x)-u'(x)h + \\frac{1}{2} u''(x)h^2 - \\frac{1}{6} u'''(\\xi_2)h^3\\big)}{2h} \\\\ \n",
    "        &= -\\frac{1}{12}\\big(u'''(\\xi_1) + u'''(\\xi_2)\\big)h^2  \\\\ \n",
    "        &= -\\frac{1}{6}u'''(\\eta)h^2, \\qquad \\qquad \\text{ for some } \\eta \\in (x-h, x+h).\n",
    "\\end{align*}"
   ]
  },
  {
   "cell_type": "markdown",
   "metadata": {
    "slideshow": {
     "slide_type": "fragment"
    }
   },
   "source": [
    "In the last step, the two remainder terms have been combined by the intermediate value theorem. The error for the approximation of the\n",
    "second order derivative can be found in a similar manner."
   ]
  },
  {
   "cell_type": "markdown",
   "metadata": {
    "slideshow": {
     "slide_type": "slide"
    }
   },
   "source": [
    "**Problem 1**: Use Taylor expansion to show that\n",
    "for \n",
    "$u \\in C^4([a,b])$\n",
    "\n",
    "$$\n",
    " | \\partial^+ \\partial^-u(x) - u''(x) |\n",
    "=\n",
    "\\mathcal{O}(h^2).\n",
    "$$"
   ]
  },
  {
   "cell_type": "markdown",
   "metadata": {
    "slideshow": {
     "slide_type": "slide"
    }
   },
   "source": [
    "**Reminder** The order of an approximation is $p$ if there exist a constant $C$ independent on $h$ such that\n",
    "\n",
    "$$\n",
    "\\lvert e(h;x)\\rvert \\leq C h^p\n",
    "$$\n",
    "\n",
    "for all sufficiently small $h > 0$. "
   ]
  },
  {
   "cell_type": "markdown",
   "metadata": {
    "slideshow": {
     "slide_type": "slide"
    }
   },
   "source": [
    "In practice, it is sufficient to show that the power expansion of the error satisfies\n",
    "\n",
    "$$\n",
    "e(x,h)=C_ph^{p}+ C_{p+1}h^{p+1} + \\dotsm, \\qquad \\text{ with } C_p \\not=0\n",
    "$$\n",
    "\n",
    "The forward and backward approximations\n",
    "are of order 1, the central differences of order 2. \n",
    "\n",
    "We are going to use these formulas a lot in the sequel, so let us just summarize\n",
    "the results, including the error terms: "
   ]
  },
  {
   "cell_type": "markdown",
   "metadata": {
    "slideshow": {
     "slide_type": "slide"
    }
   },
   "source": [
    "**Difference formulas for derivatives:**\n",
    "\n",
    "$$\n",
    "\\begin{align*}\n",
    "   u'(x) &= \\left\\{\n",
    "   \\begin{array}{ll} \\displaystyle\n",
    "     \\underbrace{\\frac{u(x+h)-u(x)}{h}}_{\\partial^+u(x)} - \\frac{h}{2}u''(\\xi), \\ & \\text{Forward difference} \\\\ \\mbox{} \\\\ \n",
    "      \\displaystyle \n",
    "     \\underbrace{\\frac{u(x)-u(x-h)}{h}}_{\\partial^-u(x)} + \\frac{h}{2}u''(\\xi), & \\text{Backward difference} \\\\ \\mbox{} \\\\ \n",
    "     \\displaystyle\n",
    "     \\underbrace{\\frac{u(x+h)-u(x-h)}{2h}}_{\\partial^{\\circ}u(x)} - \\frac{h^2}{6}u'''(\\xi).\\qquad  & \\text{Central difference} \n",
    "   \\end{array}  \\right. \\\\ \\mbox{} \\\\ \n",
    "   u''(x) & = \n",
    "  \\underbrace{\\frac{u(x+h)-2u(x)+u(x-h)}{h^2}}_{\\partial^+\\partial^-u(x)} - \\frac{h^2}{12}u^{(4)}(\\xi), \\qquad  \n",
    "\\text{Central difference}\n",
    "\\end{align*}\n",
    "$$"
   ]
  },
  {
   "cell_type": "markdown",
   "metadata": {
    "slideshow": {
     "slide_type": "slide"
    }
   },
   "source": [
    "## Finite difference method for the 1d Poisson problem"
   ]
  },
  {
   "cell_type": "markdown",
   "metadata": {
    "slideshow": {
     "slide_type": "slide"
    }
   },
   "source": [
    "We start our journey with the the following problem.\n",
    "Let $[a,b] \\subset \\mathbb{R}$ be a finite interval, together\n",
    "with a function $f: [a, b] \\to \\mathbb{R}$. Then the _two-point\n",
    "boundary value problem_ is to find a $u: [a, b] \\to \\mathbb{R}$\n",
    "such that\n",
    "\n",
    "\\begin{gather}\n",
    "- u''(x) = f(x) \\quad \\forall x \\in (a,b),\n",
    "\\tag{1a}\n",
    "\\\\\n",
    "u(a) = u_a, \\quad  u(b) = u_b\n",
    "\\tag{1b}\n",
    "\\end{gather}\n",
    "where $u_a$ and $u_b$ are given values.\n",
    "\n",
    "__For the rest of the this section we will \n",
    "assume that $a = 0, b = 1$__"
   ]
  },
  {
   "cell_type": "markdown",
   "metadata": {
    "slideshow": {
     "slide_type": "slide"
    }
   },
   "source": [
    "Note that so this is __second order__ ordinary differential equations and thus requires two addition values to determine a solution completely, one on each boundary point.\n",
    "\n",
    "This is contrast of the second order initial value problem\n",
    "\\begin{align}\n",
    "u'' &= f(t,u(t), u'(t)) \\quad \\forall\\; t \\in (0,1)\n",
    "\\\\\n",
    "u(0) &= u_0,\n",
    "\\\\\n",
    "u'(0) &= u_1\n",
    "\\end{align}\n",
    "where we have two conditions on the left end point.\n",
    "The main reason is that in the former case, $x$ is a space variable,\n",
    "while in the latter case, $t$ is a time variable."
   ]
  },
  {
   "cell_type": "markdown",
   "metadata": {
    "slideshow": {
     "slide_type": "slide"
    }
   },
   "source": [
    "Instead of trying to compute $u(x)$ exactly,\n",
    "we will now try to compute a numerical approximation\n",
    "$u_{\\Delta}$ of $u(x)$. As many times before we start by \n",
    "defininig $n+1$ equally spaced points $\\{x_i\\}_{i=0}^n$ \n",
    "with a grid size $h = \\tfrac{b-a}{n}$ so that\n",
    "$$\n",
    "x_i := a + i h \\quad\n",
    "\\text{for } i = 0, 1, \\ldots, n.\n",
    "$$"
   ]
  },
  {
   "cell_type": "markdown",
   "metadata": {
    "slideshow": {
     "slide_type": "slide"
    }
   },
   "source": [
    "Then the second order derivative $u''$ can be approximated by the\n",
    "__central difference operator__ defined by\n",
    "\n",
    "\\begin{align}\n",
    "\\partial^+ \\partial^- u(x_i)\n",
    ":=  \\dfrac{u(x_i+h) - 2 u(x_i) + u(x_i-h)}\n",
    "{h^2}\n",
    "\\approx u''(x_i) = -f(x_i)\n",
    "\\end{align}"
   ]
  },
  {
   "cell_type": "markdown",
   "metadata": {
    "slideshow": {
     "slide_type": "slide"
    }
   },
   "source": [
    "Now the idea is to numerically solve for the two-point boundary \n",
    "value problem by associating an unknown variable $U_i := u_{\\Delta}(x_i)$ to every \n",
    "grid point $x_i$ for $i=0,\\ldots N$. Of course, the goal\n",
    "is to find an $U_i \\approx u(x_i)$. Keeping in mind that $-u'' = f$,\n",
    "we demand that at the __internal__ grid points $\\{x_i\\}_{i=1}^{N}$\n",
    "the unknows satisfy\n",
    "\n",
    "\\begin{align}\n",
    "-\\partial^+\\partial^- U_i\n",
    "=\n",
    "- \\dfrac{U_{i+1} - 2 U_i + U_{i-1}}\n",
    "{h^2}\n",
    "= f(x_i) \\quad \\text{for } i = 1,\\ldots N-1.\n",
    "\\end{align}"
   ]
  },
  {
   "cell_type": "markdown",
   "metadata": {
    "slideshow": {
     "slide_type": "slide"
    }
   },
   "source": [
    "Note that at $x_0$ and $x_N$, $\\partial^+\\partial^- U_i$ is not well-defined\n",
    "since we don't have a point left (respective right) of $x_0$ (respective $x_N$). This leads to the *non-quadratic* $N-1 \\times N+1$ linear system of the form\n",
    "\n",
    "\\begin{align}\n",
    "\\dfrac{1}{h^2}\n",
    "\\underbrace{\n",
    "\\begin{bmatrix}\n",
    "-1 & 2  & -1 & & &\n",
    "\\\\\n",
    "  & -1 & 2  & -1 & & \n",
    "\\\\\n",
    "  &    & -1 & 2 & -1 & & \n",
    "\\\\\n",
    " &     &    & \\ddots &\\ddots & \\ddots &\n",
    "\\\\\n",
    "&      &    &        &  -1 & 2 & -1\n",
    "\\end{bmatrix}\n",
    "}_{\\widetilde{A}}\n",
    "\\underbrace{\n",
    "\\begin{bmatrix}\n",
    "U_0\n",
    "\\\\\n",
    "U_1\n",
    "\\\\\n",
    "U_2\n",
    "\\\\\n",
    "U_3\n",
    "\\\\\n",
    "\\vdots\n",
    "\\\\\n",
    "U_{N}\n",
    "\\end{bmatrix}\n",
    "}_{\\widetilde{U}}\n",
    "=\n",
    "\\underbrace{\n",
    "\\begin{bmatrix}\n",
    "f(x_1)\n",
    "\\\\\n",
    "f(x_2)\n",
    "\\\\\n",
    "f(x_3)\n",
    "\\\\\n",
    "\\vdots\n",
    "\\\\\n",
    "f(x_{N-1})\n",
    "\\end{bmatrix}\n",
    "}_{\\widetilde{F}}\n",
    "\\end{align}"
   ]
  },
  {
   "cell_type": "markdown",
   "metadata": {
    "slideshow": {
     "slide_type": "slide"
    }
   },
   "source": [
    "Out of reflex we immediately ask whether this system\n",
    "is _always solvable_ and has a _unique solution_.\n",
    "Unfortunately the matrix $\\widetilde{A}$ above is non-quadratic with more columns than rows and thus has a nontrivial kernel.\n",
    "An example is $U_0 = U_1 = U_2 = \\ldots U_{N-1} = U_N = c$ for any constant $c$. That's where the boundary conditions come into play!!"
   ]
  },
  {
   "cell_type": "markdown",
   "metadata": {
    "slideshow": {
     "slide_type": "slide"
    }
   },
   "source": [
    "So to close the system, let's incorporate the boundary condition by setting\n",
    "$$\n",
    "U_0 = u_a, \\quad U_{N} = u_b.\n",
    "$$\n",
    "These trivial equations can be added to the system above,\n",
    "leading to final problem:"
   ]
  },
  {
   "cell_type": "markdown",
   "metadata": {},
   "source": [
    "Find $U = [U_0, \\ldots, U_N] \\in \\mathbb{R}^{N+1}$ such that\n",
    "\n",
    "\\begin{align}\n",
    "\\dfrac{1}{h^2}\n",
    "\\underbrace{\n",
    "\\begin{bmatrix}\n",
    "h^2\n",
    "\\\\\n",
    "-1 & 2  & -1 & & &\n",
    "\\\\\n",
    "  & -1 & 2  & -1 & & \n",
    "\\\\\n",
    "  &    & -1 & 2 & -1 & & \n",
    "\\\\\n",
    " &     &    & \\ddots &\\ddots & \\ddots &\n",
    "\\\\\n",
    "&      &    &        &  -1 & 2 & -1\n",
    "\\\\\n",
    "&      &    &        &  &  & h^2\n",
    "\\end{bmatrix}\n",
    "}_{{A}}\n",
    "\\underbrace{\n",
    "\\begin{bmatrix}\n",
    "U_0\n",
    "\\\\\n",
    "U_1\n",
    "\\\\\n",
    "U_2\n",
    "\\\\\n",
    "U_3\n",
    "\\\\\n",
    "\\vdots\n",
    "\\\\\n",
    "U_{N-1}\n",
    "\\\\\n",
    "U_{N}\n",
    "\\end{bmatrix}\n",
    "}_{{U}}\n",
    "=\n",
    "\\underbrace{\n",
    "\\begin{bmatrix}\n",
    "u_0\n",
    "\\\\\n",
    "f(x_1)\n",
    "\\\\\n",
    "f(x_2)\n",
    "\\\\\n",
    "f(x_3)\n",
    "\\\\\n",
    "\\vdots\n",
    "\\\\\n",
    "f(x_{N-1})\n",
    "\\\\\n",
    "u_b\n",
    "\\end{bmatrix}\n",
    "}_{{F}}\n",
    "\\end{align}"
   ]
  },
  {
   "cell_type": "markdown",
   "metadata": {
    "slideshow": {
     "slide_type": "slide"
    }
   },
   "source": [
    "## Implementation"
   ]
  },
  {
   "cell_type": "code",
   "execution_count": null,
   "metadata": {
    "slideshow": {
     "slide_type": "slide"
    }
   },
   "outputs": [],
   "source": [
    "import numpy as np\n",
    "import matplotlib.pyplot as plt\n",
    "\n",
    "def fdm_poisson1d_matrix(N):\n",
    "    \n",
    "    \"\"\"Computes the finite difference matrix for the Poisson problem in 1D\n",
    "\n",
    "    Parameters:\n",
    "    N (int): Number of grid points :math:`\\{x_i}_{i=0}^N` counting from 0.\n",
    "\n",
    "    Returns:\n",
    "    A (ndarray): Finite difference matrix \n",
    "\n",
    "    \"\"\"\n",
    "    # Gridsize\n",
    "    h = 1.0/N\n",
    "\n",
    "    # Define zero matrix A of right size and insert\n",
    "    A = np.zeros((N+1, N+1))\n",
    "    \n",
    "    # Define tridiagonal part of A\n",
    "    hh = h*h\n",
    "    for i in range(1, N):\n",
    "        A[i, i-1] =  -1/hh\n",
    "        A[i, i] = 2/hh\n",
    "        A[i, i+1] = -1/hh\n",
    "    \n",
    "    # Set a_00 = a_NN to 1 to incorporate boundary condition\n",
    "    A[0,0] = 1\n",
    "    A[N,N] = 1\n",
    "    \n",
    "    return A\n",
    "\n",
    "def apply_bcs(F, bcs):\n",
    "    \"Incorporate boundary condition into rhs vector\"\n",
    "    F[0], F[-1] = bcs[0], bcs[1] "
   ]
  },
  {
   "cell_type": "code",
   "execution_count": null,
   "metadata": {
    "slideshow": {
     "slide_type": "slide"
    }
   },
   "outputs": [],
   "source": [
    "# Import linear algebra module\n",
    "import scipy.linalg as la\n",
    "\n",
    "# Analytical reference solution\n",
    "u = lambda x: np.sin(2*np.pi*x) \n",
    "f = lambda x: (2*np.pi)**2*np.sin(2*np.pi*x) \n",
    "\n",
    "N = 10\n",
    "\n",
    "# Define grid points\n",
    "x = np.linspace(0, 1, N+1)\n",
    "xfine = np.linspace(0, 1, 10*N)\n",
    "\n",
    "# Compute A and F\n",
    "A = fdm_poisson1d_matrix(N)\n",
    "F = f(x)\n",
    "\n",
    "# Incorporate bcs \n",
    "bcs = [u(0), u(1)]\n",
    "apply_bcs(F, bcs)\n",
    "\n",
    "# Solve AU = F\n",
    "# (We will introduce a sparse solver when we look at 2D problems)\n",
    "U = la.solve(A, F)"
   ]
  },
  {
   "cell_type": "code",
   "execution_count": null,
   "metadata": {
    "slideshow": {
     "slide_type": "slide"
    }
   },
   "outputs": [],
   "source": [
    "# Plot discrete solution on chosen discretization grid\n",
    "plt.plot(x, U, \"or\", label=\"U_i\")\n",
    "plt.plot(xfine, u(xfine), \"--b\", label=\"$u_{\\mathrm{ex}}$\")\n",
    "plt.legend()\n",
    "# Show figure (for non inline plotting)\n",
    "plt.show()"
   ]
  },
  {
   "cell_type": "markdown",
   "metadata": {
    "slideshow": {
     "slide_type": "slide"
    }
   },
   "source": [
    "**Problem 2** \n",
    "\n",
    "Apply the method of __manufactured solutions__: Take a known function $u(x)$ and \n",
    "compute corresponding data $f$ and $u_a$, $u_b$ such that $u$ is the solution to \n",
    "the two-point two-point boundary problem (1a)--(1b).\n",
    "\n",
    "For example you can pick $u(x) = \\cos(2\\pi x)$. What is then $f = - u''$,\n",
    "$u_a = u(0)$, $u_b = u(1)$?\n",
    "\n",
    "After having picked your favorite (smooth) manufactured solution,\n",
    "you can compute the error \n",
    "$$\n",
    "\\mathrm{err(h)} = \\mathrm{err(N)} = \\max_{i \\in \\{0,\\ldots N\\}}|U_i - u(x_i)|\n",
    "$$\n",
    "as a function of $h = 1/N$.\n",
    "\n",
    "For $N_1 = 5, N_2= 10, N_3 = 20, N_4 = 40, N_5 =80$\n",
    "* compute and plot the numerical solution and the analytical solution\n",
    "* record the resulting $\\mathrm{err(N)}$\n",
    "\n",
    "At the end of your experiment, compute the __experimental order of convergence__ \n",
    "for each refinement level $N_2, \\ldots, N_5$ defined\n",
    "$$\n",
    "EOC(N_i) = \\dfrac{\\log(\\mathrm{err}(N_i)) - \\log(\\mathrm{err}(N_{i-1}))}\n",
    "{\\log(N_{i-1}) - \\log(N_i)}\n",
    "$$\n",
    "\n",
    "What order of convergence do you expect and what do you get?"
   ]
  },
  {
   "cell_type": "markdown",
   "metadata": {
    "slideshow": {
     "slide_type": "slide"
    }
   },
   "source": [
    "## General two point boundary problems (BVP)"
   ]
  },
  {
   "cell_type": "markdown",
   "metadata": {
    "slideshow": {
     "slide_type": "slide"
    }
   },
   "source": [
    "In the following, we will discuss the numerical solution\n",
    "of a two-point boundary value problem of the form\n",
    "\n",
    "$$\n",
    "u'' + p(x) u' + q(x) u = r(x), \\qquad a \\leq x \\leq b, \\qquad u(a)=u_a, \\quad u(b)=u_b,\n",
    "$$\n",
    "\n",
    "where $p$, $q$ are given functions of $x$ and the boundary values $u_a$ and $u_a$ are given constants.\n",
    "\n",
    "As before, a finite difference method for this problem is constructed with the following steps:  "
   ]
  },
  {
   "cell_type": "markdown",
   "metadata": {
    "slideshow": {
     "slide_type": "slide"
    }
   },
   "source": [
    "**Step 1:**\n",
    "Given the interval $[a,b]$. Choose some $N \\in \\mathbb{N}$, define the step size $h=(b-a)/N$, and\n",
    "the grid points $x_i=a+ih$, $i=0,1,\\dotsc,N$. "
   ]
  },
  {
   "cell_type": "markdown",
   "metadata": {
    "slideshow": {
     "slide_type": "slide"
    }
   },
   "source": [
    "**Step 2:**\n",
    "For each interior grid point $x_i$, $i=1,\\dotsc,N-1$, replace the derivatives by their approximations in the BVP. The result is:\n",
    "\n",
    "$$\n",
    "\\frac{u(x_i+h)-2u(x_i)+u(x_i-h)}{h^2} + p(x_i) \\frac{u(x_i+h)-u(x_i-h)}{2h} + q(x_i) u(x_i) + \\mathcal{O}(h^2) = r(x_i)\n",
    "$$\n",
    "\n",
    "for each $i=1,2\\dotsc,N-1$, and the term $\\mathcal{O}(h^2)$ represents the errors in the difference formulas. "
   ]
  },
  {
   "cell_type": "markdown",
   "metadata": {
    "slideshow": {
     "slide_type": "slide"
    }
   },
   "source": [
    "**Step 3:** Ignore the error term, and replace the exact solution $u(x_i)$ by its numerical (and still unknown) approximation $U_i$:\n",
    "\n",
    "$$\n",
    "\\frac{U_{i+1}-2U_i+U_{i-1}}{h^2} + p(x_i)\\frac{U_{i+1}-U_{i-1}}{2h} + q(x_i) U_i =  r(x_i), \\qquad i=1,\\dotsc,N-1.\n",
    "$$\n",
    "\n",
    "This is the *discretization* of the BVP. "
   ]
  },
  {
   "cell_type": "markdown",
   "metadata": {
    "slideshow": {
     "slide_type": "slide"
    }
   },
   "source": [
    "If we now include the two boundary values as equations\n",
    "\n",
    "$$\n",
    "U_0 = u_a\n",
    "\\qquad\\text{ and }\\qquad\n",
    "U_N = u_b,\n",
    "$$\n",
    "\n",
    "the discretization is a linear system of equations\n",
    "\n",
    "$$\n",
    "A \\mb{U} = \\mb{b},\n",
    "$$\n",
    "\n",
    "where $A$ is an $(N+1)\\times (N+1)$ matrix and  $\\mb{U} = [U_0,\\dotsc,U_{N}]^T$. Or more specific, by multiplying the equations by $h^2$ we end up with:"
   ]
  },
  {
   "cell_type": "markdown",
   "metadata": {
    "slideshow": {
     "slide_type": "slide"
    }
   },
   "source": [
    "$$\n",
    "A =  \\left[ \\begin{array}{ccccccc}\n",
    "      1 & 0 & &  \\\\ \n",
    "      v_1 & d_1 & w_1 & & &  \\\\ \n",
    "        & v_2 & d_2 & w_2 &  \\\\ \n",
    "        & & v_3 & \\ddots & \\ddots & \\\\ \n",
    "        & & & \\ddots & \\ddots & w_{N-2} \\\\ \n",
    "        & & & & v_{N-1} & d_{N-1} & w_{N-1}  \\\\ \n",
    "        & & & & &  0 & 1\n",
    "    \\end{array} \\right]\n",
    "    \\qquad \\text{with} \\qquad\n",
    "    \\begin{array}{l}\n",
    "    \\displaystyle v_i =1-\\frac{h}{2}p(x_i) \\\\ \n",
    "    \\displaystyle d_i = -2 + h^2q(x_i) \\\\ \n",
    "    \\displaystyle w_i = 1+\\frac{h}{2}p(x_i)\n",
    "    \\end{array}.\n",
    "$$"
   ]
  },
  {
   "cell_type": "markdown",
   "metadata": {
    "slideshow": {
     "slide_type": "slide"
    }
   },
   "source": [
    "The right hand side $\\mb{b}$ is given by\n",
    "\n",
    "$$\n",
    "\\mb{b} = [u_a, h^2r(x_1), \\dotsc, h^2r(x_{N-1}), u_b]^T.\n",
    "$$\n",
    "\n",
    "Obviously, the first and last equations are trivial to solve, and are therefore often included in the right hand side."
   ]
  },
  {
   "cell_type": "markdown",
   "metadata": {
    "slideshow": {
     "slide_type": "slide"
    }
   },
   "source": [
    "**Step 4:** Solve  $A \\mb{U} = \\mb{b}$ with respect to $\\mb{U}$."
   ]
  },
  {
   "cell_type": "markdown",
   "metadata": {
    "slideshow": {
     "slide_type": "slide"
    }
   },
   "source": [
    "**Example 1:**\n",
    "We consider the equation\n",
    "\n",
    "$$\n",
    "u'' + 2u' - 3u = 9x, \\qquad u(0)=u_a = 1, \\quad u(1)=u_b = e^{-3}+2e-5\\approx 0.486351,\n",
    "$$\n",
    "\n",
    "with exact solution $u(x)= e^{-3x}+2e^{x}-3x-2$."
   ]
  },
  {
   "cell_type": "markdown",
   "metadata": {
    "slideshow": {
     "slide_type": "slide"
    }
   },
   "source": [
    "Choose $N$, let $h=1/N$. Use the central differences for $u'$ and $u''$, such that\n",
    "\n",
    "$$\n",
    "\\frac{u(x_i+h)-2u(x_i)+u(x_i-h)}{h^2} + 2 \\frac{u(x_i+h)-u(x_i-h)}{2h} -3\n",
    "u(x_i) + \\mathcal{O}(h^2) =  9 x_i, \\qquad i=1,\\dotsc, N.\n",
    "$$"
   ]
  },
  {
   "cell_type": "markdown",
   "metadata": {
    "slideshow": {
     "slide_type": "slide"
    }
   },
   "source": [
    "Let $U_i \\approx u(x_i)$. Multiply by $h^2$ on both sides, include $U_0=u_a$ og $U_N=u_b$ and clean the mess:\n",
    "\n",
    "$$\n",
    "\\begin{align*}\n",
    " U_0 &= 1, \\\\ \n",
    " (1-h)U_{i-1} + (-2-3h^2)U_i + (1+h)U_{i+1} &= 9x_ih^2, && i=1, \\ldots, N-1, \\\\ \n",
    " U_N &= 0.486351.\n",
    "\\end{align*}\n",
    "$$"
   ]
  },
  {
   "cell_type": "markdown",
   "metadata": {
    "slideshow": {
     "slide_type": "slide"
    }
   },
   "source": [
    "To be even more concrete, for $N=4$, we get $h=0.25$. The linear system of equations becomes\n",
    "\n",
    "$$\n",
    "\\left( \\begin{array}{ccccc}\n",
    "  1 & 0 & 0 & 0 & 0\\\\ \n",
    "  0.75 & -2.1875 & 1.25 & 0 & 0\\\\ \n",
    "  0 & 0.75 & -2.1875 & 1.25 & 0\\\\ \n",
    "  0 & 0 & 0.75 & -2.1875 & 1.25 \\\\ \n",
    "  0 & 0 & 0 & 0 & 1\n",
    "\\end{array} \\right) \n",
    "\\left(\\begin{array}{c} U_0 \\\\ U_1 \\\\ U_2 \\\\ U_3 \\\\ U_4\n",
    "\\end{array} \\right)\n",
    "=\n",
    "\\left( \\begin{array}{c} 1. \\\\ 0.140625 \\\\ 0.28125  \\\\  0.421875 \\\\  0.48635073\n",
    "\\end{array} \\right).\n",
    "$$"
   ]
  },
  {
   "cell_type": "markdown",
   "metadata": {
    "slideshow": {
     "slide_type": "slide"
    }
   },
   "source": [
    "The first and the last equation is trivial to solve, so in practice you have a system of 3 equations in 3 unknowns,\n",
    "\n",
    "$$\n",
    "\\left(\\begin{array}{ccc}\n",
    "   -2.1875 & 1.25 & 0 \\\\ \n",
    "  0.75 & -2.1875 & 1.25 \\\\ \n",
    "   0 & 0.75 & -2.1875\n",
    "\\end{array} \\right)\n",
    "\\left( \\begin{array}{c} U_1 \\\\ U_2 \\\\ U_3  \\end{array} \\right) =\n",
    "\\left( \\begin{array}{c} 0.140625-0.75\\cdot 1 \\\\ 0.28125  \\\\  0.421875-1.25 \\cdot\n",
    "0.48635073  \\end{array} \\right),\n",
    "$$"
   ]
  },
  {
   "cell_type": "markdown",
   "metadata": {
    "slideshow": {
     "slide_type": "fragment"
    }
   },
   "source": [
    "with the solution\n",
    "\n",
    "$$\n",
    "U_1 \\approx 0.293176, \\qquad U_2 \\approx 0.025557, \\qquad  U_3 \\approx 0.093820.\n",
    "$$"
   ]
  },
  {
   "cell_type": "markdown",
   "metadata": {
    "slideshow": {
     "slide_type": "fragment"
    }
   },
   "source": [
    "For comparison, the analytic solution in these points is\n",
    "\n",
    "$$\n",
    "u(0.25) \\approx 0.290417, \\qquad u(0.5) \\approx 0.020573, \\qquad u(0.75) \\approx\n",
    "0.089400.\n",
    "$$"
   ]
  },
  {
   "cell_type": "markdown",
   "metadata": {
    "slideshow": {
     "slide_type": "slide"
    }
   },
   "source": [
    "## Implementation\n",
    "For simplicity, the implementation below is only done for BVPs with constant\n",
    "coefficients, that is $p(x)=p$ and $q(x)=q$. This makes the diagonal, sub- and\n",
    "super-diagonals constant, except at the first and the last row.  \n",
    "An extra function is included to construct *tridiagonal* matrices,\n",
    "that is, matrices where all entries outside the diagonal, sub-diagonal,\n",
    "and super-diagonal are equal to zero."
   ]
  },
  {
   "cell_type": "markdown",
   "metadata": {
    "slideshow": {
     "slide_type": "slide"
    }
   },
   "source": [
    "The implementation consist of:\n",
    "1. Choose $N$, let $h=(b-a)/N$ and $x_i=a+ih$, $i=0,\\dotsc,N$.\n",
    "\n",
    "2. Construct the matrix $A\\in \\mathbb{R}^{(N+1)\\times (N+1)}$ and the vector $b\\in\\mathbb{R}^{N+1}$. The matrix $A$ is tridiagonal, and except from the first and last row, has the elements  $v=1-\\frac{h}{2}p$ below the diagonal, $d = -2 + h^2 q$ as diagonal elements and  $w = 1+\\frac{h}{2}p$ above the diagonal. \n",
    "\n",
    "3. Construct the vector $\\mb{b} = [b_0,\\dotsc,b_N]^T$ with elements $b_i=h^2r(x_i)$ for $i=1,\\dotsc,N-1$.\n",
    "\n",
    "4. Modify the first and the last row of the matrix $A$ and the first and last element of the vector $\\mb{b}$, depending on the boundary conditions. \n",
    "\n",
    "5. Solve the system $A\\mb{U} = \\mb{b}$."
   ]
  },
  {
   "cell_type": "code",
   "execution_count": null,
   "metadata": {
    "slideshow": {
     "slide_type": "slide"
    }
   },
   "outputs": [],
   "source": [
    "def tridiag(v, d, w, N):\n",
    "    '''\n",
    "    Help function \n",
    "    Returns a tridiagonal matrix A=tridiag(v, d, w) of dimension N x N.\n",
    "    '''\n",
    "    \n",
    "    e = ones(N)        # array [1,1,...,1] of length N\n",
    "    A = v*diag(e[1:],-1)+d*diag(e)+w*diag(e[1:],1)\n",
    "    return A"
   ]
  },
  {
   "cell_type": "code",
   "execution_count": null,
   "metadata": {
    "slideshow": {
     "slide_type": "fragment"
    }
   },
   "outputs": [],
   "source": [
    "diag?"
   ]
  },
  {
   "cell_type": "code",
   "execution_count": null,
   "metadata": {
    "slideshow": {
     "slide_type": "slide"
    }
   },
   "outputs": [],
   "source": [
    "# Example 1, BVP\n",
    "\n",
    "# Define the equation \n",
    "# u'' + p*u' + q*u = r(x) on the interval [a,b]\n",
    "# Boundary condition: u(a)=ua and u(b)=ub\n",
    "\n",
    "p = 2\n",
    "q = -3\n",
    "def r(x):\n",
    "    return 9*x\n",
    "a, b = 0, 1\n",
    "ua, ub = 1, exp(-3)+2*exp(1)-5\n",
    "\n",
    "# The exact solution (if known)\n",
    "def u_eksakt(x):\n",
    "    return exp(-3*x)+2*exp(x)-3*x-2\n",
    "\n",
    "# Set up the discrete system\n",
    "N = 4                      # Number of intervals                  \n",
    "\n",
    "# Start the discretization  \n",
    "h = (b-a)/N                # Stepsize\n",
    "x = linspace(a, b, N+1)    # The gridpoints x_0=a, x_1=a+h, .... , x_N=b \n",
    "\n",
    "# Make a draft of the A-matrix (first and last row have to be adjusted)\n",
    "v = 1-0.5*h*p              # Subdiagonal\n",
    "d = -2+h**2*q              # Diagonal\n",
    "w = 1+0.5*h*p              # Superdiagonal\n",
    "A = tridiag(v, d, w, N+1)  \n",
    "\n",
    "# Make a draft of the b-vector\n",
    "b = h**2*r(x)  \n",
    "\n",
    "# Modify the first equation (left boundary) \n",
    "A[0,0] = 1\n",
    "A[0,1] = 0\n",
    "b[0] = ua\n",
    "        \n",
    "# Modify the last equation (right boundary)   \n",
    "A[N,N] = 1              \n",
    "A[N,N-1] = 0\n",
    "b[N] = ub\n",
    "\n",
    "\n",
    "U = solve(A, b)     #  Solve the equation"
   ]
  },
  {
   "cell_type": "markdown",
   "metadata": {
    "slideshow": {
     "slide_type": "slide"
    }
   },
   "source": [
    "To verify the calculations done above, print the matrix $A$, the vector $\\mb{b}$ and the numerical solution $\\mb{U}$."
   ]
  },
  {
   "cell_type": "code",
   "execution_count": null,
   "metadata": {
    "slideshow": {
     "slide_type": "fragment"
    }
   },
   "outputs": [],
   "source": [
    "# Print the matrix A, the right hand side b the numerical and exact solution\n",
    "print('A =\\n', A)                 \n",
    "print('\\nb =\\n ', b)\n",
    "print('\\nU =\\n ', U)\n",
    "print('\\nu(x)=\\n', u_eksakt(x))"
   ]
  },
  {
   "cell_type": "code",
   "execution_count": null,
   "metadata": {
    "slideshow": {
     "slide_type": "slide"
    }
   },
   "outputs": [],
   "source": [
    "# Plot the solution of the BVP\n",
    "xe = linspace(0,1,101)\n",
    "plot(x,U,'.-')\n",
    "plot(xe, u_eksakt(xe),':')              \n",
    "xlabel('x')\n",
    "ylabel('u')\n",
    "legend(['Numerical','Exact'])\n",
    "title('Solution of a two-point BVP');"
   ]
  },
  {
   "cell_type": "code",
   "execution_count": null,
   "metadata": {
    "slideshow": {
     "slide_type": "slide"
    }
   },
   "outputs": [],
   "source": [
    "# Plot the error |u(x)-U| in the gridpoints\n",
    "error = abs(u_eksakt(x)-U)\n",
    "plot(x, error,'.-')\n",
    "xlabel('x')\n",
    "ylabel('error')\n",
    "title('Error: u(x)-U');\n",
    "print('Max error = {:.3e}'.format(max(abs(error))))"
   ]
  },
  {
   "cell_type": "markdown",
   "metadata": {
    "slideshow": {
     "slide_type": "slide"
    }
   },
   "source": [
    "## Boundary conditions\n",
    "\n",
    "To get a unique solution of a BVP (or a PDE), some information about the\n",
    "solution, usually given on the boundaries has to be known. The most common boundary conditions are:\n",
    "1. Dirichlet condition: The solution is known at the boundary.\n",
    "\n",
    "2. Neumann condition: The derivative is known at the boundary.\n",
    "\n",
    "3. Robin (or mixed) condition: A combination of those."
   ]
  },
  {
   "cell_type": "markdown",
   "metadata": {
    "slideshow": {
     "slide_type": "slide"
    }
   },
   "source": [
    "In the example above, Dirichlet conditions were used. We will now see\n",
    "how to handle Neumann conditions. Robin conditions can be treated similarly. \n",
    "\n",
    "Given the BVP with a Neumann condition at the left boundary:\n",
    "\n",
    "$$\n",
    "u'' + p(x) u' + q(x) u = r(x), \\qquad a \\leq x \\leq b, \\qquad u'(a)=u'_a,\n",
    "\\quad u(b)=u_b.\n",
    "$$"
   ]
  },
  {
   "cell_type": "markdown",
   "metadata": {
    "slideshow": {
     "slide_type": "slide"
    }
   },
   "source": [
    "Here, $u'_a$ is some given value. In this case, the solution $u(a)$ and its\n",
    "corresponding approximation $U_0$ are unknown, and we need some difference\n",
    "formula also for the point $a=x_0$. The simplest option is to use a forward\n",
    "difference\n",
    "\n",
    "$$\n",
    "u'_a = \\frac{u(x_1)-u(x_0)}{h} + \\mathcal{O}(h) \\qquad \\text{ resulting in }\\qquad\n",
    "   \\frac{U_1-U_0}{h} = u'_a\n",
    "$$"
   ]
  },
  {
   "cell_type": "markdown",
   "metadata": {
    "slideshow": {
     "slide_type": "slide"
    }
   },
   "source": [
    "But this is only a first order approximation, and thus lower accuracy is to be\n",
    "expected. We could also use a second order approximation using the values in the\n",
    "grid points $x_0$, $x_1$ and $x_2$, but this will ruin the nice tridiagonal\n",
    "structure of the coefficient matrix. "
   ]
  },
  {
   "cell_type": "markdown",
   "metadata": {
    "slideshow": {
     "slide_type": "slide"
    }
   },
   "source": [
    "Instead, use the idea of a *false\n",
    "boundary*: "
   ]
  },
  {
   "cell_type": "markdown",
   "metadata": {
    "slideshow": {
     "slide_type": "slide"
    }
   },
   "source": [
    "Assume that the solution can be stretched outside the boundary $x=a$, all the\n",
    "way to a fictitious grid point $x_{-1}=a-h$, where we also assume there is an\n",
    "approximate and equally fictitious approximation $U_{-1}$ to $u(x_{-1})$. Then\n",
    "we have two difference formulas in the point $a$, one for the BVP itself\n",
    "and a central difference for the boundary conditions:"
   ]
  },
  {
   "cell_type": "markdown",
   "metadata": {
    "slideshow": {
     "slide_type": "slide"
    }
   },
   "source": [
    "$$\n",
    "\\begin{align*}\n",
    "   \\frac{U_{1}-2U_0+U_{-1}}{h^2} + p(x_0)\\frac{U_{1}-U_{-1}}{2h} +    q(x_0) U_0 & =  r(x_0), \\\\ \n",
    "   \\frac{U_1 - U_{-1}}{2h} &= u'_a.\n",
    "\\end{align*}\n",
    "$$"
   ]
  },
  {
   "cell_type": "markdown",
   "metadata": {
    "slideshow": {
     "slide_type": "fragment"
    }
   },
   "source": [
    "We can now solve the second equation with respect to $U_{-1}$, and insert the\n",
    "solution into the first equation. This yields the new equation\n",
    "\n",
    "$$\n",
    "\\frac{2U_1-2U_0-2hu'_a}{h^2} + p(x_0)u'_a + q(x_0)U_0 = r(x_0).\n",
    "$$"
   ]
  },
  {
   "cell_type": "markdown",
   "metadata": {
    "slideshow": {
     "slide_type": "slide"
    }
   },
   "source": [
    "So the only thing that has changed is the first equation. And since central differences have been used both for the BVP and the boundary condition, the overall order of this approximation can be proved to be 2.  "
   ]
  },
  {
   "cell_type": "markdown",
   "metadata": {
    "slideshow": {
     "slide_type": "slide"
    }
   },
   "source": [
    "**Example 2:**\n",
    "\n",
    "We consider the same example as before, but now with a Neumann condition at the left\n",
    "boundary:\n",
    "\n",
    "$$\n",
    "u'' + 2u' - 3u = 9x, \\qquad u'(0)=u'_a =-4, \\quad u(1)=u_b = -2e^{-3}+e-5 \\approx\n",
    "0.48635073,\n",
    "$$\n",
    "\n",
    "which has the analytic solution $u(x)= e^{-3x}-2e^{x}-3x-2$.\n",
    "\n",
    "The modified difference equation at the boundary $x_0=0$ is\n",
    "\n",
    "$$\n",
    "\\frac{2U_1-2U_0-2u'_a h}{h^2} +2u'_a - 3U_0 = 0.\n",
    "$$"
   ]
  },
  {
   "cell_type": "markdown",
   "metadata": {
    "slideshow": {
     "slide_type": "slide"
    }
   },
   "source": [
    "We multiply this equation by $h^2$, and include the equation as the \n",
    "discretization for the grid point $x_0$.\n",
    "With this, we obtain the system\n",
    "\n",
    "$$\n",
    "\\begin{align*}\n",
    " (-2-3h^2)U_0 - 2U_1 &= (2h-2h^2)u'_a, \\\\ \n",
    " (1-h)U_{i-1} + (-2-3h^2)U_i + (1+h)U_{i+1} &= 9 h^2 x_i, && i=1, \\ldots N-1, \\\\ \n",
    " U_N &= u_b,\n",
    "\\end{align*}\n",
    "$$\n",
    "\n",
    "which, for $N=4$ and $h=0.25$ becomes"
   ]
  },
  {
   "cell_type": "markdown",
   "metadata": {
    "slideshow": {
     "slide_type": "slide"
    }
   },
   "source": [
    "$$\n",
    "\\left( \\begin{array}{ccccc}\n",
    "  -2.1875 & 2 & 0 & 0 & 0  \\\\ \n",
    "  0.75 & -2.1875 & 1.25 & 0 & 0 \\\\ \n",
    " 0 & 0.75 & -2.1875 & 1.25 & 0 \\\\ \n",
    " 0 & 0 & 0.75 & -2.1875 & 1.25 \\\\ \n",
    " 0 & 0 & 0 & 0 & 1 \\\\ \n",
    "\\end{array}\\right)\\left(\\begin{array}{c} U_{0} \\\\ U_1 \\\\ U_2 \\\\ U_3 \\\\ U_4\n",
    "\\end{array}\\right) = \\left(\\begin{array}{c} -1.5  \\\\ 0.140625  \\\\  0.28125  \\\\ \n",
    "0.421875  \\\\  0.48635073 \\end{array} \\right).\n",
    "$$"
   ]
  },
  {
   "cell_type": "markdown",
   "metadata": {
    "slideshow": {
     "slide_type": "slide"
    }
   },
   "source": [
    "The solution of this is\n",
    "\n",
    "$$\n",
    "U_0 \\approx 0.92103219, \\quad U_1 \\approx 0.25737896, \\quad  U_2 \\approx 0.01029386, \\qquad U_3 \\approx 0.08858688.\n",
    "$$"
   ]
  },
  {
   "cell_type": "markdown",
   "metadata": {
    "slideshow": {
     "slide_type": "slide"
    }
   },
   "source": [
    "**Problem 3:**\n",
    "##### TODO Add problem with different bc"
   ]
  }
 ],
 "metadata": {
  "kernelspec": {
   "display_name": "Python 3",
   "language": "python",
   "name": "python3"
  },
  "language_info": {
   "codemirror_mode": {
    "name": "ipython",
    "version": 3
   },
   "file_extension": ".py",
   "mimetype": "text/x-python",
   "name": "python",
   "nbconvert_exporter": "python",
   "pygments_lexer": "ipython3",
   "version": "3.9.4"
  }
 },
 "nbformat": 4,
 "nbformat_minor": 4
}
