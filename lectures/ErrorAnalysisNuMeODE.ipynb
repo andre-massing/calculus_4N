{
 "cells": [
  {
   "cell_type": "markdown",
   "id": "imposed-artwork",
   "metadata": {},
   "source": [
    "<!-- File automatically generated using DocOnce (https://github.com/doconce/doconce/):\n",
    "doconce format ipynb ErrorAnalysisNuMeODE.do.txt KODE=ja SPLITSEC=yes --skip_inline_comments --ipynb_disable_mpl_inline -->\n",
    "\n",
    "<!-- KODE = \"ja\", \"nei\", default \"ja\" -->"
   ]
  },
  {
   "cell_type": "markdown",
   "id": "dedicated-firewall",
   "metadata": {},
   "source": [
    "# Numerical solution of ordinary differential equations: One step methods\n",
    "**André Massing**\n",
    "\n",
    "If you want to have a nicer theme for your jupyter notebook,\n",
    "download the [cascade stylesheet file calculus4N.css](https://www.math.ntnu.no/emner/TMA4130/2021h/lectures/calculus4N.css)\n",
    "and execute the next cell:"
   ]
  },
  {
   "cell_type": "code",
   "execution_count": null,
   "id": "established-expression",
   "metadata": {},
   "outputs": [],
   "source": [
    "from IPython.core.display import HTML\n",
    "def css_styling():\n",
    "    try:\n",
    "        fname = \"calculus4N.css\"\n",
    "        with open(fname, \"r\") as f:\n",
    "            styles = f.read()\n",
    "            return HTML(styles)\n",
    "    except FileNotFoundError:\n",
    "        print(f\"Could not find css file '{fname}'\")\n",
    "\n",
    "# Comment out next line and execute this cell to restore the default notebook style \n",
    "css_styling()"
   ]
  },
  {
   "cell_type": "markdown",
   "id": "dense-tucson",
   "metadata": {},
   "source": [
    "As always, we start by importing the necessary modules:"
   ]
  },
  {
   "cell_type": "code",
   "execution_count": null,
   "id": "republican-country",
   "metadata": {},
   "outputs": [],
   "source": [
    "import numpy as np\n",
    "from numpy import pi\n",
    "from numpy.linalg import solve, norm    \n",
    "import matplotlib.pyplot as plt\n",
    "\n",
    "# Do a pretty print of the tables using panda\n",
    "import pandas as pd\n",
    "from IPython.display import display\n",
    "\n",
    "# Use a funny plotting style\n",
    "plt.xkcd()\n",
    "newparams = {'figure.figsize': (6.0, 6.0), 'axes.grid': True,\n",
    "             'lines.markersize': 8, 'lines.linewidth': 2,\n",
    "             'font.size': 14}\n",
    "plt.rcParams.update(newparams)"
   ]
  },
  {
   "cell_type": "markdown",
   "id": "widespread-hospital",
   "metadata": {},
   "source": [
    "# One Step Methods\n",
    "\n",
    "In the last lecture, we introduced the explicit Euler method\n",
    "and Heun's method. Both methods only need to know $f$, $\\tau_k$\n",
    "and the solution $y_k$ at the *current* point $t_k$,\n",
    "but not at earlier points $t_{k-1}, t_{k-2}, \\ldots$.\n",
    "This motivates the following definition."
   ]
  },
  {
   "cell_type": "markdown",
   "id": "preceding-controversy",
   "metadata": {},
   "source": [
    "## Definition 1: One step methods\n",
    "\n",
    "A one step method defines an approximation to the IVP\n",
    "in the form of a discrete function\n",
    "$\n",
    "{\\boldsymbol y}_{\\Delta}:\n",
    "\\{\n",
    "t_0, \\ldots, t_N\n",
    "\\} \\to \\mathbb{R}^n\n",
    "$\n",
    "given by"
   ]
  },
  {
   "cell_type": "markdown",
   "id": "lightweight-witch",
   "metadata": {},
   "source": [
    "<!-- Equation labels as ordinary links -->\n",
    "<div id=\"ode:eq:osm-def\"></div>\n",
    "\n",
    "$$\n",
    "\\begin{equation}\n",
    "{\\boldsymbol y}_{k+1}\n",
    ":=\n",
    "{\\boldsymbol y}_k\n",
    "+\n",
    "\\tau_k\n",
    "\\Phi(t_k,\n",
    "{\\boldsymbol y}_{k},\n",
    "{\\boldsymbol y}_{k+1},\n",
    "\\tau_{k})\n",
    "\\label{ode:eq:osm-def} \\tag{1}\n",
    "\\end{equation}\n",
    "$$"
   ]
  },
  {
   "cell_type": "markdown",
   "id": "lesbian-firmware",
   "metadata": {},
   "source": [
    "for some **increment function**"
   ]
  },
  {
   "cell_type": "markdown",
   "id": "dressed-dealing",
   "metadata": {},
   "source": [
    "$$\n",
    "\\Phi: [t_0,T] \\times \\mathbb{R}^n \\times \\mathbb{R}^n \\times \\mathbb{R}^+ \\to \\mathbb{R}^n.\n",
    "$$"
   ]
  },
  {
   "cell_type": "markdown",
   "id": "human-witness",
   "metadata": {},
   "source": [
    "The OSM is called **explicit** if the increment function $\\Phi$\n",
    "does not depend on ${\\boldsymbol y}_{k+1}$, otherwise it is called **implicit**."
   ]
  },
  {
   "cell_type": "markdown",
   "id": "biological-accountability",
   "metadata": {},
   "source": [
    "## Example 1: Increment functions for Euler and Heun\n",
    "\n",
    "<div id=\"ode:exa:increment_function\"></div>\n",
    "The increment functions for Euler's and Heun's method are\n",
    "defined by respectively"
   ]
  },
  {
   "cell_type": "markdown",
   "id": "compact-knitting",
   "metadata": {},
   "source": [
    "$$\n",
    "\\Phi(t_k,\n",
    "y_{k},\n",
    "y_{k+1},\n",
    "\\tau_{k})\n",
    "=\n",
    "f(t_k, y_k),\n",
    "\\qquad\n",
    "\\Phi(t_k,\n",
    "y_{k},\n",
    "y_{k+1},\n",
    "\\tau_{k})\n",
    "=\n",
    "\\tfrac{1}{2}\n",
    "\\left(\n",
    "f(t_{k}, y_k)\n",
    "+\n",
    "f\\bigl(t_{k+1}, y_{k}+\\tau_k f(t_k, y_k)\n",
    "\\bigr)\n",
    "\\right).\n",
    "$$"
   ]
  },
  {
   "cell_type": "markdown",
   "id": "dedicated-infection",
   "metadata": {},
   "source": [
    "## Local and global truncation error of OSM"
   ]
  },
  {
   "cell_type": "markdown",
   "id": "developed-python",
   "metadata": {},
   "source": [
    "## Definition 2: Local truncation error\n",
    "\n",
    "<div id=\"ode:def:consist_err\"></div>\n",
    "\n",
    "The **local truncation error** $\\eta(t, \\tau)$ is defined by"
   ]
  },
  {
   "cell_type": "markdown",
   "id": "abstract-hotel",
   "metadata": {},
   "source": [
    "<!-- Equation labels as ordinary links -->\n",
    "<div id=\"ode:eq:consist_err\"></div>\n",
    "\n",
    "$$\n",
    "\\begin{equation}\n",
    "\\eta(t, \\tau) = y(t) + \\tau \\Phi(t, y(t), y(t+\\tau), \\tau) - y(t+\\tau).\n",
    "\\label{ode:eq:consist_err} \\tag{2}\n",
    "\\end{equation}\n",
    "$$"
   ]
  },
  {
   "cell_type": "markdown",
   "id": "mature-progressive",
   "metadata": {},
   "source": [
    "$\\eta(t, \\tau)$ is often also called the **local discretization** or **consistency error**.\n",
    "\n",
    "A one step method is called **consistent of order $p\\in \\mathbb{N}$** if\n",
    "there is a constant $C > 0$ such that"
   ]
  },
  {
   "cell_type": "markdown",
   "id": "terminal-chassis",
   "metadata": {},
   "source": [
    "<!-- Equation labels as ordinary links -->\n",
    "<div id=\"_auto1\"></div>\n",
    "\n",
    "$$\n",
    "\\begin{equation}\n",
    "|\\eta(t, \\tau) | \\leqslant C \\tau^{p+1} \\quad \\text{for } \\tau \\to 0.\n",
    "\\label{_auto1} \\tag{3}\n",
    "\\end{equation}\n",
    "$$"
   ]
  },
  {
   "cell_type": "markdown",
   "id": "infrared-appendix",
   "metadata": {},
   "source": [
    "A short-hand notation for this is to write\n",
    "$\n",
    "\\eta(t, \\tau) = \\mathcal{O}(\\tau^{p+1})$ for $\\tau \\to 0.\n",
    "$"
   ]
  },
  {
   "cell_type": "markdown",
   "id": "legendary-louisiana",
   "metadata": {},
   "source": [
    "## Example 2:\n",
    "\n",
    "Euler's method has consistency order $p=1$."
   ]
  },
  {
   "cell_type": "markdown",
   "id": "existing-spouse",
   "metadata": {},
   "source": [
    "## Definition 3: Global truncation error\n",
    "\n",
    "<div id=\"ode:def:global_err\"></div>\n",
    "For a numerical solution\n",
    "$\n",
    "y_{\\Delta}:\n",
    "\\{\n",
    "t_0, \\ldots, t_N\n",
    "\\} \\to \\mathbb{R}\n",
    "$\n",
    "the **global truncation error**  is defined by"
   ]
  },
  {
   "cell_type": "markdown",
   "id": "material-morgan",
   "metadata": {},
   "source": [
    "<!-- Equation labels as ordinary links -->\n",
    "<div id=\"ode:eq:global_err\"></div>\n",
    "\n",
    "$$\n",
    "\\begin{equation}\n",
    "e_k(t_k, \\tau_k) = y(t_k) - y_k\n",
    "\\quad \\text{for } k=0,\\ldots,N.\n",
    "\\label{ode:eq:global_err} \\tag{4}\n",
    "\\end{equation}\n",
    "$$"
   ]
  },
  {
   "cell_type": "markdown",
   "id": "conservative-jamaica",
   "metadata": {},
   "source": [
    "A one step method is called **convergent with order $p\\in\\mathbb{N}$** if"
   ]
  },
  {
   "cell_type": "markdown",
   "id": "automotive-credits",
   "metadata": {},
   "source": [
    "<!-- Equation labels as ordinary links -->\n",
    "<div id=\"ode:eq:global_err_conv\"></div>\n",
    "\n",
    "$$\n",
    "\\begin{equation}\n",
    "\\max_{k \\in \\{0,1,\\ldots,N_t\\}}\n",
    "|e_k(t_k,\\tau_k)|\n",
    "= \\mathcal{O}(\\tau^p)\n",
    "\\label{ode:eq:global_err_conv} \\tag{5}\n",
    "\\end{equation}\n",
    "$$"
   ]
  },
  {
   "cell_type": "markdown",
   "id": "subtle-bloom",
   "metadata": {},
   "source": [
    "with $\\tau = \\max_k \\tau_k$.\n",
    "\n",
    "**Discussion.**\n",
    "If a one step method has convergence order equal to $p$, the maximum\n",
    "error\n",
    "$e(\\tau) = \\max_k{|e(t_k, \\tau)|}$\n",
    "can be thought as a function of the step size $\\tau$ is of the form"
   ]
  },
  {
   "cell_type": "markdown",
   "id": "alive-horror",
   "metadata": {},
   "source": [
    "$$\n",
    "e(\\tau) = O(\\tau^p) \\leqslant C \\tau^p.\n",
    "$$"
   ]
  },
  {
   "cell_type": "markdown",
   "id": "whole-richmond",
   "metadata": {},
   "source": [
    "This implies that if we change the time step size\n",
    "from $\\tau$ to $\\tfrac{\\tau}{2}$,\n",
    "we can expect that the\n",
    "error decreases from $C \\tau^p$\n",
    "to $C (\\tfrac{\\tau}{2})^p$, that is, the error\n",
    "will be reduced by a factor $2^{-p}$.\n",
    "\n",
    "How can we determine the convergence rate by means of numerical\n",
    "experiments?\n",
    "Starting from\n",
    "$\n",
    "e(\\tau) = O(\\tau^p) \\leqslant C \\tau^p\n",
    "$\n",
    "and taking the logarithm gives"
   ]
  },
  {
   "cell_type": "markdown",
   "id": "black-techno",
   "metadata": {},
   "source": [
    "$$\n",
    "\\log(e(\\tau)) \\leqslant p \\log(\\tau) + \\log(C).\n",
    "$$"
   ]
  },
  {
   "cell_type": "markdown",
   "id": "incoming-flash",
   "metadata": {},
   "source": [
    "Thus $\\log(e(\\tau))$ is a linear function of $\\log(\\tau)$ and the slope\n",
    "of this linear function corresponds to the order of convergence $p$.\n",
    "\n",
    "So if you have an *exact solution* at your disposal, you can for an\n",
    "increasing sequence `Nmax_list` defining a descreasing sequence of\n",
    "*maximum* time-steps $\\{\\tau_0,\n",
    "\\ldots, \\tau_M\\}$\n",
    "and solve your problem numerically and then compute the resulting exact error\n",
    "$e(\\tau_i)$ and plot it against $\\tau_i$ in a $\\log-\\log$ plot to determine\n",
    "the convergence order.\n",
    "\n",
    "In addition you can also compute the\n",
    "experimentally observed convergence rate\n",
    "EOC for $i=1,\\ldots M$ defined by"
   ]
  },
  {
   "cell_type": "markdown",
   "id": "standard-texas",
   "metadata": {},
   "source": [
    "$$\n",
    "\\mathrm{EOC}(i) =\n",
    "\\dfrac{\n",
    "\\log(e(\\tau_{i})) - \\log(e(\\tau_{i-1}))\n",
    "}{\n",
    "\\log(\\tau_{i}) - \\log(\\tau_{i-1})\n",
    "}\n",
    "=\n",
    "\\dfrac{\n",
    "\\log(e(\\tau_{i})/e(\\tau_{i-1}))\n",
    "}{\n",
    "\\log(\\tau_{i}/\\tau_{i-1})\n",
    "}\n",
    "$$"
   ]
  },
  {
   "cell_type": "markdown",
   "id": "effective-steps",
   "metadata": {},
   "source": [
    "Ideally, $\\mathrm{EOC}(i)$ is close to $p$.\n",
    "\n",
    "This is implemented in the following `python` function."
   ]
  },
  {
   "cell_type": "code",
   "execution_count": null,
   "id": "coastal-mouth",
   "metadata": {},
   "outputs": [],
   "source": [
    "def compute_eoc(y0, t0, T, f, Nmax_list, solver, y_ex):\n",
    "    errs = [ ]\n",
    "    for Nmax in Nmax_list:\n",
    "        ts, ys = solver(y0, t0, T, f, Nmax)\n",
    "        ys_ex = y_ex(ts)\n",
    "        errs.append(np.abs(ys - ys_ex).max())\n",
    "        print(\"For Nmax = {:3}, max ||y(t_i) - y_i||= {:.3e}\".format(Nmax,errs[-1]))\n",
    "\n",
    "    errs = np.array(errs)\n",
    "    Nmax_list = np.array(Nmax_list)\n",
    "    dts = (T-t0)/Nmax_list\n",
    "\n",
    "    eocs = np.log(errs[1:]/errs[:-1])/np.log(dts[1:]/dts[:-1])\n",
    "\n",
    "    # Insert inf at beginning of eoc such that errs and eoc have same length \n",
    "    eocs = np.insert(eocs, 0, np.Inf)\n",
    "\n",
    "    return errs, eocs"
   ]
  },
  {
   "cell_type": "markdown",
   "id": "stopped-output",
   "metadata": {},
   "source": [
    "## Exercise 1: Convergence order for Euler and Heun\n",
    "\n",
    "Use the `compute_eoc` function and\n",
    "any of the examples with a known analytical solution from the previous lecture\n",
    "to determine convergence order for Euler's and Heun's method."
   ]
  },
  {
   "cell_type": "markdown",
   "id": "indirect-worst",
   "metadata": {},
   "source": [
    "**a)**\n",
    "Use the `compute_eoc` function and\n",
    "any of the examples with a known analytical solution from the previous lecture\n",
    "to determine convergence order for Euler's.\n",
    "\n",
    "Start from importing the explicit Euler method from yesterday's lecture."
   ]
  },
  {
   "cell_type": "code",
   "execution_count": null,
   "id": "collected-maria",
   "metadata": {},
   "outputs": [],
   "source": [
    "def explicit_euler(y0, t0, T, f, Nmax):\n",
    "    ys = [y0]\n",
    "    ts = [t0]\n",
    "    dt = (T - t0)/Nmax\n",
    "    while(ts[-1] < T):\n",
    "        t, y = ts[-1], ys[-1]  \n",
    "        ys.append(y + dt*f(t, y))\n",
    "        ts.append(t + dt)\n",
    "    return (np.array(ts), np.array(ys))"
   ]
  },
  {
   "cell_type": "code",
   "execution_count": null,
   "id": "diagnostic-dietary",
   "metadata": {},
   "outputs": [],
   "source": [
    "# Insert code here."
   ]
  },
  {
   "cell_type": "markdown",
   "id": "documented-marketing",
   "metadata": {},
   "source": [
    "<!-- --- begin solution of exercise --- -->\n",
    "**Solution.**"
   ]
  },
  {
   "cell_type": "code",
   "execution_count": null,
   "id": "turkish-candle",
   "metadata": {},
   "outputs": [],
   "source": [
    "t0, T = 0, 1\n",
    "y0 = 1\n",
    "lam = 1\n",
    "\n",
    "# rhs of IVP\n",
    "f = lambda t,y: lam*y\n",
    "\n",
    "# Exact solution to compare against\n",
    "y_ex = lambda t: y0*np.exp(lam*(t-t0))\n",
    "\n",
    "Nmax_list = [4, 8, 16, 32, 64, 128]\n",
    "\n",
    "errs, eocs = compute_eoc(y0, t0, T, f, Nmax_list, explicit_euler, y_ex)\n",
    "print(eocs)\n",
    "\n",
    "table = pd.DataFrame({'Error': errs, 'EOC' : eocs})\n",
    "display(table)\n",
    "print(table)"
   ]
  },
  {
   "cell_type": "markdown",
   "id": "blessed-dublin",
   "metadata": {},
   "source": [
    "<!-- --- end solution of exercise --- -->"
   ]
  },
  {
   "cell_type": "markdown",
   "id": "hidden-virtue",
   "metadata": {},
   "source": [
    "**b)**\n",
    "Redo the previous exercise with Heun's method\n",
    "\n",
    "Start from importing the Heun's method from yesterday's lecture."
   ]
  },
  {
   "cell_type": "code",
   "execution_count": null,
   "id": "still-french",
   "metadata": {},
   "outputs": [],
   "source": [
    "def heun(y0, t0, T, f, Nmax):\n",
    "    ys = [y0]\n",
    "    ts = [t0]\n",
    "    dt = (T - t0)/Nmax\n",
    "    while(ts[-1] < T):\n",
    "        t, y = ts[-1], ys[-1]\n",
    "        k1 = f(t,y)\n",
    "        k2 = f(t+dt, y+dt*k1)\n",
    "        ys.append(y + 0.5*dt*(k1+k2))\n",
    "        ts.append(t + dt)\n",
    "    return (np.array(ts), np.array(ys))"
   ]
  },
  {
   "cell_type": "code",
   "execution_count": null,
   "id": "confidential-lindsay",
   "metadata": {},
   "outputs": [],
   "source": [
    "# Insert code here."
   ]
  },
  {
   "cell_type": "markdown",
   "id": "deadly-singles",
   "metadata": {},
   "source": [
    "<!-- --- begin solution of exercise --- -->\n",
    "**Solution.**"
   ]
  },
  {
   "cell_type": "code",
   "execution_count": null,
   "id": "secret-briefs",
   "metadata": {},
   "outputs": [],
   "source": [
    "t0, T = 0, 1\n",
    "y0 = 1\n",
    "lam = 1\n",
    "\n",
    "# rhs of IVP\n",
    "f = lambda t,y: lam*y\n",
    "\n",
    "# Exact solution to compare against\n",
    "y_ex = lambda t: y0*np.exp(lam*(t-t0))\n",
    "\n",
    "Nmax_list = [4, 8, 16, 32, 64, 128]\n",
    "\n",
    "errs, eocs = compute_eoc(y0, t0, T, f, Nmax_list, heun, y_ex)\n",
    "print(eocs)\n",
    "\n",
    "table = pd.DataFrame({'Error': errs, 'EOC' : eocs})\n",
    "display(table)\n",
    "print(table)"
   ]
  },
  {
   "cell_type": "markdown",
   "id": "bright-ballot",
   "metadata": {},
   "source": [
    "<!-- --- end solution of exercise --- -->"
   ]
  },
  {
   "cell_type": "markdown",
   "id": "upper-soccer",
   "metadata": {},
   "source": [
    "## A general convergence result for one step methods"
   ]
  },
  {
   "cell_type": "markdown",
   "id": "bridal-consensus",
   "metadata": {},
   "source": [
    "## Theorem 1: Convergence of one-step methods\n",
    "\n",
    "<div id=\"ode:thm:osm-convergence-theory\"></div>\n",
    "Assume that there exist positive constants $M$ and $D$ such that the\n",
    "increment function satisfies"
   ]
  },
  {
   "cell_type": "markdown",
   "id": "naked-figure",
   "metadata": {},
   "source": [
    "$$\n",
    "\\| \\mathbf{\\Phi}(t,\\mathbf{y};\\tau) - \\mathbf{\\Phi}(t,\\mathbf{z};\\tau) \\| \\leq M \\| \\mathbf{y}-\\mathbf{z} \\|\n",
    "$$"
   ]
  },
  {
   "cell_type": "markdown",
   "id": "solid-obligation",
   "metadata": {},
   "source": [
    "and\n",
    "the local trunctation error satisfies"
   ]
  },
  {
   "cell_type": "markdown",
   "id": "nearby-scotland",
   "metadata": {},
   "source": [
    "$$\n",
    "\\| {\\boldsymbol \\eta}(t, \\tau) \\| =\n",
    "\\| \\mathbf{y}(t+\\tau) - \\left (\\mathbf{y}(t) + \\tau \\mathbf{\\Phi}(t, \\mathbf{y}(t),\n",
    "\\tau)\\right) \\|\n",
    "\\leqslant D \\tau^{p+1}\n",
    "$$"
   ]
  },
  {
   "cell_type": "markdown",
   "id": "judicial-commissioner",
   "metadata": {},
   "source": [
    "for all $t$, $\\mathbf{y}$ and $\\mathbf{z}$ in the neighbourhood of the\n",
    "solution. In that case, the global error satisfies"
   ]
  },
  {
   "cell_type": "markdown",
   "id": "forward-glass",
   "metadata": {},
   "source": [
    "$$\n",
    "\\max_{k \\in \\{0,1,\\ldots,N_t\\}}\n",
    "\\|e_k(t_k,\\tau_k) \\|\n",
    "\\leqslant C \\tau^p, \\qquad C =\n",
    "\\frac{e^{M(T-t_0)}-1}{M}D,\n",
    "\n",
    "where $\\tau = \\max_{k \\in \\{0,1,\\ldots,N_t\\}} \\tau_k$.\n",
    "$$"
   ]
  },
  {
   "cell_type": "markdown",
   "id": "personalized-willow",
   "metadata": {},
   "source": [
    "**Proof.**\n",
    "We omit the proof here.\n",
    "\n",
    "It can be proved that the first of these conditions are satisfied for\n",
    "all the methods that will be considered here.\n",
    "\n",
    "**Summary.**\n",
    "\n",
    "The convergence theorem for one step methods can be summarized as\n",
    "\n",
    "\"local truncation error behaves like $\\mathcal{O}(\\tau^{p+1})$\"\n",
    "+ \"Increment function satisfies a Lipschitz condition\"\n",
    "$\\Rightarrow$\n",
    "\"global truncation error behaves like $\\mathcal{O}(\\tau^{p})$\"\n",
    "\n",
    "or equivalently,\n",
    "\n",
    "\"consistency order $p$\" + \"Lipschitz condition for the Increment function\"\n",
    "$\\Rightarrow$\n",
    "``convergence order $p$."
   ]
  },
  {
   "cell_type": "markdown",
   "id": "nasty-brooklyn",
   "metadata": {},
   "source": [
    "## Convergence properties of Heun's method\n",
    "Thanks to Theorem [Theorem 1: Convergence of one-step methods](#ode:thm:osm-convergence-theory),\n",
    "we need to show two things to prove convergence and find the\n",
    "corresponding convergence of a given one step methods:\n",
    "* determine the local truncation error, expressed as a power series in the step size $\\tau$\n",
    "\n",
    "* the condition $\\| {\\boldsymbol \\Phi}(t,{\\boldsymbol y}, \\tau) - {\\boldsymbol \\Phi}(t,{\\boldsymbol z},\\tau) \\| \\leqslant  M \\| {\\boldsymbol y} - {\\boldsymbol z} \\|$\n",
    "\n",
    "**Determining the consistency order.**\n",
    "The local truncation error is found by making Taylor expansions of the\n",
    "exact and the numerical solutions starting from the same point, and\n",
    "compare. In practice, this is not trivial. For simplicity, we will\n",
    "here do this for a scalar equation $y'(t)=f(t,y(t))$. The result is\n",
    "valid for systems as well\n",
    "\n",
    "In the following, we will use the notation"
   ]
  },
  {
   "cell_type": "markdown",
   "id": "planned-superintendent",
   "metadata": {},
   "source": [
    "$$\n",
    "f_t = \\frac{\\partial f}{\\partial t}, \\qquad f_y = \\frac{\\partial f}{\\partial y}, \n",
    "\\qquad f_{tt} = \\frac{\\partial^2 f}{\\partial t^2} \\qquad  f_{ty} \n",
    "= \\frac{\\partial^2f}{\\partial t\\partial y} \\qquad\\text{etc.}\n",
    "$$"
   ]
  },
  {
   "cell_type": "markdown",
   "id": "chemical-cooler",
   "metadata": {},
   "source": [
    "Further, we will surpress the arguments of the function $f$ and its\n",
    "derivatives. So $f$ is to be understood as $f(t,y(t))$ although it is\n",
    "not explicitly written.\n",
    "\n",
    "The Taylor expansion of the exact solution $y(t+\\tau)$ is given by"
   ]
  },
  {
   "cell_type": "markdown",
   "id": "crazy-client",
   "metadata": {},
   "source": [
    "$$\n",
    "y(t+\\tau)=y(t)+\\tau y'(t) + \\frac{\\tau^2}{2}y''(t) + \\frac{\\tau^3}{6}y'''(t) + \\dotsm.\n",
    "$$"
   ]
  },
  {
   "cell_type": "markdown",
   "id": "advisory-yellow",
   "metadata": {},
   "source": [
    "Higher derivatives of $y(t)$ can be expressed in terms of the function\n",
    "$f$ by using the chain rule and the product rule for differentiation."
   ]
  },
  {
   "cell_type": "markdown",
   "id": "polish-boundary",
   "metadata": {},
   "source": [
    "$$\n",
    "\\begin{align*}\n",
    "    y'(t) &= f, \\\\ \n",
    "    y''(t) &= f_t  + f_y y' = f_t + f_y f,\\\\ \n",
    "    y'''(t) &= f_{tt} + f_{ty} y' + f_{yt}f + f_{yy}y'f + f_yf_t +f_y f_y y' \n",
    "             = f_{tt}+2f_{ty}f+f_{yy}f^2 +f_yf_t+ (f_y)^2f.\n",
    "\\end{align*}\n",
    "$$"
   ]
  },
  {
   "cell_type": "markdown",
   "id": "prescribed-dylan",
   "metadata": {},
   "source": [
    "Find the series of the exact and the numerical solution around\n",
    "$x_0,y_0$ (any other point will do equally well). From the discussion\n",
    "above, the series for the exact solution becomes"
   ]
  },
  {
   "cell_type": "markdown",
   "id": "forward-stevens",
   "metadata": {},
   "source": [
    "$$\n",
    "y(t_0+\\tau) = y_0 + \\tau f + \\frac{\\tau^2}{2}(f_t + f_y f) +\n",
    "\\frac{\\tau^3}{6}(f_{tt}+2f_{ty}f+f_{yy}ff + f_yf_xf + f_yf_t+ (f_y)^2f\n",
    ") + \\dotsm,\n",
    "$$"
   ]
  },
  {
   "cell_type": "markdown",
   "id": "equivalent-register",
   "metadata": {},
   "source": [
    "where $f$ and all its derivatives are evaluated in $(t_0,y_0)$. For the numerical solution we get"
   ]
  },
  {
   "cell_type": "markdown",
   "id": "forty-apparatus",
   "metadata": {},
   "source": [
    "$$\n",
    "\\begin{align*}\n",
    "  k_1 &= f(t_0,y_0) = f, \n",
    "  \\\\ \n",
    "  k_2 &= f(t_0+\\tau, y_0+\\tau k_1) \n",
    "  \\\\ \n",
    "      & = f + \\tau f_t + f_y\\tau k_1 + \\frac{1}{2}f_{tt}\\tau^2 + f_{ty}\\tau \\tau k_1 + \\frac{1}{2}f_{yy}\\tau^2 k_1^2 \n",
    "       + \\dotsm \n",
    "       \\\\ \n",
    "      &= f + \\tau(f_t + f_yf) + \\frac{\\tau^2}{2}(f_{tt} + 2f_{ty}f + f_{yy}f^2) + \\dotsm, \n",
    "      \\\\ \n",
    "  y_1 &= y_0 + \\frac{\\tau}{2}(k_1 + k_2)\n",
    "       = y_0 + \\frac{\\tau}{2}(f + f + \\tau(f_t + f_yf) + \\frac{\\tau^2}{2}(f_{tt} + 2f_{ty}k_1 + f_{yy}f^2)) + \\dotsm \n",
    "       \\\\ \n",
    "      &= y_0 + \\tau f + \\frac{\\tau^2}{2}(f_t+f_yf)+ \\frac{\\tau^3}{4}(f_{tt} + 2f_{ty}f + f_{yy}f^2)  + \\dotsm\n",
    "\\end{align*}\n",
    "$$"
   ]
  },
  {
   "cell_type": "markdown",
   "id": "departmental-mapping",
   "metadata": {},
   "source": [
    "and the local truncation error will be"
   ]
  },
  {
   "cell_type": "markdown",
   "id": "comparative-arbor",
   "metadata": {},
   "source": [
    "$$\n",
    "\\eta(t_0, \\tau) = y(t_0+\\tau)-y_1 = \\frac{\\tau^3}{12}(-f_{tt}-2f_{ty}f-f_{yy}f^2 + 2f_yf_t + 2(f_y)^2f) + \\dotsm\n",
    "$$"
   ]
  },
  {
   "cell_type": "markdown",
   "id": "younger-possible",
   "metadata": {},
   "source": [
    "The first nonzero term in the local truncation error series is called\n",
    "*the principal error term*. For $\\tau $ sufficiently small this is the\n",
    "term dominating the error, and this fact will be used later.\n",
    "\n",
    "Although the series has been developed around the initial point,\n",
    "series around $x_n,y(t_n)$ will give similar results, and it is\n",
    "possible to conclude that, given sufficient differentiability of $f$\n",
    "there is a constant $D$ such that"
   ]
  },
  {
   "cell_type": "markdown",
   "id": "stylish-culture",
   "metadata": {},
   "source": [
    "$$\n",
    "\\max_i |\\eta(t_i, \\tau)| \\leq D\\tau^3.\n",
    "$$"
   ]
  },
  {
   "cell_type": "markdown",
   "id": "latest-virus",
   "metadata": {},
   "source": [
    "*Consequently, Heun's method is of consistency order $2$.*\n",
    "\n",
    "**Lipschitz condition for $\\Phi$.**\n",
    "Further, we have to prove the condition on the increment function\n",
    "$\\Phi(t,y)$. For $f$ differentiable, there is for all $y,z$ some $\\xi$\n",
    "between $x$ and $y$ such that $f(t,y)-f(t,z) = f_y(t,\\xi)(y-z)$. Let L\n",
    "be a constant such that $|f_y|<L$, and for all $x,y,z$ of interest we\n",
    "get"
   ]
  },
  {
   "cell_type": "markdown",
   "id": "worthy-alert",
   "metadata": {},
   "source": [
    "$$\n",
    "|f(t,y)-f(t,z)| \\leq L |y-z|.\n",
    "$$"
   ]
  },
  {
   "cell_type": "markdown",
   "id": "coordinated-working",
   "metadata": {},
   "source": [
    "The increment function for Heun's method is given by"
   ]
  },
  {
   "cell_type": "markdown",
   "id": "sufficient-quarterly",
   "metadata": {},
   "source": [
    "$$\n",
    "\\Phi(t,y) = \\frac{1}{2}(f(t,y)+f(t+\\tau,y+\\tau f(t,y))). \\\\\n",
    "$$"
   ]
  },
  {
   "cell_type": "markdown",
   "id": "white-hampton",
   "metadata": {},
   "source": [
    "By repeated use of the condition above and the triangle inequalitiy for absolute values we get"
   ]
  },
  {
   "cell_type": "markdown",
   "id": "willing-murray",
   "metadata": {},
   "source": [
    "$$\n",
    "\\begin{align*}\n",
    "|\\Phi(t,y)-\\Phi(t,z)| &= \\frac{1}{2}|f(t,y)+f(t+\\tau,y+f(t,y))-f(t,z)-\\tau f(t+\\tau,z+f(t,z)| \n",
    "\\\\ \n",
    "&\\leq \\frac{1}{2}\\big(|f(t,y)-f(t,z)|+|f(t+\\tau,y+\\tau f(t,y))-f(t+\\tau,z+\\tau f(t,z)| \\big) \n",
    "\\\\ \n",
    "&\\leq \\frac{1}{2}\\big(L|y-z| + L|y+\\tau f(t,y)-z-\\tau f(t,z)| \\big) \n",
    "\\\\ \n",
    "&\\leq \\frac{1}{2}\\big(2L|y-z|+\\tau L^2|y-z|\\big) \n",
    "\\\\ \n",
    "& = (L+\\frac{\\tau}{2}L^2)|y-z|.\n",
    "\\end{align*}\n",
    "$$"
   ]
  },
  {
   "cell_type": "markdown",
   "id": "elder-cosmetic",
   "metadata": {},
   "source": [
    "Assuming that the step size $\\tau$ is bounded upward by some $\\tau_0$,\n",
    "we can conclude that"
   ]
  },
  {
   "cell_type": "markdown",
   "id": "guided-scientist",
   "metadata": {},
   "source": [
    "$$\n",
    "|\\Phi(t,y)-\\Phi(t,z)| \\leq M|y-z|, \\qquad M=L+\\frac{\\tau_0}{2}L^2.\n",
    "$$"
   ]
  },
  {
   "cell_type": "markdown",
   "id": "sudden-disclosure",
   "metadata": {},
   "source": [
    "Thanks to Theorem [Theorem 1: Convergence of one-step methods](#ode:thm:osm-convergence-theory), we can conclude\n",
    "that Heun's method is convergent of order 2.\n",
    "\n",
    "<!-- !bnotice -->\n",
    "<!-- In the next part, when we introduce a large class of -->\n",
    "<!-- one step methods known as Runge-Kutta methods, of which -->\n",
    "<!-- Euler's and Heun's method are particular instances. -->\n",
    "<!-- For Runge-Kutta methods we will learn about some -->\n",
    "<!-- algebraic conditions known as order conditions. -->\n",
    "<!-- !bnotice -->"
   ]
  }
 ],
 "metadata": {
  "kernelspec": {
   "display_name": "Python 3",
   "language": "python",
   "name": "python3"
  },
  "language_info": {
   "codemirror_mode": {
    "name": "ipython",
    "version": 3
   },
   "file_extension": ".py",
   "mimetype": "text/x-python",
   "name": "python",
   "nbconvert_exporter": "python",
   "pygments_lexer": "ipython3",
   "version": "3.9.5"
  }
 },
 "nbformat": 4,
 "nbformat_minor": 5
}
