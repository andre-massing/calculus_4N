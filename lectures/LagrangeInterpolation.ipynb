{
 "cells": [
  {
   "cell_type": "markdown",
   "metadata": {
    "slideshow": {
     "slide_type": "slide"
    }
   },
   "source": [
    "# Polynomial interpolation: Lagrange interpolation\n",
    "**Anne Kværnø (modified by André Massing)**\n",
    "\n",
    "Date: **Aug 30, 2021**\n",
    "\n",
    "If you want to have a nicer theme for your jupyter notebook,\n",
    "download the [cascade stylesheet file calculus4N.css](https://www.math.ntnu.no/emner/TMA4130/2021h/lectures/calculus4N.css)\n",
    "and execute the next cell:"
   ]
  },
  {
   "cell_type": "code",
   "execution_count": 1,
   "metadata": {
    "slideshow": {
     "slide_type": "slide"
    }
   },
   "outputs": [
    {
     "name": "stdout",
     "output_type": "stream",
     "text": [
      "Could not find css file 'calculus4N.css'\n"
     ]
    }
   ],
   "source": [
    "from IPython.core.display import HTML\n",
    "def css_styling():\n",
    "    try:\n",
    "        fname = \"calculus4N.css\"\n",
    "        with open(fname, \"r\") as f:\n",
    "            styles = f.read()\n",
    "            return HTML(styles)\n",
    "    except FileNotFoundError:\n",
    "        print(f\"Could not find css file '{fname}'\")\n",
    "\n",
    "# Comment out next line and execute this cell to restore the default notebook style \n",
    "css_styling()"
   ]
  },
  {
   "cell_type": "markdown",
   "metadata": {
    "slideshow": {
     "slide_type": "slide"
    }
   },
   "source": [
    "And of course we want to import the required modules."
   ]
  },
  {
   "cell_type": "code",
   "execution_count": 3,
   "metadata": {
    "slideshow": {
     "slide_type": "fragment"
    }
   },
   "outputs": [],
   "source": [
    "%matplotlib inline\n",
    "\n",
    "import numpy as np\n",
    "from numpy import pi\n",
    "from numpy.linalg import solve, norm    # Solve linear systems and compute norms\n",
    "import matplotlib.pyplot as plt\n",
    "\n",
    "newparams = {'figure.figsize': (6.0, 6.0), 'axes.grid': True,\n",
    "             'lines.markersize': 8, 'lines.linewidth': 2,\n",
    "             'font.size': 14}\n",
    "plt.rcParams.update(newparams)"
   ]
  },
  {
   "cell_type": "markdown",
   "metadata": {
    "slideshow": {
     "slide_type": "slide"
    }
   },
   "source": [
    "# Introduction\n",
    "Polynomials can be used to approximate functions over some bounded\n",
    "interval $x \\in [a,b]$. Such polynomials can be used for different purposes.\n",
    "The function itself may be unknown, and only measured data are available. In\n",
    "this case, a polynomial may be used to find approximations to intermediate\n",
    "values of the function. Consider for instance the following problem:"
   ]
  },
  {
   "cell_type": "markdown",
   "metadata": {
    "slideshow": {
     "slide_type": "slide"
    }
   },
   "source": [
    "The population in Norway in the period 1976 to 2001 is, according to SSB\n",
    "\n",
    "$$\n",
    "\\begin{array}{l|c|c|c|c|c|c}\n",
    "\\text{year} &  1976  & 1981 & 1986 & 1991 & 1996 & 2001\n",
    "\\\\ \n",
    "\\hline\n",
    "\\text{population} & 4017101 & 4092340 & 4159187 & 4249830 & 4369957 & 4503436\n",
    "\\end{array}\n",
    "$$"
   ]
  },
  {
   "cell_type": "markdown",
   "metadata": {
    "slideshow": {
     "slide_type": "fragment"
    }
   },
   "source": [
    "How can we find an estimate for the population in Norway in the years $1983$ and $1999$? Here we\n",
    "try to find a value *in between* the given data points, that is we \"interpolate\".\n",
    "And given that data can we predict what the population in Norway was at years $2010$ and $2020$?\n",
    "In that scenario we find an estimate for a data point which lies *beyond* the interval boundaries $[1976, 2000]$ provided by the data set,\n",
    "and thus we \"extrapolate\"!"
   ]
  },
  {
   "cell_type": "markdown",
   "metadata": {
    "slideshow": {
     "slide_type": "slide"
    }
   },
   "source": [
    "Polynomials are\n",
    "easy to integrate, and can be used to find approximations of integrals\n",
    "of more complicated functions. This will be exploited later in the\n",
    "course. And there are plenty of other applications.\n",
    "\n",
    "In this part of the course, we will only discuss *interpolation polynomials*."
   ]
  },
  {
   "cell_type": "markdown",
   "metadata": {
    "slideshow": {
     "slide_type": "slide"
    }
   },
   "source": [
    "**Interpolation problem.**\n",
    "\n",
    "Given $n+1$ points $(x_i,y_i)_{i=0}^n$. Find a polynomial $p(x)$ of\n",
    "lowest possible degree satisfying the *interpolation condition*\n",
    "\n",
    "<!-- Equation labels as ordinary links -->\n",
    "<div id=\"eq:intcond\"></div>\n",
    "\n",
    "$$\n",
    "\\begin{equation} \n",
    "    \\label{eq:intcond} \\tag{1}\n",
    "    p(x_i) = y_i,\\qquad i=0,\\dotsc, n. \n",
    "\\end{equation}\n",
    "$$\n",
    "\n",
    "The solution $p(x)$ is called the *interpolation polynomial*, the $x_i$ values\n",
    "are called *nodes*, and the points $(x_i,y_i)$ *interpolation points*."
   ]
  },
  {
   "cell_type": "markdown",
   "metadata": {
    "slideshow": {
     "slide_type": "slide"
    }
   },
   "source": [
    "**Example 1:** \n",
    "Given the points\n",
    "\n",
    "$$\n",
    "\\begin{array}{c|c|c|c}\n",
    "x_i & 0 & 2/3 & 1 \\\\ \\hline\n",
    "y_i & 1 & 1/2 & 0 \n",
    "\\end{array}.\n",
    "$$\n",
    "\n",
    "The corresponding interpolation polynomial is\n",
    "\n",
    "$$\n",
    "p_2(x)=(-3x^2-x+4)/4\n",
    "$$\n",
    "\n",
    "The $y$-values of this example are chosen such that $y_i=\\cos{(\\pi x_i/2)}$.  So\n",
    "$p_2(x)$ can be considered as an approximation to $\\cos{(\\pi x/2)}$ on the interval\n",
    "$[0,1]$."
   ]
  },
  {
   "cell_type": "code",
   "execution_count": null,
   "metadata": {
    "slideshow": {
     "slide_type": "slide"
    }
   },
   "outputs": [],
   "source": [
    "# Interpolation data\n",
    "xdata = [0,2/3., 1]\n",
    "ydata = [1, 1/2., 0]\n",
    "# Interpolation polynomial\n",
    "p2 = lambda x : (-3*x**2 -x + 4)/4.\n",
    "\n",
    "# Grid points for plotting\n",
    "x = np.linspace(0,1,100)\n",
    "y = p2(x)\n",
    "\n",
    "# Original function\n",
    "f = np.cos(pi*x/2)"
   ]
  },
  {
   "cell_type": "code",
   "execution_count": null,
   "metadata": {
    "slideshow": {
     "slide_type": "slide"
    }
   },
   "outputs": [],
   "source": [
    "plt.plot(x,f, 'c',x,y,'m', xdata, ydata, \"ok\")\n",
    "plt.legend(['$\\cos(\\pi x/2)$', 'p_2(x)', 'Interpolation data'])"
   ]
  },
  {
   "cell_type": "markdown",
   "metadata": {
    "slideshow": {
     "slide_type": "slide"
    }
   },
   "source": [
    "### Topics \n",
    "\n",
    "In this note, we will discuss the following: \n",
    "\n",
    "* Lagrange Interpolation: A first method to compute the polynomials\n",
    "* Existence and uniqueness results. \n",
    "\n",
    "In the next lecture, we talk about\n",
    "\n",
    "* Newton Interpolation: Another method to compute the polynomials\n",
    "* Error analysis: If the polynomial is used to approximate a function, how good is the approximation?\n",
    "* Improvements: If the nodes $x_i$ can be chosen freely, how should we do it in order to reduce the error? "
   ]
  },
  {
   "cell_type": "markdown",
   "metadata": {
    "slideshow": {
     "slide_type": "slide"
    }
   },
   "source": [
    "## Preliminaries\n",
    "\n",
    "Let us start with some useful notation and facts about polynomials.  \n",
    "* A polynomial of degree $n$ is given by\n",
    "\n",
    "<!-- Equation labels as ordinary links -->\n",
    "<div id=\"eq:polynomial\"></div>\n",
    "\n",
    "$$\n",
    "\\begin{equation} \\label{eq:polynomial} \\tag{2}\n",
    " p_n(x) = c_{n}x^n + c_{n-1}x^{n-1} + \\cdots + c_1 x_1 + c_0, \\qquad  c_i \\in\n",
    "\\mathbb{R}, \\quad i=0,1,\\dotsc,n.\n",
    "\\end{equation}\n",
    "$$\n",
    "\n",
    "* $\\mathbb{P}_n$ is the set of all polynomials of degree $n$.\n",
    "\n",
    "* $C^m[a,b]$ is the set of all continuous functions that have continuous first $m$ derivatives.  "
   ]
  },
  {
   "cell_type": "markdown",
   "metadata": {
    "slideshow": {
     "slide_type": "slide"
    }
   },
   "source": [
    "* The value $r$ is a root or a zero of a polynomial $p$ if $p(r)=0$.  \n",
    "\n",
    "* A nonzero polynomial of degree $n$ can never have more than $n$ real roots (there may be less).  \n",
    "* A polynomial of degree $n$ with $n$ real roots $r_1,r_2,\\dotsc,r_n$can be written as\n",
    "\n",
    "$$\n",
    "p_n(x) = c(x-r_1)(x-r_2)\\dotsm(x-r_n) = c\\prod_{i=1}^n(x-r_i).\n",
    "$$"
   ]
  },
  {
   "cell_type": "markdown",
   "metadata": {
    "slideshow": {
     "slide_type": "slide"
    }
   },
   "source": [
    "# Methods\n",
    "In this section, we present three techniques for finding the interpolation polynomial for a given set of data. "
   ]
  },
  {
   "cell_type": "markdown",
   "metadata": {
    "slideshow": {
     "slide_type": "slide"
    }
   },
   "source": [
    "## The direct approach\n",
    "For a polynomial of degree $n$ the interpolation condition ([1](#eq:intcond)) is a linear systems of \n",
    "$n+1$ equations in $n+1$ unknowns:\n",
    "\n",
    "$$\n",
    "\\sum_{i=0}^n x_j^i c_i = y_j, \\qquad j=0,\\dotsc, n.\n",
    "$$"
   ]
  },
  {
   "cell_type": "markdown",
   "metadata": {
    "slideshow": {
     "slide_type": "slide"
    }
   },
   "source": [
    "If we are basically interested in the polynomials themself, given by the coefficients $c_i$, $i=0,1,\\dotsc, n$, this is a perfectly fine solution. It is for instance the strategy implemented in MATLAB's interpolation routines. However, in this course, polynomial interpolation will be used as a basic tool to construct other algorithms, in particular for integration. In that case, this is not the most convenient option, so we concentrate on a different strategy, which essentially makes it possible to just write up the polynomials. "
   ]
  },
  {
   "cell_type": "markdown",
   "metadata": {
    "slideshow": {
     "slide_type": "slide"
    }
   },
   "source": [
    "## Lagrange interpolation\n",
    "Given $n+1$ points  $(x_i,y_i)_{i=0}^n$ with distinct $x_i$ values. \n",
    "The *cardinal functions* are defined by:\n",
    "\n",
    "$$\n",
    "\\ell_i(x) = \\prod_{j=0,j\\not=i}^n \\frac{x-x_j}{x_i-x_j}\n",
    "  = \\frac{x-x_0}{x_i-x_0} \\dotsm \\frac{x-x_{i-1}}{x_i-x_{i-1}}\\cdot \\frac{x-x_{i+1}}{x_i-x_{i+1}} \\dotsm \\frac{x-x_n}{x_i-x_n} , \\qquad i=0,\\dotsc,n.\n",
    "$$"
   ]
  },
  {
   "cell_type": "markdown",
   "metadata": {
    "slideshow": {
     "slide_type": "slide"
    }
   },
   "source": [
    "The cardinal functions have the following properties:\n",
    "* $\\ell_i \\in \\mathbb{P}_n$, $i=0,1,\\dotsc,n$.\n",
    "\n",
    "* $\\ell_i(x_j) = \\delta_{ij} = \\begin{cases} 1, & \\text{when } i=j \\\\ 0, & \\text{when }i\\not=j \\end{cases}$.\n",
    "\n",
    "* They are constructed solely from the nodes $x_i$'s.\n",
    "\n",
    "* They are linearly independent, and thus form a basis for $\\mathbb{P}_{n}$.\n",
    "\n",
    "**Remark.** The cardinal functions are also often called  **Lagrange polynomials**."
   ]
  },
  {
   "cell_type": "markdown",
   "metadata": {
    "slideshow": {
     "slide_type": "slide"
    }
   },
   "source": [
    "The interpolation polynomial is now given by\n",
    "\n",
    "$$\n",
    "p_n(x) = \\sum_{i=0}^n y_i \\ell_i(x)\n",
    "$$\n",
    "\n",
    "since\n",
    "\n",
    "$$\n",
    "p_n(x_j) = \\sum_{i=0}^n y_i \\ell_i(x_j) = y_j, \\qquad j=0,\\dotsc,n.\n",
    "$$"
   ]
  },
  {
   "cell_type": "markdown",
   "metadata": {
    "slideshow": {
     "slide_type": "slide"
    }
   },
   "source": [
    "**Example 2:**\n",
    "Given the points:\n",
    "\n",
    "$$\n",
    "\\begin{array}{c|ccc}\n",
    "x_i & 0 & 1 & 3 \\\\ \\hline y_i & 3 & 8 & 6\n",
    "\\end{array}.\n",
    "$$\n",
    "\n",
    "The corresponding cardinal functions are given by:\n",
    "\n",
    "$$\n",
    "\\begin{align*}\n",
    "  \\ell_0(x) & = \\frac{(x-1)(x-3)}{(0-1)(0-3)}\n",
    "           = \\frac{1}{3}x^2-\\frac{4}{3}x+1 \\\\ \n",
    "  \\ell_1(x) & = \\frac{(x-0)(x-3)}{(1-0)(1-3)}\n",
    "           = -\\frac12 x^2 + \\frac32 x \\\\ \n",
    "  \\ell_2(x) &= \\frac{(x-0)(x-1)}{(3-0)(3-1)} = \\frac16 x^2-\\frac16 x\n",
    "\\end{align*}\n",
    "$$"
   ]
  },
  {
   "cell_type": "markdown",
   "metadata": {
    "slideshow": {
     "slide_type": "slide"
    }
   },
   "source": [
    "and the interpolation polynomial is given by (check it yourself):\n",
    "\n",
    "$$\n",
    "p_2(x) = 3 \\ell_0(x) + 8 \\ell_1(x) + 6 \\ell_2(x) = -2x^2 + 7x + 3.\n",
    "$$"
   ]
  },
  {
   "cell_type": "markdown",
   "metadata": {
    "slideshow": {
     "slide_type": "slide"
    }
   },
   "source": [
    "## Implementation\n",
    "The method above is implemented as two functions:\n",
    "* `cardinal(xdata, x)`: Create a list of cardinal functions $\\ell_i(x)$ evaluated in $x$.\n",
    "\n",
    "* `lagrange(ydata, l)`: Create the interpolation polynomial $p_n(x)$.\n",
    "\n",
    "Here, `xdata` and `ydata` are arrays with the interpolation points, and `x` is an \n",
    "array of values in which the polynomials are evaluated. \n",
    "\n",
    "You are not required to understand the implementation of these functions, but you should understand how to use them."
   ]
  },
  {
   "cell_type": "code",
   "execution_count": null,
   "metadata": {
    "slideshow": {
     "slide_type": "slide"
    }
   },
   "outputs": [],
   "source": [
    "import numpy as np\n",
    "import matplotlib.pyplot as plt\n",
    "from math import factorial\n",
    "newparams = {'figure.figsize': (8.0, 4.0), 'axes.grid': True,\n",
    "             'lines.markersize': 8, 'lines.linewidth': 2,\n",
    "             'font.size': 14}\n",
    "plt.rcParams.update(newparams)"
   ]
  },
  {
   "cell_type": "code",
   "execution_count": null,
   "metadata": {
    "slideshow": {
     "slide_type": "slide"
    }
   },
   "outputs": [],
   "source": [
    "def cardinal(xdata, x):\n",
    "    \"\"\"\n",
    "    cardinal(xdata, x): \n",
    "    In: xdata, array with the nodes x_i.\n",
    "        x, array or a scalar of values in which the cardinal functions are evaluated.\n",
    "    Return: l: a list of arrays of the cardinal functions evaluated in x. \n",
    "    \"\"\"\n",
    "    n = len(xdata)              # Number of evaluation points x\n",
    "    l = []\n",
    "    for i in range(n):          # Loop over the cardinal functions\n",
    "        li = np.ones(len(x))\n",
    "        for j in range(n):      # Loop to make the product for l_i\n",
    "            if i is not j:\n",
    "                li = li*(x-xdata[j])/(xdata[i]-xdata[j])\n",
    "        l.append(li)            # Append the array to the list            \n",
    "    return l\n",
    "\n",
    "def lagrange(ydata, l):\n",
    "    \"\"\"\n",
    "    lagrange(ydata, l):\n",
    "    In: ydata, array of the y-values of the interpolation points.\n",
    "         l, a list of the cardinal functions, given by cardinal(xdata, x)\n",
    "    Return: An array with the interpolation polynomial. \n",
    "    \"\"\"\n",
    "    poly = 0                        \n",
    "    for i in range(len(ydata)):\n",
    "        poly = poly + ydata[i]*l[i]  \n",
    "    return poly"
   ]
  },
  {
   "cell_type": "markdown",
   "metadata": {
    "slideshow": {
     "slide_type": "slide"
    }
   },
   "source": [
    "**Example 3:**\n",
    "Test the functions on the interpolation points of Example 2."
   ]
  },
  {
   "cell_type": "code",
   "execution_count": null,
   "metadata": {
    "slideshow": {
     "slide_type": "subslide"
    }
   },
   "outputs": [],
   "source": [
    "%matplotlib widget\n",
    "\n",
    "# Example 3\n",
    "xdata = [0, 1, 3]           # The interpolation points\n",
    "ydata = [3, 8, 6]\n",
    "x = np.linspace(0, 3, 101)     # The x-values in which the polynomial is evaluated\n",
    "l = cardinal(xdata, x)      # Find the cardinal functions evaluated in x\n",
    "p = lagrange(ydata, l)      # Compute the polynomial evaluated in x\n",
    "plt.plot(x, p)                  # Plot the polynomial\n",
    "plt.plot(xdata, ydata, 'o')     # Plot the interpolation points \n",
    "plt.title('The interpolation polynomial p(x)')\n",
    "plt.xlabel('x');"
   ]
  },
  {
   "cell_type": "markdown",
   "metadata": {
    "slideshow": {
     "slide_type": "slide"
    }
   },
   "source": [
    "**Numerical exercises:**\n",
    "1. Plot the cardinal functions for the nodes of Example 1. \n",
    "\n",
    "2. Plot the interpolation polynomials for some points of your own choice."
   ]
  },
  {
   "cell_type": "code",
   "execution_count": null,
   "metadata": {
    "slideshow": {
     "slide_type": "slide"
    }
   },
   "outputs": [],
   "source": [
    "xdata = np.array([0, 1, 3])\n",
    "ydata = np.array([3, 8, 6])\n",
    "\n",
    "x = np.linspace(0, 3, 100)\n",
    "\n",
    "lis = cardinal(xdata, x)\n",
    "p_n = lagrange(ydata, lis)\n",
    "\n",
    "#print(x)\n",
    "#print(lis)\n",
    "plt.plot(x, p_n)\n",
    "plt.plot(xdata, ydata, \"ro\")"
   ]
  },
  {
   "cell_type": "code",
   "execution_count": null,
   "metadata": {
    "slideshow": {
     "slide_type": "slide"
    }
   },
   "outputs": [],
   "source": [
    "%matplotlib widget\n",
    "# Insert your code here (use \"+\" in the Toolbar menu for more cells)\n",
    "\n",
    "legend = []\n",
    "for i in range(len(xdata)):\n",
    "    l_i = lis[i]\n",
    "    l_i_data = np.zeros(len(xdata))\n",
    "    l_i_data[i] = 1\n",
    "    plt.plot(x, lis[i], \"\")\n",
    "    plt.plot(xdata, l_i_data, \"ro\")\n",
    "    legend += [f\"$L_{i}$\", f\"$L_{i}(x_i)$\"]\n",
    "\n",
    "plt.legend(legend)"
   ]
  },
  {
   "cell_type": "markdown",
   "metadata": {
    "slideshow": {
     "slide_type": "slide"
    }
   },
   "source": [
    "## Existence and uniqueness of interpolation polynomials.\n",
    "We have already proved the existence of such polynomials, simply by constructing\n",
    "them. But are they unique? The answer is yes!"
   ]
  },
  {
   "cell_type": "markdown",
   "metadata": {
    "slideshow": {
     "slide_type": "slide"
    }
   },
   "source": [
    "**Theorem: Existence and uniqueness.**\n",
    "\n",
    "Given $n+1$ points $(x_i,y_i)_{i=0}^n$ with distinct $x$ values. Then there is\n",
    "one and only one polynomial $p_n(x) \\in \\mathbb{P}_n$ satisfying the\n",
    "interpolation condition\n",
    "\n",
    "$$\n",
    "p_n(x_i) = y_i, \\qquad i=0,\\dotsc, n.\n",
    "$$"
   ]
  },
  {
   "cell_type": "markdown",
   "metadata": {
    "slideshow": {
     "slide_type": "slide"
    }
   },
   "source": [
    "**Proof.**\n",
    "Suppose there exist two different interpolation polynomials $p_n$ and\n",
    "$q_n$ of degree $n$ interpolating the same $n+1$ points. The\n",
    "polynomial $r(x) = p_n(x)-q_n(x)$ is of degree $n$ with zeros in all\n",
    "the nodes $x_i$, that is a total of $n+1$ zeros. But then $r\\equiv 0$,\n",
    "and the two polynomials $p_n$ and $q_n$ are identical."
   ]
  }
 ],
 "metadata": {
  "celltoolbar": "Slideshow",
  "kernelspec": {
   "display_name": "Python 3 (ipykernel)",
   "language": "python",
   "name": "python3"
  },
  "language_info": {
   "codemirror_mode": {
    "name": "ipython",
    "version": 3
   },
   "file_extension": ".py",
   "mimetype": "text/x-python",
   "name": "python",
   "nbconvert_exporter": "python",
   "pygments_lexer": "ipython3",
   "version": "3.9.6"
  }
 },
 "nbformat": 4,
 "nbformat_minor": 4
}
