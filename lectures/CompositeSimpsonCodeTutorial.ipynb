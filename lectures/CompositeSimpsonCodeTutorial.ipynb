{
 "cells": [
  {
   "cell_type": "code",
   "execution_count": 1,
   "id": "6b609b2e-1cdb-48ce-8d6b-bf4f6f4cf341",
   "metadata": {},
   "outputs": [],
   "source": [
    "import numpy as np\n",
    "import matplotlib.pyplot as plt"
   ]
  },
  {
   "cell_type": "markdown",
   "id": "3dd18de4-1af5-404c-9a37-5698e36b8793",
   "metadata": {},
   "source": [
    "Recall how to create a numpy array"
   ]
  },
  {
   "cell_type": "code",
   "execution_count": 2,
   "id": "7cb91f7e-5a45-4a54-81ab-8f969c239f41",
   "metadata": {},
   "outputs": [
    {
     "name": "stdout",
     "output_type": "stream",
     "text": [
      "[1 2 3 4 5]\n"
     ]
    }
   ],
   "source": [
    "a = np.array([1,2,3,4,5])\n",
    "print(a)"
   ]
  },
  {
   "cell_type": "markdown",
   "id": "b1ab588b-95d9-4598-a46b-76da48ea6154",
   "metadata": {},
   "source": [
    "Indexing and slicing of numpy array. `a[-1]` accesses the last element in the array.\n",
    "Remember that the end index in a slice `a[1,3]` is always *exclusive*, so `a[3]` is not part of the slice."
   ]
  },
  {
   "cell_type": "code",
   "execution_count": 3,
   "id": "651bd80f-8adc-4af3-bba0-a98b932530ec",
   "metadata": {},
   "outputs": [
    {
     "name": "stdout",
     "output_type": "stream",
     "text": [
      "1\n",
      "5\n",
      "[2 3]\n",
      "[2 3 4]\n"
     ]
    }
   ],
   "source": [
    "print(a[0])\n",
    "print(a[-1])\n",
    "print(a[1:3])\n",
    "print(a[1:-1])"
   ]
  },
  {
   "cell_type": "markdown",
   "id": "e3965d1f-3958-4a2f-9179-383f153272ab",
   "metadata": {},
   "source": [
    "## Composite trapezoidal rule\n",
    "Using the trapezoidal rule\n",
    "\n",
    "$\\mathrm{T}[f](x_{i-1},x_{i})\n",
    "=\n",
    "\\tfrac{h}{2} f(x_{i-1}) + \\tfrac{h}{2} f(x_{i})\n",
    "$\n",
    "the resulting composite trapezoidal rule is given by\n",
    "\n",
    "$$\n",
    "\\begin{align*}\n",
    "\\int_a^b f {\\,\\mathrm{d}x} \\approx \\mathrm{CT}[f]({[x_{i-1}, x_{i}]}_{i=1}^{m})\n",
    "= h \\left[ \\tfrac{1}{2} f(x_0) + f(x_1) + \\ldots + f(x_{m-1}) + \\tfrac{1}{2} f(x_m) \\right]\n",
    "\\end{align*}\n",
    "$$"
   ]
  },
  {
   "cell_type": "code",
   "execution_count": 5,
   "id": "264c3af8-0396-487d-bbd9-6ceadd2a210d",
   "metadata": {},
   "outputs": [],
   "source": [
    "def f(x):\n",
    "    return np.sin(x)"
   ]
  },
  {
   "cell_type": "code",
   "execution_count": 11,
   "id": "afcd4d04-c5f6-4853-bcae-a91ec3c50230",
   "metadata": {},
   "outputs": [
    {
     "name": "stdout",
     "output_type": "stream",
     "text": [
      "[0.         0.47942554 0.84147098]\n",
      "[0.47942554]\n",
      "0.45008051550407563\n",
      "x = [0.  0.5 1. ]\n",
      " xm = [0.25 0.75]\n"
     ]
    }
   ],
   "source": [
    "m = 2\n",
    "a, b = 0 ,1 \n",
    "h = (b-a)/m\n",
    "x = np.linspace(a, b, m+1)\n",
    "fx = f(x)\n",
    "print(fx)\n",
    "fxinner =  f(x[1:-1])\n",
    "print(fxinner)\n",
    "sum = np.sum(fxinner)\n",
    "sum += 0.5*fx[0]\n",
    "sum += 0.5*fx[-1]\n",
    "sum *= h\n",
    "print(sum)\n",
    "print(f\"x = {x}\")\n",
    "xm = np.linspace(a+h/2,b-h/2,m)\n",
    "print(f\" xm = {xm}\")\n",
    "fxm = f(xm)\n",
    "sum_xm = h/6*4*np.sum(fxm)\n",
    "csr = sum + sum_xm"
   ]
  },
  {
   "cell_type": "markdown",
   "id": "85da72aa-d785-4c46-ad7d-b960034835ac",
   "metadata": {},
   "source": [
    "Now we wrap the code above into a little function, which takes the interval endpoints $a,b$ and the number of subintervals as function arguments\n",
    "and which returns the computed integral approximation.\n",
    "\n",
    "**N.B.** There was two bugs in my implementation during the tutorial since I copied/pasted the two snippets using\n",
    "`fx[0]` and `fx[-1]` into the function instead of using `f(x[0])` and `f(x[-1])`. The code worked nevertheless\n",
    "since we had already defined it earlier, so we first discovered the bugs when we copied this over to another notebook.\n",
    "The code below for CTR and CSR is now correct.\n"
   ]
  },
  {
   "cell_type": "code",
   "execution_count": 12,
   "id": "74910719-f635-4717-9c03-4105e0b89c94",
   "metadata": {},
   "outputs": [],
   "source": [
    "def CTR(f, a, b, m):\n",
    "    h = (b-a)/m\n",
    "    x = np.linspace(a,b,m+1)\n",
    "    sum = np.sum(f(x[1:-1]))\n",
    "    sum += 0.5*f(x[0]) # Bug: I wrote fx[0] during the tutorial\n",
    "    sum += 0.5*f(x[-1]) # Bug: I wrote fx[-1] during the tutorial\n",
    "    sum *= h\n",
    "    \n",
    "    return sum"
   ]
  },
  {
   "cell_type": "code",
   "execution_count": 9,
   "id": "57aa98b9-2a60-4768-a362-f03efa925d06",
   "metadata": {},
   "outputs": [
    {
     "name": "stdout",
     "output_type": "stream",
     "text": [
      "0.45008051550407563\n"
     ]
    }
   ],
   "source": [
    "ctr = CTR(f, a, b, m)\n",
    "print(ctr)"
   ]
  },
  {
   "cell_type": "markdown",
   "id": "3293663b-ada0-45d0-836e-8ced0d59508a",
   "metadata": {},
   "source": [
    "Implement the composite Simpson's rule which is given by\n",
    "\n",
    "\\begin{align*}\n",
    "\\int_a^b f {\\,\\mathrm{d}x} \\approx \\mathrm{CSR}[f]({[x_{i-1}, x_i]}_{i=1}^{m})\n",
    "&= \n",
    "\\tfrac{h}{6}\n",
    "[\n",
    "f(x_0)\n",
    "+ 4f(x_{x_{1/2}}) + 2f(x_1) \n",
    "+ 4f(x_{3/2}) +     2f(x_2)\n",
    "+ \\ldots\n",
    "\\\\ \n",
    "&\\qquad+2 f(x_{m-1})\n",
    "+\n",
    "4f(x_{x_{m-1/2}}) \n",
    "+f(x_m)\n",
    "].\n",
    "\\end{align*}"
   ]
  },
  {
   "cell_type": "code",
   "execution_count": 14,
   "id": "96e49e17-ce77-4597-893e-951f5a306f69",
   "metadata": {},
   "outputs": [],
   "source": [
    "def CSR(f, a, b, m):\n",
    "    h = (b-a)/m\n",
    "    # Glem delintervalmidpunktene først\n",
    "    x = np.linspace(a,b,m+1)\n",
    "    sum = 2*np.sum(f(x[1:-1]))\n",
    "    sum += f(x[0])\n",
    "    sum += f(x[-1])\n",
    "    sum *= h/6\n",
    "    \n",
    "    # Beregn og legg til bidragene fra delintervalsmidpunktene\n",
    "    xm = np.linspace(a+h/2, b-h/2, m)\n",
    "    sum += h/6*4*np.sum(f(xm))\n",
    "    return sum"
   ]
  }
 ],
 "metadata": {
  "kernelspec": {
   "display_name": "Python 3 (ipykernel)",
   "language": "python",
   "name": "python3"
  },
  "language_info": {
   "codemirror_mode": {
    "name": "ipython",
    "version": 3
   },
   "file_extension": ".py",
   "mimetype": "text/x-python",
   "name": "python",
   "nbconvert_exporter": "python",
   "pygments_lexer": "ipython3",
   "version": "3.9.6"
  }
 },
 "nbformat": 4,
 "nbformat_minor": 5
}
