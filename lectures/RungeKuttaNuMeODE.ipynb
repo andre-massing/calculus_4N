{
 "cells": [
  {
   "cell_type": "markdown",
   "id": "lovely-calendar",
   "metadata": {
    "slideshow": {
     "slide_type": "slide"
    }
   },
   "source": [
    "# Numerical solution of ordinary differential equations: High order Runge-Kutta methods\n",
    "**André Massing**\n",
    "\n",
    "Date: **Oct 11, 2021**\n",
    "\n",
    "If you want to have a nicer theme for your jupyter notebook,\n",
    "download the [cascade stylesheet file calculus4N.css](https://www.math.ntnu.no/emner/TMA4130/2021h/lectures/calculus4N.css)\n",
    "and execute the next cell:"
   ]
  },
  {
   "cell_type": "code",
   "execution_count": null,
   "id": "cooperative-tours",
   "metadata": {
    "slideshow": {
     "slide_type": "fragment"
    }
   },
   "outputs": [],
   "source": [
    "from IPython.core.display import HTML\n",
    "def css_styling():\n",
    "    try:\n",
    "        fname = \"calculus4N.css\"\n",
    "        with open(fname, \"r\") as f:\n",
    "            styles = f.read()\n",
    "            return HTML(styles)\n",
    "    except FileNotFoundError:\n",
    "        print(f\"Could not find css file '{fname}'\")\n",
    "\n",
    "# Comment out next line and execute this cell to restore the default notebook style \n",
    "css_styling()"
   ]
  },
  {
   "cell_type": "markdown",
   "id": "radical-series",
   "metadata": {
    "slideshow": {
     "slide_type": "slide"
    }
   },
   "source": [
    "As always, we start by import some important Python modules."
   ]
  },
  {
   "cell_type": "code",
   "execution_count": null,
   "id": "atlantic-heaven",
   "metadata": {
    "slideshow": {
     "slide_type": "fragment"
    }
   },
   "outputs": [],
   "source": [
    "import numpy as np\n",
    "from numpy import pi\n",
    "from numpy.linalg import solve, norm    \n",
    "import matplotlib.pyplot as plt\n",
    "\n",
    "# Use a funny plotting style\n",
    "plt.xkcd()\n",
    "newparams = {'figure.figsize': (6.0, 6.0), 'axes.grid': True,\n",
    "             'lines.markersize': 8, 'lines.linewidth': 2,\n",
    "             'font.size': 14}\n",
    "plt.rcParams.update(newparams)"
   ]
  },
  {
   "cell_type": "markdown",
   "id": "rotary-religious",
   "metadata": {
    "slideshow": {
     "slide_type": "slide"
    }
   },
   "source": [
    "# Runge-Kutta Methods\n",
    "In the previous lectures we introduced\n",
    "*Euler's method* and *Heun's method* as\n",
    "particular instances of the *One Step Methods*,\n",
    "and we presented the general error theory\n",
    "for one step method.\n",
    "\n",
    "In this note we will consider one step methods which go under the name\n",
    "**Runge-Kutta methods (RKM)**. We will see that Euler's method\n",
    "and Heun's method are instance of RKMs."
   ]
  },
  {
   "cell_type": "markdown",
   "id": "alternate-skating",
   "metadata": {
    "slideshow": {
     "slide_type": "slide"
    }
   },
   "source": [
    "But before we start, we will derive yet another one-step method,\n",
    "known as *explicit midpoint rule* or\n",
    "*improved explicit Euler method*."
   ]
  },
  {
   "cell_type": "markdown",
   "id": "accessible-border",
   "metadata": {
    "slideshow": {
     "slide_type": "fragment"
    }
   },
   "source": [
    "As for Heun's method, we start from the IVP $y' = f(t, y)$,\n",
    "integrate over $[t_k, t_{k+1}]$ and\n",
    "apply the midpoint rule:"
   ]
  },
  {
   "cell_type": "markdown",
   "id": "mechanical-relations",
   "metadata": {
    "slideshow": {
     "slide_type": "fragment"
    }
   },
   "source": [
    "<!-- Equation labels as ordinary links -->\n",
    "<div id=\"_auto1\"></div>\n",
    "\n",
    "$$\n",
    "\\begin{equation}\n",
    "y(t_{k+1}) - y(t_k)\n",
    "= \\int_{t_k}^{t_{k+1}} f(t, y(t)){\\,\\mathrm{d}t}\n",
    "\\label{_auto1} \\tag{1}\n",
    "\\end{equation}\n",
    "$$"
   ]
  },
  {
   "cell_type": "markdown",
   "id": "acknowledged-syria",
   "metadata": {
    "slideshow": {
     "slide_type": "fragment"
    }
   },
   "source": [
    "<!-- Equation labels as ordinary links -->\n",
    "<div id=\"_auto2\"></div>\n",
    "\n",
    "$$\n",
    "\\begin{equation}  \n",
    "\\approx \\tau_k f(t_k + \\tfrac{1}{2}\\tau_k, y(t_k + \\tfrac{1}{2}\\tau_k))\n",
    "\\label{_auto2} \\tag{2}\n",
    "\\end{equation}\n",
    "$$"
   ]
  },
  {
   "cell_type": "markdown",
   "id": "coupled-approval",
   "metadata": {
    "slideshow": {
     "slide_type": "fragment"
    }
   },
   "source": [
    "Since we cannot determine the value $y(t_k + \\tfrac{1}{2}\\tau_k)$ from this system,\n",
    "we borrow an idea from derivation of Heun's method and approximate\n",
    "it using a half explicit Euler step"
   ]
  },
  {
   "cell_type": "markdown",
   "id": "hourly-trinity",
   "metadata": {
    "slideshow": {
     "slide_type": "fragment"
    }
   },
   "source": [
    "$$\n",
    "y(t_k + \\tfrac{1}{2}\\tau_k) \\approx\n",
    "y(t_k + \\tfrac{1}{2}\\tau_k f(t_k, y(t_k)),\n",
    "$$"
   ]
  },
  {
   "cell_type": "markdown",
   "id": "sticky-trail",
   "metadata": {
    "slideshow": {
     "slide_type": "slide"
    }
   },
   "source": [
    "leading to the following one-step methods.\n",
    "\n",
    "Given $y_k, \\tau_k$ and $f$, compute"
   ]
  },
  {
   "cell_type": "markdown",
   "id": "noted-filter",
   "metadata": {
    "slideshow": {
     "slide_type": "fragment"
    }
   },
   "source": [
    "<!-- Equation labels as ordinary links -->\n",
    "<div id=\"eq:improved_euler\"></div>\n",
    "\n",
    "$$\n",
    "\\begin{equation}\n",
    "y_{k+1} := y_k + \\tau_k f(t_k + \\tfrac{1}{2}\\tau_k, y_k + \\tfrac{1}{2}\\tau_k f(t_k, y_k)).\n",
    "\\label{eq:improved_euler} \\tag{3} \\\\ \n",
    "\\end{equation}\n",
    "$$"
   ]
  },
  {
   "cell_type": "markdown",
   "id": "thick-seeker",
   "metadata": {
    "slideshow": {
     "slide_type": "slide"
    }
   },
   "source": [
    "The nested function expression can again be rewritten using 2 *stage\n",
    "derivatives*, which leads to the following form of the\n",
    "**explicit midpoint rule** or\n",
    "**improved explicit Euler method**:"
   ]
  },
  {
   "cell_type": "markdown",
   "id": "offshore-columbus",
   "metadata": {
    "slideshow": {
     "slide_type": "fragment"
    }
   },
   "source": [
    "<!-- Equation labels as ordinary links -->\n",
    "<div id=\"_auto3\"></div>\n",
    "\n",
    "$$\n",
    "\\begin{equation}\n",
    "k_{1} := f(t_k, y_k)\n",
    "\\label{_auto3} \\tag{4}\n",
    "\\end{equation}\n",
    "$$"
   ]
  },
  {
   "cell_type": "markdown",
   "id": "lyric-timothy",
   "metadata": {
    "slideshow": {
     "slide_type": "fragment"
    }
   },
   "source": [
    "<!-- Equation labels as ordinary links -->\n",
    "<div id=\"_auto4\"></div>\n",
    "\n",
    "$$\n",
    "\\begin{equation}  \n",
    "k_{2} := f(t_k + \\tfrac{\\tau_k}{2}, y_k + \\tfrac{\\tau_k}{2} k_1)\n",
    "\\label{_auto4} \\tag{5}\n",
    "\\end{equation}\n",
    "$$"
   ]
  },
  {
   "cell_type": "markdown",
   "id": "cordless-olympus",
   "metadata": {
    "slideshow": {
     "slide_type": "fragment"
    }
   },
   "source": [
    "<!-- Equation labels as ordinary links -->\n",
    "<div id=\"_auto5\"></div>\n",
    "\n",
    "$$\n",
    "\\begin{equation}  \n",
    "y_{k+1} := y_k + \\tau_k k_2\n",
    "\\label{_auto5} \\tag{6}\n",
    "\\end{equation}\n",
    "$$"
   ]
  },
  {
   "cell_type": "markdown",
   "id": "sound-village",
   "metadata": {
    "slideshow": {
     "slide_type": "slide"
    }
   },
   "source": [
    "## Exercise 1: Analyzing the improved explicit Euler method\n",
    "\n",
    "**a)**\n",
    "Find the increment function $\\Phi$ for the improved explicit Euler method.\n",
    "\n",
    "\n",
    "**b)**\n",
    "Assuming the right-hand side $f$ of a given IVP satisfies a Lipschitz\n",
    "condition $\\| f(t, y) - f(t, z)\\| \\leqslant M \\| y-z\\| $ with a\n",
    "constant $L_f$ independent of $t$, show that the incremement function\n",
    "$\\Phi$ of the improved Euler method does also satisfies a Lipschitz\n",
    "condition for some constant $L_{\\Phi}$.\n",
    "\n",
    "<!-- --- begin hint in exercise --- -->\n",
    "\n",
    "**Hint.**\n",
    "Get some inspiration from the corresponding result for Heun's method derived\n",
    "in `ErrorAnalysisNuMeODE` notes.\n",
    "\n",
    "<!-- --- end hint in exercise --- -->\n",
    "\n",
    "**c)**\n",
    "Show the improved explicit Euler method is consistent of order $2$\n",
    "if the right-hand side $f$ of a given IVP is in $C^2$.\n",
    "\n",
    "<!-- --- begin hint in exercise --- -->\n",
    "\n",
    "**Hint.**\n",
    "Get some inspiration from the corresponding result for Heun's method derived\n",
    "in `ErrorAnalysisNuMeODE` notes.\n",
    "\n",
    "<!-- --- end hint in exercise --- -->"
   ]
  },
  {
   "cell_type": "markdown",
   "id": "muslim-yukon",
   "metadata": {
    "slideshow": {
     "slide_type": "slide"
    }
   },
   "source": [
    "Recall that the **explicit Euler method** is defined by"
   ]
  },
  {
   "cell_type": "markdown",
   "id": "seven-static",
   "metadata": {
    "slideshow": {
     "slide_type": "fragment"
    }
   },
   "source": [
    "<!-- Equation labels as ordinary links -->\n",
    "<div id=\"_auto6\"></div>\n",
    "\n",
    "$$\n",
    "\\begin{equation}\n",
    "k_{1} := f(t_k, y_k)\n",
    "\\label{_auto6} \\tag{7}\n",
    "\\end{equation}\n",
    "$$"
   ]
  },
  {
   "cell_type": "markdown",
   "id": "specialized-relevance",
   "metadata": {
    "slideshow": {
     "slide_type": "fragment"
    }
   },
   "source": [
    "<!-- Equation labels as ordinary links -->\n",
    "<div id=\"_auto7\"></div>\n",
    "\n",
    "$$\n",
    "\\begin{equation}  \n",
    "y_{k+1} := y_k + \\tau_k  k_1\n",
    "\\label{_auto7} \\tag{8}\n",
    "\\end{equation}\n",
    "$$"
   ]
  },
  {
   "cell_type": "markdown",
   "id": "pacific-geometry",
   "metadata": {
    "slideshow": {
     "slide_type": "slide"
    }
   },
   "source": [
    "And **Heun's method** or **explicit trapezoidal rule** is similar to the improved explicit Euler method given by"
   ]
  },
  {
   "cell_type": "markdown",
   "id": "introductory-anaheim",
   "metadata": {
    "slideshow": {
     "slide_type": "fragment"
    }
   },
   "source": [
    "<!-- Equation labels as ordinary links -->\n",
    "<div id=\"_auto8\"></div>\n",
    "\n",
    "$$\n",
    "\\begin{equation}\n",
    "k_{1} := f(t_k, y_k)\n",
    "\\label{_auto8} \\tag{9}\n",
    "\\end{equation}\n",
    "$$"
   ]
  },
  {
   "cell_type": "markdown",
   "id": "framed-welding",
   "metadata": {
    "slideshow": {
     "slide_type": "fragment"
    }
   },
   "source": [
    "<!-- Equation labels as ordinary links -->\n",
    "<div id=\"_auto9\"></div>\n",
    "\n",
    "$$\n",
    "\\begin{equation}  \n",
    "k_{2} := f(t_k + \\tau_k, y_k + \\tau_k k_1)\n",
    "\\label{_auto9} \\tag{10}\n",
    "\\end{equation}\n",
    "$$"
   ]
  },
  {
   "cell_type": "markdown",
   "id": "systematic-baseline",
   "metadata": {
    "slideshow": {
     "slide_type": "fragment"
    }
   },
   "source": [
    "<!-- Equation labels as ordinary links -->\n",
    "<div id=\"_auto10\"></div>\n",
    "\n",
    "$$\n",
    "\\begin{equation}  \n",
    "y_{k+1} := y_k + \\tau_k ( \\tfrac{1}{2} k_1  + \\tfrac{1}{2} k_2 ) \n",
    "\\label{_auto10} \\tag{11}\n",
    "\\end{equation}\n",
    "$$"
   ]
  },
  {
   "cell_type": "markdown",
   "id": "upset-chocolate",
   "metadata": {
    "slideshow": {
     "slide_type": "slide"
    }
   },
   "source": [
    "Note that for all schemes so far, we are able to successively compute the stage derivatives,\n",
    "starting from $k_1 = f(t_k, y_{k})$.\n",
    "\n",
    "This is not the case for the last one-step method we encountered so far,\n",
    "namely the **implicit trapezoidal rule** or **Crank-Nicolson method**:\n",
    "\n",
    "<!-- Equation labels as ordinary links -->\n",
    "<div id=\"_auto11\"></div>\n",
    "\n",
    "$$\n",
    "\\begin{equation}\n",
    "y_{k+1} := y_k + \\tau_k (\\tfrac{1}{2} \\underbrace{f(t_k, y_k)}_{:=k_1} + \\tfrac{1}{2}\n",
    "\\underbrace{f(t_k+\\tau_k, y_{k+1}))}_{:= k_2}\n",
    "\\label{_auto11} \\tag{12}\n",
    "\\end{equation}\n",
    "$$\n",
    "\n",
    "Using stage derivatives, we obtain this time"
   ]
  },
  {
   "cell_type": "markdown",
   "id": "interim-violation",
   "metadata": {
    "slideshow": {
     "slide_type": "slide"
    }
   },
   "source": [
    "<!-- Equation labels as ordinary links -->\n",
    "<div id=\"_auto12\"></div>\n",
    "\n",
    "$$\n",
    "\\begin{equation}\n",
    "k_{1} := f(t_k, y_k)\n",
    "\\label{_auto12} \\tag{13}\n",
    "\\end{equation}\n",
    "$$"
   ]
  },
  {
   "cell_type": "markdown",
   "id": "hundred-deficit",
   "metadata": {
    "slideshow": {
     "slide_type": "fragment"
    }
   },
   "source": [
    "<!-- Equation labels as ordinary links -->\n",
    "<div id=\"_auto13\"></div>\n",
    "\n",
    "$$\n",
    "\\begin{equation}  \n",
    "k_{2} := f(t_k + \\tau_k, y_{k} + \\tau (\\tfrac{1}{2}k_1 + \\tfrac{1}{2} k_2)) \n",
    "\\label{_auto13} \\tag{14}\n",
    "\\end{equation}\n",
    "$$"
   ]
  },
  {
   "cell_type": "markdown",
   "id": "black-efficiency",
   "metadata": {
    "slideshow": {
     "slide_type": "fragment"
    }
   },
   "source": [
    "<!-- Equation labels as ordinary links -->\n",
    "<div id=\"_auto14\"></div>\n",
    "\n",
    "$$\n",
    "\\begin{equation}  \n",
    "y_{k+1} := y_k + \\tau_k ( \\dfrac{1}{2} k_1  + \\dfrac{1}{2} k_2 ) \n",
    "\\label{_auto14} \\tag{15}\n",
    "\\end{equation}\n",
    "$$"
   ]
  },
  {
   "cell_type": "markdown",
   "id": "filled-absence",
   "metadata": {
    "slideshow": {
     "slide_type": "slide"
    }
   },
   "source": [
    "The previous examples and the wish for constructing higher ($> 2$) one-step methods\n",
    "leads to following definition\n",
    "\n",
    "## Definition 1: Runge-Kutta methods\n",
    "\n",
    "<div id=\"def:runge-kutta\"></div>\n",
    "\n",
    "Given $b_j$, $c_j$, and $a_{jl}$ for $j,l = 1,\\ldots s$, the Runge-Kutta method is\n",
    "defined by the recipe"
   ]
  },
  {
   "cell_type": "markdown",
   "id": "emotional-delaware",
   "metadata": {
    "slideshow": {
     "slide_type": "fragment"
    }
   },
   "source": [
    "<!-- Equation labels as ordinary links -->\n",
    "<div id=\"_auto15\"></div>\n",
    "\n",
    "$$\n",
    "\\begin{equation}\n",
    "k_{j} :=\n",
    "f(t_k + c_j \\tau, y_i +  \\tau_k \\sum_{l=1}^{s} {a}_{jl} k_l)\n",
    "\\quad\n",
    "j = 1,\\ldots s,\n",
    "\\label{_auto15} \\tag{16}\n",
    "\\end{equation}\n",
    "$$"
   ]
  },
  {
   "cell_type": "markdown",
   "id": "organizational-hearts",
   "metadata": {
    "slideshow": {
     "slide_type": "fragment"
    }
   },
   "source": [
    "<!-- Equation labels as ordinary links -->\n",
    "<div id=\"_auto16\"></div>\n",
    "\n",
    "$$\n",
    "\\begin{equation}  \n",
    "y_{k+1} := y_{k} + \\tau_k \\sum_{j=1}^s b_j k_j\n",
    "\\label{_auto16} \\tag{17}\n",
    "\\end{equation}\n",
    "$$"
   ]
  },
  {
   "cell_type": "markdown",
   "id": "descending-amber",
   "metadata": {
    "slideshow": {
     "slide_type": "slide"
    }
   },
   "source": [
    "Runge-Kutta schemes are often specified in the form of a **Butcher table**:"
   ]
  },
  {
   "cell_type": "markdown",
   "id": "endangered-weapon",
   "metadata": {
    "slideshow": {
     "slide_type": "fragment"
    }
   },
   "source": [
    "<!-- Equation labels as ordinary links -->\n",
    "<div id=\"_auto17\"></div>\n",
    "\n",
    "$$\n",
    "\\begin{equation}\n",
    "\\begin{array}{c|ccc}\n",
    "c_1 & a_{11} & \\cdots & a_{1s}\n",
    "\\\\ \n",
    "\\vdots & \\vdots & & \\vdots\n",
    "\\\\ \n",
    "c_s & a_{s1} & \\cdots & a_{ss}\n",
    "\\\\ \n",
    "\\hline\n",
    "& b_1 & \\cdots & b_s\n",
    "\\end{array}\n",
    "\\label{_auto17} \\tag{18}\n",
    "\\end{equation}\n",
    "$$"
   ]
  },
  {
   "cell_type": "markdown",
   "id": "technical-dayton",
   "metadata": {
    "slideshow": {
     "slide_type": "slide"
    }
   },
   "source": [
    "If $a_{ij} = 0$ for $j \\geqslant i$ the Runge-Kutta method is called **explicit**\n",
    "as the stages $k_i$ are defined explicitly and can be computed successively:"
   ]
  },
  {
   "cell_type": "markdown",
   "id": "collected-biology",
   "metadata": {
    "slideshow": {
     "slide_type": "fragment"
    }
   },
   "source": [
    "<!-- Equation labels as ordinary links -->\n",
    "<div id=\"_auto18\"></div>\n",
    "\n",
    "$$\n",
    "\\begin{equation}\n",
    "k_1 := f(t_k + c_1 \\tau_k, y_k)\n",
    "\\label{_auto18} \\tag{19}\n",
    "\\end{equation}\n",
    "$$"
   ]
  },
  {
   "cell_type": "markdown",
   "id": "fresh-matrix",
   "metadata": {
    "slideshow": {
     "slide_type": "fragment"
    }
   },
   "source": [
    "<!-- Equation labels as ordinary links -->\n",
    "<div id=\"_auto19\"></div>\n",
    "\n",
    "$$\n",
    "\\begin{equation}  \n",
    "k_2 := f(t_k + c_2 \\tau_k, y_k + \\tau_k a_{21} k_1)\n",
    "\\label{_auto19} \\tag{20}\n",
    "\\end{equation}\n",
    "$$"
   ]
  },
  {
   "cell_type": "markdown",
   "id": "large-baptist",
   "metadata": {
    "slideshow": {
     "slide_type": "fragment"
    }
   },
   "source": [
    "<!-- Equation labels as ordinary links -->\n",
    "<div id=\"_auto20\"></div>\n",
    "\n",
    "$$\n",
    "\\begin{equation}  \n",
    "k_3 := f(t_k + c_3 \\tau_k, y_k + \\tau_k a_{31} k_1 + \\tau a_{32} k_2)\n",
    "\\label{_auto20} \\tag{21}\n",
    "\\end{equation}\n",
    "$$"
   ]
  },
  {
   "cell_type": "markdown",
   "id": "wrong-yorkshire",
   "metadata": {
    "slideshow": {
     "slide_type": "fragment"
    }
   },
   "source": [
    "<!-- Equation labels as ordinary links -->\n",
    "<div id=\"_auto21\"></div>\n",
    "\n",
    "$$\n",
    "\\begin{equation}  \n",
    "\\vdots \n",
    "\\label{_auto21} \\tag{22}\n",
    "\\end{equation}\n",
    "$$\n",
    "\n",
    "<!-- Equation labels as ordinary links -->\n",
    "<div id=\"_auto22\"></div>\n",
    "\n",
    "$$\n",
    "\\begin{equation}  \n",
    "k_j := f(t_k + c_j \\tau_k, y_k + \\tau_k \\sum_{l=1}^{j-1} a_{jl} k_l)\n",
    "\\label{_auto22} \\tag{23}\n",
    "\\end{equation}\n",
    "$$\n",
    "\n",
    "<!-- Equation labels as ordinary links -->\n",
    "<div id=\"_auto23\"></div>\n",
    "\n",
    "$$\n",
    "\\begin{equation}  \n",
    "\\vdots \n",
    "\\label{_auto23} \\tag{24}\n",
    "\\end{equation}\n",
    "$$"
   ]
  },
  {
   "cell_type": "markdown",
   "id": "affecting-aviation",
   "metadata": {
    "slideshow": {
     "slide_type": "fragment"
    }
   },
   "source": [
    "<!-- Equation labels as ordinary links -->\n",
    "<div id=\"_auto24\"></div>\n",
    "\n",
    "$$\n",
    "\\begin{equation}  \n",
    "k_s := f(t_k + c_s \\tau_k, y_k + \\tau_k \\sum_{l=1}^{s-1} a_{sl} k_l)\n",
    "\\label{_auto24} \\tag{25}\n",
    "\\end{equation}\n",
    "$$"
   ]
  },
  {
   "cell_type": "markdown",
   "id": "starting-milton",
   "metadata": {
    "slideshow": {
     "slide_type": "fragment"
    }
   },
   "source": [
    "<!-- Equation labels as ordinary links -->\n",
    "<div id=\"_auto25\"></div>\n",
    "\n",
    "$$\n",
    "\\begin{equation}  \n",
    "y_{k+1} := y_{k} + \\tau \\sum_{j=1}^s b_j k_j\n",
    "\\label{_auto25} \\tag{26}\n",
    "\\end{equation}\n",
    "$$"
   ]
  },
  {
   "cell_type": "markdown",
   "id": "front-vegetable",
   "metadata": {
    "slideshow": {
     "slide_type": "slide"
    }
   },
   "source": [
    "## Exercise 2: Butcher tables\n",
    "\n",
    "Write down the Butcher table for the\n",
    "1. explicit Euler\n",
    "\n",
    "2. Heun's method (explicit trapezoidal rule)\n",
    "\n",
    "3. Crank-Nicolson (implicit trapezoidal rule)\n",
    "\n",
    "4. improved explicit Euler method (explicit midpoint rule)\n",
    "\n",
    "and go to \"www.menti.com\" and take the quiz."
   ]
  },
  {
   "cell_type": "markdown",
   "id": "numeric-sentence",
   "metadata": {
    "slideshow": {
     "slide_type": "fragment"
    }
   },
   "source": [
    "$$\n",
    "\\boldsymbol{\\mathrm{A})}\n",
    "\\quad\n",
    "\\begin{array}{c|c c}\n",
    "0 & 0 & 0\n",
    "\\\\ \n",
    "\\tfrac{1}{2} & \\tfrac{1}{2} & 0\n",
    "\\\\ \n",
    "\\hline\n",
    "& 0 & 1\n",
    "\\end{array}\n",
    "\\qquad\n",
    "\\boldsymbol{\\mathrm{B})}\n",
    "\\quad\n",
    "\\begin{array}{c|c}\n",
    "0 & 0\n",
    "\\\\ \n",
    "\\hline\n",
    "& 1\n",
    "\\end{array}\n",
    "\\qquad\n",
    "\\boldsymbol{\\mathrm{C})}\n",
    "\\quad\n",
    "\\begin{array}{c|cc}\n",
    "0 & 0 & 0 \\\\ 1 & 1 & 0 \\\\ \\hline & \\frac{1}{2} & \\frac{1}{2} \n",
    "\\end{array}\n",
    "\\qquad\n",
    "\\boldsymbol{\\mathrm{D})}\n",
    "\\quad\n",
    "\\begin{array}{c|cc}\n",
    "0 & 0 & 0 \\\\ 1 & \\dfrac{1}{2} & \\dfrac{1}{2} \\\\ \\hline & \\frac{1}{2} & \\frac{1}{2} \n",
    "\\end{array}\n",
    "$$"
   ]
  },
  {
   "cell_type": "markdown",
   "id": "foster-supply",
   "metadata": {
    "slideshow": {
     "slide_type": "slide"
    }
   },
   "source": [
    "## Implementation of explicit Runge-Kutta methods\n",
    "\n",
    "Below you will find the implementation a general\n",
    "solver class\n",
    "`ExplicitRungeKutta`\n",
    "which at its initialization takes\n",
    "in a  Butcher table and has `__call__` function\n",
    "\n",
    "```Python\n",
    "        def __call__(self, y0, f, t0, T, n):\n",
    "```\n",
    "\n",
    "and can be used like this"
   ]
  },
  {
   "cell_type": "markdown",
   "id": "ranking-electricity",
   "metadata": {
    "slideshow": {
     "slide_type": "fragment"
    }
   },
   "source": [
    "```Python\n",
    "        # Define Butcher table\n",
    "        a = np.array([[0, 0, 0],\n",
    "                      [1.0/3.0, 0, 0],\n",
    "                      [0, 2.0/3.0, 0]])\n",
    "        \n",
    "        b = np.array([1.0/4.0, 0, 3.0/4.0])\n",
    "        \n",
    "        c = np.array([0,\n",
    "                      1.0/3.0,\n",
    "                      2.0/3.0])\n",
    "        \n",
    "        # Define number of time steps\n",
    "        n = 10\n",
    "        \n",
    "        # Create solver\n",
    "        rk3 = ExplicitRungeKutta(a, b, c)\n",
    "        \n",
    "        # Solve problem (applies __call__ function)\n",
    "        ts, ys = rk3(y0, t0, T, f, Nmax)\n",
    "```"
   ]
  },
  {
   "cell_type": "markdown",
   "id": "animal-income",
   "metadata": {
    "slideshow": {
     "slide_type": "slide"
    }
   },
   "source": [
    "The complete implementation is given here:"
   ]
  },
  {
   "cell_type": "code",
   "execution_count": null,
   "id": "expired-master",
   "metadata": {
    "slideshow": {
     "slide_type": "fragment"
    }
   },
   "outputs": [],
   "source": [
    "class ExplicitRungeKutta:\n",
    "    def __init__(self, a, b, c):\n",
    "        self.a = a\n",
    "        self.b = b\n",
    "        self.c = c\n",
    "\n",
    "    def __call__(self, y0, t0, T, f, Nmax):\n",
    "        # Extract Butcher table\n",
    "        a, b, c = self.a, self.b, self.c\n",
    "        \n",
    "        # Stages\n",
    "        s = len(b)\n",
    "        ks = [np.zeros_like(y0, dtype=np.double) for s in range(s)]\n",
    "\n",
    "        # Start time-stepping\n",
    "        ys = [y0]\n",
    "        ts = [t0]\n",
    "        dt = (T - t0)/Nmax\n",
    "        \n",
    "        while(ts[-1] < T):\n",
    "            t, y = ts[-1], ys[-1]\n",
    "            \n",
    "            # Compute stages derivatives k_j\n",
    "            for j in range(s):\n",
    "                t_j = t + c[j]*dt\n",
    "                dY_j = np.zeros_like(y, dtype=np.double)\n",
    "                for l in range(j):\n",
    "                    dY_j += dt*a[j,l]*ks[l]\n",
    "\n",
    "                ks[j] = f(t_j, y + dY_j)\n",
    "                \n",
    "            # Compute next time-step\n",
    "            dy = np.zeros_like(y, dtype=np.double)\n",
    "            for j in range(s):\n",
    "                dy += dt*b[j]*ks[j]\n",
    "            \n",
    "            ys.append(y + dy)\n",
    "            ts.append(t + dt)\n",
    "            \n",
    "        return (np.array(ts), np.array(ys))"
   ]
  },
  {
   "cell_type": "markdown",
   "id": "fewer-diana",
   "metadata": {
    "slideshow": {
     "slide_type": "slide"
    }
   },
   "source": [
    "## Example 1: Implementation and testing of the improved Euler method\n",
    "\n",
    "We implement the **improved explicit Euler** from above and\n",
    "plot the analytical and the numerical solution. \n",
    "To determine the convergence order, we import the `compute_eoc`"
   ]
  },
  {
   "cell_type": "code",
   "execution_count": null,
   "id": "favorite-respondent",
   "metadata": {
    "slideshow": {
     "slide_type": "fragment"
    }
   },
   "outputs": [],
   "source": [
    "def compute_eoc(y0, t0, T, f, Nmax_list, solver, y_ex):\n",
    "    errs = [ ]\n",
    "    for Nmax in Nmax_list:\n",
    "        ts, ys = solver(y0, t0, T, f, Nmax)\n",
    "        ys_ex = y_ex(ts)\n",
    "        errs.append(np.abs(ys - ys_ex).max())\n",
    "        print(\"For Nmax = {:3}, max ||y(t_i) - y_i||= {:.3e}\".format(Nmax,errs[-1]))\n",
    "\n",
    "    errs = np.array(errs)\n",
    "    Nmax_list = np.array(Nmax_list)\n",
    "    dts = (T-t0)/Nmax_list\n",
    "\n",
    "    eocs = np.log(errs[1:]/errs[:-1])/np.log(dts[1:]/dts[:-1])\n",
    "\n",
    "    # Insert inf at beginning of eoc such that errs and eoc have same length \n",
    "    eocs = np.insert(eocs, 0, np.Inf)\n",
    "\n",
    "    return errs, eocs"
   ]
  },
  {
   "cell_type": "markdown",
   "id": "religious-emperor",
   "metadata": {
    "slideshow": {
     "slide_type": "slide"
    }
   },
   "source": [
    "Here is the implementation of the full example."
   ]
  },
  {
   "cell_type": "code",
   "execution_count": null,
   "id": "controlled-studio",
   "metadata": {
    "slideshow": {
     "slide_type": "fragment"
    }
   },
   "outputs": [],
   "source": [
    "# Define Butcher table for improved Euler\n",
    "a = np.array([[0,   0],\n",
    "            [0.5, 0]])\n",
    "b = np.array([0, 1])\n",
    "c = np.array([0, 0.5])\n",
    "\n",
    "# Create a new Runge Kutta solver\n",
    "rk2 = ExplicitRungeKutta(a, b, c)\n",
    "\n",
    "t0, T = 0, 1\n",
    "y0 = 1\n",
    "lam = 1\n",
    "Nmax = 10\n",
    "\n",
    "# rhs of IVP\n",
    "f = lambda t,y: lam*y\n",
    "\n",
    "# the solver can be simply called as before, namely as function:\n",
    "ts, ys = rk2(y0, t0, T, f, Nmax)\n",
    "\n",
    "plt.figure()\n",
    "plt.plot(ts, ys, \"c--o\", label=\"$y_{\\mathrm{heun}}$\")\n",
    "\n",
    "# Exact solution to compare against\n",
    "y_ex = lambda t: y0*np.exp(lam*(t-t0))\n",
    "\n",
    "# Plot the exact solution (will appear in the plot above)\n",
    "plt.plot(ts, y_ex(ts), \"m-\", label=\"$y_{\\mathrm{ex}}$\")\n",
    "plt.legend()\n",
    "\n",
    "# Run an EOC test\n",
    "Nmax_list = [4, 8, 16, 32, 64, 128]\n",
    "\n",
    "errs, eocs = compute_eoc(y0, t0, T, f, Nmax_list, rk2, y_ex)\n",
    "print(errs)\n",
    "print(eocs)\n",
    "\n",
    "# Do a pretty print of the tables using panda\n",
    "\n",
    "import pandas as pd\n",
    "from IPython.display import display\n",
    "\n",
    "table = pd.DataFrame({'Error': errs, 'EOC' : eocs})\n",
    "display(table)"
   ]
  },
  {
   "cell_type": "markdown",
   "id": "dominant-extension",
   "metadata": {
    "slideshow": {
     "slide_type": "slide"
    }
   },
   "source": [
    "## Supplemental: Runge-Kutta Methods via Numerical Integration\n",
    "This section provides a supplemental and more in-depth motivation of how to\n",
    "arrive at the general concept of Runge-Kutta methods via numerical integration,\n",
    "similar to the ideas we already presented when we derived Crank-Nicolson, Heun's method\n",
    "and the explicit trapezoidal rule.\n",
    "\n",
    "For a given time interval $I_i = [t_i, t_{i+1}]$ we\n",
    "want to compute $y_{i+1}$ assuming that $y_i$ is given.\n",
    "Starting from the exact expression"
   ]
  },
  {
   "cell_type": "markdown",
   "id": "rapid-cathedral",
   "metadata": {
    "slideshow": {
     "slide_type": "fragment"
    }
   },
   "source": [
    "$$\n",
    "y(t_{i+1}) - y(t_i) = \\int_{t_i}^{t_{i+1}} f(t, y(t)){\\,\\mathrm{d}t},\n",
    "$$\n",
    "\n",
    "the idea is now to approximate the integral by some quadrature\n",
    "rule $\\mathrm{Q}[\\cdot](\\{\\xi_j\\}_{j=1}^s,\\{b_j\\}_{j=1}^s)$ defined on $I_i$.\n",
    "Then we get"
   ]
  },
  {
   "cell_type": "markdown",
   "id": "comparable-enhancement",
   "metadata": {
    "slideshow": {
     "slide_type": "fragment"
    }
   },
   "source": [
    "<!-- Equation labels as ordinary links -->\n",
    "<div id=\"_auto26\"></div>\n",
    "\n",
    "$$\n",
    "\\begin{equation}\n",
    "y(t_{i+1}) - y(t_i) = \\int_{t_i}^{t_{i+1}} f(t, y(t)){\\,\\mathrm{d}t}\n",
    "\\label{_auto26} \\tag{27}\n",
    "\\end{equation}\n",
    "$$"
   ]
  },
  {
   "cell_type": "markdown",
   "id": "completed-freedom",
   "metadata": {
    "slideshow": {
     "slide_type": "fragment"
    }
   },
   "source": [
    "<!-- Equation labels as ordinary links -->\n",
    "<div id=\"_auto27\"></div>\n",
    "\n",
    "$$\n",
    "\\begin{equation}  \n",
    "\\approx \\tau \\sum_{j=0}^s b_j f(\\xi_j, y(\\xi_j))\n",
    "\\label{_auto27} \\tag{28}\n",
    "\\end{equation}\n",
    "$$"
   ]
  },
  {
   "cell_type": "markdown",
   "id": "smaller-copper",
   "metadata": {
    "slideshow": {
     "slide_type": "fragment"
    }
   },
   "source": [
    "Now we can define $\\{c_j\\}_{j=1}^s$ such that  $\\xi_j = t_{i} + c_j \\tau$\n",
    "for $j=1,\\ldots,s$"
   ]
  },
  {
   "cell_type": "markdown",
   "id": "fixed-paste",
   "metadata": {
    "slideshow": {
     "slide_type": "slide"
    }
   },
   "source": [
    "## Exercise 3: A first condition on $b_j$\n",
    "\n",
    "<!-- --- previous heading type: exercise -->\n",
    "\n",
    "**Question:** What value do you expect for $\\sum_{j=1}^s b_{j}$?\n",
    "\n",
    "**Choice A:**\n",
    " $\\sum_{j=1}^s b_{j} = \\tau$\n",
    "\n",
    "**Choice B:**\n",
    " $\\sum_{j=1}^s b_{j} = 0$\n",
    "\n",
    "**Choice C:**\n",
    " $\\sum_{j=1}^s b_{j} = 1$"
   ]
  },
  {
   "cell_type": "markdown",
   "id": "wicked-circulation",
   "metadata": {
    "slideshow": {
     "slide_type": "slide"
    }
   },
   "source": [
    "In contrast to pure numerical integration, we don't know the values\n",
    "of $y(\\xi_j)$. Again, we could use the same idea to approximate"
   ]
  },
  {
   "cell_type": "markdown",
   "id": "minute-offense",
   "metadata": {
    "slideshow": {
     "slide_type": "fragment"
    }
   },
   "source": [
    "$$\n",
    "y(\\xi_j) - y(t_i) = \\int_{t_i}^{t_i+c_j \\tau} f(t, y(t)){\\,\\mathrm{d}t}\n",
    "$$"
   ]
  },
  {
   "cell_type": "markdown",
   "id": "broad-cleveland",
   "metadata": {
    "slideshow": {
     "slide_type": "fragment"
    }
   },
   "source": [
    "but then again we get a closure problem if we choose new quadrature points.\n",
    "The idea is now to *not introduce even more new quadrature points* but to\n",
    "use same $y(\\xi_j)$ to avoid the closure problem.\n",
    "Note that this leads to an approximation of the integrals $\\int_{t_i}^{t_i+c_j \\tau}$\n",
    "with possible nodes *outside* of $[t_i, t_i + c_j \\tau ]$.\n",
    "\n",
    "This leads us to"
   ]
  },
  {
   "cell_type": "markdown",
   "id": "stretch-mattress",
   "metadata": {
    "slideshow": {
     "slide_type": "slide"
    }
   },
   "source": [
    "<!-- Equation labels as ordinary links -->\n",
    "<div id=\"_auto28\"></div>\n",
    "\n",
    "$$\n",
    "\\begin{equation}\n",
    "y(\\xi_j) - y(t_i) = \\int_{t_i}^{t_i+c_j \\tau} f(t, y(t)){\\,\\mathrm{d}t}\n",
    "\\label{_auto28} \\tag{29}\n",
    "\\end{equation}\n",
    "$$"
   ]
  },
  {
   "cell_type": "markdown",
   "id": "central-fiber",
   "metadata": {
    "slideshow": {
     "slide_type": "fragment"
    }
   },
   "source": [
    "<!-- Equation labels as ordinary links -->\n",
    "<div id=\"_auto29\"></div>\n",
    "\n",
    "$$\n",
    "\\begin{equation}  \n",
    "\\approx c_j \\tau \\sum_{l=1}^{s}\n",
    "\\tilde{a}_{jl}\n",
    "f(\\xi_l, y(\\xi_l))\n",
    "\\label{_auto29} \\tag{30}\n",
    "\\end{equation}\n",
    "$$"
   ]
  },
  {
   "cell_type": "markdown",
   "id": "metropolitan-cooking",
   "metadata": {
    "slideshow": {
     "slide_type": "fragment"
    }
   },
   "source": [
    "<!-- Equation labels as ordinary links -->\n",
    "<div id=\"_auto30\"></div>\n",
    "\n",
    "$$\n",
    "\\begin{equation}  \n",
    "=\n",
    "\\tau \\sum_{l=1}^{s}\n",
    "{a}_{jl}\n",
    "f(\\xi_l, y(\\xi_l))\n",
    "\\label{_auto30} \\tag{31}\n",
    "\\end{equation}\n",
    "$$\n",
    "\n",
    "where we set $ c_j  \\tilde{a}_{jl} = a_{jl}$."
   ]
  },
  {
   "cell_type": "markdown",
   "id": "valid-artist",
   "metadata": {
    "slideshow": {
     "slide_type": "slide"
    }
   },
   "source": [
    "## Exercise 4: A first condition on $a_{jl}$\n",
    "\n",
    "<!-- --- previous heading type: exercise -->\n",
    "\n",
    "**Question:** What value do you expect for $\\sum_{l=1}^s a_{jl}$?\n",
    "\n",
    "**Choice A:**\n",
    " $\\sum_{l=1}^s a_{jl} =  \\tfrac{1}{c_j}$\n",
    "\n",
    "**Choice B:**\n",
    " $\\sum_{l=1}^s a_{jl} =  c_j $\n",
    "\n",
    "**Choice C:**\n",
    " $\\sum_{l=1}^s a_{jl} =  1 $\n",
    "\n",
    "**Choice D:**\n",
    " $\\sum_{l=1}^s a_{jl} =  \\tau $\n",
    "\n",
    "The previous discussion leads to the following alternative but equivalent definition\n",
    "of Runge-Kutta derivatives via *stages* $Y_j$ (and not stage derivatives $k_j$):"
   ]
  },
  {
   "cell_type": "markdown",
   "id": "framed-crown",
   "metadata": {
    "slideshow": {
     "slide_type": "slide"
    }
   },
   "source": [
    "## Definition 2: Runge-Kutta methods\n",
    "\n",
    "Given $b_j$, $c_j$, and $a_{jl}$ for $j,l = 1,\\ldots s$, the Runge-Kutta method is\n",
    "defined by the recipe\n",
    "\n",
    "<!-- Equation labels as ordinary links -->\n",
    "<div id=\"eq:rk-stages\"></div>\n",
    "\n",
    "$$\n",
    "\\begin{equation}\n",
    "Y_{j}\n",
    "= y_i +  \\tau \\sum_{l=1}^{s} {a}_{jl}\n",
    "f(t_i + c_l \\tau, Y_l) \\quad \\text{for } j = 1,\\ldots s,\n",
    "\\label{eq:rk-stages} \\tag{32}\n",
    "\\end{equation}\n",
    "$$\n",
    "\n",
    "<!-- Equation labels as ordinary links -->\n",
    "<div id=\"eq:rk-final\"></div>\n",
    "\n",
    "$$\n",
    "\\begin{equation}  \n",
    "\\label{eq:rk-final} \\tag{33}\n",
    "y_{i+1} = y_i + \\tau \\sum_{j=1}^s b_j f(t_i + c_j \\tau, Y_j)\n",
    "\\end{equation}\n",
    "$$"
   ]
  },
  {
   "cell_type": "markdown",
   "id": "paperback-momentum",
   "metadata": {
    "slideshow": {
     "slide_type": "slide"
    }
   },
   "source": [
    "Note that in the final step, all the function evaluation we need\n",
    "to perform have already been performed when computing $Y_j$.\n",
    "\n",
    "Therefore one often rewrite the scheme by introducing **stage derivatives** $k_l$"
   ]
  },
  {
   "cell_type": "markdown",
   "id": "mineral-arabic",
   "metadata": {
    "slideshow": {
     "slide_type": "slide"
    }
   },
   "source": [
    "<!-- Equation labels as ordinary links -->\n",
    "<div id=\"_auto31\"></div>\n",
    "\n",
    "$$\n",
    "\\begin{equation}\n",
    "k_l\n",
    "= f(t_i + c_l \\tau, Y_l)\n",
    "\\label{_auto31} \\tag{34}\n",
    "\\end{equation}\n",
    "$$\n",
    "\n",
    "<!-- Equation labels as ordinary links -->\n",
    "<div id=\"_auto32\"></div>\n",
    "\n",
    "$$\n",
    "\\begin{equation}  \n",
    " = f(t_i + c_l \\tau, y_i +  \\tau \\sum_{j=1}^{s} {a}_{lj}\n",
    "k_j) \\quad\n",
    "j = 1,\\ldots s,\n",
    "\\label{_auto32} \\tag{35}\n",
    "\\end{equation}\n",
    "$$"
   ]
  },
  {
   "cell_type": "markdown",
   "id": "comfortable-broadcasting",
   "metadata": {
    "slideshow": {
     "slide_type": "fragment"
    }
   },
   "source": [
    "so the resulting scheme will be (swapping index $l$ and $j$)"
   ]
  },
  {
   "cell_type": "markdown",
   "id": "coral-cosmetic",
   "metadata": {
    "slideshow": {
     "slide_type": "slide"
    }
   },
   "source": [
    "<!-- Equation labels as ordinary links -->\n",
    "<div id=\"eq:rk-stage-derivatives\"></div>\n",
    "\n",
    "$$\n",
    "\\begin{equation}\n",
    "k_{j} =\n",
    "f(t_i + c_j \\tau, y_i +  \\tau \\sum_{l=1}^{s} {a}_{jl} k_l)\n",
    "\\quad\n",
    "j = 1,\\ldots s,\n",
    "\\label{eq:rk-stage-derivatives} \\tag{36}\n",
    "\\end{equation}\n",
    "$$\n",
    "\n",
    "<!-- Equation labels as ordinary links -->\n",
    "<div id=\"eq:rk-final-stage-derivatives\"></div>\n",
    "\n",
    "$$\n",
    "\\begin{equation}  \n",
    "\\label{eq:rk-final-stage-derivatives} \\tag{37}\n",
    "y_{i+1} = y_{i} + \\tau \\sum_{j=1}^s b_j k_j\n",
    "\\end{equation}\n",
    "$$"
   ]
  },
  {
   "cell_type": "markdown",
   "id": "exterior-reviewer",
   "metadata": {
    "slideshow": {
     "slide_type": "slide"
    }
   },
   "source": [
    "which is exactly what we used as definition for general Runge-Kutta methods in the\n",
    "previous section.\n",
    "\n",
    "## Convergence of Runge-Kutta Methods\n",
    "The convergence theorem for one-step methods\n",
    "gave us some necessary conditions to guarantee\n",
    "that a method is convergent order of $p$:\n",
    "\"consistency order $p$\" + \"Increment function satisfies a Lipschitz condition\"\n",
    "$\\Rightarrow$\n",
    "\"convergence order $p$.\n",
    "\n",
    "``local truncation error behaves like $\\mathcal{O}(\\tau^{p+1})$\"\n",
    "+ \"Increment function satisfies a Lipschitz condition\"\n",
    "$\\Rightarrow$\n",
    "\"global truncation error behaves like $\\mathcal{O}(\\tau^{p})$\"\n",
    "\n",
    "It turns out that for $f$ is at least $C^1$ with respect to all\n",
    "its arguments then the increment function $\\Phi$\n",
    "associated with any Runge-Kutta methods satisfies\n",
    "a Lipschitz condition. The next theorem provides\n",
    "us a simple way to check whether a given Runge-Kutta\n",
    "(up to 4 stages) attains a certain consistency order."
   ]
  },
  {
   "cell_type": "markdown",
   "id": "concrete-marks",
   "metadata": {
    "slideshow": {
     "slide_type": "slide"
    }
   },
   "source": [
    "## Theorem 1: Order conditions for Runge-Kutta methods\n",
    "\n",
    "<div id=\"thm:rk-order-conditions\"></div>\n",
    "Let the right-hand side $f$ of an IVP be of $C^p$.\n",
    "Then a Runge - Kutta method has consistency order $p$ if and only if all the\n",
    "conditions up to and including $p$ in the table below are satisfied."
   ]
  },
  {
   "cell_type": "markdown",
   "id": "driving-proposition",
   "metadata": {
    "slideshow": {
     "slide_type": "slide"
    }
   },
   "source": [
    "$$\n",
    "\\begin{array}{|c|c|c}\n",
    "   \\hline\n",
    "   p  & \\text{conditions}  \\\\ \\hline \n",
    "   1 & \\sum_{i=1}^s b_i = 1 \\\\ \\hline \n",
    "  2 & \\sum_{i=1}^s b_i c_i = 1/2 \\\\ \\hline \n",
    "  3 & \\sum_{i=1}^s b_i c_i^2 = 1/3\\\\ \n",
    "   & \\sum_{i,j=1}^s b_i a_{ij} c_j = 1/6 \n",
    "  \\\\ \\hline \n",
    "  4 & \\sum_{i=1}^s b_ic_i^3=1/4 \\\\ \n",
    "  & \\sum_{i,j=1}^s b_i c_i a_{ij}c_j=1/8 \\\\ \n",
    "  & \\sum_{i,j=1}^s b_i a_{ij}c_j^2=1/12 \\\\ \n",
    "  & \\sum_{i,j,k=1}^s b_i a_{ij} a_{jk} c_k = 1/24 \\\\ \\hline \n",
    "\\end{array}\n",
    "$$\n",
    "\n",
    "where sums are taken over all the indices from 1 to $s$.\n",
    "\n",
    "**Proof.**\n",
    "Without proof."
   ]
  },
  {
   "cell_type": "markdown",
   "id": "dirty-science",
   "metadata": {
    "slideshow": {
     "slide_type": "slide"
    }
   },
   "source": [
    "## Example 2: Applying order conditions to Heun's method\n",
    "\n",
    "Apply the conditions to Heun's method, for which $s=2$ and the Butcher tableau is"
   ]
  },
  {
   "cell_type": "markdown",
   "id": "rolled-parliament",
   "metadata": {
    "slideshow": {
     "slide_type": "fragment"
    }
   },
   "source": [
    "$$\n",
    "\\begin{array}{c|cc} \n",
    "c_1 & a_{11} & a_{12} \\\\ c_2 & a_{21} & a_{22} \\\\ \\hline & b_1 & b_2 \n",
    "\\end{array}\n",
    "=\n",
    "\\begin{array}{c|cc}\n",
    "0 & 0 & 0 \\\\ 1 & 1 & 0 \\\\ \\hline & \\frac{1}{2} & \\frac{1}{2} \n",
    "\\end{array}.\n",
    "$$"
   ]
  },
  {
   "cell_type": "markdown",
   "id": "violent-august",
   "metadata": {
    "slideshow": {
     "slide_type": "fragment"
    }
   },
   "source": [
    "The order conditions are:\n",
    "\n",
    "$$\n",
    "\\begin{align*}\n",
    "p&=1 & b_1 + b_2 &= \\frac{1}{2} + \\frac{1}{2}= 1 && \\text{OK} \\\\ \\mbox{}\\\\ \\hline \\\\ \n",
    "p&=2 & b_1c_1 + b_2 c_2 &= \\frac{1}{2}\\cdot 0 + \\frac{1}{2}\\cdot 1 = \\frac{1}{2} && \\text{OK}\\\\ \\mbox{} \\\\ \\hline \\\\ \n",
    "p&=3 & b_1c_1^2 + b_2c_2^2 &= \\frac{1}{2}\\cdot 0^2 + \\frac{1}{2}\\cdot 1^2 = \\frac{1}{2} \\not= \\frac{1}{3} && \\text{Not satisfied} \\\\ \n",
    " &   & b_1(a_{11}c_1+a_{12}c_2)+b_2(a_{21}c_1+a_{22}c_2) &= \\frac{1}{2}(0\\cdot0 + 0\\cdot 1) + \\frac{1}{2}(1\\cdot 0 + 0\\cdot 1) \\\\ \n",
    "      &&&= 0 \\not=\\frac{1}{6} && \\text{Not satisfied}\n",
    "\\end{align*}\n",
    "$$"
   ]
  },
  {
   "cell_type": "markdown",
   "id": "finished-houston",
   "metadata": {
    "slideshow": {
     "slide_type": "fragment"
    }
   },
   "source": [
    "The method is of order 2."
   ]
  },
  {
   "cell_type": "markdown",
   "id": "consecutive-marking",
   "metadata": {
    "slideshow": {
     "slide_type": "slide"
    }
   },
   "source": [
    "## Theorem 2: Convergence theorem for Runge-Kutta methods\n",
    "\n",
    "<div id=\"thm:rk-convergence\"></div>\n",
    "Given the IVP ${\\boldsymbol y}' = {\\boldsymbol f}(t, {\\boldsymbol y}), {\\boldsymbol y}(0) = {\\boldsymbol y}_0$.\n",
    "Assume $f \\in C^p$ and that a given Runge-Kutta method satisfies\n",
    "the order conditions\n",
    "from Theorem [Theorem 1: Order conditions for Runge-Kutta methods](#thm:rk-order-conditions)\n",
    "up to order $p$.\n",
    "Then the Runge-Kutta method is convergent of order $p$.\n",
    "\n",
    "**Proof.**\n",
    "Without proof."
   ]
  }
 ],
 "metadata": {
  "kernelspec": {
   "display_name": "Python 3",
   "language": "python",
   "name": "python3"
  },
  "language_info": {
   "codemirror_mode": {
    "name": "ipython",
    "version": 3
   },
   "file_extension": ".py",
   "mimetype": "text/x-python",
   "name": "python",
   "nbconvert_exporter": "python",
   "pygments_lexer": "ipython3",
   "version": "3.9.5"
  }
 },
 "nbformat": 4,
 "nbformat_minor": 5
}
