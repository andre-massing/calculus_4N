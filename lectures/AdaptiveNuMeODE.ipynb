{
 "cells": [
  {
   "cell_type": "markdown",
   "id": "tough-weather",
   "metadata": {
    "slideshow": {
     "slide_type": "slide"
    }
   },
   "source": [
    "# Numerical solution of ordinary differential equations: Error estimation and step size control\n",
    "**Anne Kværnø, André Massing**\n",
    "\n",
    "Date: **Oct 13, 2021**\n",
    "\n",
    "If you want to have a nicer theme for your jupyter notebook,\n",
    "download the [cascade stylesheet file calculus4N.css](https://www.math.ntnu.no/emner/TMA4130/2021h/lectures/calculus4N.css)\n",
    "and execute the next cell:"
   ]
  },
  {
   "cell_type": "code",
   "execution_count": 1,
   "id": "inappropriate-physics",
   "metadata": {
    "slideshow": {
     "slide_type": "slide"
    }
   },
   "outputs": [],
   "source": [
    "from IPython.core.display import HTML\n",
    "def css_styling():\n",
    "    try:\n",
    "        fname = \"calculus4N.css\"\n",
    "        with open(fname, \"r\") as f:\n",
    "            styles = f.read()\n",
    "            return HTML(styles)\n",
    "    except FileNotFoundError:\n",
    "        print(f\"Could not find css file '{fname}'\")\n",
    "\n",
    "# Comment out next line and execute this cell to restore the default notebook style \n",
    "css_styling()"
   ]
  },
  {
   "cell_type": "markdown",
   "id": "choice-combination",
   "metadata": {
    "slideshow": {
     "slide_type": "slide"
    }
   },
   "source": [
    "As always, we start by import some important Python modules."
   ]
  },
  {
   "cell_type": "code",
   "execution_count": 2,
   "id": "close-knight",
   "metadata": {
    "slideshow": {
     "slide_type": "fragment"
    }
   },
   "outputs": [],
   "source": [
    "import numpy as np\n",
    "from numpy import pi\n",
    "from numpy.linalg import solve, norm    \n",
    "import matplotlib.pyplot as plt\n",
    "\n",
    "# Do a pretty print of the tables using panda\n",
    "import pandas as pd\n",
    "from IPython.display import display\n",
    "\n",
    "# Use a funny plotting style\n",
    "plt.xkcd()\n",
    "newparams = {'figure.figsize': (6.0, 6.0), 'axes.grid': True,\n",
    "             'lines.markersize': 8, 'lines.linewidth': 2,\n",
    "             'font.size': 14}\n",
    "plt.rcParams.update(newparams)"
   ]
  },
  {
   "cell_type": "markdown",
   "id": "imported-tobago",
   "metadata": {
    "slideshow": {
     "slide_type": "slide"
    }
   },
   "source": [
    "# Runge Kutta methods with automatic adaptive time-step selection"
   ]
  },
  {
   "cell_type": "markdown",
   "id": "fallen-housing",
   "metadata": {
    "slideshow": {
     "slide_type": "slide"
    }
   },
   "source": [
    "## Error estimation\n",
    "Given two methods, one of order $p$ and the other of order $p+1$ or higher. Assume we have\n",
    "reached a point $(t_n,\\mathbf{y}_n)$. One step forward with each of these methods can be written as"
   ]
  },
  {
   "cell_type": "markdown",
   "id": "smooth-banks",
   "metadata": {
    "slideshow": {
     "slide_type": "fragment"
    }
   },
   "source": [
    "$$\n",
    "\\begin{align*}\n",
    "  \\mathbf{y}_{n+1} &= \\mathbf{y}_n + \\tau \\mathbf{\\Phi}(t_n, \\mathbf{y}_n; \\tau), && \\text{order $p$}, \\\\ \n",
    "  \\widehat{\\mathbf{y}}_{n+1} &= \\mathbf{y}_n + \\tau \\widehat{\\mathbf{\\Phi}}(t_n, \\mathbf{y}_n; \\tau), && \\text{order $\\widehat{p} = p+1$ or more}. \\\\ \n",
    "\\end{align*}\n",
    "$$"
   ]
  },
  {
   "cell_type": "markdown",
   "id": "abandoned-housing",
   "metadata": {
    "slideshow": {
     "slide_type": "fragment"
    }
   },
   "source": [
    "Let $\\mathbf{y}(t_{n+1};t_n,\\mathbf{y}_n)$ be the exact solution of the ODE through $(t_n,\\mathbf{y}_n)$.\n",
    "We would like to find an estimate for *the local error* $\\mathbf{l}_{n+1}$, that is, the error in one step starting from  $(t_n, \\mathbf{y}_n)$,"
   ]
  },
  {
   "cell_type": "markdown",
   "id": "electrical-explorer",
   "metadata": {
    "slideshow": {
     "slide_type": "fragment"
    }
   },
   "source": [
    "$$\n",
    "\\mathbf{l}_{n+1} = \\mathbf{y}(t_{n+1};t_n,\\mathbf{y}_n) - \\mathbf{y}_{n+1}.\n",
    "$$"
   ]
  },
  {
   "cell_type": "markdown",
   "id": "fiscal-issue",
   "metadata": {
    "slideshow": {
     "slide_type": "slide"
    }
   },
   "source": [
    "As we already have seen, the local error is found by finding the power series in $\\tau$ of the exact\n",
    "and the numerical solution. The local error is of order $p$ if the lowest order terms in the series where the exact and the numerical solution differ is of order $p+1$. So the local errors of the two methods are"
   ]
  },
  {
   "cell_type": "markdown",
   "id": "featured-burlington",
   "metadata": {
    "slideshow": {
     "slide_type": "fragment"
    }
   },
   "source": [
    "$$\n",
    "\\begin{align*}\n",
    "\\mathbf{y}(t_{n+1};t_n,\\mathbf{y}_n) - \\mathbf{y}_{n+1} &= \\mathbf{\\Psi}(t_n,y_n)\\tau^{p+1}  +\\dotsc, \\\\ \n",
    "\\mathbf{y}(t_{n+1};t_n,\\mathbf{y}_n) - \\widehat{\\mathbf{y}}_{n+1} &= \\widehat{\\mathbf{\\Psi}}(t_n,y_n)\\tau^{p+2} + \\dotsc,\n",
    "\\end{align*}\n",
    "$$"
   ]
  },
  {
   "cell_type": "markdown",
   "id": "laden-rotation",
   "metadata": {
    "slideshow": {
     "slide_type": "fragment"
    }
   },
   "source": [
    "where $\\Psi(t_n,y_n)$ is a term consisting of method parameters and differentials of $\\mathbf{f}$ and\n",
    "$\\dotsc$ contains all the terms of the series of order $p+2$ or higher.\n",
    "Taking the difference gives"
   ]
  },
  {
   "cell_type": "markdown",
   "id": "stuffed-acoustic",
   "metadata": {
    "slideshow": {
     "slide_type": "fragment"
    }
   },
   "source": [
    "$$\n",
    "\\widehat{\\mathbf{y}}_{n+1} - \\mathbf{y}_{n+1} = \\mathbf{\\Psi}(t_n,\\mathbf{y}_n)\\tau^{p+1} + \\ldots.\n",
    "$$"
   ]
  },
  {
   "cell_type": "markdown",
   "id": "latin-chorus",
   "metadata": {
    "slideshow": {
     "slide_type": "slide"
    }
   },
   "source": [
    "Assume now that $\\tau$ is small, such that the *principal error term* $\\mathbf{\\Psi(t_n,y_n)}\\tau^{p+1}$ dominates the error series. Then a reasonable approximation to the unknown local error $\\mathbf{l}_{n+1}$ is the *local error estimate* $\\mathbf{le}_{n+1}$:"
   ]
  },
  {
   "cell_type": "markdown",
   "id": "japanese-nancy",
   "metadata": {
    "slideshow": {
     "slide_type": "fragment"
    }
   },
   "source": [
    "$$\n",
    "\\mathbf{le}_{n+1} = \\widehat{\\mathbf{y}}_{n+1} - \\mathbf{y}_{n+1} \\approx \\mathbf{y}(t_{n+1};t_n,\\mathbf{y}_n) - \\mathbf{y}_{n+1}.\n",
    "$$"
   ]
  },
  {
   "cell_type": "markdown",
   "id": "fatty-logistics",
   "metadata": {
    "slideshow": {
     "slide_type": "slide"
    }
   },
   "source": [
    "## Stepsize control\n",
    "The next step is to control the local error, that is, choose the step size so that $\\|\\mathbf{le}_{n+1}\\| \\leq \\text{Tol}$ for some given tolerance Tol, and for some chosen norm $\\|\\cdot\\|$.\n",
    "\n",
    "Essentially:\n",
    "Given $t_n, \\mathbf{y}_n$ and a step size $\\tau_n$.\n",
    "* Do one step with the method of choice, and find an error estimate $\\mathbf{le}_{n+1}$."
   ]
  },
  {
   "cell_type": "markdown",
   "id": "conditional-kazakhstan",
   "metadata": {
    "slideshow": {
     "slide_type": "fragment"
    }
   },
   "source": [
    "* if  $\\|\\mathbf{le}\\|_{n+1} < \\text{Tol}$\n",
    "\n",
    "    * Accept the solution $t_{n+1}, \\mathbf{y}_{n+1}$.\n",
    "\n",
    "    * If possible, increase the step size for the next step."
   ]
  },
  {
   "cell_type": "markdown",
   "id": "threaded-slovakia",
   "metadata": {
    "slideshow": {
     "slide_type": "fragment"
    }
   },
   "source": [
    "* else\n",
    "\n",
    "    * Repeat the step from $(t_n,\\mathbf{y}_n)$ with a reduced step size $\\tau_{n}$."
   ]
  },
  {
   "cell_type": "markdown",
   "id": "consistent-bulletin",
   "metadata": {
    "slideshow": {
     "slide_type": "slide"
    }
   },
   "source": [
    "In both cases, the step size will change. But how?\n",
    "From the discussion above, we have that"
   ]
  },
  {
   "cell_type": "markdown",
   "id": "equivalent-action",
   "metadata": {
    "slideshow": {
     "slide_type": "fragment"
    }
   },
   "source": [
    "$$\n",
    "\\| \\mathbf{le}_{n+1} \\| \\approx D  \\tau_{n}^{p+1}.\n",
    "$$\n",
    "\n",
    "where $\\mathbf{le}_{n+1}$ is the error estimate we can compute, $D$ is\n",
    "some unknown quantity, which we assume almost constant from one step\n",
    "to the next. "
   ]
  },
  {
   "cell_type": "markdown",
   "id": "dramatic-antarctica",
   "metadata": {
    "slideshow": {
     "slide_type": "fragment"
    }
   },
   "source": [
    "What we want is a step size $\\tau_{new}$ such that\n",
    "\n",
    "$$\n",
    "\\text{Tol} \\approx D \\tau _{new}^{p+1}.\n",
    "$$"
   ]
  },
  {
   "cell_type": "markdown",
   "id": "incredible-uganda",
   "metadata": {
    "slideshow": {
     "slide_type": "skip"
    }
   },
   "source": [
    "From these two approximations we get:\n",
    "\n",
    "$$\n",
    "\\frac{\\text{Tol}}{\\|\\mathbf{le}_{n+1}\\|} \\approx \\left(\\frac{\\tau _{new}}{\\tau _n}\\right)^{p+1}\n",
    "\\qquad \\Rightarrow \\qquad\n",
    "\\tau_{new} \\approx \\left( \\frac{\\text{Tol}}{\\|\\mathbf{le}_{n+1}\\|} \\right)^{\\frac{1}{p+1}} \\tau _{n}.\n",
    "$$"
   ]
  },
  {
   "cell_type": "markdown",
   "id": "concerned-planet",
   "metadata": {
    "slideshow": {
     "slide_type": "slide"
    }
   },
   "source": [
    "That is, if the current step $\\tau_n$ was rejected, we try a new step $\\tau _{new}$\n",
    "with this approximation.\n",
    "However, it is still possible that this new step will be rejected as well.\n",
    "To avoid too many rejected steps, it is therefore common to be a bit restrictive when choosing the new\n",
    "step size, so the following is used in practice:"
   ]
  },
  {
   "cell_type": "markdown",
   "id": "surprising-minneapolis",
   "metadata": {
    "slideshow": {
     "slide_type": "fragment"
    }
   },
   "source": [
    "$$\n",
    "\\tau _{new} = P\\cdot \\left( \\frac{\\text{Tol}}{\\|\\mathbf{le}_{n+1}\\|} \\right)^{\\frac{1}{p+1}} \\tau _{n}.\n",
    "$$\n",
    "\n",
    "where the *pessimist factor* $P<1$ is some constant, normally chosen between 0.5 and 0.95."
   ]
  },
  {
   "cell_type": "markdown",
   "id": "ranking-kernel",
   "metadata": {
    "slideshow": {
     "slide_type": "slide"
    }
   },
   "source": [
    "## Implementation\n",
    "We have all the bits and pieces for constructing an adaptive ODE solver based on Euler's and Heuns's methods. There are still some practical aspects to consider:\n",
    "\n",
    "* The combination of the two methods, can be written as"
   ]
  },
  {
   "cell_type": "markdown",
   "id": "lightweight-disabled",
   "metadata": {
    "slideshow": {
     "slide_type": "slide"
    }
   },
   "source": [
    "$$\n",
    "\\begin{align*}\n",
    "      \\mathbf{k}_1 &= \\mathbf{f}(t_n, \\mathbf{y}_n), \\\\ \n",
    "      \\mathbf{k}_2 &= \\mathbf{f}(t_n+\\tau, \\mathbf{y}_n+\\tau \\mathbf{k}_1), \\\\ \n",
    "      \\mathbf{y}_{n+1} &= \\mathbf{y}_n + \\tau \\mathbf{k}_1, && \\text{Euler} \\\\ \n",
    "      \\widehat{\\mathbf{y}}_{n+1} &= \\mathbf{y}_n + \\frac{\\tau}{2}(\\mathbf{k}_1 + \\mathbf{k}_2), && \\text{Heun} \\\\ \n",
    "      \\mathbf{le}_{n+1} &= \\|\\widehat{\\mathbf{y}}_{n+1} - \\mathbf{y}_{n+1}\\| = \\frac{\\tau}{2}\\|\\mathbf{k}_2-\\mathbf{k}_1 \\|.\n",
    "    \\end{align*}\n",
    "$$"
   ]
  },
  {
   "cell_type": "markdown",
   "id": "unlikely-craps",
   "metadata": {
    "slideshow": {
     "slide_type": "slide"
    }
   },
   "source": [
    "* Even if the error estimate is derived for the lower order method, in this case Euler's method, it is common to advance the solution with the higher order method, since the additional accuracy is for free."
   ]
  },
  {
   "cell_type": "markdown",
   "id": "frank-balance",
   "metadata": {
    "slideshow": {
     "slide_type": "fragment"
    }
   },
   "source": [
    "* Adjust the last step to be able to terminate the solutions exactly in $T$."
   ]
  },
  {
   "cell_type": "markdown",
   "id": "thrown-harbor",
   "metadata": {
    "slideshow": {
     "slide_type": "fragment"
    }
   },
   "source": [
    "* To avoid infinite loops, add some stopping criteria. In the code below, there is a maximum number of allowed steps (rejected or accepted)."
   ]
  },
  {
   "cell_type": "markdown",
   "id": "paperback-performer",
   "metadata": {
    "slideshow": {
     "slide_type": "slide"
    }
   },
   "source": [
    "A Runge - Kutta methods with an error estimate are usually called **embedded Runge - Kutta methods** or **Runge - Kutta pairs**, and\n",
    "the coefficients can be written in a Butcher tableau as follows"
   ]
  },
  {
   "cell_type": "markdown",
   "id": "linear-sender",
   "metadata": {
    "slideshow": {
     "slide_type": "fragment"
    }
   },
   "source": [
    "$$\n",
    "\\begin{array}{c|ccccl}\n",
    "    c_1 & a_{11} & a_{12} & \\cdots & a_{1s} \\\\ \n",
    "    c_2 & a_{21} & a_{22} & \\cdots & a_{2s} \\\\ \n",
    "    \\vdots & \\vdots &&&\\vdots \\\\ \n",
    "    c_s & a_{s1} & a_{s2} & \\cdots & a_{ss} \\\\ \\hline\n",
    "        & b_1 & b_2 & \\cdots & b_s  & \\qquad\\text{Order $p$}\\\\ \\hline\n",
    "        & \\widehat{b}_1 & \\widehat{b_2} & \\cdots & \\widehat{b}_s  & \\qquad\\text{Order $\\widehat{p}= p+1$}\n",
    "   \\end{array}.\n",
    "$$"
   ]
  },
  {
   "cell_type": "markdown",
   "id": "boolean-instruction",
   "metadata": {
    "slideshow": {
     "slide_type": "slide"
    }
   },
   "source": [
    "Since\n",
    " * $\\mathbf{y}_{n+1} = \\mathbf{y}_n + \\tau_n\\sum_{i=1}^s b_i \\mathbf{k}_i$\n",
    "\n",
    " * $\\widehat{\\mathbf{y}}_{n+1} = \\mathbf{y}_n + \\tau_n\\sum_{i=1}^s \\widehat{b}_i \\mathbf{k}_i$\n",
    "\n",
    "the error estimate is simply given by"
   ]
  },
  {
   "cell_type": "markdown",
   "id": "human-russell",
   "metadata": {
    "slideshow": {
     "slide_type": "fragment"
    }
   },
   "source": [
    "$$\n",
    "\\mathbf{le}_{n+1} = \\tau_n\\sum_{i=1}^s (\\widehat{b}_i - b_i)\\mathbf{k}_i.\n",
    "$$"
   ]
  },
  {
   "cell_type": "markdown",
   "id": "surgical-indicator",
   "metadata": {
    "slideshow": {
     "slide_type": "slide"
    }
   },
   "source": [
    "Recalling Euler and Heun,\n",
    "\n",
    "$$\n",
    "\\begin{array}{ccccccc}\n",
    "    \\displaystyle\n",
    "    \\begin{array}{c|c}\n",
    "      0 & 0 \\\\ \\hline & 1\n",
    "    \\end{array}\n",
    "    & \\qquad  &\n",
    "    \\displaystyle\n",
    "    \\begin{array}{c|cc}\n",
    "      0 & 0 & 0\\\\ 1 & 1 &0 \\\\ \\hline & \\frac{1}{2} & \\frac{1}{2}\n",
    "    \\end{array}\n",
    "    \\\\ \n",
    "    \\text{Euler} && \\text{Heun}\n",
    "  \\end{array}\n",
    "$$"
   ]
  },
  {
   "cell_type": "markdown",
   "id": "iraqi-contributor",
   "metadata": {
    "slideshow": {
     "slide_type": "fragment"
    }
   },
   "source": [
    "and the Heun-Euler pair can be written as\n",
    "\n",
    "$$\n",
    "\\begin{array}{c|cc} 0 & & \\\\ 1 & 1 &   \\\\ \\hline & 1 & 0 \\\\ \\hline \\displaystyle & \\frac{1}{2} &  \\frac{1}{2}\n",
    " \\end{array}\n",
    "$$"
   ]
  },
  {
   "cell_type": "markdown",
   "id": "adapted-privilege",
   "metadata": {
    "slideshow": {
     "slide_type": "slide"
    }
   },
   "source": [
    "A particular mention deserves also the classical *4-stage Runge-Kutta method*\n",
    "from a previous notebook, which can be written as\n",
    "\n",
    "$$\n",
    "\\begin{array}{c|cccc}\n",
    "      0 & 0 & 0 & 0 & 0\\\\ \\frac{1}{2} &  \\frac{1}{2} & 0 & 0 & 0\\\\ \\frac{1}{2} & 0 & \\frac{1}{2} & 0 & 0\\\\ 1 &  0 & 0 & 1 & 0 \\\\ \\hline & \\frac{1}{6} & \\frac{1}{3} & \\frac{1}{3} & \\frac{1}{6}\n",
    "    \\end{array}\n",
    "$$"
   ]
  },
  {
   "cell_type": "markdown",
   "id": "cardiac-romantic",
   "metadata": {
    "slideshow": {
     "slide_type": "slide"
    }
   },
   "source": [
    "See this [list of Runge - Kutta methods](https://en.wikipedia.org/wiki/List_of_Runge–Kutta_methods) for more.\n",
    "For the last one there exist also a embedded Runge-Kutta 4(3) variant\n",
    "due to **Fehlberg**:\n",
    "\n",
    "$$\n",
    "\\begin{array}{c|ccccc}\n",
    "      0 & 0 & 0 & 0 & 0 & 0\n",
    "      \\\\ \n",
    "      \\frac{1}{2} & \\frac{1}{2} & 0 & 0 & 0 & 0\n",
    "      \\\\ \n",
    "      \\frac{1}{2} & 0 & \\frac{1}{2} & 0 & 0 & 0\n",
    "      \\\\ \n",
    "      1 &  0 & 0 & 1 & 0 & 0\n",
    "      \\\\ \n",
    "      1 & \\frac{1}{6} & \\frac{1}{3} & \\frac{1}{3} & \\frac{1}{6} & 0\n",
    "      \\\\ \n",
    "      \\hline\n",
    "      & \\frac{1}{6} & \\frac{1}{3} & \\frac{1}{3} & 0 & \\frac{1}{6}\n",
    "      \\\\ \n",
    "     \\hline\n",
    "      & \\frac{1}{6} & \\frac{1}{3} & \\frac{1}{3} & \\frac{1}{6} & 0\n",
    "\\end{array}\n",
    "$$"
   ]
  },
  {
   "cell_type": "markdown",
   "id": "essential-institution",
   "metadata": {
    "slideshow": {
     "slide_type": "fragment"
    }
   },
   "source": [
    "**Outlook.** In your next homework assignment, you will be asked to extend the `ExplicitRungeKutta` class\n",
    "to a `EmbeddedExplicitRungeKutta` class which implements automatic adaptive time step selection using\n",
    "based embedded Runge-Kutta methods."
   ]
  }
 ],
 "metadata": {
  "celltoolbar": "Slideshow",
  "kernelspec": {
   "display_name": "Python 3",
   "language": "python",
   "name": "python3"
  },
  "language_info": {
   "codemirror_mode": {
    "name": "ipython",
    "version": 3
   },
   "file_extension": ".py",
   "mimetype": "text/x-python",
   "name": "python",
   "nbconvert_exporter": "python",
   "pygments_lexer": "ipython3",
   "version": "3.9.5"
  }
 },
 "nbformat": 4,
 "nbformat_minor": 5
}
