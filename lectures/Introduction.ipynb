{
 "cells": [
  {
   "cell_type": "markdown",
   "id": "de4c06c9-c593-4911-8546-7f24748095cd",
   "metadata": {
    "slideshow": {
     "slide_type": "slide"
    }
   },
   "source": [
    "# Welcome to TMA4130 - Calculus 4N"
   ]
  },
  {
   "cell_type": "markdown",
   "id": "d7e2d72e-d30c-4816-ace5-7c11c177b72a",
   "metadata": {
    "slideshow": {
     "slide_type": "slide"
    }
   },
   "source": [
    "## Course organization\n",
    "\n",
    "For detailed information, we refer to our [course wiki page](https://wiki.math.ntnu.no/tma4130/2021h/start)."
   ]
  },
  {
   "cell_type": "code",
   "execution_count": 24,
   "id": "4a8c6dc5",
   "metadata": {
    "slideshow": {
     "slide_type": "slide"
    }
   },
   "outputs": [
    {
     "data": {
      "text/html": [
       "<table> <tr><td><img src='https://backends.it.ntnu.no/user-profile-service/rest/files/43deb86c-5a79-3174-a6d7-56133ed51751' style=\"height:250px\"/></td><td><img src='https://backends.it.ntnu.no/user-profile-service/rest/files/836bf9ab-b2d8-3d7c-aeae-8013abcadd45' style=\"height:250px\"/></td> </tr><tr><td> Elisabeth Anna Sophia Köbis <br> Instructor </td> <td> André Massing <br> Instructor </td></tr> <tr><td><img src='https://backends.it.ntnu.no/user-profile-service/rest/files/1644767e-30da-36fc-b6f2-26d472afe11c' style=\"height:250px\"/></td><td><img ' ' style=\"height:250px\"/></td> </tr> <tr> <td> Diego Caudillo <br> Teaching assistant </td> <td> Ludwig Rahm <br> Teaching assistant </td> </tr> </table>\n"
      ],
      "text/plain": [
       "<IPython.core.display.HTML object>"
      ]
     },
     "metadata": {},
     "output_type": "display_data"
    }
   ],
   "source": [
    "%%HTML\n",
    "<table> <tr><td><img src='https://backends.it.ntnu.no/user-profile-service/rest/files/43deb86c-5a79-3174-a6d7-56133ed51751' style=\"height:250px\"/></td><td><img src='https://backends.it.ntnu.no/user-profile-service/rest/files/836bf9ab-b2d8-3d7c-aeae-8013abcadd45' style=\"height:250px\"/></td> </tr><tr><td> Elisabeth Anna Sophia Köbis <br> Instructor </td> <td> André Massing <br> Instructor </td></tr> <tr><td><img src='https://backends.it.ntnu.no/user-profile-service/rest/files/1644767e-30da-36fc-b6f2-26d472afe11c' style=\"height:250px\"/></td><td><img ' ' style=\"height:250px\"/></td> </tr> <tr> <td> Diego Caudillo <br> Teaching assistant </td> <td> Ludwig Rahm <br> Teaching assistant </td> </tr> </table>"
   ]
  },
  {
   "cell_type": "markdown",
   "id": "89672003",
   "metadata": {
    "slideshow": {
     "slide_type": "slide"
    }
   },
   "source": [
    "## Course content\n",
    "\n",
    "### Mathematical modeling and scientific computing\n",
    "\n",
    "In many engineering and science problems, we need to go through the following\n",
    "steps to arrive at solution:"
   ]
  },
  {
   "cell_type": "markdown",
   "id": "c7eb09b0",
   "metadata": {
    "slideshow": {
     "slide_type": "slide"
    }
   },
   "source": [
    "1. __Mathematical modeling__: How can we describe the problem in mathematical terms?"
   ]
  },
  {
   "cell_type": "markdown",
   "id": "f58f0f37",
   "metadata": {
    "slideshow": {
     "slide_type": "fragment"
    }
   },
   "source": [
    "2. __Analysis of the mathematical model__. Is the resulting model _well-posed_, in the sense that \n",
    "    1. Is there solution (_Existence_)?\n",
    "    2. Is there only one solution and can there be several (_Uniqueness_)?\n",
    "    3. Does the model depends continuously on the data (_Continuity_/_Stability_)?"
   ]
  },
  {
   "cell_type": "markdown",
   "id": "aa3ad78d",
   "metadata": {
    "slideshow": {
     "slide_type": "fragment"
    }
   },
   "source": [
    "3. __Solve the resulting model__. Two approaches are typically considered:\n",
    "   1. _Analytical methods_ to compute the _exact solution_ for the model\n",
    "   2. _Numerical methods_ to compute an solution for the model by **computational means**.\n",
    "      The obtained solution can be either _exact_ or just an _approximation_ to the exact  \n",
    "      solution."
   ]
  },
  {
   "cell_type": "markdown",
   "id": "2875fc6b",
   "metadata": {
    "slideshow": {
     "slide_type": "slide"
    }
   },
   "source": [
    "4. __Realization__: Devise an efficient algorithmic realization of the chosen solution method"
   ]
  },
  {
   "cell_type": "markdown",
   "id": "f6cec538",
   "metadata": {
    "slideshow": {
     "slide_type": "fragment"
    }
   },
   "source": [
    "5. __Postprocessing__ of the computed solution to make it interpretable e.g.  through visualization"
   ]
  },
  {
   "cell_type": "markdown",
   "id": "e2f8107a-41b0-4fe6-8108-af0da8371a1c",
   "metadata": {
    "slideshow": {
     "slide_type": "fragment"
    }
   },
   "source": [
    "6. __Verification__ and __Validation__\n",
    "    1. _Verfication_: \"Do I solve the problem correctly\", i.e. does the realization of the method in 3. really solve the model problem in 2.?\n",
    "    2. _Validation_: \"Do I solve the correct problem?\", i.e. does the model developed in 2. describe the problem in 1. correctly/sufficiently?\n",
    "    \n"
   ]
  },
  {
   "cell_type": "markdown",
   "id": "8d505721",
   "metadata": {
    "slideshow": {
     "slide_type": "slide"
    }
   },
   "source": [
    "This entire process (except for 3.A) is at the heart of the subject **Scientific Computing**\n",
    "\n",
    "**Question:** What is *numerical mathematics*? "
   ]
  },
  {
   "cell_type": "markdown",
   "id": "ac748616-79e7-40db-86d8-0edd62a96138",
   "metadata": {
    "slideshow": {
     "slide_type": "fragment"
    }
   },
   "source": [
    "\"Numerical Mathematics is concerned with the solving mathematically formulated\n",
    "problems computationally\". (H.Rutishauser)\n",
    "\n",
    "As such it mostly concered with 3. B), 4. and 5. The main \n",
    "challenges are to understand\n",
    "   * whether and when the numerical method itself results in a *well-posed* problem\n",
    "   * the *complexity* of the proposed method/algorithm. How many operations do I  (or rather the computer) have to perform to compute the solution?\n",
    "   * the accuracy of the proposed method (often in comparison to the work complexity). How \"close\" is the computed solution to the actual solution?"
   ]
  },
  {
   "cell_type": "markdown",
   "id": "db7931dc",
   "metadata": {
    "slideshow": {
     "slide_type": "slide"
    }
   },
   "source": [
    "In this course we will learn a lot about analytical and numerical methods for various equations, including algebraic equations, ordinary differential equation and partial differential equations:"
   ]
  },
  {
   "cell_type": "markdown",
   "id": "a12736c3",
   "metadata": {
    "slideshow": {
     "slide_type": "slide"
    }
   },
   "source": [
    "1. Module: Introduction to numerical mathematics\n",
    "   - Interpolation of functions (N)\n",
    "   - Numerical integration a.k.a quadrature (N)\n",
    "   - Solving non-linear algebraic equations numerically (N)"
   ]
  },
  {
   "cell_type": "markdown",
   "id": "28fe65ba",
   "metadata": {
    "slideshow": {
     "slide_type": "fragment"
    }
   },
   "source": [
    "2. Module: Analytical and numerical methods for ordinary differential equations (ODEs)\n",
    "   - Laplace transform (A)\n",
    "   - Runge-Kutta methods (N)"
   ]
  },
  {
   "cell_type": "markdown",
   "id": "1354eb0c-0007-4684-b899-5844f48e4959",
   "metadata": {
    "slideshow": {
     "slide_type": "fragment"
    }
   },
   "source": [
    "3. Module: Analytical and numerical methods for partial differential equations (PDEs)\n",
    "   - Fourier series and transforms (A) (also extremely useful in the analysis of signals!) \n",
    "   - Fourier-based methods to solve the heat and wave equation analytically (A)\n",
    "   - Finite-difference methods to solve the heat and wave equation numerically (N)"
   ]
  },
  {
   "cell_type": "markdown",
   "id": "b86f2e4c-a56b-4cdc-ba6e-87f3ecd63d70",
   "metadata": {
    "slideshow": {
     "slide_type": "slide"
    }
   },
   "source": [
    "## Whetting your appetite\n",
    "\n",
    "### Example: Mathematical modeling"
   ]
  },
  {
   "cell_type": "markdown",
   "id": "6a4d75dd",
   "metadata": {
    "slideshow": {
     "slide_type": "slide"
    }
   },
   "source": [
    " Motivated by the ongoing corona virus pandemic, we consider\n",
    "a (simple!) model for the spreading of an infectious disease,\n",
    "which goes under the name [SIR model](https://en.wikipedia.org/wiki/Compartmental_models_in_epidemiology#The_SIR_model).\n",
    "\n",
    "The SIR models divides the population into three\n",
    "population classes, namely\n",
    "* $S(t)$: number individuals  **susceptible** for infection,\n",
    "* $I(t)$: number **infected** individuals, capable of transmitting the disease,\n",
    "* $R(t)$: number  **removed** individuals who cannot be infected due death or to immunity after recovery\n",
    "  \n",
    "The model is of the spreading of a disease is based\n",
    "on moving individual from $S$ to $I$ and then to $R$."
   ]
  },
  {
   "cell_type": "markdown",
   "id": "7c745f32-6bb8-4e7a-822d-d4db046b4f3a",
   "metadata": {
    "slideshow": {
     "slide_type": "slide"
    }
   },
   "source": [
    "The final ODE system is given by\n",
    "\n",
    "\\begin{align*}\n",
    "S' &= - \\beta S I\n",
    "\\\\\n",
    "I' &= \\beta S I - \\gamma I\n",
    "\\\\\n",
    "R' &= \\gamma I,\n",
    "\\end{align*}\n",
    "\n",
    "\n",
    "where \n",
    "\n",
    "* $\\beta$ denotes the **infection rate**, and\n",
    "* $\\gamma$ the **removal rate**. \n",
    "\n",
    "Having this ODE in mind, an epidemic model can be simply specified by writing\n",
    "down a *state transition diagram*\n",
    "\n",
    "$$\n",
    "S \\overset{\\beta}{\\to} I \\overset{\\gamma}{\\to} R\n",
    "$$"
   ]
  },
  {
   "cell_type": "markdown",
   "id": "95e20225-b824-47b4-855b-c2d7a7a91e43",
   "metadata": {
    "slideshow": {
     "slide_type": "slide"
    }
   },
   "source": [
    "This is rather simpler model. Later in this course you will be asked to\n",
    "  * consider a local outbreak in Trondheim\n",
    "  * extend this model to account for the hospitalized population and solve it numerically\n",
    "  * determine at which infection rates the number of hospitalized people will rise above the number of available hospital beds."
   ]
  },
  {
   "cell_type": "markdown",
   "id": "42c35da4-935d-44e2-9ada-a8eda09b4ed1",
   "metadata": {
    "slideshow": {
     "slide_type": "slide"
    }
   },
   "source": [
    "![SIR-models](SIHR-model_row.png)"
   ]
  },
  {
   "cell_type": "markdown",
   "id": "ec0f0ac8-865c-47fe-9a79-9ed22447d8f4",
   "metadata": {
    "slideshow": {
     "slide_type": "slide"
    }
   },
   "source": [
    "**Remark.** This course focuses on solving such models (either analytically or numerically), but not so much about the modeling part itself. Nevertheless, a at few occasion, we try to explain how certain models can be derived."
   ]
  },
  {
   "cell_type": "markdown",
   "id": "2680c00b-a7f2-435c-aa07-2e9fba790197",
   "metadata": {
    "slideshow": {
     "slide_type": "slide"
    }
   },
   "source": [
    "### Example: Accuracy\n",
    "\n",
    "We use a simple numerical method (which we will get to know as explicit Euler method) to numericaly solve\n",
    "the ODE\n",
    "\n",
    "\\begin{equation*}\n",
    "y'(t) = \\lambda y(t), \\quad y(t_0)=y_0\n",
    "\\end{equation*}\n",
    "\n",
    "with the anaytical solution\n",
    "$$\n",
    "y_{ex}(t) = y_0 e^{\\lambda(t-t_0)}.\n",
    "$$\n",
    "\n",
    "Solved for $\\lambda = 1.0$, $t_0 = 0$ and $y_0 = 1$. Below $N$ refers to the number of points we used\n",
    "to compute an approximate solution $y$."
   ]
  },
  {
   "cell_type": "markdown",
   "id": "ba78a36e-7386-4222-a725-529476d0c77a",
   "metadata": {
    "slideshow": {
     "slide_type": "slide"
    }
   },
   "source": [
    "<table>\n",
    "<tr><td><img src='explicit_euler_N_4.png' height=\"100\"></td>\n",
    "    <td><img src='explicit_euler_N_8.png' height=\"100\"></td>\n",
    "    <td><img src='explicit_euler_N_16.png' height=\"100\"></td>\n",
    "    </tr>\n",
    "<tr>\n",
    "   <td> $$N = 4$$ </td>\n",
    "   <td> $$N = 8$$ </td>\n",
    "   <td> $$N = 16$$ </td>\n",
    "</tr>\n",
    "</table>"
   ]
  },
  {
   "cell_type": "markdown",
   "id": "77d85f71-21ec-4ddd-9404-ba182b86176c",
   "metadata": {
    "slideshow": {
     "slide_type": "fragment"
    }
   },
   "source": [
    "Clearly, increasing the number of points $N$ will increase the computer work. But what do we get back for the additional in terms of accuracy? How fast does the numerical solution approach the real solution? Can we estimate the error $y-y_{ex}$ as a function of $N$? "
   ]
  },
  {
   "cell_type": "markdown",
   "id": "d3e39d1d",
   "metadata": {
    "slideshow": {
     "slide_type": "slide"
    }
   },
   "source": [
    "### Example: (conditional) stability\n",
    "\n",
    "We consider the same model problem and same numerical method as in the previous example, but now we consider negative $\\lambda$."
   ]
  },
  {
   "cell_type": "markdown",
   "id": "be8da1aa-0c1c-44eb-87fe-e97b1b894daf",
   "metadata": {
    "slideshow": {
     "slide_type": "slide"
    }
   },
   "source": [
    "![SIR-models](explicit_euler_stiff.png)"
   ]
  },
  {
   "cell_type": "markdown",
   "id": "0cc41284-342b-44e0-bad1-3893b52d4f7f",
   "metadata": {
    "slideshow": {
     "slide_type": "slide"
    }
   },
   "source": [
    "This is an example of an unstable/only conditionally stable algorithm. Depending on the absolute value of $\\lambda$, a certain amount of (equi-distant) points has to be used, otherwise we get a completely meaningless and wrong numerical solution."
   ]
  }
 ],
 "metadata": {
  "kernelspec": {
   "display_name": "Python 3 (ipykernel)",
   "language": "python",
   "name": "python3"
  },
  "language_info": {
   "codemirror_mode": {
    "name": "ipython",
    "version": 3
   },
   "file_extension": ".py",
   "mimetype": "text/x-python",
   "name": "python",
   "nbconvert_exporter": "python",
   "pygments_lexer": "ipython3",
   "version": "3.9.6"
  }
 },
 "nbformat": 4,
 "nbformat_minor": 5
}
