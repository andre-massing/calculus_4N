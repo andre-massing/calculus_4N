{
 "cells": [
  {
   "cell_type": "markdown",
   "id": "7a2c168f",
   "metadata": {},
   "source": [
    "<!-- HTML file automatically generated from DocOnce source (https://github.com/doconce/doconce/)\n",
    "doconce format html NewtonInterpolation.do.txt KODE=ja SPLITSEC=yes --skip_inline_comments --without_answers --without_solutions -->\n",
    "<!-- dom:TITLE: Polynomial interpolation: Newton interpolation -->"
   ]
  },
  {
   "cell_type": "markdown",
   "id": "a35d7159",
   "metadata": {},
   "source": [
    "# Polynomial interpolation: Newton interpolation\n",
    "**Anne Kværnø (modified by André Massing)**\n",
    "\n",
    "Date: **Aug 30, 2021**\n",
    "\n",
    "If you want to have a nicer theme for your jupyter notebook,\n",
    "download the [cascade stylesheet file calculus4N.css](https://www.math.ntnu.no/emner/TMA4130/2021h/lectures/calculus4N.css)\n",
    "and execute the next cell:"
   ]
  },
  {
   "cell_type": "code",
   "execution_count": null,
   "id": "b90a01c0",
   "metadata": {},
   "outputs": [],
   "source": [
    "from IPython.core.display import HTML\n",
    "def css_styling():\n",
    "    try:\n",
    "        fname = \"calculus4.css\"\n",
    "        with open(fname, \"r\") as f:\n",
    "            styles = f.read()\n",
    "            return HTML(styles)\n",
    "    except FileNotFoundError:\n",
    "        print(f\"Could not find css file '{fname}'\")\n",
    "\n",
    "# Comment out next line and execute this cell to restore the default notebook style \n",
    "css_styling()"
   ]
  },
  {
   "cell_type": "markdown",
   "id": "91400a9a",
   "metadata": {},
   "source": [
    "And of course we want to import the required modules."
   ]
  },
  {
   "cell_type": "code",
   "execution_count": null,
   "id": "3a857094",
   "metadata": {},
   "outputs": [],
   "source": [
    "%matplotlib inline\n",
    "\n",
    "import numpy as np\n",
    "from numpy import pi\n",
    "from numpy.linalg import solve, norm    # Solve linear systems and compute norms\n",
    "import matplotlib.pyplot as plt\n",
    "\n",
    "newparams = {'figure.figsize': (6.0, 6.0), 'axes.grid': True,\n",
    "             'lines.markersize': 8, 'lines.linewidth': 2,\n",
    "             'font.size': 14}\n",
    "plt.rcParams.update(newparams)"
   ]
  },
  {
   "cell_type": "markdown",
   "id": "e74de584",
   "metadata": {},
   "source": [
    "# Introduction\n",
    "We continue with an alternative approach to find the interpolation polynomial."
   ]
  },
  {
   "cell_type": "markdown",
   "id": "fe961319",
   "metadata": {},
   "source": [
    "## Newton interpolation\n",
    "This is an alternative approach to find the interpolation polynomial.\n",
    "Let $x_0,x_1,\\ldots,x_n$ be $n+1$ distinct real numbers.\n",
    "Instead of using the Lagrange polynomials to write the\n",
    "interpolation polynomial in Lagrange form, we will now employ\n",
    "the **Newton** polynomials $\\omega_i$, $i=0,\\ldots, n$.\n",
    "The Newton polynomials are defined by\n",
    "as follows:"
   ]
  },
  {
   "cell_type": "markdown",
   "id": "126a4028",
   "metadata": {},
   "source": [
    "$$\n",
    "\\begin{align*}\n",
    "\\omega_0(x) &= 1,\n",
    "\\\\ \n",
    "\\omega_1(x) &= (x-x_0),\n",
    "\\\\ \n",
    "\\omega_2(x) &= (x-x_0)(x-x_1),\n",
    "\\\\ \n",
    "\\ldots\n",
    "\\\\ \n",
    "\\omega_n(x) &= (x-x_0)(x-x_1)\\cdots(x-x_{n-1}),\n",
    "\\end{align*}\n",
    "$$"
   ]
  },
  {
   "cell_type": "markdown",
   "id": "c86de37a",
   "metadata": {},
   "source": [
    "or in more compact notation"
   ]
  },
  {
   "cell_type": "markdown",
   "id": "98269dac",
   "metadata": {},
   "source": [
    "<!-- Equation labels as ordinary links -->\n",
    "<div id=\"eq:newton_poly\"></div>\n",
    "\n",
    "$$\n",
    "\\begin{equation}\n",
    "\\omega_i(x)= \\prod_{k=0}^{i-1}(x-x_k).\n",
    "\\label{eq:newton_poly} \\tag{1}\n",
    "\\end{equation}\n",
    "$$"
   ]
  },
  {
   "cell_type": "markdown",
   "id": "0c778b87",
   "metadata": {},
   "source": [
    "The so-called\n",
    "**Newton form** of a polynomial of degree $n$ is an expansion of the form"
   ]
  },
  {
   "cell_type": "markdown",
   "id": "459c2f4a",
   "metadata": {},
   "source": [
    "$$\n",
    "p(x)=\\sum_{i=0}^{n} c_i \\omega_i(x)\n",
    "$$"
   ]
  },
  {
   "cell_type": "markdown",
   "id": "171900f7",
   "metadata": {},
   "source": [
    "or more explicitly"
   ]
  },
  {
   "cell_type": "markdown",
   "id": "a2f5ec9b",
   "metadata": {},
   "source": [
    "$$\n",
    "p(x)=c_n (x-x_0)(x-x_1)\\cdots(x-x_{n-1}) + c_{n-1}(x-x_0)(x-x_1)\\cdots(x-x_{n-2}) + \\cdots + c_1(x-x_0) + c_0.\n",
    "$$"
   ]
  },
  {
   "cell_type": "markdown",
   "id": "66c452da",
   "metadata": {},
   "source": [
    "In the light of this form of writing a polynomial, the polynomial\n",
    "interpolation problem leads to the following observations. Let us\n",
    "start with a single node $x_0$, then $f(x_0)=p(x_0)=c_0$. Going one\n",
    "step further and consider two nodes $x_0,x_1$. Then we see that\n",
    "$f(x_0)=p(x_0)=c_0$ and $f(x_1)=p(x_1)=c_0 + c_1(x_1-x_0)$. The latter\n",
    "implies that the coefficient"
   ]
  },
  {
   "cell_type": "markdown",
   "id": "0d910683",
   "metadata": {},
   "source": [
    "$$\n",
    "c_1=\\frac{f(x_1)-f(x_0)}{x_1-x_0}.\n",
    "$$"
   ]
  },
  {
   "cell_type": "markdown",
   "id": "77fc4954",
   "metadata": {},
   "source": [
    "Given three nodes $x_0,x_1,x_2$ yields the coefficients $c_0,c_1$ as defined above, and from"
   ]
  },
  {
   "cell_type": "markdown",
   "id": "64da25ec",
   "metadata": {},
   "source": [
    "$$\n",
    "f(x_2)=p(x_2)=c_0 +  c_1(x_2-x_0) +  c_2(x_2-x_0)(x_2-x_1)\n",
    "$$"
   ]
  },
  {
   "cell_type": "markdown",
   "id": "b4954d7f",
   "metadata": {},
   "source": [
    "we deduce the coefficient"
   ]
  },
  {
   "cell_type": "markdown",
   "id": "59b7caee",
   "metadata": {},
   "source": [
    "$$\n",
    "c_2=\\frac{f(x_2) - f(x_0) - \\frac{f(x_1)-f(x_0)}{x_1-x_0} (x_2-x_0)}{(x_2-x_0)(x_2-x_1)}.\n",
    "$$"
   ]
  },
  {
   "cell_type": "markdown",
   "id": "88d5244f",
   "metadata": {},
   "source": [
    "Playing with this quotient gives the much more structured expression"
   ]
  },
  {
   "cell_type": "markdown",
   "id": "0902f2ff",
   "metadata": {},
   "source": [
    "$$\n",
    "c_2=\\frac{\\frac{f(x_2)-f(x_1)}{x_2-x_1} - \\frac{f(x_1)-f(x_0)}{x_1-x_0}}{(x_2-x_0)}.\n",
    "$$"
   ]
  },
  {
   "cell_type": "markdown",
   "id": "22f96b2b",
   "metadata": {},
   "source": [
    "This procedure can be continued and yields a so-called triangular\n",
    "systems that permits to define the remaining coefficients\n",
    "$c_3,\\ldots,c_n$. One sees quickly that the coefficient $c_k$ only\n",
    "depends on the interpolation points $(x_0,y_0),\\ldots,(x_k,y_k)$,\n",
    "where $y_i:=f(x_i)$, $i=0,\\ldots,n$.\n",
    "\n",
    "We introduce the folllwing so-called **finite difference** notation for a\n",
    "function $f$. The 0th order finite difference is defined to be\n",
    "$f[x_0]:=f(x_0)$. The 1st order finite difference is"
   ]
  },
  {
   "cell_type": "markdown",
   "id": "254726de",
   "metadata": {},
   "source": [
    "$$\n",
    "f[x_0,x_1]:=\\frac{f(x_1)-f(x_0)}{x_1-x_0}.\n",
    "$$"
   ]
  },
  {
   "cell_type": "markdown",
   "id": "94009615",
   "metadata": {},
   "source": [
    "The second order finite difference is defined by"
   ]
  },
  {
   "cell_type": "markdown",
   "id": "87fac074",
   "metadata": {},
   "source": [
    "$$\n",
    "f[x_0,x_1,x_2]:= \\frac{f[x_1,x_2] - f[x_0,x_1]}{x_2-x_0}.\n",
    "$$"
   ]
  },
  {
   "cell_type": "markdown",
   "id": "a6554996",
   "metadata": {},
   "source": [
    "In general, the **nth order finite difference** of the function $f$,\n",
    "also called the **nth Newton divided difference**, is defined *recursively* by"
   ]
  },
  {
   "cell_type": "markdown",
   "id": "64bd5862",
   "metadata": {},
   "source": [
    "$$\n",
    "f[x_0,\\ldots,x_n]:= \\frac{f[x_1,\\ldots,x_n] - f[x_0,\\ldots,x_{n-1}]}{x_n-x_0}.\n",
    "$$"
   ]
  },
  {
   "cell_type": "markdown",
   "id": "43988b9f",
   "metadata": {},
   "source": [
    "Or more generally, involving $n+1$ not necessarily consecutive indices $x_{i_0},\\ldots,x_{i_n}$:\n",
    "$$\n",
    "f[x_{i_0},\\ldots,x_{i_n}]:= \\frac{f[x_{i_1},\\ldots,x_{i_n}] - f[x_{i_0},\\ldots,x_{i_{n-1}}]}{x_{i_{n}}-x_{i_0}}.\n",
    "$$\n",
    "\n",
    "Newton's method to solve the polynomial interpolation problem can be\n",
    "summarized as follows. Given $n+1$ interpolation points\n",
    "$(x_0,y_0),\\ldots,(x_n,y_n)$, $y_i:=f(x_i)$. If the order $n$\n",
    "interpolation polynomial is expressed in Newton's form"
   ]
  },
  {
   "cell_type": "markdown",
   "id": "d3e085e5",
   "metadata": {},
   "source": [
    "$$\n",
    "p_n(x)=c_n (x-x_0)(x-x_1)\\cdots(x-x_{n-1}) + c_{n-1}(x-x_0)(x-x_1)\\cdots(x-x_{n-2}) + \\cdots + c_1(x-x_0) + c_0,\n",
    "$$"
   ]
  },
  {
   "cell_type": "markdown",
   "id": "36f0db38",
   "metadata": {},
   "source": [
    "then the coefficients"
   ]
  },
  {
   "cell_type": "markdown",
   "id": "1c9de693",
   "metadata": {},
   "source": [
    "$$\n",
    "c_k = f[x_0,\\ldots,x_k]\n",
    "$$"
   ]
  },
  {
   "cell_type": "markdown",
   "id": "4a3a6fc1",
   "metadata": {},
   "source": [
    "for $k=0,\\ldots,n$. In fact, a recursion is in place"
   ]
  },
  {
   "cell_type": "markdown",
   "id": "03a96635",
   "metadata": {},
   "source": [
    "$$\n",
    "p_n(x)=p_{n-1}(x) + f[x_0,\\ldots,x_n](x-x_0)(x-x_1)\\cdots(x-x_{n-1})\n",
    "$$"
   ]
  },
  {
   "cell_type": "markdown",
   "id": "9643f83a",
   "metadata": {},
   "source": [
    "It is common to write the finite differences in a table, which for $n=3$ will\n",
    "look like:"
   ]
  },
  {
   "cell_type": "markdown",
   "id": "f7e9e721",
   "metadata": {},
   "source": [
    "$$\n",
    "\\begin{array}{c|cccc}\n",
    "x_0 & f[x_0] & \\\\ \n",
    "    &        & f[x_0,x_1] & \\\\ \n",
    "x_1 & f[x_1] &            & f[x_0,x_1,x_2] \\\\ \n",
    "    &        & f[x_1,x_2] &                & f[x_0,x_1,x_2, x_3] \\\\ \n",
    "x_2 & f[x_2] &            & f[x_1,x_2,x_3] \\\\ \n",
    "    &        & f[x_2,x_3] & \\\\ \n",
    "x_3 & f[x_3] \\\\ \n",
    "\\end{array}\n",
    "$$"
   ]
  },
  {
   "cell_type": "markdown",
   "id": "cccc8862",
   "metadata": {},
   "source": [
    "Although I must admit, I prefer the following alternative form"
   ]
  },
  {
   "cell_type": "markdown",
   "id": "8de37acc",
   "metadata": {},
   "source": [
    "$$\n",
    "\\begin{array}{c|cccc}\n",
    "x_0 & f[x_0] & \\\\ \n",
    "x_1 & f[x_1] & f[x_0,x_1] &  \\\\ \n",
    "x_2 & f[x_2] & f[x_1,x_2] & f[x_0,x_1,x_2]  \\\\ \n",
    "x_3 & f[x_3] & f[x_2,x_3] & f[x_1,x_2,x_3] & f[x_0,x_1,x_2, x_3]  \\\\ \n",
    "\\end{array}\n",
    "$$"
   ]
  },
  {
   "cell_type": "markdown",
   "id": "a48e88a8",
   "metadata": {},
   "source": [
    "as it is easier to keep track of the row and column indices, in particular\n",
    "when you translate this table into computer code.\n",
    "\n",
    "**Example 1 again:**\n",
    "Given the points in Example 1. The corresponding table of divided differences\n",
    "becomes:\n",
    "\n",
    "$$\n",
    "\\begin{array}{c|cccc}\n",
    "0 & 1 &        \\\\ \n",
    "2/3 & 1/2 & -3/4           \\\\ \n",
    "1   & 0 &  -3/2 & -3/4       \n",
    "\\end{array}\n",
    "$$\n",
    "\n",
    "or in its alternative form,"
   ]
  },
  {
   "cell_type": "markdown",
   "id": "75dcb8b4",
   "metadata": {},
   "source": [
    "$$\n",
    "\\begin{array}{c|cccc}\n",
    "0 & 1 & \\\\ \n",
    "    &        & -3/4 & \\\\ \n",
    "2/3 & 1/2 &            &  -3/4 \\\\ \n",
    "    &        & -3/2 &   \\\\ \n",
    "1   & 0 &            \n",
    "\\end{array}\n",
    "$$"
   ]
  },
  {
   "cell_type": "markdown",
   "id": "80456c15",
   "metadata": {},
   "source": [
    "and the interpolation polynomial becomes"
   ]
  },
  {
   "cell_type": "markdown",
   "id": "172ccb9a",
   "metadata": {},
   "source": [
    "$$\n",
    "p_2(x) = 1 - \\frac{3}{4}(x-0)-\\frac{3}{4}(x-0)(x-\\frac23) =  1 - \\frac{1}{4}x -\n",
    "\\frac{3}{4} x^2.\n",
    "$$"
   ]
  },
  {
   "cell_type": "markdown",
   "id": "513814ee",
   "metadata": {},
   "source": [
    "## Implementation\n",
    "The method above is implemented as two functions:\n",
    "* `divdiff(xdata, ydata)`: Create the table of divided differences\n",
    "\n",
    "* `newtonInterpolation(F, xdata, x)`: Evaluate the interpolation polynomial.\n",
    "\n",
    "Here, `xdata` and `ydata` are arrays with the interpolation points, and `x` is an \n",
    "array of values in which the polynomial is evaluated."
   ]
  },
  {
   "cell_type": "code",
   "execution_count": null,
   "id": "f36c97dd",
   "metadata": {},
   "outputs": [],
   "source": [
    "def divdiff(xdata,ydata):\n",
    "    # Create the table of divided differences based\n",
    "    # on the data in the arrays x_data and y_data. \n",
    "    n = len(xdata)\n",
    "    F = np.zeros((n,n))\n",
    "    F[:,0] = ydata             # Array for the divided differences\n",
    "    for j in range(n):\n",
    "        for i in range(n-j-1):\n",
    "            F[i,j+1] = (F[i+1,j]-F[i,j])/(xdata[i+j+1]-xdata[i])\n",
    "    return F                    # Return all of F for inspection. \n",
    "                                # Only the first row is necessary for the\n",
    "                                # polynomial.\n",
    "\n",
    "def newton_interpolation(F, xdata, x):\n",
    "    # The Newton interpolation polynomial evaluated in x. \n",
    "    n, m = np.shape(F)\n",
    "    xpoly = np.ones(len(x))               # (x-x[0])(x-x[1])...\n",
    "    newton_poly = F[0,0]*np.ones(len(x))  # The Newton polynomial\n",
    "    for j in range(n-1):\n",
    "        xpoly = xpoly*(x-xdata[j])\n",
    "        newton_poly = newton_poly + F[0,j+1]*xpoly\n",
    "    return newton_poly"
   ]
  },
  {
   "cell_type": "markdown",
   "id": "7fc28bd8",
   "metadata": {},
   "source": [
    "Run the code on the example above:"
   ]
  },
  {
   "cell_type": "code",
   "execution_count": null,
   "id": "81bcbfa8",
   "metadata": {},
   "outputs": [],
   "source": [
    "# Example: Use of divided differences and the Newton interpolation\n",
    "# formula. \n",
    "xdata = [0, 2/3, 1]\n",
    "ydata = [1, 1/2, 0]\n",
    "F = divdiff(xdata, ydata)      # The table of divided differences\n",
    "print('The table of divided differences:\\n',F)\n",
    "\n",
    "x = np.linspace(0, 1, 101)     # The x-values in which the polynomial is evaluated\n",
    "p = newton_interpolation(F, xdata, x)\n",
    "plt.plot(x, p)                  # Plot the polynomial\n",
    "plt.plot(xdata, ydata, 'o')     # Plot the interpolation points \n",
    "plt.title('The interpolation polynomial p(x)')\n",
    "plt.grid(True)\n",
    "plt.xlabel('x');"
   ]
  }
 ],
 "metadata": {
  "kernelspec": {
   "display_name": "Python 3 (ipykernel)",
   "language": "python",
   "name": "python3"
  },
  "language_info": {
   "codemirror_mode": {
    "name": "ipython",
    "version": 3
   },
   "file_extension": ".py",
   "mimetype": "text/x-python",
   "name": "python",
   "nbconvert_exporter": "python",
   "pygments_lexer": "ipython3",
   "version": "3.9.6"
  }
 },
 "nbformat": 4,
 "nbformat_minor": 5
}
