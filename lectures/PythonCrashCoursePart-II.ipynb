{
 "cells": [
  {
   "cell_type": "markdown",
   "metadata": {},
   "source": [
    "# Scientific Programming Python Modules"
   ]
  },
  {
   "cell_type": "markdown",
   "metadata": {},
   "source": [
    "Before we get started, here are some useful links:\n",
    "\n",
    "* [The Juyter homepage](http://jupyter.org/)\n",
    "* [Jupyter documentation](https://jupyter-notebook.readthedocs.io/en/stable/), \n",
    "in particular have a look at the **Community documentation** section\n",
    "* [A gallery of interesting Jupyter Notebooks](https://github.com/jupyter/jupyter/wiki/A-gallery-of-interesting-Jupyter-Notebooks)"
   ]
  },
  {
   "cell_type": "markdown",
   "metadata": {},
   "source": [
    "Executing the following cell loads a non-default css style for the notebook. \n",
    "If you want to have a nicer theme for your jupyter notebook,\n",
    "download the  and execute the next cell.\n",
    "Make sure that you download the corresponding css file  [cascade stylesheet file calculus4N.css](https://www.math.ntnu.no/emner/TMA4130/2021h/lectures/calculus4N.css)."
   ]
  },
  {
   "cell_type": "code",
   "execution_count": null,
   "metadata": {},
   "outputs": [],
   "source": [
    "from IPython.core.display import HTML\n",
    "def css_styling():\n",
    "    try:\n",
    "        fname = \"calculus4N.css\"\n",
    "        with open(fname, \"r\") as f:\n",
    "            styles = f.read()\n",
    "            return HTML(styles)\n",
    "    except FileNotFoundError:\n",
    "        print(f\"Could not find css file '{fname}'\")\n",
    "\n",
    "# Comment out next line and execute this cell to restore the default notebook style \n",
    "css_styling()"
   ]
  },
  {
   "cell_type": "markdown",
   "metadata": {},
   "source": [
    "## Important Python Libraries for Scientific Computing \n",
    "\n",
    "[NumPy](http://www.numpy.org/) is the (probably most) fundamental package for scientific computing with Python. In particluar, it provides a powerful N-dimensional array object\n",
    "and many many ways to generate, manipulate and process them.\n",
    "\n",
    "[SciPy](https://scipy.org/) is \"a Python-based ecosystem of open-source software for mathematics, science, and engineering. In particular, these are some of the core packages:\"\n",
    " \n",
    "* NumPy\n",
    "* [SciPy Library](https://scipy.org/scipylib/index.html), a fundamental library for scientific computing\n",
    "* [Matplotlib](http://matplotlib.org/), a comprehensive plotting library\n",
    "* [Sympy](http://www.sympy.org/), a Python library for symbolic mathematics\n",
    "* [pandas](http://pandas.pydata.org/), a sophisticated Python data analysis libray\n",
    "\n",
    "We will mainly use **NumPy, SciPy** and **Matplotlib**, but I encourage you to have a look at the Sympy and pandas as well. \n",
    "\n",
    "Finally, we only glance at the most basic functions. If you have\n",
    "some spare time, you can find is a nice collection of more detailed jupyter notebooks at\n",
    "https://github.com/jrjohansson/scientific-python-lectures, in particular Lecture 0 to Lecture 5 are of interest for this course."
   ]
  },
  {
   "cell_type": "markdown",
   "metadata": {},
   "source": [
    "## NumPy\n",
    "\n",
    "The official NumPy documentation provides a [\"quickstart\" tutorial](https://docs.scipy.org/doc/numpy/user/quickstart.html)\n",
    "(it covers relatively much ground) as part of its [NumPy User Guide](https://docs.scipy.org/doc/numpy/user/index.html).\n",
    "\n",
    "There you will also find the particular useful website for Matlab users \n",
    "https://numpy.org/doc/stable/user/numpy-for-matlab-users.html\n",
    "which explains the key differences between the Matlab and NumPy way to\n",
    "accomlish things. There, you will find a large list on many NumPy equivalents for common Matlab operations. **Extremely useful!**\n",
    "\n"
   ]
  },
  {
   "cell_type": "markdown",
   "metadata": {},
   "source": [
    "Okay, let's get started by importing the numpy module. Remember, as in real life, we don't want to pollute our environment, so **don't**\n",
    "import everything directly into you global namespace. Rather, we use the possibility to give modules a shortcut name when we import them."
   ]
  },
  {
   "cell_type": "code",
   "execution_count": null,
   "metadata": {},
   "outputs": [],
   "source": [
    "import numpy as np"
   ]
  },
  {
   "cell_type": "markdown",
   "metadata": {},
   "source": [
    "### Creating arrays"
   ]
  },
  {
   "cell_type": "markdown",
   "metadata": {},
   "source": [
    "Let's create some arrays. One way is to simply pass a list of numbers\n",
    "to the array constructor:"
   ]
  },
  {
   "cell_type": "code",
   "execution_count": null,
   "metadata": {},
   "outputs": [],
   "source": [
    "a = np.array([1,2,3,4]) # Mind the brackets inside!\n",
    "print(a)\n",
    "# Check is type\n",
    "print(type(a))\n",
    "# Since we only used integers, a is an array of datatype ...\n",
    "a.dtype\n",
    "\n",
    "# repeat the same thing with floats\n",
    "a = np.array([1.0,2.0,3.0,4.0]) # Mind the brackets inside!\n",
    "print(a)\n",
    "# Check is type\n",
    "print(type(a))\n",
    "# Since we only used integers, a is an array of datatype ...\n",
    "a.dtype"
   ]
  },
  {
   "cell_type": "markdown",
   "metadata": {},
   "source": [
    "If you want to create a bunch of 0s or 1s, you can do this using"
   ]
  },
  {
   "cell_type": "code",
   "execution_count": null,
   "metadata": {},
   "outputs": [],
   "source": [
    "zeros = np.zeros(5)\n",
    "print(zeros)\n",
    "\n",
    "ones = np.ones(10)\n",
    "print(ones)"
   ]
  },
  {
   "cell_type": "markdown",
   "metadata": {},
   "source": [
    "If you want to create longer sequence you can simply use the `arange` function which very similiar to the built-in `range` function (just\n",
    "that it returns a NumPy array:"
   ]
  },
  {
   "cell_type": "code",
   "execution_count": null,
   "metadata": {},
   "outputs": [],
   "source": [
    "b = np.arange(30)\n",
    "print(b)"
   ]
  },
  {
   "cell_type": "markdown",
   "metadata": {},
   "source": [
    "**Miniexercise:** Curious about the possible arguments of `arange`? Use the `?` to look up\n",
    "its documentation and create an array 20 to 20000 with step size equal to 3."
   ]
  },
  {
   "cell_type": "markdown",
   "metadata": {},
   "source": [
    "If you want to generate evenly space sequence of numbers over a given\n",
    "interval $[a,b]$, the `linspace` function is your best friend!"
   ]
  },
  {
   "cell_type": "code",
   "execution_count": null,
   "metadata": {},
   "outputs": [],
   "source": [
    "grid = np.linspace(0, np.pi,10)\n",
    "print(grid)\n",
    "np.linspace?"
   ]
  },
  {
   "cell_type": "markdown",
   "metadata": {},
   "source": [
    "Observe that linspace takes the *number of samples to generate* instead of a step size. As always you can explore the documentation on `linspace`\n",
    "via\n",
    "```Python\n",
    "np.linspace?\n",
    "```"
   ]
  },
  {
   "cell_type": "markdown",
   "metadata": {},
   "source": [
    "Time to look at more complex arrays. Let's go to higher dimensions!\n",
    "\n",
    "You can create a simple 2d array by simply passing a list of lists:"
   ]
  },
  {
   "cell_type": "code",
   "execution_count": null,
   "metadata": {},
   "outputs": [],
   "source": [
    "a = np.array([[1,2,3],\n",
    "              [4,5,6]]) # A (dense) matrix or an array of rank 2\n",
    "print(\"a =\")\n",
    "print(a)\n",
    "\n",
    "# More information on a\n",
    "print(\"The rank/dimension is\")\n",
    "print(a.ndim) \n",
    "\n",
    "# The shape of a is\n",
    "print(\"Shape of a\")\n",
    "print(a.shape) "
   ]
  },
  {
   "cell_type": "markdown",
   "metadata": {},
   "source": [
    "So you could say, we defined $2\\times 3$ Matrix (2 rows, each consists\n",
    "of 3 colums).\n",
    "\n",
    "Note that `shape` attribute of an array is a tuple which returns the\n",
    "number of elements of each so-called `axis`. The \"0\" axis corresponds\n",
    "the number of elements in the *outer-most* list. The 1st axis in the corresponds to the second outer-most list, and so on.\n",
    "\n",
    "Let's try it out with a rank-3 array."
   ]
  },
  {
   "cell_type": "code",
   "execution_count": null,
   "metadata": {},
   "outputs": [],
   "source": [
    "b = np.array([ [[1,2,3,4],[5,6,7,8]],\n",
    "               [[9,10,11,12],[13,14,15,16]], \n",
    "               [[17,18,19,20],[21,22,23,24]]]) # This is an array of rank 3\n",
    "\n",
    "# Determine its shape and confirm it!\n",
    "print(b.shape)"
   ]
  },
  {
   "cell_type": "markdown",
   "metadata": {},
   "source": [
    "### Useful Operations on Arrays"
   ]
  },
  {
   "cell_type": "code",
   "execution_count": null,
   "metadata": {},
   "outputs": [],
   "source": [
    "a1 = np.array([0, 10, 20, 30, 40])\n",
    "a2 = np.arange(5)\n",
    "\n",
    "a1 + 100*a2  # elementwise scaling and addition"
   ]
  },
  {
   "cell_type": "code",
   "execution_count": null,
   "metadata": {},
   "outputs": [],
   "source": [
    "a1 + 100 # elementwise addition of a scalar"
   ]
  },
  {
   "cell_type": "code",
   "execution_count": null,
   "metadata": {},
   "outputs": [],
   "source": [
    "a1*a2 # elementwise product"
   ]
  },
  {
   "cell_type": "code",
   "execution_count": null,
   "metadata": {},
   "outputs": [],
   "source": [
    "A1 = np.array([[1, 2, 3],\n",
    "               [4, 5, 6],\n",
    "               [7, 8, 9]])\n",
    "A2 = np.array([[10, 20, 30],\n",
    "               [40, 50, 60],\n",
    "               [70, 80, 90]])\n",
    "A1*A2 # elementwise product"
   ]
  },
  {
   "cell_type": "code",
   "execution_count": null,
   "metadata": {},
   "outputs": [],
   "source": [
    "A1.dot(A2) # matrix product (if you're using the pure array interface)"
   ]
  },
  {
   "cell_type": "code",
   "execution_count": null,
   "metadata": {},
   "outputs": [],
   "source": [
    "np.dot(A1, A2) # Achieves the same"
   ]
  },
  {
   "cell_type": "code",
   "execution_count": null,
   "metadata": {},
   "outputs": [],
   "source": [
    "print(A1)\n",
    "A1 += A2\n",
    "print(A1)\n",
    "print(A1 + 1000.0)"
   ]
  },
  {
   "cell_type": "markdown",
   "metadata": {},
   "source": [
    "For a more linear algebra friendly interface, have a look at the\n",
    "Section *‘array’ or ‘matrix’? Which should I use?* at \n",
    "https://docs.scipy.org/doc/numpy/user/numpy-for-matlab-users.html"
   ]
  },
  {
   "cell_type": "markdown",
   "metadata": {},
   "source": [
    "Sometimes it is necessary to flatten them out (from the most-inner to the most-outer axis), storing everying in a single consecutive array of rank 1. The `ravel` function does the job for you. Note that is *doesn't* change the original array, but\n",
    "rather returns the flatten array as a copy."
   ]
  },
  {
   "cell_type": "code",
   "execution_count": null,
   "metadata": {},
   "outputs": [],
   "source": [
    "bflat = b.ravel()\n",
    "print(\"Printing flatten rank 3 array\\n\" + str(bflat))\n",
    "print(\"Print original array\\n\" + str(b))"
   ]
  },
  {
   "cell_type": "markdown",
   "metadata": {},
   "source": [
    "You can also reshape arrays:"
   ]
  },
  {
   "cell_type": "code",
   "execution_count": null,
   "metadata": {},
   "outputs": [],
   "source": [
    "b_reshaped = b.reshape(2, 12) # Returns a reshape array\n",
    "print(\"Reshaped array\")\n",
    "print(b_reshaped)\n",
    "print(\"Original array\")\n",
    "print(b)"
   ]
  },
  {
   "cell_type": "markdown",
   "metadata": {},
   "source": [
    "You can also reshape the original array using the `resize` function "
   ]
  },
  {
   "cell_type": "code",
   "execution_count": null,
   "metadata": {},
   "outputs": [],
   "source": [
    "b.resize(2,12)\n",
    "print(\"Original array\")\n",
    "print(b)"
   ]
  },
  {
   "cell_type": "markdown",
   "metadata": {},
   "source": [
    "Similar to lists, there are lot of possibilities to slice an array."
   ]
  },
  {
   "cell_type": "code",
   "execution_count": null,
   "metadata": {},
   "outputs": [],
   "source": [
    "print(a1)\n",
    "a1[1] # Indexing"
   ]
  },
  {
   "cell_type": "code",
   "execution_count": null,
   "metadata": {},
   "outputs": [],
   "source": [
    "a1[2:4] # Extracting subarray from index 2 to 3 "
   ]
  },
  {
   "cell_type": "code",
   "execution_count": null,
   "metadata": {},
   "outputs": [],
   "source": [
    "a1[1:4:2]"
   ]
  },
  {
   "cell_type": "markdown",
   "metadata": {},
   "source": [
    "**Note** You will encounter more sophisticated slicing of arrays/matrices later in the course!\n",
    "\n",
    "Opposed to standard lists, the slicing operations do not return \n",
    "a copy, but rather a *view* of the original array to avoid\n",
    "unneccessary copying!"
   ]
  },
  {
   "cell_type": "code",
   "execution_count": null,
   "metadata": {},
   "outputs": [],
   "source": [
    "print(a1)\n",
    "a1[1:4:2] = 10000\n",
    "print(a1) \n",
    "a1[1:4:2] = np.pi\n",
    "print(a1) "
   ]
  },
  {
   "cell_type": "markdown",
   "metadata": {},
   "source": [
    "What happened in the second case? a1's datatype is integer and thus $\\pi$ was\n",
    "converted/rounded to avoid changing the underlying number datatype\n",
    "of a1. You can a converted copy by using the `astype` function."
   ]
  },
  {
   "cell_type": "code",
   "execution_count": null,
   "metadata": {},
   "outputs": [],
   "source": [
    "print(a1.dtype)\n",
    "a1_float = a1.astype(float)\n",
    "print(a1_float.dtype)"
   ]
  },
  {
   "cell_type": "markdown",
   "metadata": {},
   "source": [
    "Or you can specify the datatype when creating the array (and you only\n",
    "use integers):"
   ]
  },
  {
   "cell_type": "code",
   "execution_count": null,
   "metadata": {},
   "outputs": [],
   "source": [
    "a3 = np.array([1,2, 3], dtype=float)\n",
    "print(a3)\n",
    "# If any of the number are floats you get float as dtype \n",
    "a4 = np.array([1.0 ,2, 3]) \n",
    "print(a4)"
   ]
  },
  {
   "cell_type": "markdown",
   "metadata": {},
   "source": [
    "Let's slice some matrices/arrays with rank $ > 1$."
   ]
  },
  {
   "cell_type": "code",
   "execution_count": null,
   "metadata": {},
   "outputs": [],
   "source": [
    "#Print current A1\n",
    "A1 = np.arange(24).reshape(4,6)\n",
    "print(A1)\n",
    "print(A1[1,2]) # Get \n",
    "\n",
    "# Similar effect, but  first version is preferred\n",
    "#print(A1[1][2])\n",
    "\n",
    "# Get 2nd row\n",
    "print(A1[1,:])\n",
    "\n",
    "# Get 3rd column\n",
    "print(A1[:,2])\n",
    "\n",
    "# Extract (continuous) subblocks\n",
    "print(\"Extracting continuously connected subblocks\")\n",
    "print(A1[1:3,2:4])\n",
    "print(A1[:,2:4])\n",
    "print(A1[1:3,:])"
   ]
  },
  {
   "cell_type": "markdown",
   "metadata": {},
   "source": [
    "**Miniexercise**: Who dares to try something simular for a rank 3 array? Define one by starting from a suitable defined arange and reshaping and try to get a view on\n",
    "* Single elements\n",
    "* Rank 1 subarrays\n",
    "* Rank 2 subarrays\n",
    "* Rank 3 subarrays"
   ]
  },
  {
   "cell_type": "code",
   "execution_count": null,
   "metadata": {},
   "outputs": [],
   "source": [
    "A2 = A1.reshape(3,4,2)\n",
    "print(A2)\n",
    "A2[2, 3, 1]\n",
    "print(A2[:,:,0])\n",
    "print(A2[:,1:3,0])"
   ]
  },
  {
   "cell_type": "markdown",
   "metadata": {},
   "source": [
    "### Defining grids and evaluating functions on arrays"
   ]
  },
  {
   "cell_type": "markdown",
   "metadata": {},
   "source": [
    "NumPy has implemented its own 'array'-aware version of many mathematical functions. Evaluating a function on an array basically\n",
    "means this function is applied element-wise."
   ]
  },
  {
   "cell_type": "code",
   "execution_count": null,
   "metadata": {},
   "outputs": [],
   "source": [
    "x = np.linspace(0, 2*np.pi, 60)\n",
    "f = np.sin(x)\n",
    "print(f)"
   ]
  },
  {
   "cell_type": "markdown",
   "metadata": {},
   "source": [
    "Don't trust me? Let's get started with Matplotlib and plot the result!"
   ]
  },
  {
   "cell_type": "markdown",
   "metadata": {},
   "source": [
    "## Matplotlib\n",
    "\n",
    "First of course, you have to import the right module! Luckily for (former ;) ) Matlab users, there is simplified interface called\n",
    "`pyplot` which tries to resembles the basic Matlab plotting function rather closely. \n",
    "\n",
    "There is a nice tutorial on `pyplot` as part of the [offical Matplotlib tutorials](http://matplotlib.org/tutorials/index.html),\n",
    "see [Pyplot tutorial](http://matplotlib.org/tutorials/introductory/pyplot.html#sphx-glr-tutorials-introductory-pyplot-py). Later on, you might want to have a look at the [Matplotlib Gallery](http://matplotlib.org/gallery/index.html#)."
   ]
  },
  {
   "cell_type": "code",
   "execution_count": null,
   "metadata": {},
   "outputs": [],
   "source": [
    "%matplotlib widget\n",
    "import matplotlib.pyplot as plt\n",
    "plt.plot(x,f)\n",
    "# You need this command to show the final figure"
   ]
  },
  {
   "cell_type": "markdown",
   "metadata": {},
   "source": [
    "If you want to switch to an interactive plotting, just execute on of the Jupyter notebook's magic command:"
   ]
  },
  {
   "cell_type": "code",
   "execution_count": null,
   "metadata": {},
   "outputs": [],
   "source": [
    "%matplotlib widget"
   ]
  },
  {
   "cell_type": "markdown",
   "metadata": {},
   "source": [
    "Let's make a fancier plot by plotting both $\\sin$ and $\\cos$ and giving the figure\n",
    "labels, a legend and some markers."
   ]
  },
  {
   "cell_type": "code",
   "execution_count": null,
   "metadata": {},
   "outputs": [],
   "source": [
    "plt.plot(x,f, marker='o', color='cyan', linestyle='dashed', linewidth=2.0, label = '$\\sin$')\n",
    "# Similar result with the slightly less verbose command\n",
    "#plt.plot(x,f, 'co--', linewidth=2.0, label = '$\\sin$')\n",
    "plt.plot(x, np.cos(x), marker='*', color='magenta', linestyle=':',linewidth=2, label = '$\\cos$')\n",
    "plt.xlabel('$x$')\n",
    "plt.ylabel('$f(x)$')\n",
    "plt.title('My first Matplotlib plot!')\n",
    "# You need this to show the legend\n",
    "plt.legend()\n",
    "#You need this command to show the final figure\n",
    "plt.show()"
   ]
  },
  {
   "cell_type": "markdown",
   "metadata": {},
   "source": [
    "As always, you can look up the possibile arguments using"
   ]
  },
  {
   "cell_type": "code",
   "execution_count": null,
   "metadata": {},
   "outputs": [],
   "source": [
    "plt.plot?"
   ]
  },
  {
   "cell_type": "markdown",
   "metadata": {},
   "source": [
    "**TODO:** Explain usage of\n",
    "```Python \n",
    "%matplotlib widget\n",
    "```\n",
    " "
   ]
  }
 ],
 "metadata": {
  "kernelspec": {
   "display_name": "Python 3",
   "language": "python",
   "name": "python3"
  },
  "language_info": {
   "codemirror_mode": {
    "name": "ipython",
    "version": 3
   },
   "file_extension": ".py",
   "mimetype": "text/x-python",
   "name": "python",
   "nbconvert_exporter": "python",
   "pygments_lexer": "ipython3",
   "version": "3.9.5"
  }
 },
 "nbformat": 4,
 "nbformat_minor": 2
}
