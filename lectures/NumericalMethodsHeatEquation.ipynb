{
 "cells": [
  {
   "cell_type": "markdown",
   "metadata": {
    "slideshow": {
     "slide_type": "subslide"
    }
   },
   "source": [
    "$\\newcommand{mb}[1]{\\mathbf{#1}}$\n",
    "\n",
    "<!-- dom:TITLE: Partial differential equations and finite difference methods. -->\n",
    "# Numerical methods for the heat equation\n",
    "<!-- dom:AUTHOR: Anne Kværnø -->\n",
    "<!-- Author: -->  \n",
    "**Anne Kværnø, modified by André Massing**\n",
    "\n",
    "Date: **April 22, 2021**\n",
    "$$\n",
    "\\DeclareMathOperator{\\Div}{div}\n",
    "\\DeclareMathOperator{\\Grad}{grad}\n",
    "\\DeclareMathOperator{\\Curl}{curl}\n",
    "\\DeclareMathOperator{\\Rot}{rot}\n",
    "\\DeclareMathOperator{\\ord}{ord}\n",
    "\\DeclareMathOperator{\\Kern}{ker}\n",
    "\\DeclareMathOperator{\\Image}{im}\n",
    "\\DeclareMathOperator{\\spann}{span}\n",
    "\\DeclareMathOperator{\\rank}{rank}\n",
    "\\DeclareMathOperator{\\dist}{dist}\n",
    "\\DeclareMathOperator{\\diam}{diam}\n",
    "\\DeclareMathOperator{\\sig}{sig}\n",
    "\\DeclareMathOperator{\\Id}{Id}\n",
    "\\DeclareMathOperator{\\CQR}{CQR}\n",
    "\\DeclareMathOperator{\\QR}{QR}\n",
    "\\DeclareMathOperator{\\TR}{TR}\n",
    "\\DeclareMathOperator{\\CTR}{CTR}\n",
    "\\DeclareMathOperator{\\SR}{SR}\n",
    "\\DeclareMathOperator{\\CSR}{CSR}\n",
    "\\DeclareMathOperator{\\NCR}{NCR}\n",
    "\\DeclareMathOperator{\\MR}{MR}\n",
    "\\newcommand{\\RR}{\\mathbb{R}}\n",
    "\\newcommand{\\NN}{\\mathbb{N}}\n",
    "\\newcommand{\\VV}{\\mathbb{V}}\n",
    "\\newcommand{\\PP}{\\mathbb{P}}\n",
    "\\newcommand{\\dGamma}{\\,\\mathrm{d} \\Gamma}\n",
    "\\newcommand{\\dGammah}{\\,\\mathrm{d} \\Gamma_h}\n",
    "\\newcommand{\\dx}{\\,\\mathrm{d}x}\n",
    "\\newcommand{\\dy}{\\,\\mathrm{d}y}\n",
    "\\newcommand{\\ds}{\\,\\mathrm{d}s}\n",
    "\\newcommand{\\dt}{\\,\\mathrm{d}t}\n",
    "\\newcommand{\\dS}{\\,\\mathrm{d}S}\n",
    "\\newcommand{\\dV}{\\,\\mathrm{d}V}\n",
    "\\newcommand{\\dX}{\\,\\mathrm{d}X}\n",
    "\\newcommand{\\dY}{\\,\\mathrm{d}Y}\n",
    "\\newcommand{\\dE}{\\,\\mathrm{d}E}\n",
    "\\newcommand{\\dK}{\\,\\mathrm{d}K}\n",
    "\\newcommand{\\dM}{\\,\\mathrm{d}M}\n",
    "\\newcommand{\\cd}{\\mathrm{cd}}\n",
    "\\newcommand{\\onehalf}{\\frac{1}{2}}\n",
    "\\newcommand{\\bfP}{\\boldsymbol P}\n",
    "\\newcommand{\\bfx}{\\boldsymbol x}\n",
    "\\newcommand{\\bfy}{\\boldsymbol y}\n",
    "\\newcommand{\\bfa}{\\boldsymbol a}\n",
    "\\newcommand{\\bfu}{\\boldsymbol u}\n",
    "\\newcommand{\\bfv}{\\boldsymbol v}\n",
    "\\newcommand{\\bfe}{\\boldsymbol e}\n",
    "\\newcommand{\\bfb}{\\boldsymbol b}\n",
    "\\newcommand{\\bfc}{\\boldsymbol c}\n",
    "\\newcommand{\\bfq}{\\boldsymbol q}\n",
    "\\newcommand{\\bfy}{\\boldsymbol y}\n",
    "\\newcommand{\\bff}{\\boldsymbol f}\n",
    "\\newcommand{\\bfp}{\\boldsymbol p}\n",
    "\\newcommand{\\bft}{\\boldsymbol t}\n",
    "\\newcommand{\\bfj}{\\boldsymbol j}\n",
    "\\newcommand{\\bfB}{\\boldsymbol B}\n",
    "\\newcommand{\\bfV}{\\boldsymbol V}\n",
    "\\newcommand{\\bfE}{\\boldsymbol E}\n",
    "\\newcommand{\\bfB}{\\boldsymbol B}\n",
    "\\newcommand{\\bfzero}{\\boldsymbol 0}\n",
    "\\newcommand{\\mrm}[1]{\\mathrm{#1}}\n",
    "$$"
   ]
  },
  {
   "cell_type": "code",
   "execution_count": 1,
   "metadata": {
    "slideshow": {
     "slide_type": "slide"
    }
   },
   "outputs": [
    {
     "data": {
      "text/html": [
       "<link href='http://fonts.googleapis.com/css?family=Alegreya+Sans:100,300,400,500,700,800,900,100italic,300italic,400italic,500italic,700italic,800italic,900italic' rel='stylesheet' type='text/css'> <link href='http://fonts.googleapis.com/css?family=Arvo:400,700,400italic' rel='stylesheet' type='text/css'> <link href=\"https://fonts.googleapis.com/css?family=News+Cycle\" rel=\"stylesheet\"> <link href='http://fonts.googleapis.com/css?family=Nixie+One' rel='stylesheet' type='text/css'> <link href='http://fonts.googleapis.com/css?family=PT+Mono' rel='stylesheet' type='text/css'> <link href='http://fonts.googleapis.com/css?family=Shadows+Into+Light' rel='stylesheet' type='text/css'> <link href=\"https://fonts.googleapis.com/css?family=Source+Code+Pro\" rel=\"stylesheet\"> <style> @font-face {\n",
       "    /*font-family: \"Computer Modern\";*/\n",
       "    /*src: url('http://mirrors.ctan.org/fonts/cm-unicode/fonts/otf/cmunss.otf');*/\n",
       "    font-family: 'News Cycle', sans-serif;\n",
       "}\n",
       "\n",
       "\n",
       "/* main background */\n",
       "\n",
       "\n",
       "/*#notebook_panel { \n",
       "        background: #C9D4E2;\n",
       "    }*/\n",
       "\n",
       "div.cell {\n",
       "    /*max-width:600px;*/\n",
       "    /*margin-left:16% !important;*/\n",
       "    /*margin-right:auto;*/\n",
       "}\n",
       "\n",
       "div.text_cell {\n",
       "    /*max-width: 120ex;*/\n",
       "    /* instead of 100%, */\n",
       "}\n",
       "\n",
       "div.text_cell_render {\n",
       "    font-family: 'Alegreya Sans', Computer Modern, \"Helvetica Neue\", Arial, Helvetica, Geneva,   sans-serif;\n",
       "    line-height: 135%;\n",
       "    /*font-size:    45pt;*/\n",
       "    font-size: 130%;\n",
       "    /*width:600px;*/\n",
       "    /*margin-left:auto;*/\n",
       "    /*margin-right:auto;*/\n",
       "}\n",
       "\n",
       ".CodeMirror {\n",
       "    /*font-family: 'Source Code Pro', monospace;*/\n",
       "    /*font-style: italic;*/\n",
       "    /*font-weight: bold;*/\n",
       "    /*font-size: 120%;*/\n",
       "}\n",
       "\n",
       "\n",
       "/*.prompt{\n",
       "        display: None;\n",
       "    }*/\n",
       "\n",
       ".text_cell_render h1 {\n",
       "    font-family: 'Nixie One', serifV;\n",
       "    font-style: regular;\n",
       "    font-weight: 400;\n",
       "    font-size: 45pt;\n",
       "    line-height: 100%;\n",
       "        color: #497BB9;    \n",
       "    /*color: #5889C5;*/\n",
       "    /*color: rgb(0, 51, 102);*/\n",
       "    /*font-weight: 200;*/\n",
       "    /*font-size: 50pt;*/\n",
       "    margin-bottom: 0.5em;\n",
       "    margin-top: 0.5em;\n",
       "    display: block;\n",
       "}\n",
       "\n",
       ".text_cell_render h2 {\n",
       "    font-family: 'Nixie One', serif;\n",
       "    font-weight: 400;\n",
       "    font-size: 30pt;\n",
       "    line-height: 100%;\n",
       "    /*color: rgb(0,51,102);*/\n",
       "    color: #497BB9;    \n",
       "    margin-bottom: 0.1em;\n",
       "    margin-top: 0.3em;\n",
       "    display: block;\n",
       "}\t\n",
       "\n",
       ".text_cell_render h3 {\n",
       "    font-family: 'Nixie One', serif;\n",
       "    margin-top:16px;\n",
       "    font-size: 22pt;\n",
       "    font-weight: 600;\n",
       "    margin-bottom: 3px;\n",
       "    font-style: regular;\n",
       "    color: rgb(102,102,0);\n",
       "}\n",
       "\n",
       ".text_cell_render h4 {    /*Use this for captions*/\n",
       "    font-family: 'Nixie One', serif;\n",
       "    font-size: 14pt;\n",
       "/*    text-align: center;*/\n",
       "    margin-top: 0em;\n",
       "    margin-bottom: 2em;\n",
       "    font-style: regular;\n",
       "}\n",
       "\n",
       ".text_cell_render h5 {  /*Use this for small titles*/\n",
       "    font-family: 'Nixie One', sans-serif;\n",
       "    font-weight: 400;\n",
       "    font-size: 16pt;\n",
       "    color: rgb(163,0,0);\n",
       "    /*color: #5889C5;*/\n",
       "    /*margin-bottom: .5em;\n",
       "    margin-top: 0.5em;*/\n",
       "    font-style: italic;\n",
       "    margin-bottom: .1em;\n",
       "    margin-top: 0.8em;\n",
       "    display: block;\n",
       "}\n",
       "\n",
       ".warning {\n",
       "    color: rgb( 240, 20, 20)\n",
       "}\n",
       "\n",
       "</style> \n",
       "<script>\n",
       " MathJax.Hub.Config( {\n",
       "    TeX: {\n",
       "        Macros: {\n",
       "            NN: \"{\\\\bf N}\",\n",
       "            RR: \"{\\\\mathbb{R}}\",\n",
       "            mcO: \"{\\\\mathcal{O}}\"\n",
       "        },\n",
       "        equationNumbers: { autoNumber: \"AMS\" },\n",
       "        extensions: [\"AMSmath.js\", \"begingroup.js\"] \n",
       "    },\n",
       "    tex2jax: {\n",
       "        inlineMath: [ ['$', '$'], [\"\\\\(\", \"\\\\)\"]], displayMath: [ ['$$', '$$'], [\"\\\\[\", \"\\\\]\"]]\n",
       "    },\n",
       "    displayAlign: 'center', // Change this to 'center' to center equations.\n",
       "    \"HTML-CSS\": {\n",
       "        styles: {\n",
       "            '.MathJax_Display': {\n",
       "                \"margin\": 4\n",
       "            }\n",
       "        }\n",
       "    }\n",
       "}\n",
       ");\n",
       "</script>\n"
      ],
      "text/plain": [
       "<IPython.core.display.HTML object>"
      ]
     },
     "execution_count": 1,
     "metadata": {},
     "output_type": "execute_result"
    }
   ],
   "source": [
    "from IPython.core.display import HTML\n",
    "def css_styling():\n",
    "    try:\n",
    "        with open(\"tma4125.css\", \"r\") as f:\n",
    "            styles = f.read()\n",
    "            return HTML(styles)\n",
    "    except FileNotFoundError:\n",
    "        pass #Do nothing\n",
    "\n",
    "# Comment out next line and execute this cell to restore the default notebook style \n",
    "css_styling()"
   ]
  },
  {
   "cell_type": "code",
   "execution_count": null,
   "metadata": {
    "slideshow": {
     "slide_type": "slide"
    }
   },
   "outputs": [],
   "source": [
    "%matplotlib inline\n",
    "\n",
    "from numpy import *               \n",
    "from scipy.sparse import diags\t        # Greate diagonal matrices\n",
    "from scipy.linalg import solve\t        # Solve linear systems\n",
    "from matplotlib.pyplot import *     \t\n",
    "from mpl_toolkits.mplot3d import Axes3D  # For 3-d plot\n",
    "import matplotlib.animation as animation\n",
    "from matplotlib import cm \n",
    "newparams = {'figure.figsize': (10.0, 10.0), 'axes.grid': True,\n",
    "             'lines.markersize': 8, 'lines.linewidth': 2,\n",
    "             'font.size': 14}\n",
    "rcParams.update(newparams)\n",
    "from numpy import *"
   ]
  },
  {
   "cell_type": "markdown",
   "metadata": {
    "slideshow": {
     "slide_type": "slide"
    }
   },
   "source": [
    " ## The heat equation"
   ]
  },
  {
   "cell_type": "markdown",
   "metadata": {
    "slideshow": {
     "slide_type": "slide"
    }
   },
   "source": [
    "In this section we will see how to solve the heat equation by finite difference\n",
    "methods. It should however be emphasized that the basic strategy can be applied to a lot of different time-dependent PDEs. The heat equation is just an example. "
   ]
  },
  {
   "cell_type": "markdown",
   "metadata": {
    "slideshow": {
     "slide_type": "slide"
    }
   },
   "source": [
    "We are given the equation, well known from the first part of this course:\n",
    "\n",
    "\\begin{align*}\n",
    "  u_t & = u_{xx}, && 0 \\leq x \\leq 1 \\\\ \n",
    "  u(0,t) &=g_0(t), \\quad u(1,t)=g_1(t), && \\text{Boundary conditions} \\\\ \n",
    "  u(x,0) &= f(x) && \\text{Initial conditions}\n",
    "\\end{align*}\n",
    "\n",
    "The equation is solved from $t=0$ to $t=t_{\\text{end}}$. "
   ]
  },
  {
   "cell_type": "markdown",
   "metadata": {
    "slideshow": {
     "slide_type": "slide"
    }
   },
   "source": [
    "## Semi-discretization\n",
    "This is a technique which combines the discretization of boundary problems\n",
    "explained above with the techniques for solving ordinary differential equations. \n",
    "\n",
    "The idea is as follows:"
   ]
  },
  {
   "cell_type": "markdown",
   "metadata": {
    "slideshow": {
     "slide_type": "slide"
    }
   },
   "source": [
    "**Step 1:**\n",
    "Discretise the interval in the $x$-direction: Choose some $M$, let\n",
    "$\\Delta x=1/M$ (since the interval is $[0,1]$) and define the grid points as $x_i=i\\Delta\n",
    "x$, $i=0,1,\\dotsc,M$. \n",
    "\n",
    "Note that for each grid point $x_i$ the solution $u(x_i,t)$ is a function of $t$\n",
    "alone. "
   ]
  },
  {
   "cell_type": "markdown",
   "metadata": {
    "slideshow": {
     "slide_type": "slide"
    }
   },
   "source": [
    "**Step 2:**\n",
    "Fix some arbitrary point time $t$, and discretise the right hand side of the\n",
    "PDE. Using central differences to approximate $u_{xx}$, this will give\n",
    "\n",
    "$$\n",
    "\\frac{\\partial u}{\\partial t}(x_i,t) =\n",
    "\\frac{u(x_{i+1},t)-2u(x_i,t)+u(x_{i-1},t)}{\\Delta x^2} + \\mathcal{O}(\\Delta\n",
    "x^2).\n",
    "$$"
   ]
  },
  {
   "cell_type": "markdown",
   "metadata": {
    "slideshow": {
     "slide_type": "slide"
    }
   },
   "source": [
    "**Step 3:** \n",
    "Ignore the error term $\\mathcal{O}(\\Delta x^2)$ and replace $u(x_i,t)$ with the\n",
    "approximation $U_i(t)$ in the formula above. The result is\n",
    "\n",
    "$$\n",
    "U'_i(t) = \\frac{U_{i+1}(t) - 2 U_i(t) + U_{i-1}(t)}{\\Delta x^2}, \\qquad i=1,2,\\dotsc,M-1,\n",
    "$$\n",
    "\n",
    "where $U'_i(t) = dU_i(t)/dt$. "
   ]
  },
  {
   "cell_type": "markdown",
   "metadata": {
    "slideshow": {
     "slide_type": "fragment"
    }
   },
   "source": [
    "Note that rewrite the first and last equation using the boundary conditions $U_0(t)=g_0(t)$, $U_M(t)=g_1(t)$:\n",
    "\n",
    "\\begin{align*}\n",
    "U'_1(t) &= \\frac{U_{2}(t) - 2 U_1(t) + U_{0}(t)}{\\Delta x^2} = \\frac{U_{2}(t) - 2 U_1(t) + g_0(t)}{\\Delta x^2}\n",
    "\\\\\n",
    "U'_{M-1}(t) &= \\frac{U_{M}(t) - 2 U_{M-1}(t) + U_{M-2}(t)}{\\Delta x^2} = \n",
    "\\frac{g_1(t) - 2 U_{M-1}(t) + U_{M-2}(t)}{\\Delta x^2}\n",
    "\\end{align*}\n",
    "\n",
    "The resulting system, together initial condition $U_i(0) = f(x_i)$, $i=0,1,\\dotsc,M$, forms a well defined\n",
    "system of ordinary differential equations which is usually called a **semi-discretization (in space)** of the PDE.  "
   ]
  },
  {
   "cell_type": "markdown",
   "metadata": {
    "slideshow": {
     "slide_type": "slide"
    }
   },
   "source": [
    "The semi-discretized system\n",
    "\n",
    "$$\n",
    "\\dot{U}_i(t) = \\frac{U_{i+1}(t) - 2 U_i(t) + U_{i-1}(t)}{\\Delta x^2}, \\qquad i=1,2,\\dotsc,M-1, \\qquad U_0(t)=g_0(t), \\qquad U_M(t)=g_1(t),\n",
    "$$\n",
    "\n",
    "is a linear ordinary differential equation:\n",
    "\n",
    "$$\n",
    "\\dot{\\mb{U}} =  \\frac{1}{\\Delta x^2}\\big( A \\mb{U} + \\mb{g}(t)\\big),\n",
    "$$\n",
    "\n",
    "where\n",
    "\n",
    "$$\n",
    "\\mb{U} = \\left(\\begin{array}{c} U_1 \\\\ U_2 \\\\ \\vdots \\\\ U_{M-1} \\end{array} \\right) \\in \\RR^{M-1}, \\qquad\n",
    "A = \\left(\\begin{array}{cccc}\n",
    "      -2 & 1 & \\\\ \n",
    "      1 & \\ddots & \\ddots \\\\ \n",
    "        &  \\ddots & \\ddots & 1 \\\\ \n",
    "        &  & 1 & -2\n",
    "    \\end{array}\\right) \\in  \\RR^{M-1,M-1}\n",
    "\\qquad \\text{and} \\qquad\n",
    "\\mb{g}(t) = \\left(\\begin{array}{c} g_0(t) \\\\ 0 \\\\ \\vdots \\\\ 0 \\\\ g_1(t) \\end{array} \\right) \\in \\RR^{M-1}.\n",
    "$$"
   ]
  },
  {
   "cell_type": "markdown",
   "metadata": {
    "slideshow": {
     "slide_type": "slide"
    }
   },
   "source": [
    "**Step 4:**\n",
    "Solve the system of ODEs by the method of your preference. "
   ]
  },
  {
   "cell_type": "markdown",
   "metadata": {
    "slideshow": {
     "slide_type": "fragment"
    }
   },
   "source": [
    "For instance, the explicit Euler method with step size $\\Delta t$ applied to these ODEs is:\n",
    "\n",
    "$$\n",
    "U_{i}^{n+1} = U_{i}^n + r \\big(\\; U_{i+1}^n - 2U_{i}^n\n",
    "+ U_{i-1}^n\\; \\big), \\quad i=1,2,\\dotsc,M-1, \\qquad \\text{where } r = \\frac{\\Delta t}{\\Delta x^2}.\n",
    "$$"
   ]
  },
  {
   "cell_type": "markdown",
   "metadata": {
    "slideshow": {
     "slide_type": "fragment"
    }
   },
   "source": [
    "Thus $U_i^n \\approx u(x_i,t_n)$ with $t_n=n\\Delta t$.\n",
    "In order to better distinguish between the space and the time indices,\n",
    "we have denoted the time indices by superscripts, and the space indices by subscripts."
   ]
  },
  {
   "cell_type": "markdown",
   "metadata": {
    "slideshow": {
     "slide_type": "slide"
    }
   },
   "source": [
    "Let us test this algorithm on two examples."
   ]
  },
  {
   "cell_type": "markdown",
   "metadata": {
    "slideshow": {
     "slide_type": "slide"
    }
   },
   "source": [
    "**Numerical examples 1:** \n",
    "Solve the heat equation $u_t=u_{xx}$ on the interval $0<t<1$\n",
    "with the following initial and boundary values:\n",
    "\n",
    "\\begin{align*}\n",
    "u(x,0) & = \\sin(\\pi x), && \\text{Initial value,} \\\\ \n",
    "g_0(t) & =g_1(t)=0. && \\text{Boundary values.}\n",
    "\\end{align*}\n",
    "\n",
    "Use stepsizes $\\Delta t=1/N$ and $\\Delta x=1/M$. "
   ]
  },
  {
   "cell_type": "markdown",
   "metadata": {
    "slideshow": {
     "slide_type": "fragment"
    }
   },
   "source": [
    "The analytic solution of this problem is given by\n",
    "\n",
    "$$\n",
    "u(x,t) = e^{-\\pi^2t}\\sin(\\pi x).\n",
    "$$"
   ]
  },
  {
   "cell_type": "markdown",
   "metadata": {
    "slideshow": {
     "slide_type": "slide"
    }
   },
   "source": [
    "**Numerical example 2:**\n",
    "Repeat example 1, but now with the initial values\n",
    "\n",
    "$$\n",
    "u(x,0) = \\left\\{ \\begin{array}{ll} 2x, & 0 \\leq x \\leq 0.5, \\\\ 2(1-x), & 0.5 < x\\leq 2-2x. \n",
    "\\end{array} \\right.\n",
    "$$"
   ]
  },
  {
   "cell_type": "markdown",
   "metadata": {
    "slideshow": {
     "slide_type": "fragment"
    }
   },
   "source": [
    "In this case, we have no simple expression of the analytic solution.\n",
    "We can, of course, write the analytic solution as a Fourier series,\n",
    "but the evaluation of the Fourier series still requires some form of approximation."
   ]
  },
  {
   "cell_type": "markdown",
   "metadata": {
    "slideshow": {
     "slide_type": "slide"
    }
   },
   "source": [
    "Run the codes below with \n",
    "1. $M=4$, $N=20$.\n",
    "\n",
    "2. $M=8$, $N=40$.\n",
    "\n",
    "3. $M=16$, $N=80$. \n",
    "\n",
    "Both initial values are already implemented. "
   ]
  },
  {
   "cell_type": "markdown",
   "metadata": {
    "slideshow": {
     "slide_type": "slide"
    }
   },
   "source": [
    "## Implementation\n",
    "\n",
    "We first include a function for plotting the solution."
   ]
  },
  {
   "cell_type": "code",
   "execution_count": null,
   "metadata": {
    "slideshow": {
     "slide_type": "slide"
    }
   },
   "outputs": [],
   "source": [
    "def plot_heat_solution(x, t, U, txt='Solution'):\n",
    "    '''\n",
    "    Help function\n",
    "    Plot the solution of the heat equation\n",
    "    '''\n",
    "    \n",
    "    fig = figure()\n",
    "    ax = fig.gca(projection='3d')\n",
    "    T, X = meshgrid(t,x)\n",
    "    # ax.plot_wireframe(T, X, U)\n",
    "    ax.plot_surface(T, X, U, cmap=cm.coolwarm)\n",
    "    ax.view_init(azim=30)              # Rotate the figure\n",
    "    xlabel('t')\n",
    "    ylabel('x')\n",
    "    title(txt);"
   ]
  },
  {
   "cell_type": "markdown",
   "metadata": {
    "slideshow": {
     "slide_type": "slide"
    }
   },
   "source": [
    "Define the problem, this time in terms of initial values and boundary conditions."
   ]
  },
  {
   "cell_type": "code",
   "execution_count": null,
   "metadata": {
    "slideshow": {
     "slide_type": "fragment"
    }
   },
   "outputs": [],
   "source": [
    "    # Initial condition\n",
    "    def f1(x):               # Example 1\n",
    "        return sin(pi*x)\n",
    "\n",
    "    def f2(x):               # Example 2\n",
    "        y = 2*x\n",
    "        y[x>0.5] = 2-2*x[x>0.5]\n",
    "        return y\n",
    "\n",
    "    f = f1\n",
    "    \n",
    "    # Boundary conditions\n",
    "    def g0(t):\n",
    "        return 0\n",
    "    def g1(t):\n",
    "        return 0"
   ]
  },
  {
   "cell_type": "markdown",
   "metadata": {
    "slideshow": {
     "slide_type": "slide"
    }
   },
   "source": [
    "The main part of the code is:"
   ]
  },
  {
   "cell_type": "code",
   "execution_count": null,
   "metadata": {
    "slideshow": {
     "slide_type": "fragment"
    }
   },
   "outputs": [],
   "source": [
    "# Solve the heat equation by a forward difference in time (forward Euler)\n",
    "#\n",
    "M = 8                   # Number of intervals in the x-direction\n",
    "Dx = 1/M\n",
    "x = linspace(0,1,M+1)   # Gridpoints in the x-direction\n",
    "\n",
    "tend = 0.5\n",
    "N = 40                  #  Number of intervals in the t-direction\n",
    "Dt = tend/N\n",
    "t = linspace(0,tend,N+1) # Gridpoints in the t-direction\n",
    "\n",
    "# Array to store the solution\n",
    "U = zeros((M+1,N+1))\n",
    "U[:,0] = f(x)              # Initial condition U_{i,0} = f(x_i)\n",
    "\n",
    "r = Dt/Dx**2                \n",
    "print('r =',r)\n",
    "\n",
    "# Main loop \n",
    "for n in range(N):\n",
    "    U[1:-1, n+1] = U[1:-1,n] + r*(U[2:,n]-2*U[1:-1,n]+U[0:-2,n])  \n",
    "    U[0, n+1] = g0(t[n+1])\n",
    "    U[M, n+1] = g1(t[n+1])"
   ]
  },
  {
   "cell_type": "code",
   "execution_count": null,
   "metadata": {
    "slideshow": {
     "slide_type": "slide"
    }
   },
   "outputs": [],
   "source": [
    "# Plot the numerical solution\n",
    "plot_heat_solution(x, t, U)"
   ]
  },
  {
   "cell_type": "code",
   "execution_count": null,
   "metadata": {},
   "outputs": [],
   "source": [
    "# Plot the error from example 1\n",
    "def u_exact(x,t):\n",
    "    return exp(-pi**2*t)*sin(pi*x)\n",
    "T, X = meshgrid(t, x)\n",
    "error = u_exact(X, T) - U\n",
    "plot_heat_solution(x, t, error, txt='Error')\n",
    "print('Maximum error: {:.3e}'.format(max(abs(error.flatten()))))       # Maximal error over the whole array"
   ]
  },
  {
   "cell_type": "markdown",
   "metadata": {
    "slideshow": {
     "slide_type": "slide"
    }
   },
   "source": [
    "The solution is stable for $M=4$, $N=20$, and apparently unstable for $M=16$, $N=80$. \n",
    "Why?  "
   ]
  },
  {
   "cell_type": "markdown",
   "metadata": {
    "slideshow": {
     "slide_type": "slide"
    }
   },
   "source": [
    "## Stability analysis"
   ]
  },
  {
   "cell_type": "markdown",
   "metadata": {
    "slideshow": {
     "slide_type": "slide"
    }
   },
   "source": [
    "The semi-discretized system\n",
    "\n",
    "$$\n",
    "\\dot{U}_i(t) = \\frac{U_{i+1}(t) - 2 U_i(t) + U_{i-1}(t)}{\\Delta x^2}, \\qquad i=1,2,\\dotsc,M-1, \\qquad U_0(t)=g_0(t), \\qquad U_M(t)=g_1(t),\n",
    "$$\n",
    "\n",
    "is a linear ordinary differential equation:\n",
    "\n",
    "$$\n",
    "\\dot{\\mb{U}} =  \\frac{1}{\\Delta x^2}\\big( A \\mb{U} + \\mb{g}(t)\\big),\n",
    "$$\n",
    "\n",
    "where\n",
    "\n",
    "$$\n",
    "\\mb{U} = \\left(\\begin{array}{c} U_1 \\\\ U_2 \\\\ \\vdots \\\\ U_{M-1} \\end{array} \\right) \\in \\RR^{M-1}, \\qquad\n",
    "A = \\left(\\begin{array}{cccc}\n",
    "      -2 & 1 & \\\\ \n",
    "      1 & \\ddots & \\ddots \\\\ \n",
    "        &  \\ddots & \\ddots & 1 \\\\ \n",
    "        &  & 1 & -2\n",
    "    \\end{array}\\right) \\in  \\RR^{M-1,M-1}\n",
    "\\qquad \\text{and} \\qquad\n",
    "\\mb{g}(t) = \\left(\\begin{array}{c} g_0(t) \\\\ 0 \\\\ \\vdots \\\\ 0 \\\\ g_1(t) \\end{array} \\right) \\in \\RR^{M-1}.\n",
    "$$"
   ]
  },
  {
   "cell_type": "markdown",
   "metadata": {
    "slideshow": {
     "slide_type": "slide"
    }
   },
   "source": [
    "Stability requirements for such problems were discussed in the note on stiff ordinary differential equation. We proved there that the stability depends on the eigenvalues $\\lambda_k$ of the matrix $\\frac{1}{\\Delta x^2}A$.\n",
    "For the forward Euler method, it was shown that the step size has to chosen such that\n",
    "$|\\Delta t \\lambda_k + 1| \\le 1$ for all $\\lambda_k$. Otherwise, the numerical solution will be unstable."
   ]
  },
  {
   "cell_type": "markdown",
   "metadata": {
    "slideshow": {
     "slide_type": "slide"
    }
   },
   "source": [
    "Note now that the matrix $A$ is symmetric, which implies that\n",
    "all its eigenvalues are real. Thus, the stability condition reduces\n",
    "to the two inequalities $\\pm (\\Delta t \\lambda_k + 1) \\le 1$,\n",
    "which again can be rewritten as the condition that $-2 \\le \\Delta t \\lambda_k \\le 0$."
   ]
  },
  {
   "cell_type": "markdown",
   "metadata": {
    "slideshow": {
     "slide_type": "slide"
    }
   },
   "source": [
    "It is possible to prove that the eigenvalues of the matrix $A$ is given by\n",
    "\n",
    "$$\n",
    "\\lambda_k = -4\\sin^2 \\big( \\frac{k\\pi}{M}\\big), \\qquad k=1,\\cdots,M-1.\n",
    "$$"
   ]
  },
  {
   "cell_type": "markdown",
   "metadata": {
    "slideshow": {
     "slide_type": "fragment"
    }
   },
   "source": [
    "So all the eigenvalues $\\lambda_k$ of $\\frac{1}{\\Delta x^2}A$ satisfy\n",
    "\n",
    "$$\n",
    "-\\frac{4}{\\Delta x^2} < \\lambda _k < 0.\n",
    "$$"
   ]
  },
  {
   "cell_type": "markdown",
   "metadata": {
    "slideshow": {
     "slide_type": "fragment"
    }
   },
   "source": [
    "The numerical solution is stable if $\\Delta t < -2/\\lambda_k$ for all $k$, which means\n",
    "that we obtain the condition\n",
    "\n",
    "$$\n",
    "r = \\frac{\\Delta t}{\\Delta x^2} \\leq \\frac{1}{2}.\n",
    "$$\n",
    "\n",
    "This also known as **Courant-Friedrich-Lax (CFL) number**, and the \n",
    "stability condition number above is also know as **(parabolic) CFL-condition** (since the heat equation\n",
    "is the prototype example of a so-called parabolic PDE.)"
   ]
  },
  {
   "cell_type": "markdown",
   "metadata": {
    "slideshow": {
     "slide_type": "slide"
    }
   },
   "source": [
    "**Problem 1:**\n",
    "Repeat the two experiments above (for the two different initial values) to justify the bound above.  \n",
    "Use $M=16$, and in each case find the corresponding $r$ and observe from the experiments whether the solution is stable or not. \n",
    "\n",
    "1. Let $N=256$.\n",
    "\n",
    "2. Let $N=128$.  \n",
    "\n",
    "3. Let $N=250$. \n",
    "\n",
    "In the last case, it seems like the method is stable for the first initial value, and unstable for the second. Do you have any idea why? (Both solutions will be unstable if integrated over a longer time periode). \n",
    "\n",
    "**Hint:** Relate to the Fourier expansion solution of the heat equation from the first part of the course. "
   ]
  },
  {
   "cell_type": "markdown",
   "metadata": {
    "slideshow": {
     "slide_type": "slide"
    }
   },
   "source": [
    "## Implicit methods"
   ]
  },
  {
   "cell_type": "markdown",
   "metadata": {
    "slideshow": {
     "slide_type": "slide"
    }
   },
   "source": [
    "The semi-discretized system is an example of a stiff ODE, which can only be handled reasonable efficiently by $A(0)$-stable methods, like the implicit Euler or the trapezoidal rule, see the note on stiff ODEs. "
   ]
  },
  {
   "cell_type": "markdown",
   "metadata": {
    "slideshow": {
     "slide_type": "slide"
    }
   },
   "source": [
    "### Implicit Euler"
   ]
  },
  {
   "cell_type": "markdown",
   "metadata": {
    "slideshow": {
     "slide_type": "slide"
    }
   },
   "source": [
    "The implicit Euler method for the discritized system \n",
    "$\\dot{\\mb{U}}=\\frac{1}{\\Delta x^2}\\;\\big(A\\mb{U} + \\mb{g}(t)\\big) $ \n",
    "is given by\n",
    "\n",
    "$$\n",
    "\\mb{U}^{n+1} = \\mb{U}^{n} + r \\,A \\mb{U}^{n+1} + r \\,\\mb{g}(t_{n+1}), \\qquad \\text{with} \\qquad r=\\frac{\\Delta t}{\\Delta x^2}.\n",
    "$$\n",
    "\n",
    "where $\\mb{U}^n=[U_1^n, U_2^n, \\dotsc, U_{M-1}^n]^T$ and $U_i^n \\approx u(x_i, t_n)$."
   ]
  },
  {
   "cell_type": "markdown",
   "metadata": {
    "slideshow": {
     "slide_type": "fragment"
    }
   },
   "source": [
    "For each time step, the following system of linear equations has to be solved:\n",
    "\n",
    "$$\n",
    "(I_{M-1}- r \\,A)\\mb{U}^{n+1} = \\mb{U}^n + r\\, \\mb{g}(t_{n+1}),\n",
    "$$\n",
    "\n",
    "where $I_{M-1}$ is the identity matrix of dimension $(M-1)\\times (M-1)$. \n",
    "\n",
    "**Error estimate.** The error in the gridpoints can be shown to be of order $\\mathcal{O}(\\Delta t+ \\Delta x^2)$."
   ]
  },
  {
   "cell_type": "markdown",
   "metadata": {
    "slideshow": {
     "slide_type": "slide"
    }
   },
   "source": [
    "### Crank-Nicolson (trapezoidal rule)"
   ]
  },
  {
   "cell_type": "markdown",
   "metadata": {
    "slideshow": {
     "slide_type": "slide"
    }
   },
   "source": [
    "The trapezoidal rule applied to the semi-discretized system is often referred to as the *Crank-Nicolson method*. The method is $A(0)$-stable and of order 2 in time, so we can expect better accuracy.\n",
    "The method is written as:"
   ]
  },
  {
   "cell_type": "markdown",
   "metadata": {
    "slideshow": {
     "slide_type": "fragment"
    }
   },
   "source": [
    "$$\n",
    "\\mb{U}^{n+1} = \\mb{U}^n + \\frac{\\Delta t}{2\\Delta x^2}A\\big(\\mb{U}^{n+1}+\\mb{U}^n\\big) + \\frac{\\Delta t}{2\\Delta x^2}\\big(\\mb{g}(t_n)+\\mb{g}(t_{n+1})\\big).\n",
    "$$"
   ]
  },
  {
   "cell_type": "markdown",
   "metadata": {
    "slideshow": {
     "slide_type": "fragment"
    }
   },
   "source": [
    "So for each timestep the following system of equations has to be solved with respect to $\\mb{U}^n$:\n",
    "\n",
    "$$\n",
    "(I_{M-1} - \\frac{r}{2}A)\\mb{U}^{n+1} = (I_{M-1} + \\frac{r}{2}A)\\mb{U}^{n} + \\frac{r}{2}\\big(\\mb{g}(t_n)+\\mb{g}(t_{n+1}\\big), \\qquad r=\\frac{\\Delta t}{\\Delta x^2}.\n",
    "$$"
   ]
  },
  {
   "cell_type": "markdown",
   "metadata": {
    "slideshow": {
     "slide_type": "fragment"
    }
   },
   "source": [
    "**Error estimate.** \n",
    "The error in the gridpoints can be shown to be $\\mathcal{O}(\\Delta t^2 + \\Delta x^2)$."
   ]
  },
  {
   "cell_type": "markdown",
   "metadata": {
    "slideshow": {
     "slide_type": "slide"
    }
   },
   "source": [
    "### Implementation\n",
    "\n",
    "It is possible to solve the system of ODEs directly by the methods developed in the note on stiff ODEs, or by using some other existing ODE solver. For nonlinear problems, this is often advisable (but not always). Mostly for the purpose of demonstration, the implicit Euler method as well as the Crank-Nicolson scheme are implemented directly in the following code. \n",
    "\n",
    "For each time step, a system of linear equation has to be solved:"
   ]
  },
  {
   "cell_type": "markdown",
   "metadata": {
    "slideshow": {
     "slide_type": "slide"
    }
   },
   "source": [
    "$$\n",
    "K \\mb{U}_{n+1} = \\mb{b}\n",
    "$$\n",
    "\n",
    "where:"
   ]
  },
  {
   "cell_type": "markdown",
   "metadata": {
    "slideshow": {
     "slide_type": "fragment"
    }
   },
   "source": [
    "**Implicit Euler:**\n",
    "\n",
    "$$\n",
    "K = I_{M-1} - rA, \\qquad \\mb{b} = \\mb{U}_n + r [g_0(t_{n+1}), 0, \\dotsc, 0, g_1(t_{n+1})]^T.\n",
    "$$"
   ]
  },
  {
   "cell_type": "markdown",
   "metadata": {
    "slideshow": {
     "slide_type": "fragment"
    }
   },
   "source": [
    "**Crank-Nicolson:**\n",
    "\n",
    "$$\n",
    "K = I_{M-1} - \\frac{r}{2}A, \\qquad \\mb{b} = (I_{M-1}+\\frac{r}{2}A)\\mb{U}_n + r \\bigg[\\frac{1}{2}(g_0(t_n)+g_0(t_{n+1})), 0, \\dotsc, 0,\\frac{1}{2}(g_1(t_n)+g_1(t_{n+1}))\\bigg]^T.\n",
    "$$"
   ]
  },
  {
   "cell_type": "markdown",
   "metadata": {
    "slideshow": {
     "slide_type": "slide"
    }
   },
   "source": [
    "The methods can of course be applied to the problems from Numerical examples 1 and 2. But for the fun of it, we now include a problem with nontrivial boundary conditions. "
   ]
  },
  {
   "cell_type": "markdown",
   "metadata": {
    "slideshow": {
     "slide_type": "slide"
    }
   },
   "source": [
    "**Numerical example 3:**\n",
    "Solve the equation\n",
    "\n",
    "$$\n",
    "u_t = u_{xx}, \\qquad u(0,t) = e^{-\\pi^2 t}, \\quad u(1,t) = -e^{-\\pi^2 t}, \\quad u(x,0) = \\cos(\\pi x).\n",
    "$$\n",
    "\n",
    "up to $t_{\\text{end}}=0.2$ by implicit Euler and Crank-Nicolson. Plot the solution and the error. \n",
    "The exact solution is $u(x,t) = e^{-\\pi^2t}\\cos(\\pi x)$. \n",
    "\n",
    "Use $N=M$, and $M=10$ and $M=100$ (for example). \n",
    "Notice that there are no stability issues, even for $r$ large. \n",
    "Also notice the difference in accuracy for the two methods."
   ]
  },
  {
   "cell_type": "code",
   "execution_count": null,
   "metadata": {
    "slideshow": {
     "slide_type": "slide"
    }
   },
   "outputs": [],
   "source": [
    "def tridiag(v, d, w, N):\n",
    "    '''\n",
    "    Help function \n",
    "    Returns a tridiagonal matrix A=tridiag(v, d, w) of dimension N x N.\n",
    "    '''\n",
    "    \n",
    "    e = ones(N)        # array [1,1,...,1] of length N\n",
    "    A = v*diag(e[1:],-1)+d*diag(e)+w*diag(e[1:],1)\n",
    "    return A"
   ]
  },
  {
   "cell_type": "code",
   "execution_count": null,
   "metadata": {
    "slideshow": {
     "slide_type": "slide"
    }
   },
   "outputs": [],
   "source": [
    "# Apply implicit Euler and Crank-Nicolson on\n",
    "# the heat equation u+t=u_{xx}\n",
    "\n",
    "# Define the problem of example 3\n",
    "def f3(x):\n",
    "    return cos(pi*x)\n",
    "\n",
    "# Boundary values\n",
    "def g0(t):\n",
    "    return exp(-pi**2*t)\n",
    "def g1(t):\n",
    "    return -exp(-pi**2*t)\n",
    "\n",
    "# Exact solution \n",
    "def u_exact(x,t):\n",
    "    return exp(-pi**2*t)*cos(pi*x)\n",
    "\n",
    "f = f3\n",
    "\n",
    "# Choose method\n",
    "method = 'iEuler'\n",
    "# method = 'CrankNicolson'\n",
    "\n",
    "\n",
    "M = 100                   # Number of intervals in the x-direction\n",
    "Dx = 1/M\n",
    "x = linspace(0,1,M+1)   # Gridpoints in the x-direction\n",
    "\n",
    "tend = 0.5\n",
    "N = M                 #  Number of intervals in the t-direction\n",
    "Dt = tend/N\n",
    "t = linspace(0,tend,N+1) # Gridpoints in the t-direction\n",
    "\n",
    "# Array to store the solution\n",
    "U = zeros((M+1,N+1))\n",
    "U[:,0] = f(x)              # Initial condition U_{i,0} = f(x_i)\n",
    "\n",
    "# Set up the matrix K: \n",
    "A = tridiag(1, -2, 1, M-1)\n",
    "r = Dt/Dx**2\n",
    "print('r = ', r)\n",
    "if method == 'iEuler':\n",
    "    K = eye(M-1) - r*A\n",
    "elif method == 'CrankNicolson':\n",
    "    K = eye(M-1) - 0.5*r*A\n",
    "\n",
    "Utmp = U[1:-1,0]          # Temporary solution for the inner gridpoints. \n",
    "\n",
    "# Main loop over the time steps. \n",
    "for n in range(N):\n",
    "    # Set up the right hand side of the equation KU=b:\n",
    "    if method == 'iEuler':\n",
    "        b = copy(Utmp)                   # NB! Copy the array\n",
    "        b[0] = b[0] + r*g0(t[n+1])\n",
    "        b[-1] = b[-1] + r*g1(t[n+1])  \n",
    "    elif method == 'CrankNicolson':\n",
    "        b = dot(eye(M-1)+0.5*r*A, Utmp)\n",
    "        b[0] = b[0] + 0.5*r*(g0(t[n])+g0(t[n+1]))\n",
    "        b[-1] = b[-1] + 0.5*r*(g1(t[n])+g1(t[n+1]))  \n",
    "    \n",
    "    Utmp = solve(K,b)         # Solve the equation K*Utmp = b\n",
    "    \n",
    "    U[1:-1,n+1] = Utmp        # Store the solution\n",
    "    U[0, n+1] = g0(t[n+1])    # Include the boundaries. \n",
    "    U[M, n+1] = g1(t[n+1])"
   ]
  },
  {
   "cell_type": "code",
   "execution_count": null,
   "metadata": {
    "slideshow": {
     "slide_type": "slide"
    }
   },
   "outputs": [],
   "source": [
    "plot_heat_solution(x, t, U)"
   ]
  },
  {
   "cell_type": "code",
   "execution_count": null,
   "metadata": {
    "slideshow": {
     "slide_type": "slide"
    }
   },
   "outputs": [],
   "source": [
    "T, X = meshgrid(t, x)\n",
    "error = u_exact(X, T) - U\n",
    "plot_heat_solution(x, t, error, txt='Error')\n",
    "print('Maximum error: {:.3e}'.format(max(abs(error.flatten()))))"
   ]
  },
  {
   "cell_type": "markdown",
   "metadata": {
    "slideshow": {
     "slide_type": "skip"
    }
   },
   "source": [
    "##### TODO: Add problem 2 on EOC for implicit Euler and Crank-Nicolson\n",
    "\n",
    "* With $N=M$\n",
    "* Repeat with $N=M^2$ for implicit Euler"
   ]
  }
 ],
 "metadata": {
  "kernelspec": {
   "display_name": "Python 3",
   "language": "python",
   "name": "python3"
  },
  "language_info": {
   "codemirror_mode": {
    "name": "ipython",
    "version": 3
   },
   "file_extension": ".py",
   "mimetype": "text/x-python",
   "name": "python",
   "nbconvert_exporter": "python",
   "pygments_lexer": "ipython3",
   "version": "3.9.4"
  }
 },
 "nbformat": 4,
 "nbformat_minor": 4
}
