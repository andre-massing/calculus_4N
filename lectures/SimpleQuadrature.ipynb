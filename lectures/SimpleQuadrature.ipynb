{
 "cells": [
  {
   "cell_type": "markdown",
   "metadata": {
    "slideshow": {
     "slide_type": "slide"
    }
   },
   "source": [
    "<!-- KODE = \"ja\", \"nei\", default \"ja\" -->\n",
    "\n",
    "<!-- dom:TITLE: Numerical integration  -->\n",
    "# Numerical integration \n",
    "<!-- dom:AUTHOR: Anne Kværnø, André Massing -->\n",
    "<!-- Author: -->  \n",
    "**Anne Kværnø, André Massing**\n",
    "\n",
    "Date: **Sept 6, 2021**\n",
    "\n",
    "If you want to have a nicer theme for your jupyter notebook,\n",
    "download the [cascade stylesheet file calculus4N.css](https://www.math.ntnu.no/emner/TMA4130/2021h/lectures/calculus4N.css)\n",
    "and execute the next cell"
   ]
  },
  {
   "cell_type": "code",
   "execution_count": 1,
   "metadata": {
    "slideshow": {
     "slide_type": "slide"
    }
   },
   "outputs": [
    {
     "data": {
      "text/html": [
       "<link href='http://fonts.googleapis.com/css?family=Alegreya+Sans:100,300,400,500,700,800,900,100italic,300italic,400italic,500italic,700italic,800italic,900italic' rel='stylesheet' type='text/css'> <link href='http://fonts.googleapis.com/css?family=Arvo:400,700,400italic' rel='stylesheet' type='text/css'> <link href=\"https://fonts.googleapis.com/css?family=News+Cycle\" rel=\"stylesheet\"> <link href='http://fonts.googleapis.com/css?family=Nixie+One' rel='stylesheet' type='text/css'> <link href='http://fonts.googleapis.com/css?family=PT+Mono' rel='stylesheet' type='text/css'> <link href='http://fonts.googleapis.com/css?family=Shadows+Into+Light' rel='stylesheet' type='text/css'> <link href=\"https://fonts.googleapis.com/css?family=Source+Code+Pro\" rel=\"stylesheet\"> <style> @font-face {\n",
       "    /*font-family: \"Computer Modern\";*/\n",
       "    /*src: url('http://mirrors.ctan.org/fonts/cm-unicode/fonts/otf/cmunss.otf');*/\n",
       "    font-family: 'News Cycle', sans-serif;\n",
       "}\n",
       "\n",
       "\n",
       "/* main background */\n",
       "\n",
       "\n",
       "/*#notebook_panel { \n",
       "        background: #C9D4E2;\n",
       "    }*/\n",
       "\n",
       "div.cell {\n",
       "    /*max-width:600px;*/\n",
       "    /*margin-left:16% !important;*/\n",
       "    /*margin-right:auto;*/\n",
       "}\n",
       "\n",
       "div.text_cell {\n",
       "    /*max-width: 120ex;*/\n",
       "    /* instead of 100%, */\n",
       "}\n",
       "\n",
       "div.text_cell_render {\n",
       "    font-family: 'Alegreya Sans', Computer Modern, \"Helvetica Neue\", Arial, Helvetica, Geneva,   sans-serif;\n",
       "    line-height: 135%;\n",
       "    /*font-size:    45pt;*/\n",
       "    font-size: 130%;\n",
       "    /*width:600px;*/\n",
       "    /*margin-left:auto;*/\n",
       "    /*margin-right:auto;*/\n",
       "}\n",
       "\n",
       ".CodeMirror {\n",
       "    /*font-family: 'Source Code Pro', monospace;*/\n",
       "    /*font-style: italic;*/\n",
       "    /*font-weight: bold;*/\n",
       "    /*font-size: 120%;*/\n",
       "}\n",
       "\n",
       "\n",
       "/*.prompt{\n",
       "        display: None;\n",
       "    }*/\n",
       "\n",
       ".text_cell_render h1 {\n",
       "    font-family: 'Nixie One', serifV;\n",
       "    font-style: regular;\n",
       "    font-weight: 400;\n",
       "    font-size: 45pt;\n",
       "    line-height: 100%;\n",
       "        color: #497BB9;    \n",
       "    /*color: #5889C5;*/\n",
       "    /*color: rgb(0, 51, 102);*/\n",
       "    /*font-weight: 200;*/\n",
       "    /*font-size: 50pt;*/\n",
       "    margin-bottom: 0.5em;\n",
       "    margin-top: 0.5em;\n",
       "    display: block;\n",
       "}\n",
       "\n",
       ".text_cell_render h2 {\n",
       "    font-family: 'Nixie One', serif;\n",
       "    font-weight: 400;\n",
       "    font-size: 30pt;\n",
       "    line-height: 100%;\n",
       "    /*color: rgb(0,51,102);*/\n",
       "    color: #497BB9;    \n",
       "    margin-bottom: 0.1em;\n",
       "    margin-top: 0.3em;\n",
       "    display: block;\n",
       "}\t\n",
       "\n",
       ".text_cell_render h3 {\n",
       "    font-family: 'Nixie One', serif;\n",
       "    margin-top:16px;\n",
       "    font-size: 22pt;\n",
       "    font-weight: 600;\n",
       "    margin-bottom: 3px;\n",
       "    font-style: regular;\n",
       "    color: rgb(102,102,0);\n",
       "}\n",
       "\n",
       ".text_cell_render h4 {    /*Use this for captions*/\n",
       "    font-family: 'Nixie One', serif;\n",
       "    font-size: 14pt;\n",
       "/*    text-align: center;*/\n",
       "    margin-top: 0em;\n",
       "    margin-bottom: 2em;\n",
       "    font-style: regular;\n",
       "}\n",
       "\n",
       ".text_cell_render h5 {  /*Use this for small titles*/\n",
       "    font-family: 'Nixie One', sans-serif;\n",
       "    font-weight: 400;\n",
       "    font-size: 16pt;\n",
       "    color: rgb(163,0,0);\n",
       "    /*color: #5889C5;*/\n",
       "    /*margin-bottom: .5em;\n",
       "    margin-top: 0.5em;*/\n",
       "    font-style: italic;\n",
       "    margin-bottom: .1em;\n",
       "    margin-top: 0.8em;\n",
       "    display: block;\n",
       "}\n",
       "\n",
       ".warning {\n",
       "    color: rgb( 240, 20, 20)\n",
       "}\n",
       "\n",
       "</style> \n",
       "<script>\n",
       " MathJax.Hub.Config( {\n",
       "    TeX: {\n",
       "        Macros: {\n",
       "            NN: \"{\\\\bf N}\",\n",
       "            RR: \"{\\\\mathbb{R}}\",\n",
       "            mcO: \"{\\\\mathcal{O}}\"\n",
       "        },\n",
       "        equationNumbers: { autoNumber: \"AMS\" },\n",
       "        extensions: [\"AMSmath.js\", \"begingroup.js\"] \n",
       "    },\n",
       "    tex2jax: {\n",
       "        inlineMath: [ ['$', '$'], [\"\\\\(\", \"\\\\)\"]], displayMath: [ ['$$', '$$'], [\"\\\\[\", \"\\\\]\"]]\n",
       "    },\n",
       "    displayAlign: 'center', // Change this to 'center' to center equations.\n",
       "    \"HTML-CSS\": {\n",
       "        styles: {\n",
       "            '.MathJax_Display': {\n",
       "                \"margin\": 4\n",
       "            }\n",
       "        }\n",
       "    }\n",
       "}\n",
       ");\n",
       "</script>\n"
      ],
      "text/plain": [
       "<IPython.core.display.HTML object>"
      ]
     },
     "execution_count": 1,
     "metadata": {},
     "output_type": "execute_result"
    }
   ],
   "source": [
    "from IPython.core.display import HTML\n",
    "def css_styling():\n",
    "    try:\n",
    "        fname = \"calculus4N.css\"\n",
    "        with open(fname, \"r\") as f:\n",
    "            styles = f.read()\n",
    "            return HTML(styles)\n",
    "    except FileNotFoundError:\n",
    "        print(f\"Could not find css file '{fname}'\")\n",
    "\n",
    "# Comment out next line and execute this cell to restore the default notebook style \n",
    "css_styling()"
   ]
  },
  {
   "cell_type": "markdown",
   "metadata": {
    "slideshow": {
     "slide_type": "slide"
    }
   },
   "source": [
    "And of course we want to import the standard boilerplate code."
   ]
  },
  {
   "cell_type": "code",
   "execution_count": null,
   "metadata": {
    "slideshow": {
     "slide_type": "slide"
    }
   },
   "outputs": [],
   "source": [
    "%matplotlib inline\n",
    "\n",
    "import numpy as np\n",
    "from numpy import pi\n",
    "from math import sqrt\n",
    "from numpy.linalg import solve, norm    # Solve linear systems and compute norms\n",
    "import matplotlib.pyplot as plt\n",
    "import matplotlib.cm as cm\n",
    "\n",
    "newparams = {'figure.figsize': (10.0, 10.0), \n",
    "             'axes.grid': True,\n",
    "             'lines.markersize': 8, \n",
    "             'lines.linewidth': 2,\n",
    "             'font.size': 14}\n",
    "plt.rcParams.update(newparams)\n",
    "plt.xkcd()"
   ]
  },
  {
   "cell_type": "markdown",
   "metadata": {
    "slideshow": {
     "slide_type": "slide"
    }
   },
   "source": [
    "# Introduction\n",
    "Imagine you want to compute the finite integral\n",
    "\n",
    "$$\n",
    "I[f](a,b) = \\int_a^b f(x) {\\,\\mathrm{d}x}.\n",
    "$$\n",
    "\n",
    "The \"usual\" way is to find a primitive function $F$\n",
    "(also known as the indefinite integral of $f$)\n",
    "satisfying $F'(x) = f(x)$ and then to compute\n",
    "\n",
    "$$\n",
    "\\int_a^b f(x) {\\,\\mathrm{d}x} = F(b) - F(a).\n",
    "$$"
   ]
  },
  {
   "cell_type": "markdown",
   "metadata": {
    "slideshow": {
     "slide_type": "slide"
    }
   },
   "source": [
    "While there are many analytical integration techniques and extensive\n",
    "tables to determine definite integral for many integrands,\n",
    "more often than not it may not feasible or possible to compute the\n",
    "integral. For instance, what about\n",
    "\n",
    "$$\n",
    "f(x) = \\dfrac{\\log(2 + \\sin(1/2 - \\sqrt(x))^6)}{\\log(\\pi + \\arctan(\\sqrt{1-\\exp(-2x-\\sin(x)))}}?\n",
    "$$\n",
    "\n",
    "Finding the corresponding primitive is highly likely a hopeless\n",
    "endeavor. And sometimes there even innocent looking functions\n",
    "like $e^{-x^2}$ for which there is not primitive functions which\n",
    "can expressed as a composition of standard functions such\n",
    "as $\\sin, \\cos.$ etc."
   ]
  },
  {
   "cell_type": "markdown",
   "metadata": {
    "slideshow": {
     "slide_type": "slide"
    }
   },
   "source": [
    "A **numerical quadrature** or a **quadrature rule** is a formula for\n",
    "approximating such definite integrals $I[f](a,b)$.  Quadrature rules\n",
    "are usually of the form\n",
    "\n",
    "$$\n",
    "Q[f](a,b) = \\sum_{i=0}^n w_i f(x_i),\n",
    "$$\n",
    "\n",
    "where $x_i$, $w_i$ for $i=0,1,\\dotsc,n$ are respectively the *nodes/points*\n",
    "and the *weights* of the quadrature rule. "
   ]
  },
  {
   "cell_type": "markdown",
   "metadata": {
    "slideshow": {
     "slide_type": "slide"
    }
   },
   "source": [
    "To emphasize that a quadrature rule is defined by some given quadrature points\n",
    "$\\{x_i\\}_{i=0}^n$ and weights $\\{w_i\\}_{i=0}^n$, we sometimes might write\n",
    "\n",
    "$$\n",
    "Q[f](\n",
    "\\{x_i\\}_{i=0}^n,\\{w_i\\}_{i=0}^n\n",
    ") = \\sum_{i=0}^n w_i f(x_i).\n",
    "$$\n",
    "\n",
    "\n",
    "If the function $f$ is given from the context, we will for simplicity\n",
    "denote the integral and the quadrature simply as $I(a,b)$ and\n",
    "$Q(a,b)$."
   ]
  },
  {
   "cell_type": "markdown",
   "metadata": {
    "slideshow": {
     "slide_type": "slide"
    }
   },
   "source": [
    "## Example 1: Quadrature rules from previous math courses\n",
    "\n",
    "The [trapezoidal rule, the midpoint rule and Simpson's rule](https://wiki.math.ntnu.no/tma4100/tema/numerics?&#numerisk_integrasjon)\n",
    "known from previous courses are all examples of numerical quadratures,\n",
    "and we quickly review them here, in addition to the very simple (and less accurate) left and right endpoint rules."
   ]
  },
  {
   "cell_type": "code",
   "execution_count": null,
   "metadata": {
    "slideshow": {
     "slide_type": "slide"
    }
   },
   "outputs": [],
   "source": [
    "colors = cm.get_cmap(\"Pastel1\").colors\n",
    "print(colors)\n",
    "\n",
    "def plot_qr_examples():\n",
    "    f = lambda x : np.exp(x)\n",
    "    fig, axs = plt.subplots(2,2)\n",
    "    print(fig.get_size_inches()[0]*8)\n",
    "    fig.set_figheight(8)\n",
    "    fig.set_figwidth(fig.get_size_inches()[0]*2)\n",
    "    #axs[0].add_axes([0.1, 0.2, 0.8, 0.7])\n",
    "    a, b = -0.5,0.5\n",
    "    l, r = -1.0, 1.0\n",
    "    x_a = np.linspace(a, b, 100)\n",
    "\n",
    "    for raxs in axs:\n",
    "        for ax in raxs:\n",
    "            ax.set_xlim(l, r)\n",
    "            x = np.linspace(l, r, 100)\n",
    "            ax.plot(x, f(x), \"k--\", label=\"$f(x)$\")\n",
    "            ax.fill_between(x_a, f(x_a), alpha=0.1, color='k')\n",
    "            ax.xaxis.set_ticks_position('bottom')\n",
    "            ax.set_xticks([a,b])\n",
    "            ax.set_xticklabels([\"$a$\", \"$b$\"])\n",
    "            ax.set_yticks([])\n",
    "            ax.legend(loc=\"upper center\")\n",
    "\n",
    "    # Left endpoint rule\n",
    "    axs[0,0].bar(a, f(a), b-a, align='edge', color=colors[0])\n",
    "    axs[0,0].plot(a,f(a), 'ko', markersize=\"12\")\n",
    "    axs[0,0].set_title(\"Left endpoint rule\")\n",
    "    axs[0,0].annotate('$f(a)$', \n",
    "             xy=(a, f(a)), xytext=(-10, 10), \n",
    "             textcoords=\"offset points\")\n",
    "\n",
    "    # Right endpoint rule\n",
    "    axs[0,1].bar(a, f(b), b-a, align='edge',  color=colors[1])\n",
    "    axs[0,1].plot(b,f(b), 'ko', markersize=\"15\")\n",
    "    axs[0,1].set_title(\"Right endpoint rule\")\n",
    "    axs[0,1].annotate('$f(b)$', \n",
    "             xy=(b, f(b)), xytext=(-10, 10), \n",
    "             textcoords=\"offset points\")\n",
    "    # Midpoint rule\n",
    "    axs[1,0].bar(a, f((a+b)/2), b-a, align='edge', color=colors[2])\n",
    "    axs[1,0].plot((a+b)/2,f((a+b)/2), 'ko', markersize=\"15\")\n",
    "    axs[1,0].set_title(\"Midpoint rule\")\n",
    "    axs[1,0].annotate('$f((a+b)/2))$', \n",
    "             xy=((a+b)/2, f((a+b)/2)), xytext=(-10, 10), \n",
    "             textcoords=\"offset points\")\n",
    "\n",
    "    # Trapezoidal rule\n",
    "    axs[1,1].set_title(\"Trapezoidal rule\")\n",
    "    axs[1,1].fill_between([a,b], [f(a), f(b)], alpha=0.8, color=colors[4])\n",
    "    axs[1,1].plot([a,b],f([a,b]), 'ko', markersize=\"15\")\n",
    "    axs[1,1].annotate('$f(a)$', \n",
    "             xy=(a, f(a)), xytext=(-10, 10), \n",
    "             textcoords=\"offset points\")\n",
    "    axs[1,1].annotate('$f(b)$', \n",
    "             xy=(b, f(b)), xytext=(-10, 10), \n",
    "             textcoords=\"offset points\")\n",
    "    axs[1,1].annotate('$f(b)$', \n",
    "             xy=(b, f(b)), xytext=(-10, 10), \n",
    "             textcoords=\"offset points\")"
   ]
  },
  {
   "cell_type": "code",
   "execution_count": null,
   "metadata": {
    "slideshow": {
     "slide_type": "slide"
    }
   },
   "outputs": [],
   "source": [
    "%matplotlib widget\n",
    "plot_qr_examples()"
   ]
  },
  {
   "cell_type": "markdown",
   "metadata": {
    "slideshow": {
     "slide_type": "slide"
    }
   },
   "source": [
    "* **Left and right endpoint rule** are among the simplest possible quadrature rule defined by\n",
    "\n",
    "$$\n",
    "QL[f](a,b) := f(a)(b-a) \\quad \\text{and } \\quad QR[f](a,b) := f(b)(b-a)\n",
    "$$\n",
    "\n",
    "respectively. The (single) quadrature point for $QL[\\cdot]$ and $QR[\\cdot]$ is given by $x_0 = a$ and $x_0 = b$ respectively, and both use the corresponding\n",
    "weight $w_0 = b-a$."
   ]
  },
  {
   "cell_type": "markdown",
   "metadata": {
    "slideshow": {
     "slide_type": "slide"
    }
   },
   "source": [
    "* **Midpoint rule** is the quadrature rule defined by\n",
    "\n",
    "$$\n",
    "Q[f](a,b) := (b-a) f\\left(\\frac{a+b}{2}\\right).\n",
    "$$\n",
    "\n",
    "The node is given by the midpoint, $x_0 = \\tfrac{a+b}{2}$ with the corresponding\n",
    "weight $w_0 = b-a$.\n",
    "\n",
    "$$\n",
    "Q[f](a,b) = w_0 f(x_0)\n",
    "$$"
   ]
  },
  {
   "cell_type": "markdown",
   "metadata": {
    "slideshow": {
     "slide_type": "slide"
    }
   },
   "source": [
    "* **Trapezoidal rule** is given by\n",
    "\n",
    "$$\n",
    "Q[f](a,b) := (b-a)\\left(\\frac{f(a)+f(b)}{2}\\right)\n",
    "$$\n",
    "\n",
    "and thus the nodes are defined by $x_0 = a$, $x_1 = b$ with corresponding\n",
    "weights $w_0 = w_1 = \\tfrac{b-a}{2}$."
   ]
  },
  {
   "cell_type": "markdown",
   "metadata": {
    "slideshow": {
     "slide_type": "slide"
    }
   },
   "source": [
    "* Finally, **Simpson's rule** which you know from M1, is defined as follows:\n",
    "\n",
    "$$\n",
    "Q[f](a,b)=\\frac{b-a}{6}\\left( f(a)+4f\\left( \\frac{a+b}{2}\\right) + f(b)\\right),\n",
    "$$\n",
    "\n",
    "which we identify as quadrature rule with 3 points $x_0 = a, x_1 = \\tfrac{a+b}{2},\n",
    "x_2 = b$ and corresponding weights $w_0 = w_2 = \\tfrac{b-a}{6}$ and $w_1 = \\tfrac{4(b-a)}{6}$."
   ]
  },
  {
   "cell_type": "markdown",
   "metadata": {
    "slideshow": {
     "slide_type": "slide"
    }
   },
   "source": [
    "In this note we will see how quadrature rules can be constructed from\n",
    "integration of interpolation polynomials.  We will demonstrate how to\n",
    "do error analysis and how to find error estimates. In the sequel, we\n",
    "will use material from *Preliminaries*, section 3.2, 4 and 5."
   ]
  },
  {
   "cell_type": "markdown",
   "metadata": {
    "slideshow": {
     "slide_type": "slide"
    }
   },
   "source": [
    "# Quadrature based on polynomial interpolation.\n",
    "This section relies on the content of the note on polynomial\n",
    "interpolation, in particular the section on Lagrange polynomials."
   ]
  },
  {
   "cell_type": "markdown",
   "metadata": {
    "slideshow": {
     "slide_type": "slide"
    }
   },
   "source": [
    "Choose $n+1$ distinct nodes $x_i$, $i=0,\\dotsc,n$ in the interval $[a,b]$, and let $p_n(x)$ be the interpolation polynomial satisfying\n",
    "the interpolation condition\n",
    "\n",
    "$$\n",
    "p_n(x_i) = f(x_i), \\qquad i=0,1,\\ldots n.\n",
    "$$"
   ]
  },
  {
   "cell_type": "markdown",
   "metadata": {
    "slideshow": {
     "slide_type": "slide"
    }
   },
   "source": [
    "We will then use $\\int_a^b p_n(x){\\,\\mathrm{d}x}$ as an approximation to $\\int_a^b\n",
    "f(x){\\,\\mathrm{d}x}$. By using the Lagrange form of the polynomial\n",
    "\n",
    "$$\n",
    "p_n(x) = \\sum_{i=0}^n f(x_i) \\ell_i(x)\n",
    "$$\n",
    "\n",
    "with the cardinal functions $\\ell_i(x)$ given by\n",
    "\n",
    "$$\n",
    "\\ell_i(x) = \\prod_{j=0,j\\not=i}^n \\frac{x-x_j}{x_i-x_j},\n",
    "$$"
   ]
  },
  {
   "cell_type": "markdown",
   "metadata": {
    "slideshow": {
     "slide_type": "slide"
    }
   },
   "source": [
    "the following quadrature formula is obtained\n",
    "\n",
    "$$\n",
    "\\begin{align*}\n",
    "I[f](a, b)\n",
    "\\approx\n",
    "Q[f](a,b) &= \\int_a^b p_n(x){\\,\\mathrm{d}x}\n",
    "  \\\\\n",
    "  &= \\sum_{i=0}^n f(x_i) \\int_a^b \\ell_i(x) {\\,\\mathrm{d}x} \n",
    "  = \\sum_{i=0}^n w_i f(x_i) = Q(a,b),\n",
    "\\end{align*}\n",
    "$$\n",
    "\n",
    "where the weights in the quadrature are simply the integral of the\n",
    "cardinal functions over the interval\n",
    "\n",
    "$$\n",
    "w_i =\\int_a^b \\ell_i(x) {\\,\\mathrm{d}x} \\quad \\text{for } i = 0, \\ldots, n.\n",
    "$$"
   ]
  },
  {
   "cell_type": "markdown",
   "metadata": {
    "slideshow": {
     "slide_type": "slide"
    }
   },
   "source": [
    "Let us derive three schemes for integration over the interval $[0,1]$,\n",
    "which we will finally apply to the integral\n",
    "\n",
    "$$\n",
    "I(0,1) = \\int_0^1 \\cos\\left(\\frac{\\pi}{2}x\\right) = \\frac{2}{\\pi} = 0.636619\\dotsc.\n",
    "$$"
   ]
  },
  {
   "cell_type": "markdown",
   "metadata": {
    "slideshow": {
     "slide_type": "slide"
    }
   },
   "source": [
    "## Example 2: The trapezoidal rule revisited\n",
    "\n",
    "<div id=\"ex:trapezoidalrule\"></div>\n",
    "\n",
    "Let $x_0=0$ and $x_1=1$. The cardinal functions and thus the weights are given by\n",
    "\n",
    "$$\n",
    "\\begin{align*}\n",
    "\\ell_0(x) &= 1-x, & w_0 &= \\int_0^1(1-x){\\,\\mathrm{d}x} = 1/2  \\\\ \n",
    "\\ell_1(x) &= x,   & w_1 &= \\int_0^1 x{\\,\\mathrm{d}x} = 1/2\n",
    "\\end{align*}\n",
    "$$\n",
    "\n",
    "\n",
    "\n",
    "and the corresponding quadrature rule is the trapezoidal rule (usually\n",
    "denoted by $T$) recalled in Example [Example 1: Quadrature rules from previous math courses](#ex:qr-from-m1) with $[a,b] = [0,1]$:\n",
    "\n",
    "$$\n",
    "T(0,1) = \\frac{1}{2} \\left[ f(0) + f(1) \\right].\n",
    "$$"
   ]
  },
  {
   "cell_type": "markdown",
   "metadata": {
    "slideshow": {
     "slide_type": "slide"
    }
   },
   "source": [
    "## Example 3: Gauß-Legendre quadrature for $n=2$\n",
    "\n",
    "<div id=\"ex:gauss-legend-quad\"></div>\n",
    "Let $x_0=1/2 + \\sqrt{3}/6$ and $x_1 = 1/2 - \\sqrt{3}/6$. Then\n",
    "\n",
    "$$\n",
    "\\begin{align*}\n",
    "\\ell_0(x) &= -\\sqrt{3}x + \\frac{1+\\sqrt{3}}{2}, & w_0 &= \\int_0^1 \\ell_0(x){\\,\\mathrm{d}x}=  1/2,  \\\\ \n",
    "\\ell_1(x) &=  \\sqrt{3}x + \\frac{1-\\sqrt{3}}{2}, & w_1 &= \\int_0^1 \\ell_1(x){\\,\\mathrm{d}x} = 1/2.\n",
    "\\end{align*}\n",
    "$$\n",
    "\n",
    "The quadrature rule is\n",
    "\n",
    "$$\n",
    "Q(0,1) = \\frac{1}{2}\\left[f\\left(\\frac{1}{2}-\\frac{\\sqrt{3}}{6}\\right) + \n",
    "f\\left(\\frac{1}{2}+\\frac{\\sqrt{3}}{6}\\right) \\right].\n",
    "$$"
   ]
  },
  {
   "cell_type": "markdown",
   "metadata": {
    "slideshow": {
     "slide_type": "slide"
    }
   },
   "source": [
    "## Example 4: Simpson's rule revisited\n",
    "\n",
    "<div id=\"ex:simpson\"></div>\n",
    "We construct Simpson's rule on the interval $[0,1]$ by choosing\n",
    "the nodes $x_0=0$, $x_1=0.5$ and $x_2=1$. \n",
    "The corresponding cardinal\n",
    "functions are\n",
    "\n",
    "$$\n",
    "\\ell_0 = 2(x - 0.5)(x-1)\n",
    "\\qquad\n",
    "\\ell_1(x) = 4x(1-x)\n",
    "\\qquad\n",
    "\\ell_2(x) = 2x(x-0.5)\n",
    "$$\n",
    "\n",
    "which gives the weights\n",
    "\n",
    "$$\n",
    "w_0 = \\int_{0}^1 \\ell_0(x){\\,\\mathrm{d}x} = \\frac{1}{6}, \\qquad\n",
    "w_1 = \\int_{0}^1 \\ell_1(x){\\,\\mathrm{d}x} = \\frac{4}{6}, \\qquad\n",
    "w_2 = \\int_{0}^1 \\ell_2(x){\\,\\mathrm{d}x} = \\frac{1}{6}\n",
    "$$\n",
    "\n",
    "such that\n",
    "\n",
    "$$\n",
    "\\int_{0}^1 f(x) {\\,\\mathrm{d}x} \\approx \\int_{0}^1 p_2(x) {\\,\\mathrm{d}x}\n",
    "= \\sum_{i=0}^2 w_i f(x_i) = \\frac{1}{6} \\left[\\; f(0) + 4 f(0.5) + f(1) \\; \\right].\n",
    "$$"
   ]
  },
  {
   "cell_type": "markdown",
   "metadata": {
    "slideshow": {
     "slide_type": "slide"
    }
   },
   "source": [
    "<!-- --- begin exercise --- -->\n",
    "\n",
    "## Exercise 1: Accuracy of some quadrature rules\n",
    "<div id=\"quad:ex:accuracy_qr\"></div>\n",
    "\n",
    "Use the `QR` function"
   ]
  },
  {
   "cell_type": "code",
   "execution_count": null,
   "metadata": {
    "slideshow": {
     "slide_type": "slide"
    }
   },
   "outputs": [],
   "source": [
    "def QR(f, xq, wq):\n",
    "    \"\"\" Computes an approximation of the integral f\n",
    "    for a given quadrature rule.\n",
    "    \n",
    "    Input:\n",
    "        f:  integrand\n",
    "        xq: quadrature nodes\n",
    "        wq: quadrature weights\n",
    "    \"\"\"\n",
    "    n = len(xq)\n",
    "    if (n != len(wq)):\n",
    "        raise RuntimeError(\"Error: Need same number of quadrature nodes and weights!\")\n",
    "    return np.array(wq)@f(np.array(xq))"
   ]
  },
  {
   "cell_type": "markdown",
   "metadata": {
    "slideshow": {
     "slide_type": "slide"
    }
   },
   "source": [
    "to compute an approximate value of integral\n",
    "\n",
    "$$\n",
    "I(0,1) = \\int_0^1 \\cos\\left(\\frac{\\pi}{2}x\\right) = \\frac{2}{\\pi} = 0.636619\\dotsc.\n",
    "$$\n",
    "\n",
    "using the quadrature rules from Example [Example 2: The trapezoidal rule revisited](#ex:trapezoidalrule)-[Example 4: Simpson's rule revisited](#ex:simpson).\n",
    "Tabulate the corresponding quadrature errors $I(0,1) - Q(0,1)$."
   ]
  },
  {
   "cell_type": "code",
   "execution_count": null,
   "metadata": {
    "slideshow": {
     "slide_type": "slide"
    }
   },
   "outputs": [],
   "source": [
    "# Insert your code here."
   ]
  },
  {
   "cell_type": "markdown",
   "metadata": {
    "slideshow": {
     "slide_type": "slide"
    }
   },
   "source": [
    "<!-- --- begin hint in exercise --- -->\n",
    "\n",
    "**Hint.**\n",
    "You can start with (fill in values for any $\\ldots$)"
   ]
  },
  {
   "cell_type": "code",
   "execution_count": null,
   "metadata": {
    "slideshow": {
     "slide_type": "slide"
    }
   },
   "outputs": [],
   "source": [
    "# Define function\n",
    "def f(x):\n",
    "    return np.cos(pi/2*x)\n",
    "\n",
    "# Exact integral\n",
    "int_f = 2/pi\n",
    "\n",
    "# Trapezoidal rule\n",
    "xq = [0, 1]\n",
    "wq = [0.5, 0.5]\n",
    "\n",
    "qr_f = QR(f, xq, wq)\n",
    "print(\"Q[f] = {}\".format(qr_f))\n",
    "print(\"I[f] - Q[f] = {:.10e}\".format(int_f - qr_f))"
   ]
  },
  {
   "cell_type": "markdown",
   "metadata": {
    "slideshow": {
     "slide_type": "slide"
    }
   },
   "source": [
    "<!-- --- end hint in exercise --- -->\n",
    "\n",
    "\n",
    "<!-- --- begin solution of exercise --- -->\n",
    "**Solution.**"
   ]
  },
  {
   "cell_type": "code",
   "execution_count": null,
   "metadata": {
    "slideshow": {
     "slide_type": "fragment"
    }
   },
   "outputs": [],
   "source": [
    "# Define function\n",
    "def f(x):\n",
    "    return np.cos(pi/2*x)\n",
    "\n",
    "# Exact integral\n",
    "int_f = 2.0/pi\n",
    "print(\"I[f] = {}\".format(int_f))\n",
    "\n",
    "# Trapezoidal\n",
    "xq = [0,1]\n",
    "wq = [0.5, 0.5]\n",
    "\n",
    "qr_f = QR(f, xq, wq)\n",
    "print(\"Error for the trapezoidal rule\")\n",
    "print(\"Q[f] = {}\".format(qr_f))\n",
    "print(\"I[f] - Q[f] = {:.10e}\".format(int_f - qr_f))\n",
    "\n",
    "# Gauss-Legendre\n",
    "print(\"Error for Gauss-Legendre\")\n",
    "xq = [0.5-sqrt(3)/6, 0.5+sqrt(3)/6]\n",
    "wq = [0.5, 0.5]\n",
    "\n",
    "qr_f = QR(f, xq, wq)\n",
    "print(\"Q[f] = {}\".format(qr_f))\n",
    "print(\"I[f] - Q[f] = {:.10e}\".format(int_f - qr_f))\n",
    "\n",
    "# Simpson\n",
    "print(\"Error for Simpson\")\n",
    "xq = [0, 0.5, 1]\n",
    "wq = [1/6., 4/6., 1/6.]\n",
    "\n",
    "qr_f = QR(f, xq, wq)\n",
    "print(\"Q[f] = {}\".format(qr_f))\n",
    "print(\"I[f] - Q[f] = {:.10e}\".format(int_f - qr_f))"
   ]
  },
  {
   "cell_type": "markdown",
   "metadata": {
    "slideshow": {
     "slide_type": "slide"
    }
   },
   "source": [
    "<!-- --- end solution of exercise --- -->\n",
    "\n",
    "<!-- Closing remarks for this Exercise -->\n",
    "### Remarks\n",
    "We observe that with the same number of quadrature points,\n",
    "the Gauß-Legendre quadrature gives a much more accurate answer\n",
    "then the trapezoidal rule. So the choice of nodes clearly matters.\n",
    "Simpon's rule gives very similar results\n",
    "to Gauß-Legendre quadrature, but it uses 3 instead of 2 quadrature nodes.\n",
    "The quadrature rules which based on polynomial interpolation\n",
    "and *equidistributed quadrature nodes* go under the\n",
    "name **Newton Cotes formulas**.\n",
    "\n",
    "We observe that with the same number of quadrature points,\n",
    "the Gauß-Legendre quadrature gives a much more accurate answer\n",
    "then the trapezoidal rule. So the choice of nodes clearly matters.\n",
    "Simpon's rule gives very similar results\n",
    "to Gauß-Legendre quadrature, but it uses 3 instead of 2 quadrature nodes.\n",
    "\n",
    "<!-- --- end exercise --- -->"
   ]
  },
  {
   "cell_type": "markdown",
   "metadata": {
    "slideshow": {
     "slide_type": "slide"
    }
   },
   "source": [
    "# Degree of exactness and an estimate of the quadrature error\n",
    "Motivated by the previous examples, we know take a closer look at how\n",
    "assess the quality of a method. We start with the following definition."
   ]
  },
  {
   "cell_type": "markdown",
   "metadata": {
    "slideshow": {
     "slide_type": "slide"
    }
   },
   "source": [
    "## Definition 1: The degree of exactness\n",
    "\n",
    "A numerical quadrature has degree of exactness $d$ if $Q[p](a,b) =\n",
    "I[p](a,b)$ for all $p \\in \\mathbb{P}_d$ and there is at least one\n",
    "$p\\in \\mathbb{P}_{d+1}$ such that $Q[p](a,b) \\not= I[p](a,b)$."
   ]
  },
  {
   "cell_type": "markdown",
   "metadata": {
    "slideshow": {
     "slide_type": "slide"
    }
   },
   "source": [
    "Since both integrals and quadratures are linear in the integrand $f$,\n",
    "the degree of exactness is $d$ if\n",
    "\n",
    "$$\n",
    "\\begin{align*}\n",
    "I[x^j](a,b) &= Q[x^j](a,b), \\qquad j=0,1,\\dotsc, d, \\\\ \n",
    "I[x^{d+1}](a,b) &\\not= Q[x^{d+1}](a,b).\n",
    "\\end{align*}\n",
    "$$"
   ]
  },
  {
   "cell_type": "markdown",
   "metadata": {
    "slideshow": {
     "slide_type": "slide"
    }
   },
   "source": [
    "**Observation:**\n",
    "All quadratures constructed from Lagrange interpolation polynomials in\n",
    "$n+1$ distinct nodes will automatically have a degree of exactness of **at least** $n$.\n",
    "This follows immediately from the fact the interpolation polynomial\n",
    "$p_n \\in \\mathbb{P}_n$ of any polynomial $q \\in \\mathbb{P}_n$ is just the original\n",
    "polynomial $q$ itself. But sometimes the degree of exactness can be even higher\n",
    "as the next exercise shows!"
   ]
  },
  {
   "cell_type": "markdown",
   "metadata": {
    "slideshow": {
     "slide_type": "slide"
    }
   },
   "source": [
    "<!-- --- begin exercise --- -->\n",
    "\n",
    "## Exercise 2: Degree of exactness for some quadrature rules\n",
    "\n",
    "* What is the degree of exactness for the left and right endpoint rule from Example [Example 1: Quadrature rules from previous math courses](#ex:qr-from-m1)?\n",
    "\n",
    "* What is the degree of exactness for the trapezoidal and midpoint rule from Example [Example 1: Quadrature rules from previous math courses](#ex:qr-from-m1)?\n",
    "\n",
    "* What is the degree of exactness for Gauß-Legendre quadrature for 2 points from Example\n",
    "  [Example 3: Gauß-Legendre quadrature for $n=2$](#ex:gauss-legend-quad)?\n",
    "\n",
    "* What is the degree of exactness for Simpson's rule from Example [Example 4: Simpson's rule revisited](#ex:simpson)?\n",
    "\n"
   ]
  },
  {
   "cell_type": "markdown",
   "metadata": {},
   "source": [
    "We test the degree of exactness for each of theses quadratures by\n",
    "  * computing the exact integral $I[x^n](0,1) = \\int_0^1 x^n dx$ for let's say $n=0,1,2,3,4$\n",
    "  * computing the corresponding numerical integral $Q[x^n](0,1)$ using the given quadrature rule.\n",
    "  * look at the difference $I[x^n](0,1) - Q[x^n](0,1)$ for each of the quadrature rules.\n",
    "  \n",
    "You can start from the code outline below."
   ]
  },
  {
   "cell_type": "markdown",
   "metadata": {},
   "source": [
    "$$\n",
    "EL[f](0, 1) = 1 \\cdot f(0), \\quad ER[f](0, 1) = 1 \\cdot f(1),\n",
    "$$\n",
    "\n",
    "$$\n",
    "M(0,1)= 1 \\cdot f(\\tfrac{1}{2}), \\quad T(0,1) = \\frac{1}{2} \\left[f(0) + f(1) \\right].\n",
    "$$\n",
    "\n",
    "$$\n",
    "GL(0,1) = \\frac{1}{2}\\left[f\\left(\\frac{1}{2}-\\frac{\\sqrt{3}}{6}\\right) + \n",
    "f\\left(\\frac{1}{2}+\\frac{\\sqrt{3}}{6}\\right) \\right],\n",
    "\\quad S(0,1) = \\frac{1}{6} \\left[f(0) + 4 f(0.5) + f(1) \\right].\n",
    "$$\n"
   ]
  },
  {
   "cell_type": "code",
   "execution_count": null,
   "metadata": {
    "slideshow": {
     "slide_type": "slide"
    }
   },
   "outputs": [],
   "source": [
    "# Iterate of monomial powers you want to test\n",
    "for n in range(5):\n",
    "    \n",
    "    print(\"===========================================\")\n",
    "    print(f\"Testing degree of exactness for n = {n}\")\n",
    "\n",
    "    # Define function\n",
    "    def f(x):\n",
    "        return x**n\n",
    "\n",
    "    # Exact integral\n",
    "    int_f = 1./(n+1)\n",
    "\n",
    "    # Left endpoint rule\n",
    "    print(\"-------------------------------------------\")\n",
    "    print(\"Testing left endpoint rule\")\n",
    "    \n",
    "    xq = [0]\n",
    "    wq = [1]\n",
    "\n",
    "    qr_f = QR(f, xq, wq)\n",
    "    print(f\"Q[f] = {qr_f}\")\n",
    "    print(f\"I[f] - Q[f] = {int_f - qr_f:.16e}\")\n",
    "    \n",
    "    # Right endpoint rule\n",
    "    print(\"-------------------------------------------\")\n",
    "    print(\"Testing right endpoint rule\")\n",
    "    \n",
    "    xq = [1]\n",
    "    wq = [1]\n",
    "\n",
    "    qr_f = QR(f, xq, wq)\n",
    "    print(f\"Q[f] = {qr_f}\")\n",
    "    print(f\"I[f] - Q[f] = {int_f - qr_f:.16e}\")\n",
    "    "
   ]
  },
  {
   "cell_type": "markdown",
   "metadata": {
    "slideshow": {
     "slide_type": "fragment"
    }
   },
   "source": [
    "<!-- --- begin hint in exercise --- -->\n",
    "\n",
    "**Hint.**\n",
    "You can do this either using pen and paper (boring!) or numerically (more fun!),\n",
    "using the code from Example [Exercise 1: Accuracy of some quadrature rules](#quad:ex:accuracy_qr)\n",
    "\n",
    "<!-- --- end hint in exercise --- -->\n",
    "\n",
    "\n",
    "<!-- --- begin solution of exercise --- -->\n",
    "**Solution.**"
   ]
  },
  {
   "cell_type": "code",
   "execution_count": null,
   "metadata": {
    "slideshow": {
     "slide_type": "slide"
    }
   },
   "outputs": [],
   "source": [
    "# Iterate of monomial powers you want to test\n",
    "for n in range(5):\n",
    "    \n",
    "    print(\"===========================================\")\n",
    "    print(f\"Testing degree of exactness for n = {n}\")\n",
    "\n",
    "    # Define function\n",
    "    def f(x):\n",
    "        return x**n\n",
    "\n",
    "    # Exact integral\n",
    "    int_f = 1./(n+1)\n",
    "    \n",
    "    # Left endpoint rule\n",
    "    print(\"-------------------------------------------\")\n",
    "    print(\"Testing left endpoint rule\")\n",
    "    \n",
    "    xq = [0]\n",
    "    wq = [1]\n",
    "\n",
    "    qr_f = QR(f, xq, wq)\n",
    "    print(f\"Q[f] = {qr_f}\")\n",
    "    print(f\"I[f] - Q[f] = {int_f - qr_f:.16e}\")\n",
    "    \n",
    "    # Right endpoint rule\n",
    "    print(\"-------------------------------------------\")\n",
    "    print(\"Testing right endpoint rule\")\n",
    "    \n",
    "    xq = [1]\n",
    "    wq = [1]\n",
    "\n",
    "    qr_f = QR(f, xq, wq)\n",
    "    print(f\"Q[f] = {qr_f}\")\n",
    "    print(f\"I[f] - Q[f] = {int_f - qr_f:.16e}\")\n",
    "\n",
    "    # Midpoint rule\n",
    "    print(\"-------------------------------------------\")\n",
    "    print(\"Testing midpoint rule\")\n",
    "    \n",
    "    xq = [0.5]\n",
    "    wq = [1]\n",
    "\n",
    "    qr_f = QR(f, xq, wq)\n",
    "    print(f\"Q[f] = {qr_f}\")\n",
    "    print(f\"I[f] - Q[f] = {int_f - qr_f:.16e}\")\n",
    "\n",
    "    # Trapezoidal\n",
    "    print(\"-------------------------------------------\")\n",
    "    print(\"Testing trapezoidal rule\")\n",
    "\n",
    "    xq = [0,1]\n",
    "    wq = [0.5, 0.5]\n",
    "\n",
    "    qr_f = QR(f, xq, wq)\n",
    "    print(f\"Q[f] = {qr_f}\")\n",
    "    print(f\"I[f] - Q[f] = {int_f - qr_f:.16e}\")\n",
    "\n",
    "    # Gauss-Legendre\n",
    "    print(\"-------------------------------------------\")\n",
    "    print(\"Testing Gauss Legendre rule\")\n",
    "    xq = [0.5-sqrt(3)/6, 0.5+sqrt(3)/6]\n",
    "    wq = [0.5, 0.5]\n",
    "\n",
    "    qr_f = QR(f, xq, wq)\n",
    "    print(f\"Q[f] = {qr_f}\")\n",
    "    print(f\"I[f] - Q[f] = {int_f - qr_f:.16e}\")\n",
    "\n",
    "    # Simpson\n",
    "    print(\"-------------------------------------------\")\n",
    "    print(\"Testing Simpson rule\")\n",
    "    xq = [0, 0.5, 1]\n",
    "    wq = [1/6., 4/6., 1/6.]\n",
    "\n",
    "    qr_f = QR(f, xq, wq)\n",
    "    print(f\"Q[f] = {qr_f}\")\n",
    "    print(f\"I[f] - Q[f] = {int_f - qr_f:.16e}\")\n",
    "    print(\"===========================================\")"
   ]
  },
  {
   "cell_type": "markdown",
   "metadata": {
    "slideshow": {
     "slide_type": "slide"
    }
   },
   "source": [
    "<!-- --- end solution of exercise --- -->\n",
    "\n",
    "<!-- --- end exercise --- -->\n",
    "\n",
    "\n",
    "## Estimates for the quadrature error"
   ]
  },
  {
   "cell_type": "markdown",
   "metadata": {
    "slideshow": {
     "slide_type": "slide"
    }
   },
   "source": [
    "## Theorem 1: Error estimate for quadrature rule with degree of exactness $n$"
   ]
  },
  {
   "cell_type": "markdown",
   "metadata": {
    "slideshow": {
     "slide_type": "slide"
    }
   },
   "source": [
    "Assume that $f \\in C^{n+1}(a,b)$ and\n",
    "let $Q[\\cdot](\\{x_i\\}_{i=0}^n, \\{w_i\\}_{i=0}^n)$\n",
    "be a quadrature rule which has degree of exactness\n",
    "$n$.\n",
    "Then the quadrature error  $|I[f]-Q[f]|$ can be estimated by\n",
    "\n",
    "$$\n",
    "|I[f]-Q[f]| \\leqslant \\frac{M}{(n+1)!}\\int_a^b \\prod_{i=0}^n |x-x_i|{\\,\\mathrm{d}x}\n",
    "$$\n",
    "\n",
    "where $M=\\max_{\\xi \\in [a,b]} |f^{n+1}(\\xi)|$."
   ]
  },
  {
   "cell_type": "markdown",
   "metadata": {
    "slideshow": {
     "slide_type": "slide"
    }
   },
   "source": [
    "**Proof.**\n",
    "Let $p_n \\in \\mathbb{P}_n$ be the interpolation polynomial satisfying\n",
    "$p_n(x_i) = f(x_i)$ for $i=0,\\ldots,n$.\n",
    "Thanks to the error estimate for the interpolation error, we know that\n",
    "\n",
    "$$\n",
    "f(x)-p_n(x)=\\frac{f^{n+1}(\\xi(x))}{(n+1)!}\\prod_{k=0}^{n}(x-x_{k}).\n",
    "$$\n",
    "\n",
    "for some $\\xi(x) \\in (a,b)$.\n",
    "Since $Q(a,b)$ has degree of exactness $n$ we have $I[p_n] = Q[p_n] = Q[f]$\n",
    "and thus"
   ]
  },
  {
   "cell_type": "markdown",
   "metadata": {
    "slideshow": {
     "slide_type": "slide"
    }
   },
   "source": [
    "$$\n",
    "\\begin{align*}\n",
    "|I[f]-Q[f]|\n",
    "=\n",
    "|I[f]-I[p_n]|\n",
    "&\\leqslant\n",
    "\\int_a^b\n",
    "|f(x)-p_n(x)| {\\,\\mathrm{d}x}\n",
    "\\\\ \n",
    "&=\n",
    "\\int_a^b\n",
    "\\Biggl|\n",
    "\\frac{f^{n+1}(\\xi(x))}{(n+1)!}\\prod_{k=0}^{n}(x-x_{k})\n",
    "\\Biggr| {\\,\\mathrm{d}x}\n",
    "\\\\\n",
    "&\\leqslant\n",
    "\\frac{M}{(n+1)!}\n",
    "\\int_a^b\n",
    "\\prod_{k=0}^{n}|(x-x_{k})|\n",
    "{\\,\\mathrm{d}x},\n",
    "\\end{align*}\n",
    "$$\n",
    "\n",
    "which concludes the proof."
   ]
  },
  {
   "cell_type": "markdown",
   "metadata": {
    "slideshow": {
     "slide_type": "slide"
    }
   },
   "source": [
    "The previous theorem often\n",
    "The advantage of the previous theorem is\n",
    "that it is easy to prove.\n",
    "On downside is that the provided estimate can be rather\n",
    "crude, and often sharper estimates can be established.\n",
    "We give two examples here of some sharper estimates\n",
    "(but without proof)."
   ]
  },
  {
   "cell_type": "markdown",
   "metadata": {
    "slideshow": {
     "slide_type": "slide"
    }
   },
   "source": [
    "## Theorem 2: Error estimate for the trapezoidal rule\n",
    "\n",
    "For the trapezoidal rule, there is a $\\xi \\in (a,b)$ such that\n",
    "\n",
    "$$\n",
    "I[f]-Q[f]=\\frac{(b-a)^3}{12}f''(\\xi).\n",
    "$$"
   ]
  },
  {
   "cell_type": "markdown",
   "metadata": {
    "slideshow": {
     "slide_type": "slide"
    }
   },
   "source": [
    "## Theorem 3: Error estimate for Simpson's rule\n",
    "\n",
    "For Simpson's rule, there is a $\\xi \\in (a,b)$ such that\n",
    "$$\n",
    "I[f]-Q[f]=-\\frac{(b-a)^5}{2880} f^4(\\xi).\n",
    "$$"
   ]
  }
 ],
 "metadata": {
  "celltoolbar": "Slideshow",
  "kernelspec": {
   "display_name": "Python 3 (ipykernel)",
   "language": "python",
   "name": "python3"
  },
  "language_info": {
   "codemirror_mode": {
    "name": "ipython",
    "version": 3
   },
   "file_extension": ".py",
   "mimetype": "text/x-python",
   "name": "python",
   "nbconvert_exporter": "python",
   "pygments_lexer": "ipython3",
   "version": "3.9.7"
  }
 },
 "nbformat": 4,
 "nbformat_minor": 4
}
