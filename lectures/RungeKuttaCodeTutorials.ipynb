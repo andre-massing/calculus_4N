{
 "cells": [
  {
   "cell_type": "markdown",
   "id": "91dce374",
   "metadata": {
    "slideshow": {
     "slide_type": "slide"
    }
   },
   "source": [
    "# Code tutorials for Runge-Kutta Methods"
   ]
  },
  {
   "cell_type": "markdown",
   "id": "20d37969",
   "metadata": {
    "slideshow": {
     "slide_type": "slide"
    }
   },
   "source": [
    "$\\newcommand{mb}[1]{\\mathbf{#1}}$\n",
    "If you want to have a nicer theme for your jupyter notebook, download the cascade stylesheet file calculus4N.css and execute the next cell:"
   ]
  },
  {
   "cell_type": "code",
   "execution_count": 1,
   "id": "095bdffd",
   "metadata": {
    "slideshow": {
     "slide_type": "fragment"
    }
   },
   "outputs": [
    {
     "data": {
      "text/html": [
       "<link href='http://fonts.googleapis.com/css?family=Alegreya+Sans:100,300,400,500,700,800,900,100italic,300italic,400italic,500italic,700italic,800italic,900italic' rel='stylesheet' type='text/css'> <link href='http://fonts.googleapis.com/css?family=Arvo:400,700,400italic' rel='stylesheet' type='text/css'> <link href=\"https://fonts.googleapis.com/css?family=News+Cycle\" rel=\"stylesheet\"> <link href='http://fonts.googleapis.com/css?family=Nixie+One' rel='stylesheet' type='text/css'> <link href='http://fonts.googleapis.com/css?family=PT+Mono' rel='stylesheet' type='text/css'> <link href='http://fonts.googleapis.com/css?family=Shadows+Into+Light' rel='stylesheet' type='text/css'> <link href=\"https://fonts.googleapis.com/css?family=Source+Code+Pro\" rel=\"stylesheet\"> <style> @font-face {\n",
       "    /*font-family: \"Computer Modern\";*/\n",
       "    /*src: url('http://mirrors.ctan.org/fonts/cm-unicode/fonts/otf/cmunss.otf');*/\n",
       "    font-family: 'News Cycle', sans-serif;\n",
       "}\n",
       "\n",
       "\n",
       "/* main background */\n",
       "\n",
       "\n",
       "/*#notebook_panel { \n",
       "        background: #C9D4E2;\n",
       "    }*/\n",
       "\n",
       "div.cell {\n",
       "    /*max-width:600px;*/\n",
       "    /*margin-left:16% !important;*/\n",
       "    /*margin-right:auto;*/\n",
       "}\n",
       "\n",
       "div.text_cell {\n",
       "    /*max-width: 120ex;*/\n",
       "    /* instead of 100%, */\n",
       "}\n",
       "\n",
       "div.text_cell_render {\n",
       "    font-family: 'Alegreya Sans', Computer Modern, \"Helvetica Neue\", Arial, Helvetica, Geneva,   sans-serif;\n",
       "    line-height: 135%;\n",
       "    /*font-size:    45pt;*/\n",
       "    font-size: 130%;\n",
       "    /*width:600px;*/\n",
       "    /*margin-left:auto;*/\n",
       "    /*margin-right:auto;*/\n",
       "}\n",
       "\n",
       ".CodeMirror {\n",
       "    /*font-family: 'Source Code Pro', monospace;*/\n",
       "    /*font-style: italic;*/\n",
       "    /*font-weight: bold;*/\n",
       "    /*font-size: 120%;*/\n",
       "}\n",
       "\n",
       "\n",
       "/*.prompt{\n",
       "        display: None;\n",
       "    }*/\n",
       "\n",
       ".text_cell_render h1 {\n",
       "    font-family: 'Nixie One', serifV;\n",
       "    font-style: regular;\n",
       "    font-weight: 400;\n",
       "    font-size: 45pt;\n",
       "    line-height: 100%;\n",
       "        color: #497BB9;    \n",
       "    /*color: #5889C5;*/\n",
       "    /*color: rgb(0, 51, 102);*/\n",
       "    /*font-weight: 200;*/\n",
       "    /*font-size: 50pt;*/\n",
       "    margin-bottom: 0.5em;\n",
       "    margin-top: 0.5em;\n",
       "    display: block;\n",
       "}\n",
       "\n",
       ".text_cell_render h2 {\n",
       "    font-family: 'Nixie One', serif;\n",
       "    font-weight: 400;\n",
       "    font-size: 30pt;\n",
       "    line-height: 100%;\n",
       "    /*color: rgb(0,51,102);*/\n",
       "    color: #497BB9;    \n",
       "    margin-bottom: 0.1em;\n",
       "    margin-top: 0.3em;\n",
       "    display: block;\n",
       "}\t\n",
       "\n",
       ".text_cell_render h3 {\n",
       "    font-family: 'Nixie One', serif;\n",
       "    margin-top:16px;\n",
       "    font-size: 22pt;\n",
       "    font-weight: 600;\n",
       "    margin-bottom: 3px;\n",
       "    font-style: regular;\n",
       "    color: rgb(102,102,0);\n",
       "}\n",
       "\n",
       ".text_cell_render h4 {    /*Use this for captions*/\n",
       "    font-family: 'Nixie One', serif;\n",
       "    font-size: 14pt;\n",
       "/*    text-align: center;*/\n",
       "    margin-top: 0em;\n",
       "    margin-bottom: 2em;\n",
       "    font-style: regular;\n",
       "}\n",
       "\n",
       ".text_cell_render h5 {  /*Use this for small titles*/\n",
       "    font-family: 'Nixie One', sans-serif;\n",
       "    font-weight: 400;\n",
       "    font-size: 16pt;\n",
       "    color: rgb(163,0,0);\n",
       "    /*color: #5889C5;*/\n",
       "    /*margin-bottom: .5em;\n",
       "    margin-top: 0.5em;*/\n",
       "    font-style: italic;\n",
       "    margin-bottom: .1em;\n",
       "    margin-top: 0.8em;\n",
       "    display: block;\n",
       "}\n",
       "\n",
       ".warning {\n",
       "    color: rgb( 240, 20, 20)\n",
       "}\n",
       "\n",
       "</style> \n",
       "<script>\n",
       " MathJax.Hub.Config( {\n",
       "    TeX: {\n",
       "        Macros: {\n",
       "            NN: \"{\\\\bf N}\",\n",
       "            RR: \"{\\\\mathbb{R}}\",\n",
       "            mcO: \"{\\\\mathcal{O}}\"\n",
       "        },\n",
       "        equationNumbers: { autoNumber: \"AMS\" },\n",
       "        extensions: [\"AMSmath.js\", \"begingroup.js\"] \n",
       "    },\n",
       "    tex2jax: {\n",
       "        inlineMath: [ ['$', '$'], [\"\\\\(\", \"\\\\)\"]], displayMath: [ ['$$', '$$'], [\"\\\\[\", \"\\\\]\"]]\n",
       "    },\n",
       "    displayAlign: 'center', // Change this to 'center' to center equations.\n",
       "    \"HTML-CSS\": {\n",
       "        styles: {\n",
       "            '.MathJax_Display': {\n",
       "                \"margin\": 4\n",
       "            }\n",
       "        }\n",
       "    }\n",
       "}\n",
       ");\n",
       "</script>\n"
      ],
      "text/plain": [
       "<IPython.core.display.HTML object>"
      ]
     },
     "execution_count": 1,
     "metadata": {},
     "output_type": "execute_result"
    }
   ],
   "source": [
    "from IPython.core.display import HTML\n",
    "def css_styling():\n",
    "    try:\n",
    "        fname = \"calculus4N.css\"\n",
    "        with open(fname, \"r\") as f:\n",
    "            styles = f.read()\n",
    "            return HTML(styles)\n",
    "    except FileNotFoundError:\n",
    "        print(f\"Could not find css file '{fname}'\")\n",
    "\n",
    "# Comment out next line and execute this cell to restore the default notebook style \n",
    "css_styling()"
   ]
  },
  {
   "cell_type": "markdown",
   "id": "7c2779fb",
   "metadata": {},
   "source": [
    "As always, we start by calling the necessary modules: And of course we want to import the required modules."
   ]
  },
  {
   "cell_type": "code",
   "execution_count": 2,
   "id": "4c7ff3b0",
   "metadata": {},
   "outputs": [],
   "source": [
    "%matplotlib widget\n",
    "\n",
    "import ipywidgets as widgets\n",
    "from ipywidgets import interact, fixed\n",
    "import numpy as np\n",
    "from numpy import pi\n",
    "from numpy.linalg import solve, norm    \n",
    "import matplotlib.pyplot as plt\n",
    "\n",
    "# Use a funny plotting style\n",
    "plt.xkcd()\n",
    "\n",
    "newparams = {'figure.figsize': (6.0, 6.0),\n",
    "             'axes.grid': True,\n",
    "             'lines.markersize': 8, \n",
    "             'lines.linewidth': 2,\n",
    "             'font.size': 14}\n",
    "plt.rcParams.update(newparams)"
   ]
  },
  {
   "cell_type": "markdown",
   "id": "6f27ecb9-798b-4dcc-83cb-a2b0d97e3af8",
   "metadata": {},
   "source": [
    "## Implementation of explicit RKM"
   ]
  },
  {
   "cell_type": "markdown",
   "id": "c48dbab6",
   "metadata": {},
   "source": [
    "### Some programming basics: classes in Python"
   ]
  },
  {
   "cell_type": "markdown",
   "id": "8435599a",
   "metadata": {},
   "source": [
    "## Plan\n",
    "Start from simplest dog class to explain \n",
    "  * class vs instance variables, special `__init__` function, \n",
    "  * meaning of `self` argument, \n",
    "  * add bark/fetch stick functions\n",
    "  * Write ExplicitRungeKutta class with a `solve` function\n",
    "  * Introduce special class function `__call__`"
   ]
  },
  {
   "cell_type": "code",
   "execution_count": null,
   "id": "81259bf0",
   "metadata": {},
   "outputs": [],
   "source": [
    "# Let's develop a simple dog class"
   ]
  },
  {
   "cell_type": "code",
   "execution_count": 3,
   "id": "1416a7f2",
   "metadata": {},
   "outputs": [
    {
     "name": "stdout",
     "output_type": "stream",
     "text": [
      "Name = Asta\n",
      " t = 2.0\n",
      "Name = Kora\n",
      " t = 2.5\n"
     ]
    },
    {
     "data": {
      "text/plain": [
       "'Boxer'"
      ]
     },
     "execution_count": 3,
     "metadata": {},
     "output_type": "execute_result"
    }
   ],
   "source": [
    "class Dog:\n",
    "    \n",
    "    race = \"Boxer\"\n",
    "    \n",
    "    def __init__(self, name_str, speed):\n",
    "        self.name  = name_str\n",
    "        self.speed = speed\n",
    "    \n",
    "    def fetch_stick(self, length):\n",
    "        t = length/self.speed\n",
    "        return t\n",
    "\n",
    "asta = Dog(\"Asta\", 5)\n",
    "\n",
    "print(f\"Name = {asta.name}\")\n",
    "length = 10\n",
    "t = asta.fetch_stick(length)\n",
    "print(f\" t = {t}\")\n",
    "\n",
    "kora = Dog(\"Kora\", 4)\n",
    "print(f\"Name = {kora.name}\")\n",
    "t = kora.fetch_stick(length)\n",
    "print(f\" t = {t}\")\n",
    "kora.race"
   ]
  },
  {
   "cell_type": "markdown",
   "id": "3707f07f",
   "metadata": {},
   "source": [
    "## Implementation of Runge-Kutta methods"
   ]
  },
  {
   "cell_type": "markdown",
   "id": "2a33d73c",
   "metadata": {},
   "source": [
    "### Review:  Runge-Kutta methods"
   ]
  },
  {
   "cell_type": "markdown",
   "id": "1057d4dd",
   "metadata": {},
   "source": [
    "**Explicit** Runge-Kutta schemes are specified in the form of a **Butcher table**:\n",
    "\n",
    "\\begin{equation*}\n",
    "\\begin{array}{c|ccc}\n",
    "c_1 & a_{11} & \\cdots & a_{1s}\n",
    "\\\\ \n",
    "\\vdots & \\vdots & & \\vdots\n",
    "\\\\ \n",
    "c_s & a_{s1} & \\cdots & a_{ss}\n",
    "\\\\ \n",
    "\\hline\n",
    "& b_1 & \\cdots & b_s\n",
    "\\end{array}\n",
    "\\end{equation*}\n",
    "\n",
    "with $c_1 = 0$ and $a_{ij} = 0$ for $j \\geqslant i$."
   ]
  },
  {
   "cell_type": "markdown",
   "id": "287446b4",
   "metadata": {},
   "source": [
    "So starting from $y_i, t_i$ and chosen step size $\\tau_i$\n",
    "the discrete solution at $t_{i+1}$ is computed as follows\n",
    "\n",
    "* Compute stage derivatives $k_j$ for $j=1,\\ldots,s$:\n",
    "  \\begin{equation*}\n",
    "  k_{j} =\n",
    "  f(t_i + c_j \\tau, y_i +  \\tau \\sum_{l=1}^{j-1} {a}_{jl} k_l)\n",
    "  \\end{equation*}\n",
    "* Compute the next time step via\n",
    "  \\begin{equation*}  \n",
    "  y_{i+1} = y_{i} + \\tau \\sum_{j=1}^s b_j k_j\n",
    "  \\end{equation*}"
   ]
  },
  {
   "cell_type": "code",
   "execution_count": 4,
   "id": "c0a4200a-1ab1-46c5-b424-5bd7178e32c9",
   "metadata": {},
   "outputs": [
    {
     "name": "stdout",
     "output_type": "stream",
     "text": [
      "[array([0., 0.]), array([0., 0.]), array([0., 0.])]\n"
     ]
    }
   ],
   "source": [
    "arr1 = np.array([1.0, 2.0])\n",
    "\n",
    "s =  3 \n",
    "ks = [ np.zeros_like(arr1, dtype=np.double) for i in range(s) ]\n",
    "print(ks)"
   ]
  },
  {
   "cell_type": "code",
   "execution_count": 19,
   "id": "14ee027a",
   "metadata": {},
   "outputs": [],
   "source": [
    "class ExplicitRungeKuttaAlt:\n",
    "    def __init__(self, a, b, c):\n",
    "        self.a = a\n",
    "        self.b = b\n",
    "        self.c = c\n",
    "        \n",
    "    def solve(self, y0, t0, T, f, Nmax):\n",
    "        # Extract Butcher table\n",
    "        a, b, c = self.a, self.b, self.c\n",
    "        \n",
    "        # Initiate stages\n",
    "        s = len(b)\n",
    "        ks = [np.zeros_like(y0, dtype=np.double) for i in range(s)]\n",
    "  \n",
    "        # Start time-stepping\n",
    "        ys = [y0]\n",
    "        ts = [t0]\n",
    "        dt = (T-t0)/Nmax\n",
    "        \n",
    "        while(ts[-1] < T):\n",
    "            t, y = ts[-1], ys[-1]\n",
    "            \n",
    "            # Compute stages derivatives k_j\n",
    "            for j in range(s):\n",
    "                t_j = t + c[j]*dt\n",
    "                dY_j = np.zeros_like(y, dtype=np.double)\n",
    "                for l in range(j):\n",
    "                    dY_j += a[j,l]*ks[l]\n",
    "                    \n",
    "                ks[j] = f(t_j, y + dt*dY_j) \n",
    "                \n",
    "            # Compute next time-step by computing the incremement dy\n",
    "            dy = np.zeros_like(y, dtype=np.double)\n",
    "            for j in range(s):\n",
    "                dy += b[j]*ks[j]\n",
    "            \n",
    "            ys.append(y + dt*dy)\n",
    "            ts.append(t + dt)\n",
    "            \n",
    "        return (np.array(ts), np.array(ys))"
   ]
  },
  {
   "cell_type": "markdown",
   "id": "4d7c0e90",
   "metadata": {},
   "source": [
    "We recall the `compute_eoc` function."
   ]
  },
  {
   "cell_type": "code",
   "execution_count": 106,
   "id": "b5ad6e98",
   "metadata": {},
   "outputs": [],
   "source": [
    "def compute_eoc_alt(y0, t0, T, f, Nmax_list, solver, y_ex):\n",
    "    errs = [ ]\n",
    "    for Nmax in Nmax_list:\n",
    "        ts, ys = solver.solve(y0, t0, T, f, Nmax)\n",
    "        ys_ex = y_ex(ts)\n",
    "        errs.append(np.abs(ys - ys_ex).max())\n",
    "        print(\"For Nmax = {:3}, max ||y(t_i) - y_i||= {:.3e}\".format(Nmax,errs[-1]))\n",
    "\n",
    "    errs = np.array(errs)\n",
    "    Nmax_list = np.array(Nmax_list)\n",
    "    dts = (T-t0)/Nmax_list\n",
    "\n",
    "    eocs = np.log(errs[1:]/errs[:-1])/np.log(dts[1:]/dts[:-1])\n",
    "\n",
    "    # Insert inf at beginning of eoc such that errs and eoc have same length \n",
    "    eocs = np.insert(eocs, 0, np.Inf)\n",
    "\n",
    "    return errs, eocs"
   ]
  },
  {
   "cell_type": "markdown",
   "id": "1f42a670",
   "metadata": {},
   "source": [
    "### Task: Check your implementation\n",
    "\n",
    "Test your implementation for 2 different Butcher tables of your choice. For each of Runge-Kutta methods, consider two test problems\n",
    "\n",
    "* $y'= \\lambda y$, $y(t_0) = y_0$ with exact solution $y(t) = y_0 e^{\\lambda (t-t_0)}$\n",
    "\n",
    "* $y' = -2 t y$,  $y(0) = y_0$  with exact solution $y(t) = e^{-t^2}$\n",
    "\n",
    "1. you can do a quick run and solve these test problems numerical for some $N_{max}$ to check whether you get reasonable results.\n",
    "\n",
    "2. If this is the case, you can do a mor thorough test by checking the EOC using the `compute_eoc` function above.\n"
   ]
  },
  {
   "cell_type": "code",
   "execution_count": 20,
   "id": "c4ca4dc6-86a6-4582-a4ca-e8d12a77a497",
   "metadata": {},
   "outputs": [],
   "source": [
    "# Heun\n",
    "a = np.array([ [0.0, 0],\n",
    "               [1,   0]])\n",
    "b = np.array([0.5, 0.5])\n",
    "\n",
    "c = np.array([0,\n",
    "              1])\n",
    "\n",
    "heuns2alt = ExplicitRungeKuttaAlt(a, b, c)"
   ]
  },
  {
   "cell_type": "code",
   "execution_count": 107,
   "id": "c0804363-e8f9-41aa-a3b2-64bc066a4c59",
   "metadata": {},
   "outputs": [
    {
     "name": "stdout",
     "output_type": "stream",
     "text": [
      "For Nmax =   4, max ||y(t_i) - y_i||= 1.223e-01\n",
      "For Nmax =   8, max ||y(t_i) - y_i||= 1.609e-02\n",
      "For Nmax =  16, max ||y(t_i) - y_i||= 3.329e-03\n",
      "For Nmax =  32, max ||y(t_i) - y_i||= 7.617e-04\n",
      "For Nmax =  64, max ||y(t_i) - y_i||= 1.830e-04\n",
      "For Nmax = 128, max ||y(t_i) - y_i||= 4.488e-05\n",
      "[       inf 2.92609029 2.27300209 2.12805371 2.05748208 2.0275907 ]\n"
     ]
    },
    {
     "data": {
      "text/html": [
       "<div>\n",
       "<style scoped>\n",
       "    .dataframe tbody tr th:only-of-type {\n",
       "        vertical-align: middle;\n",
       "    }\n",
       "\n",
       "    .dataframe tbody tr th {\n",
       "        vertical-align: top;\n",
       "    }\n",
       "\n",
       "    .dataframe thead th {\n",
       "        text-align: right;\n",
       "    }\n",
       "</style>\n",
       "<table border=\"1\" class=\"dataframe\">\n",
       "  <thead>\n",
       "    <tr style=\"text-align: right;\">\n",
       "      <th></th>\n",
       "      <th>Error</th>\n",
       "      <th>EOC</th>\n",
       "    </tr>\n",
       "  </thead>\n",
       "  <tbody>\n",
       "    <tr>\n",
       "      <th>0</th>\n",
       "      <td>0.122309</td>\n",
       "      <td>inf</td>\n",
       "    </tr>\n",
       "    <tr>\n",
       "      <th>1</th>\n",
       "      <td>0.016092</td>\n",
       "      <td>2.926090</td>\n",
       "    </tr>\n",
       "    <tr>\n",
       "      <th>2</th>\n",
       "      <td>0.003329</td>\n",
       "      <td>2.273002</td>\n",
       "    </tr>\n",
       "    <tr>\n",
       "      <th>3</th>\n",
       "      <td>0.000762</td>\n",
       "      <td>2.128054</td>\n",
       "    </tr>\n",
       "    <tr>\n",
       "      <th>4</th>\n",
       "      <td>0.000183</td>\n",
       "      <td>2.057482</td>\n",
       "    </tr>\n",
       "    <tr>\n",
       "      <th>5</th>\n",
       "      <td>0.000045</td>\n",
       "      <td>2.027591</td>\n",
       "    </tr>\n",
       "  </tbody>\n",
       "</table>\n",
       "</div>"
      ],
      "text/plain": [
       "      Error       EOC\n",
       "0  0.122309       inf\n",
       "1  0.016092  2.926090\n",
       "2  0.003329  2.273002\n",
       "3  0.000762  2.128054\n",
       "4  0.000183  2.057482\n",
       "5  0.000045  2.027591"
      ]
     },
     "metadata": {},
     "output_type": "display_data"
    }
   ],
   "source": [
    "y0 = 1.0\n",
    "t0, T = 0.0, 2\n",
    "def f(t, y):\n",
    "    return -2*y*t\n",
    "\n",
    "y_ex = lambda t : y0*np.exp(-t**2)\n",
    "\n",
    "Nmax = 10\n",
    "\n",
    "ts, ys = heuns2alt.solve(y0, t0, T, f, Nmax)\n",
    "plt.plot(ts, ys, \"ro\")\n",
    "\n",
    "plt.plot(ts, y_ex(ts), \"b-\")\n",
    "\n",
    "Nmax_list = [4, 8, 16, 32, 64, 128]\n",
    "errs, eocs = compute_eoc_alt(y0, t0, T, f, Nmax_list, heuns2alt, y_ex)\n",
    "print(eocs)\n",
    "\n",
    "# Pretty print\n",
    "import pandas as pd\n",
    "from IPython.display import display\n",
    "eoc_table = pd.DataFrame({'Error':errs, 'EOC':eocs})\n",
    "display(eoc_table)"
   ]
  },
  {
   "cell_type": "markdown",
   "id": "7895d68f-882d-4e51-9fe9-3159c8feb3a2",
   "metadata": {},
   "source": [
    "### Adding some syntactical sugar to the ExplicitRungeKutta \n",
    "\n",
    "Finally, we turn ExplicitRungeKutta class into a \"functor\", that is class whose\n",
    "objects can be used like functions. This can be simply achieved by \n",
    "using the special class function `__call__`: \n",
    "\n",
    "```Python\n",
    "\n",
    "def __call__(self, ...)\n",
    "\n",
    "```"
   ]
  },
  {
   "cell_type": "code",
   "execution_count": 108,
   "id": "cabc7302-cd79-4161-bf28-ce65263c4a60",
   "metadata": {},
   "outputs": [],
   "source": [
    "# TODO: Show how to replace solve by __call__"
   ]
  },
  {
   "cell_type": "markdown",
   "id": "2cd5e71d-4d26-4979-8dc8-46faba92a6fb",
   "metadata": {},
   "source": [
    "#### Note:\n",
    "\n",
    "In homework assignment 6 you are asked to implement to 2 specific Runge-Kutta methods.\n",
    "Here the idea is to mimick/follow the implementation provided in  e.g. the `explicit_euler` or `heun` function provided in `IntroductionNuMeODE.ipynb` rather than to follow the more complicated generalized implementation in `ExplicitRungeKutta` class. For instance, to implement the\n",
    "the explicit midpoint rule, just have a look at the `heun` function. In fact, you only need to change only a very characters code in 2 code lines to go from Heun to explicit midpoint rule."
   ]
  },
  {
   "cell_type": "markdown",
   "id": "8f939648-a993-46b5-915c-01c7ac81f0c2",
   "metadata": {},
   "source": [
    "## Implementing specific adaptive Runge-Kutta methods\n",
    "\n",
    "In the second part of the tutorial, we demonstrate how we can e.g. extend the\n",
    "classical 2nd order Heun's method implemented in the `heun` function to include an automatic error estimation and adaptive time-step selection.  We first recall the Butcher table \n",
    "for Heun's method and its implementation:\n",
    "\n",
    "$$\n",
    "    \\begin{array}{c|cc}\n",
    "      0 & 0 & 0\\\\ 1 & 1 &0 \\\\ \\hline & \\frac{1}{2} & \\frac{1}{2}\n",
    "    \\end{array}\n",
    "$$"
   ]
  },
  {
   "cell_type": "code",
   "execution_count": 103,
   "id": "1352885b-9348-4176-b483-3fb8ab198269",
   "metadata": {},
   "outputs": [],
   "source": [
    "def heun(y0, t0, T, f, Nmax):\n",
    "    # TODO: Review implementation of Heuns' emthods\n",
    "    pass"
   ]
  },
  {
   "cell_type": "markdown",
   "id": "c6ea5f6e-43ae-429d-886a-e993806d1bfb",
   "metadata": {},
   "source": [
    "Next recall, the Heun-Euler pair can be written as\n",
    "\n",
    "$$\n",
    "\\begin{array}{c|cc} 0 & & \\\\ 1 & 1 &   \\\\ \\hline & 1 & 0 \\\\ \\hline \\displaystyle & \\frac{1}{2} &  \\frac{1}{2}\n",
    " \\end{array}\n",
    "$$\n",
    "\n",
    "Let's try to implement this in a litte cute function called `euler_heun`:"
   ]
  },
  {
   "cell_type": "code",
   "execution_count": 101,
   "id": "df48a228-657c-4a5d-ae35-6c809ccb6136",
   "metadata": {},
   "outputs": [],
   "source": [
    "# TODO: "
   ]
  },
  {
   "cell_type": "markdown",
   "id": "d597b2df-44d0-4a1f-ab5a-467f0bfdb539",
   "metadata": {},
   "source": [
    "And finally let's test it with one of the analytical test examples above. "
   ]
  },
  {
   "cell_type": "code",
   "execution_count": 105,
   "id": "685b45fb-3ae6-400f-b018-2e9fb3c90876",
   "metadata": {},
   "outputs": [],
   "source": [
    "# TODO:"
   ]
  },
  {
   "cell_type": "code",
   "execution_count": null,
   "id": "31d0c046-8d32-48f1-bfa5-e803223644e4",
   "metadata": {},
   "outputs": [],
   "source": []
  }
 ],
 "metadata": {
  "celltoolbar": "Slideshow",
  "kernelspec": {
   "display_name": "Python 3",
   "language": "python",
   "name": "python3"
  },
  "language_info": {
   "codemirror_mode": {
    "name": "ipython",
    "version": 3
   },
   "file_extension": ".py",
   "mimetype": "text/x-python",
   "name": "python",
   "nbconvert_exporter": "python",
   "pygments_lexer": "ipython3",
   "version": "3.9.5"
  }
 },
 "nbformat": 4,
 "nbformat_minor": 5
}
