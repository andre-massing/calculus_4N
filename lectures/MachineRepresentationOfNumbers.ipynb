{
 "cells": [
  {
   "cell_type": "markdown",
   "metadata": {
    "slideshow": {
     "slide_type": "slide"
    }
   },
   "source": [
    "# Lecture 2"
   ]
  },
  {
   "cell_type": "code",
   "execution_count": 1,
   "metadata": {
    "slideshow": {
     "slide_type": "slide"
    }
   },
   "outputs": [
    {
     "data": {
      "text/html": [
       "<link href='http://fonts.googleapis.com/css?family=Alegreya+Sans:100,300,400,500,700,800,900,100italic,300italic,400italic,500italic,700italic,800italic,900italic' rel='stylesheet' type='text/css'> <link href='http://fonts.googleapis.com/css?family=Arvo:400,700,400italic' rel='stylesheet' type='text/css'> <link href=\"https://fonts.googleapis.com/css?family=News+Cycle\" rel=\"stylesheet\"> <link href='http://fonts.googleapis.com/css?family=Nixie+One' rel='stylesheet' type='text/css'> <link href='http://fonts.googleapis.com/css?family=PT+Mono' rel='stylesheet' type='text/css'> <link href='http://fonts.googleapis.com/css?family=Shadows+Into+Light' rel='stylesheet' type='text/css'> <link href=\"https://fonts.googleapis.com/css?family=Source+Code+Pro\" rel=\"stylesheet\"> <style> @font-face {\n",
       "    /*font-family: \"Computer Modern\";*/\n",
       "    /*src: url('http://mirrors.ctan.org/fonts/cm-unicode/fonts/otf/cmunss.otf');*/\n",
       "    font-family: 'News Cycle', sans-serif;\n",
       "}\n",
       "\n",
       "\n",
       "/* main background */\n",
       "\n",
       "\n",
       "/*#notebook_panel { \n",
       "        background: #C9D4E2;\n",
       "    }*/\n",
       "\n",
       "div.cell {\n",
       "    /*max-width:600px;*/\n",
       "    /*margin-left:16% !important;*/\n",
       "    /*margin-right:auto;*/\n",
       "}\n",
       "\n",
       "div.text_cell {\n",
       "    /*max-width: 120ex;*/\n",
       "    /* instead of 100%, */\n",
       "}\n",
       "\n",
       "div.text_cell_render {\n",
       "    font-family: 'Alegreya Sans', Computer Modern, \"Helvetica Neue\", Arial, Helvetica, Geneva,   sans-serif;\n",
       "    line-height: 135%;\n",
       "    /*font-size:    45pt;*/\n",
       "    font-size: 130%;\n",
       "    /*width:600px;*/\n",
       "    /*margin-left:auto;*/\n",
       "    /*margin-right:auto;*/\n",
       "}\n",
       "\n",
       ".CodeMirror {\n",
       "    /*font-family: 'Source Code Pro', monospace;*/\n",
       "    /*font-style: italic;*/\n",
       "    /*font-weight: bold;*/\n",
       "    /*font-size: 120%;*/\n",
       "}\n",
       "\n",
       "\n",
       "/*.prompt{\n",
       "        display: None;\n",
       "    }*/\n",
       "\n",
       ".text_cell_render h1 {\n",
       "    font-family: 'Nixie One', serifV;\n",
       "    font-style: regular;\n",
       "    font-weight: 400;\n",
       "    font-size: 45pt;\n",
       "    line-height: 100%;\n",
       "        color: #497BB9;    \n",
       "    /*color: #5889C5;*/\n",
       "    /*color: rgb(0, 51, 102);*/\n",
       "    /*font-weight: 200;*/\n",
       "    /*font-size: 50pt;*/\n",
       "    margin-bottom: 0.5em;\n",
       "    margin-top: 0.5em;\n",
       "    display: block;\n",
       "}\n",
       "\n",
       ".text_cell_render h2 {\n",
       "    font-family: 'Nixie One', serif;\n",
       "    font-weight: 400;\n",
       "    font-size: 30pt;\n",
       "    line-height: 100%;\n",
       "    /*color: rgb(0,51,102);*/\n",
       "    color: #497BB9;    \n",
       "    margin-bottom: 0.1em;\n",
       "    margin-top: 0.3em;\n",
       "    display: block;\n",
       "}\t\n",
       "\n",
       ".text_cell_render h3 {\n",
       "    font-family: 'Nixie One', serif;\n",
       "    margin-top:16px;\n",
       "    font-size: 22pt;\n",
       "    font-weight: 600;\n",
       "    margin-bottom: 3px;\n",
       "    font-style: regular;\n",
       "    color: rgb(102,102,0);\n",
       "}\n",
       "\n",
       ".text_cell_render h4 {    /*Use this for captions*/\n",
       "    font-family: 'Nixie One', serif;\n",
       "    font-size: 14pt;\n",
       "/*    text-align: center;*/\n",
       "    margin-top: 0em;\n",
       "    margin-bottom: 2em;\n",
       "    font-style: regular;\n",
       "}\n",
       "\n",
       ".text_cell_render h5 {  /*Use this for small titles*/\n",
       "    font-family: 'Nixie One', sans-serif;\n",
       "    font-weight: 400;\n",
       "    font-size: 16pt;\n",
       "    color: rgb(163,0,0);\n",
       "    /*color: #5889C5;*/\n",
       "    /*margin-bottom: .5em;\n",
       "    margin-top: 0.5em;*/\n",
       "    font-style: italic;\n",
       "    margin-bottom: .1em;\n",
       "    margin-top: 0.8em;\n",
       "    display: block;\n",
       "}\n",
       "\n",
       ".warning {\n",
       "    color: rgb( 240, 20, 20)\n",
       "}\n",
       "\n",
       "</style> \n",
       "<script>\n",
       " MathJax.Hub.Config( {\n",
       "    TeX: {\n",
       "        Macros: {\n",
       "            NN: \"{\\\\bf N}\",\n",
       "            RR: \"{\\\\mathbb{R}}\",\n",
       "            mcO: \"{\\\\mathcal{O}}\"\n",
       "        },\n",
       "        equationNumbers: { autoNumber: \"AMS\" },\n",
       "        extensions: [\"AMSmath.js\", \"begingroup.js\"] \n",
       "    },\n",
       "    tex2jax: {\n",
       "        inlineMath: [ ['$', '$'], [\"\\\\(\", \"\\\\)\"]], displayMath: [ ['$$', '$$'], [\"\\\\[\", \"\\\\]\"]]\n",
       "    },\n",
       "    displayAlign: 'center', // Change this to 'center' to center equations.\n",
       "    \"HTML-CSS\": {\n",
       "        styles: {\n",
       "            '.MathJax_Display': {\n",
       "                \"margin\": 4\n",
       "            }\n",
       "        }\n",
       "    }\n",
       "}\n",
       ");\n",
       "</script>\n"
      ],
      "text/plain": [
       "<IPython.core.display.HTML object>"
      ]
     },
     "execution_count": 1,
     "metadata": {},
     "output_type": "execute_result"
    }
   ],
   "source": [
    "from IPython.core.display import HTML\n",
    "def css_styling():\n",
    "    try:\n",
    "        fname = \"calculus4N.css\"\n",
    "        with open(fname, \"r\") as f:\n",
    "            styles = f.read()\n",
    "            return HTML(styles)\n",
    "    except FileNotFoundError:\n",
    "        print(f\"WARNING: Could not find css file {fname}!\")\n",
    "\n",
    "# Comment out next line and execute this cell to restore the default notebook style \n",
    "css_styling()"
   ]
  },
  {
   "cell_type": "markdown",
   "metadata": {
    "slideshow": {
     "slide_type": "slide"
    }
   },
   "source": [
    "## 1. General Sources of Errors\n",
    "\n",
    "$$\n",
    "\\DeclareMathOperator{\\Div}{div}\n",
    "\\DeclareMathOperator{\\Grad}{grad}\n",
    "\\DeclareMathOperator{\\Curl}{curl}\n",
    "\\DeclareMathOperator{\\Rot}{rot}\n",
    "\\DeclareMathOperator{\\ord}{ord}\n",
    "\\DeclareMathOperator{\\Kern}{ker}\n",
    "\\DeclareMathOperator{\\Image}{im}\n",
    "\\DeclareMathOperator{\\spann}{span}\n",
    "\\DeclareMathOperator{\\dist}{dist}\n",
    "\\DeclareMathOperator{\\diam}{diam}\n",
    "\\DeclareMathOperator{\\sig}{sig}\n",
    "\\DeclareMathOperator{\\fl}{fl}\n",
    "\\newcommand{\\RR}{\\mathbb{R}}\n",
    "\\newcommand{\\NN}{\\mathbb{N}}\n",
    "\\newcommand{\\VV}{\\mathbb{V}}\n",
    "\\newcommand{\\FF}{\\mathbb{F}}\n",
    "\\newcommand{\\dGamma}{\\,\\mathrm{d} \\Gamma}\n",
    "\\newcommand{\\dGammah}{\\,\\mathrm{d} \\Gamma_h}\n",
    "\\newcommand{\\dx}{\\,\\mathrm{d}x}\n",
    "\\newcommand{\\dy}{\\,\\mathrm{d}y}\n",
    "\\newcommand{\\ds}{\\,\\mathrm{d}s}\n",
    "\\newcommand{\\dt}{\\,\\mathrm{d}t}\n",
    "\\newcommand{\\dS}{\\,\\mathrm{d}S}\n",
    "\\newcommand{\\dV}{\\,\\mathrm{d}V}\n",
    "\\newcommand{\\dX}{\\,\\mathrm{d}X}\n",
    "\\newcommand{\\dY}{\\,\\mathrm{d}Y}\n",
    "\\newcommand{\\dE}{\\,\\mathrm{d}E}\n",
    "\\newcommand{\\dK}{\\,\\mathrm{d}K}\n",
    "\\newcommand{\\dM}{\\,\\mathrm{d}M}\n",
    "\\newcommand{\\cd}{\\mathrm{cd}}\n",
    "\\newcommand{\\onehalf}{\\frac{1}{2}}\n",
    "\\newcommand{\\bfP}{\\boldsymbol P}\n",
    "\\newcommand{\\bfx}{\\boldsymbol x}\n",
    "\\newcommand{\\bfy}{\\boldsymbol y}\n",
    "\\newcommand{\\bfa}{\\boldsymbol a}\n",
    "\\newcommand{\\bfu}{\\boldsymbol u}\n",
    "\\newcommand{\\bfv}{\\boldsymbol v}\n",
    "\\newcommand{\\bfe}{\\boldsymbol e}\n",
    "\\newcommand{\\bfb}{\\boldsymbol b}\n",
    "\\newcommand{\\bff}{\\boldsymbol f}\n",
    "\\newcommand{\\bfp}{\\boldsymbol p}\n",
    "\\newcommand{\\bft}{\\boldsymbol t}\n",
    "\\newcommand{\\bfj}{\\boldsymbol j}\n",
    "\\newcommand{\\bfB}{\\boldsymbol B}\n",
    "\\newcommand{\\bfV}{\\boldsymbol V}\n",
    "\\newcommand{\\bfE}{\\boldsymbol E}\n",
    "\\newcommand{\\bfB}{\\boldsymbol B}\n",
    "\\newcommand{\\bfzero}{\\boldsymbol 0}\n",
    "$$"
   ]
  },
  {
   "cell_type": "markdown",
   "metadata": {
    "slideshow": {
     "slide_type": "slide"
    }
   },
   "source": [
    "Recall the 6 steps in Scientific Computing\n",
    "\n",
    "1. Mathematical Modeling\n",
    "2. Analysis of the mathematical model (Existence, Uniqueness, Continuity)\n",
    "3. Numerical methods (computational complexity, stability, accuracy)\n",
    "4. Realization (implemententation) \n",
    "5. Postprocessing \n",
    "6. Validation"
   ]
  },
  {
   "cell_type": "markdown",
   "metadata": {
    "slideshow": {
     "slide_type": "slide"
    }
   },
   "source": [
    "__Discussion__:\n",
    "\n"
   ]
  },
  {
   "cell_type": "markdown",
   "metadata": {
    "slideshow": {
     "slide_type": "fragment"
    }
   },
   "source": [
    "Today we will talk about one important and unavoidable source of errors,\n",
    "namely the way, a computer deals with numbers."
   ]
  },
  {
   "cell_type": "markdown",
   "metadata": {
    "slideshow": {
     "slide_type": "slide"
    }
   },
   "source": [
    "## 2. Machine Representation of Numbers"
   ]
  },
  {
   "cell_type": "markdown",
   "metadata": {
    "slideshow": {
     "slide_type": "slide"
    }
   },
   "source": [
    "Let's start with two simple tests. \n",
    "* Define two numbers $a=0.2$ and $b=0.2$ and test whether their sum is equal to $0.4$.\n",
    "* Now define two numbers $a=0.2$ and $b=0.1$ and test whether their sum is equal to $0.3$."
   ]
  },
  {
   "cell_type": "markdown",
   "metadata": {
    "slideshow": {
     "slide_type": "slide"
    }
   },
   "source": [
    "__Solution.__"
   ]
  },
  {
   "cell_type": "code",
   "execution_count": null,
   "metadata": {
    "slideshow": {
     "slide_type": "slide"
    }
   },
   "outputs": [],
   "source": [
    "# Write your code here"
   ]
  },
  {
   "cell_type": "markdown",
   "metadata": {
    "slideshow": {
     "slide_type": "slide"
    }
   },
   "source": [
    "Why is that? The reason is the way numbers are represent on a computer, which will\n",
    "be the topic of the first part of the lecture.\n",
    "\n",
    "After the lecture I recommed you to take a look \n",
    "https://0.30000000000000004.com which discusses the phenomena we just observed in some detail."
   ]
  },
  {
   "cell_type": "markdown",
   "metadata": {
    "slideshow": {
     "slide_type": "slide"
    },
    "tags": []
   },
   "source": [
    "## Positional System"
   ]
  },
  {
   "cell_type": "markdown",
   "metadata": {
    "slideshow": {
     "slide_type": "subslide"
    },
    "tags": []
   },
   "source": [
    "On everyday base, we represent numbers using the _positional system_. For instance, when we write $145397.2346$ to denote the number\n",
    "$$\n",
    "145397.2346 = \n",
    "  1 \\cdot 10^5 \n",
    "+ 4 \\cdot 10^4 \n",
    "+ 5 \\cdot 10^3\n",
    "+ 3 \\cdot 10^2 \n",
    "+ 9 \\cdot 10^1\n",
    "+ 7 \\cdot 10^0\n",
    "+ 2 \\cdot 10^{-1}\n",
    "+ 3 \\cdot 10^{-2}\n",
    "+ 4 \\cdot 10^{-3}\n",
    "+ 6 \\cdot 10^{-4}\n",
    "$$\n",
    "using $10$ as _base_. This is also known a _decimal system_. "
   ]
  },
  {
   "cell_type": "markdown",
   "metadata": {
    "slideshow": {
     "slide_type": "slide"
    },
    "tags": []
   },
   "source": [
    "In general for any $\\beta \\in \\NN$, $\\beta \\geqslant 2$, we use\n",
    "the _positional representation_\n",
    "$$\n",
    "x_{\\beta} = (-1)^s [ a_n a_{n-1}\\ldots a_0.a_{-1}a_{-2}\\ldots a_{-m} ]_{\\beta}\n",
    "$$\n",
    "\n",
    "with $a_n \\neq 0$ to represent the number \n",
    "\n",
    "$$\n",
    "x_{\\beta} = \\sum_{k=-m}^n a_k \\beta^{k}. \n",
    "$$"
   ]
  },
  {
   "cell_type": "markdown",
   "metadata": {
    "slideshow": {
     "slide_type": "subslide"
    },
    "tags": []
   },
   "source": [
    "Here,\n",
    "* $\\beta$ is called the _base_\n",
    "* $a_k \\in [0, \\beta-1]$ are called the _digits_\n",
    "* $s \\in \\{0,1\\}$ defines the _sign_\n",
    "* $a_n a_{n-1}\\ldots a_0$ is the _integer_ part\n",
    "* $a_{-1}a_{-2}\\ldots a_{-m}$ is called the _fractional_ part\n",
    "* The point between $a_0$ and $a_{-1}$ is generally called the _radix point_\n",
    " "
   ]
  },
  {
   "cell_type": "markdown",
   "metadata": {
    "slideshow": {
     "slide_type": "slide"
    }
   },
   "source": [
    "__Exercise 1__:  Write down the position representation of the number $3\\frac{2}{3}$ for\n",
    "both the base $\\beta=10$ and $\\beta=3$."
   ]
  },
  {
   "cell_type": "markdown",
   "metadata": {
    "slideshow": {
     "slide_type": "slide"
    }
   },
   "source": [
    "__Solution.__\n",
    "\n",
    "* $\\beta = 10$:\n",
    "* $\\beta = 3$:"
   ]
  },
  {
   "cell_type": "markdown",
   "metadata": {
    "slideshow": {
     "slide_type": "slide"
    }
   },
   "source": [
    "To represent numbers on a computer, the most common bases are \n",
    "* $\\beta = 2$ (binary),\n",
    "* $\\beta=10$ (decimal)\n",
    "* $\\beta = 16$ (hexidecimal). \n",
    "\n",
    "For the latter one, one uses $1,2,\\ldots, 9$, A,B,C,D,E,F to represent the digits.\n",
    "For $\\beta = 2, 10, 16$ is also called the binary point, decimal point and hexadecimal point, respectively."
   ]
  },
  {
   "cell_type": "markdown",
   "metadata": {
    "slideshow": {
     "slide_type": "slide"
    }
   },
   "source": [
    "We have already seen that for many (actuall most!) numbers, the fractional part can be infinitely long in order to represent the number exactly. But on a computer, only a finite amount of storage is available, so to represent numbers, only a fixed numbers of digits can be kept in storage for each number we wish to represent.\n",
    "\n",
    "This will of course automatically introduces errors whenever our number can not represented exactly by\n",
    "the finite number of digits available."
   ]
  },
  {
   "cell_type": "markdown",
   "metadata": {},
   "source": [
    "### Fix-point system\n",
    "\n",
    "Use $N=n+1+m$ digits/memory locations to store the number $x$ written as above.\n",
    "Since the binary/decimal point is _fixed_ , it is difficult to represent large numbers $\\geqslant \\beta^{n+1}$ or small numbers $ < \\beta^{-m}$.\n",
    "\n",
    "E.g. nowdays we often use 16 (decimal) digits in a computer, if you distributed that evenly \n",
    "to present same number of digits before and after the decimal point, the range or representable numbers is between\n",
    "$10^8$ and $10^{-8}$ __This is very inconvenient__! \n",
    "\n",
    "Also, small numbers which are located\n",
    "towards the lower end of this range cannot be as accuractely represented as number close\n",
    "to the upper end of this range.\n",
    "\n",
    "As a remedy, an modified representation system for numbers was introduced, known as _normalized floating point system_."
   ]
  },
  {
   "cell_type": "markdown",
   "metadata": {
    "slideshow": {
     "slide_type": "slide"
    }
   },
   "source": [
    "### Normalized floating point system\n",
    "\n",
    "Returning to our first example: \n",
    "$$\n",
    "145397.2346 \n",
    "= 0.1453972346 \\cdot 10^{6}\n",
    "= 1453972346 \\cdot 10^{6-10}\n",
    "$$\n",
    "\n",
    "In general we write\n",
    "$$\n",
    "x = (-1)^s 0.a_1 a_2 \\ldots a_t \\beta^e \n",
    "  = (-1)^s \\cdot m \\cdot \\beta^{e - t} \n",
    "$$\n",
    "\n",
    "Here,\n",
    "* $t \\in \\NN$ is the number of _significant digits_ \n",
    "* $e$ is an integer called the _exponent_ \n",
    "* $m = a_1 a_2 \\ldots a_t \\in \\NN$ is known as the _mantissa_.\n",
    "\n",
    "* Exponent $e$ defines the _scale_ of the represented number,\n",
    "  typically, $e \\in \\{e_{\\mathrm{min}}, \\ldots, e_{\\mathrm{max}}\\}$,\n",
    "  with $e_{\\mathrm{min}} < 0$ and $e_{\\mathrm{max}} > 0$.\n",
    "* Number of significant digits $t$ defines the _relative accuracy_."
   ]
  },
  {
   "cell_type": "markdown",
   "metadata": {
    "slideshow": {
     "slide_type": "slide"
    }
   },
   "source": [
    "We define the __finite__ set of available _floating point numbers_\n",
    "$$\n",
    "\\FF(\\beta,t, e_{\\mathrm{min}}, e_{\\mathrm{max}})\n",
    " = \\{0 \\} \\cup \\left\\{  x \\in \\RR: x = (-1)^s\\beta^e \\sum_{i=1}^t a_i \\beta^{-i}, e_{\\mathrm{min}} \\leqslant e \\leqslant e_{\\mathrm{max}}, 0 \\leqslant a_i \\leqslant \\beta - 1  \\right\\}\n",
    "$$       \n",
    "\n",
    "* Typically to enforce a unique representation and to ensure maximal relative accuracy, one requires that $a_1 \\neq 0$ for non-zero numbers."
   ]
  },
  {
   "cell_type": "markdown",
   "metadata": {
    "slideshow": {
     "slide_type": "slide"
    }
   },
   "source": [
    "__Exercise 2__:\n",
    "\n",
    "What is the smallest (non-zero!) and the largest number you can represent with $\\FF$?"
   ]
  },
  {
   "cell_type": "markdown",
   "metadata": {
    "slideshow": {
     "slide_type": "slide"
    }
   },
   "source": [
    "__Solution.__ "
   ]
  },
  {
   "cell_type": "markdown",
   "metadata": {
    "slideshow": {
     "slide_type": "fragment"
    }
   },
   "source": [
    "$$\n",
    "\\beta^{e_{\\mathrm{min}}-1} \n",
    "\\leqslant |x| \n",
    "\\leqslant \\beta^{e_{\\mathrm{max}}}(1-\\beta^{-t})\n",
    "\\quad\\text{for } x \\in \\FF.\n",
    "$$"
   ]
  },
  {
   "cell_type": "markdown",
   "metadata": {
    "slideshow": {
     "slide_type": "slide"
    }
   },
   "source": [
    "__Conclusion:__\n",
    "\n",
    "* Every number $x$ satifying $\\beta^{e_{\\mathrm{min}}-1} \n",
    "\\leqslant |x| \n",
    "\\leqslant \\beta^{e_{\\mathrm{max}}}(1-\\beta^{-t})$ but which is __not__ in $\\FF$\n",
    "can be represented by a floating point number $\\fl(x)$ by rounding off to the closest number in $\\FF$.\n",
    "\n",
    "* Relative _machine precision_ is \n",
    "$$\n",
    "\\dfrac{|x-\\fl(x)|}{|x|} \\leqslant \\epsilon := \\frac{\\beta^{1-t}}{2}\n",
    "$$\n",
    "\n",
    "* $|x| < \\beta^{e_{\\mathrm{min}}-1}$ leads to _underflow_.\n",
    "* $|x| > \\beta^{e_{\\mathrm{max}}}(1-\\beta^{-t})$ leads to _overflow_.\n",
    "\n",
    "Standard machine presentations nowadays using\n",
    "* Single precision, allowing for 7-8 sigificant digits\n",
    "* Double precision, allowing for 16 sigificant digits"
   ]
  },
  {
   "cell_type": "markdown",
   "metadata": {},
   "source": [
    "### Things we don't discuss in this but which are important in numerical mathematics\n",
    "\n",
    "We see that already by entering data from our model into the computer, we make an unavoidable error.\n",
    "The same also applied for the realization of basics mathematical operations $\\{+, -, \\cdot, /\\}$ etc. on a computer.\n",
    "\n",
    "Thus it is of importance to understand how errors made in a numerical method are propagated through the numerical algorithms. Keywords for the interested are\n",
    "* Forward propagation: How does an initial error and the algorithm affect the final solution?\n",
    "* Backward propagation: If I have certain error in my final solution, how large was the initial error?"
   ]
  }
 ],
 "metadata": {
  "kernelspec": {
   "display_name": "Python 3 (ipykernel)",
   "language": "python",
   "name": "python3"
  },
  "language_info": {
   "codemirror_mode": {
    "name": "ipython",
    "version": 3
   },
   "file_extension": ".py",
   "mimetype": "text/x-python",
   "name": "python",
   "nbconvert_exporter": "python",
   "pygments_lexer": "ipython3",
   "version": "3.9.6"
  }
 },
 "nbformat": 4,
 "nbformat_minor": 4
}
