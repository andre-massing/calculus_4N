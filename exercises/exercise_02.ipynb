{
 "cells": [
  {
   "cell_type": "code",
   "execution_count": 3,
   "metadata": {},
   "outputs": [
    {
     "data": {
      "text/html": [
       "<link href='http://fonts.googleapis.com/css?family=Alegreya+Sans:100,300,400,500,700,800,900,100italic,300italic,400italic,500italic,700italic,800italic,900italic' rel='stylesheet' type='text/css'> <link href='http://fonts.googleapis.com/css?family=Arvo:400,700,400italic' rel='stylesheet' type='text/css'> <link href=\"https://fonts.googleapis.com/css?family=News+Cycle\" rel=\"stylesheet\"> <link href='http://fonts.googleapis.com/css?family=Nixie+One' rel='stylesheet' type='text/css'> <link href='http://fonts.googleapis.com/css?family=PT+Mono' rel='stylesheet' type='text/css'> <link href='http://fonts.googleapis.com/css?family=Shadows+Into+Light' rel='stylesheet' type='text/css'> <link href=\"https://fonts.googleapis.com/css?family=Source+Code+Pro\" rel=\"stylesheet\"> <style> @font-face {\n",
       "    /*font-family: \"Computer Modern\";*/\n",
       "    /*src: url('http://mirrors.ctan.org/fonts/cm-unicode/fonts/otf/cmunss.otf');*/\n",
       "    font-family: 'News Cycle', sans-serif;\n",
       "}\n",
       "\n",
       "\n",
       "/* main background */\n",
       "\n",
       "\n",
       "/*#notebook_panel { \n",
       "        background: #C9D4E2;\n",
       "    }*/\n",
       "\n",
       "div.cell {\n",
       "    /*max-width:600px;*/\n",
       "    /*margin-left:16% !important;*/\n",
       "    /*margin-right:auto;*/\n",
       "}\n",
       "\n",
       "div.text_cell {\n",
       "    /*max-width: 120ex;*/\n",
       "    /* instead of 100%, */\n",
       "}\n",
       "\n",
       "div.text_cell_render {\n",
       "    font-family: 'Alegreya Sans', Computer Modern, \"Helvetica Neue\", Arial, Helvetica, Geneva,   sans-serif;\n",
       "    line-height: 135%;\n",
       "    /*font-size:    45pt;*/\n",
       "    font-size: 130%;\n",
       "    /*width:600px;*/\n",
       "    /*margin-left:auto;*/\n",
       "    /*margin-right:auto;*/\n",
       "}\n",
       "\n",
       ".CodeMirror {\n",
       "    /*font-family: 'Source Code Pro', monospace;*/\n",
       "    /*font-style: italic;*/\n",
       "    /*font-weight: bold;*/\n",
       "    /*font-size: 120%;*/\n",
       "}\n",
       "\n",
       "\n",
       "/*.prompt{\n",
       "        display: None;\n",
       "    }*/\n",
       "\n",
       ".text_cell_render h1 {\n",
       "    font-family: 'Nixie One', serifV;\n",
       "    font-style: regular;\n",
       "    font-weight: 400;\n",
       "    font-size: 45pt;\n",
       "    line-height: 100%;\n",
       "        color: #497BB9;    \n",
       "    /*color: #5889C5;*/\n",
       "    /*color: rgb(0, 51, 102);*/\n",
       "    /*font-weight: 200;*/\n",
       "    /*font-size: 50pt;*/\n",
       "    margin-bottom: 0.5em;\n",
       "    margin-top: 0.5em;\n",
       "    display: block;\n",
       "}\n",
       "\n",
       ".text_cell_render h2 {\n",
       "    font-family: 'Nixie One', serif;\n",
       "    font-weight: 400;\n",
       "    font-size: 30pt;\n",
       "    line-height: 100%;\n",
       "    /*color: rgb(0,51,102);*/\n",
       "    color: #497BB9;    \n",
       "    margin-bottom: 0.1em;\n",
       "    margin-top: 0.3em;\n",
       "    display: block;\n",
       "}\t\n",
       "\n",
       ".text_cell_render h3 {\n",
       "    font-family: 'Nixie One', serif;\n",
       "    margin-top:16px;\n",
       "    font-size: 22pt;\n",
       "    font-weight: 600;\n",
       "    margin-bottom: 3px;\n",
       "    font-style: regular;\n",
       "    color: rgb(102,102,0);\n",
       "}\n",
       "\n",
       ".text_cell_render h4 {    /*Use this for captions*/\n",
       "    font-family: 'Nixie One', serif;\n",
       "    font-size: 14pt;\n",
       "/*    text-align: center;*/\n",
       "    margin-top: 0em;\n",
       "    margin-bottom: 2em;\n",
       "    font-style: regular;\n",
       "}\n",
       "\n",
       ".text_cell_render h5 {  /*Use this for small titles*/\n",
       "    font-family: 'Nixie One', sans-serif;\n",
       "    font-weight: 400;\n",
       "    font-size: 16pt;\n",
       "    color: rgb(163,0,0);\n",
       "    /*color: #5889C5;*/\n",
       "    /*margin-bottom: .5em;\n",
       "    margin-top: 0.5em;*/\n",
       "    font-style: italic;\n",
       "    margin-bottom: .1em;\n",
       "    margin-top: 0.8em;\n",
       "    display: block;\n",
       "}\n",
       "\n",
       ".warning {\n",
       "    color: rgb( 240, 20, 20)\n",
       "}\n",
       "\n",
       "</style> \n",
       "<script>\n",
       " MathJax.Hub.Config( {\n",
       "    TeX: {\n",
       "        Macros: {\n",
       "            NN: \"{\\\\bf N}\",\n",
       "            RR: \"{\\\\mathbb{R}}\",\n",
       "            mcO: \"{\\\\mathcal{O}}\"\n",
       "        },\n",
       "        equationNumbers: { autoNumber: \"AMS\" },\n",
       "        extensions: [\"AMSmath.js\", \"begingroup.js\"] \n",
       "    },\n",
       "    tex2jax: {\n",
       "        inlineMath: [ ['$', '$'], [\"\\\\(\", \"\\\\)\"]], displayMath: [ ['$$', '$$'], [\"\\\\[\", \"\\\\]\"]]\n",
       "    },\n",
       "    displayAlign: 'center', // Change this to 'center' to center equations.\n",
       "    \"HTML-CSS\": {\n",
       "        styles: {\n",
       "            '.MathJax_Display': {\n",
       "                \"margin\": 4\n",
       "            }\n",
       "        }\n",
       "    }\n",
       "}\n",
       ");\n",
       "</script>\n"
      ],
      "text/plain": [
       "<IPython.core.display.HTML object>"
      ]
     },
     "execution_count": 3,
     "metadata": {},
     "output_type": "execute_result"
    }
   ],
   "source": [
    "from IPython.core.display import HTML\n",
    "def css_styling():\n",
    "    try:\n",
    "        fname = \"calculus4N.css\"\n",
    "        with open(fname, \"r\") as f:\n",
    "            styles = f.read()\n",
    "            return HTML(styles)\n",
    "    except FileNotFoundError:\n",
    "        print(f\"Could not find css file '{fname}'\")\n",
    "\n",
    "# Comment out next line and execute this cell to restore the default notebook style \n",
    "css_styling()"
   ]
  },
  {
   "cell_type": "markdown",
   "metadata": {},
   "source": [
    "# TMA4130 Høst 2021 - Øving 2\n",
    "\n",
    "Submission deadline: **Tuesday, Sep 21 2021 at 12:00 (noon)**\n",
    "\n",
    "In this exercise set we will construct and analyze quadrature rules. For guidance on quadrature rules, please read the lecture notes. Make sure to run the code below to get all the important modules, and to make the plots look nice."
   ]
  },
  {
   "cell_type": "code",
   "execution_count": 10,
   "metadata": {},
   "outputs": [],
   "source": [
    "%matplotlib inline\n",
    "\n",
    "from numpy import *\n",
    "from matplotlib.pyplot import *\n",
    "from math import factorial\n",
    "import matplotlib.pyplot as plt\n",
    "\n",
    "newparams = {'figure.figsize': (8.0, 4.0), 'axes.grid': True,\n",
    "             'lines.markersize': 8, 'lines.linewidth': 2,\n",
    "             'font.size': 14}\n",
    "plt.rcParams.update(newparams)"
   ]
  },
  {
   "cell_type": "markdown",
   "metadata": {},
   "source": [
    "## 1) Analyzing the composite Simpson's rule\n",
    "\n",
    "Simpson's rule is defined as\n",
    "$$\n",
    "S[f](x_{i-1}, x_i) = \\frac{h}{6}(f(x_{i-1} + 4f(x_{i-1/2}) + f(x_i))\n",
    "$$\n",
    "where $h = x_i - x_{i-1}$ and $x_{i-1/2} = \\frac{x_{i-1}+x_i}{2}.$\n"
   ]
  },
  {
   "cell_type": "markdown",
   "metadata": {},
   "source": [
    "**a)**\n",
    "\n",
    "Show that the resulting composite Simpson's rule is given by\n",
    "\n",
    "\\begin{align*}\n",
    "\\int_a^b f {\\,\\mathrm{d}x} \\approx \\mathrm{CSR}[f]({[x_{i-1}, x_i]}_{i=1}^{m})\n",
    "&= \n",
    "\\tfrac{h}{6}\n",
    "[\n",
    "f(x_0)\n",
    "+ 4f(x_{x_{1/2}}) + 2f(x_1) \n",
    "+ 4f(x_{3/2}) +     2f(x_2)\n",
    "+ \\ldots\n",
    "\\\\ \n",
    "&\\qquad+2 f(x_{m-1})\n",
    "+\n",
    "4f(x_{x_{m-1/2}}) \n",
    "+f(x_m)\n",
    "].\n",
    "\\end{align*}"
   ]
  },
  {
   "cell_type": "markdown",
   "metadata": {},
   "source": [
    "**b)**\n",
    "Implement the composite Simpson's rule.\n",
    "Use this function to compute an approximated value of the integral\n",
    "\n",
    "$$\n",
    "I(0,1) = \\int_0^1 \\tan\\left(\\frac{\\pi}{4}x\\right) = 2\\frac{\\log(2)}{\\pi} = 0.4412712\\dotsc.\n",
    "$$\n",
    "\n",
    "for $m = 4, 8, 16, 32, 64$ corresponding to\n",
    "$ h = 2^{-2}, 2^{-3}, 2^{-4}, 2^{-5}, 2^{-6}$.\n",
    "Tabulate the corresponding quadrature errors $|I(0,1) - \\mathrm{CSR}[f]({[x_{i-1}, x_i]}_{i=1}^{m})|$. Plot the errors against $h$ in a $\\log-\\log$\n",
    "plot and determine the EOC (\"Experimental Order of Convergence\")\n",
    "How does it compare to the composite trapezoidal rule?"
   ]
  },
  {
   "cell_type": "markdown",
   "metadata": {},
   "source": [
    "**c)**\n",
    "Recall that the error of Simpson's rule on a single interval is given by\n",
    "\n",
    "$$\n",
    "|I[f](a,b) - S[f](a,b)| = - \\frac{(b-a)^5}{2880}  f^{(4)}(\\xi)\n",
    "$$\n",
    "for some $\\xi \\in [a,b]$.\n",
    "\n",
    "Use this to show that the error of the composite Simpson rule can be bounded by\n",
    "\n",
    "\\begin{equation}\n",
    "|I[f]-\\mathrm{CSR}[f]|\n",
    "\\leqslant\n",
    "\\dfrac{M_4}{2880} \\dfrac{(b-a)^5}{m^4}\n",
    "=\n",
    "\\dfrac{M_4}{2880}\n",
    "h^4(b-a)\n",
    "\\label{quad:thm:csr_est} \\tag{3}\n",
    "\\end{equation}\n",
    "\n",
    "where  $M_4 = \\max_{\\xi\\in[a,b]} |f^{(4)}(\\xi)|$. Does your numerical experiments from b) support the theoretically derived convergence order?"
   ]
  },
  {
   "cell_type": "markdown",
   "metadata": {},
   "source": [
    "**d)** Redo the numerical experiment from b), but this time, use the composite Simpson rule to \n",
    "compute approximated values of the integral\n",
    "\n",
    "$$\n",
    "\\int_0^1 \\sqrt{1-x^2} dx = \\dfrac{\\pi}{4}.\n",
    "$$\n",
    "What EOC do you obtain? Do you have an explanation for reduced convergence order? \n",
    "\n",
    "**Hint.** Have a look a $f'$, e.g. by plotting $f'$ over intervals $[0,b]$ with $0 < b < 1$ but $b$ very close to $1$, e.g. $b=0.9999$  "
   ]
  },
  {
   "cell_type": "markdown",
   "metadata": {},
   "source": [
    "## 2) Gaussian Quadrature\n",
    "\n",
    "In this exercise we will construct a Gaussian quadrature rule with 3 nodes. We will take it step by step, so don't worry if you do not feel like an expert on Gaussian quadrature. \n",
    "\n",
    "To make your life easy, we will use the [sympy](https://docs.sympy.org/latest/index.html#) python module  for symbolic mathematics to perform tasks such as (symbolic) integration and root finding of low order polynoms. \n",
    "In particular look at [integrate](https://docs.sympy.org/latest/modules/integrals/integrals.html) and [solve](https://docs.sympy.org/latest/modules/solvers/solvers.html) submodules."
   ]
  },
  {
   "cell_type": "markdown",
   "metadata": {},
   "source": [
    "The first step in constructing a Gaussian quadrature is finding the correct orthogonal polynomial. The nodes of the quadrature rule will be the roots of some polynomial. Since we are looking for 3 nodes, this means that the polynomial should have 3 roots, and hence we are looking for a third-order polynomial.\n",
    " \n",
    "The polynomial, call it $p_3$, should be orthogonal on the interval $[-2,1]$ to all polynomials of order 2 or less. We now create this polynomial.\n",
    "\n",
    "Start with the 4 polynomial \"basis\" functions \n",
    "$$\n",
    "\\phi_0 = 1,\\quad \\phi_1 = x,\\quad \\phi_2 = x^2,\\quad \\phi_3 = x^3.\n",
    "$$\n",
    "Remember that on the interval $[0,3]$ we have the *inner product*\n",
    "$$\n",
    "\\langle p,q \\rangle = \\int_{-2}^1 p(x)\\,q(x)\\,\\mathrm{d}x\n",
    "$$\n",
    "and the *norm*\n",
    "$$\n",
    "\\|p\\| = \\left(\\int_{-2}^1 p(x)^2 \\, \\mathrm{d}x\\right)^{1/2}.\n",
    "$$\n",
    "\n",
    "We can now construct orthogonal polynomials by using Gram-Schmidt orthogonalization.\n",
    "\n",
    "\\begin{align*}\n",
    "p_k = \\phi_k - \\sum_{j=0}^{k-1}\\frac{\\langle \\phi_k,p_j \\rangle}{\\|p_j\\|^2}\\, p_j\n",
    "\\end{align*}\n",
    "\n",
    "We start out by setting $p_0 = 1$. In order to calculate $p_1$ we first need to calculate\n",
    "$$\n",
    "\\langle \\phi_1,p_0 \\rangle = \\int_{-2}^1\\phi_1(x)\\,p_0(x)\\, \\mathrm{d}x = \\int_{-2}^1 x \\cdot 1 \\, \\mathrm{d}x = \\left[\\frac{x^2}{2}\\right]^1_{-2} = -\\frac{3}{2}.\n",
    "$$\n",
    "We also need to calculate\n",
    "$$\n",
    "\\|p_0\\|^2 = \\int_{-2}^1 p_0(x)^2 \\, \\mathrm{d}x = \\int_{-2}^1 1\\cdot 1 \\mathrm{d}x = 3.\n",
    "$$\n",
    "Therefore, \n",
    "$$\n",
    "p_1 = \\phi_1 - \\frac{\\langle\\phi_1,p_0\\rangle}{\\|p_0\\|^2}\\,p_0 = \\phi_1 - \\frac{-3/2}{3}\\cdot p_0 = \\phi_1 + \\frac{1}{2}p_0 = x+\\frac{1}{2}.\n",
    "$$\n"
   ]
  },
  {
   "cell_type": "markdown",
   "metadata": {},
   "source": [
    "We can use the Python package SymPy to check our calculations. The code below helps you by defining the inner product and shows how to define polynomials."
   ]
  },
  {
   "cell_type": "code",
   "execution_count": 5,
   "metadata": {},
   "outputs": [
    {
     "name": "stdout",
     "output_type": "stream",
     "text": [
      "-3/2\n"
     ]
    }
   ],
   "source": [
    "from sympy.abc import x\n",
    "from sympy import integrate\n",
    "\n",
    "a=-2\n",
    "b=1\n",
    "\n",
    "#Define the inner poduct\n",
    "def scp(p,q):\n",
    "    return integrate(p*q, (x, a, b))\n",
    "\n",
    "#Define polynomials\n",
    "p0 = 1\n",
    "phi1 = x\n",
    "\n",
    "#Calculate the inner product and print it.\n",
    "print(scp(p0,phi1))"
   ]
  },
  {
   "cell_type": "markdown",
   "metadata": {},
   "source": [
    "**a)**\n",
    "\n",
    "Use Gram-Schmidt orthogonalization to construct $p_2$ and $p_3$."
   ]
  },
  {
   "cell_type": "markdown",
   "metadata": {},
   "source": [
    "**b)**\n",
    "Use the function $\\texttt{scp}$ to check whether the polynomials you calculated\n",
    "are in fact **orthogonal**."
   ]
  },
  {
   "cell_type": "markdown",
   "metadata": {},
   "source": [
    "**c)**\n",
    "Find the 3 roots of $p_3$.\n",
    "\n",
    " - Analytical approach: If you want to do it analytical, use the fact that one root is $$x=-\\frac{1}{2}$$\n",
    "to find a second order polynomial $\\widetilde{p}_2$ such that  $\\widetilde{p}_2(x) \\cdot (x+1/2) = p_3(x)$.\n",
    " - Computational approach: \n",
    "If you want to use a computational algebra system/symbolic calculator\n",
    "you Import the `solve` from `sympy` (Have a look at the\n",
    "[solve](https://docs.sympy.org/latest/modules/solvers/solvers.html) submodules.)"
   ]
  },
  {
   "cell_type": "markdown",
   "metadata": {},
   "source": [
    "**d)**\n",
    "\n",
    "Let's denote the three roots of $p_3$ by $x_1,x_2,x_3.$\n",
    "\n",
    "Construct the three Lagrange polynomials $l_1, \\, l_2,\\,  l_3$ satisfying $l_i(x_j) = \\delta_{ij},$ that is\n",
    "\n",
    "$$\n",
    "l_i(x_j) = \n",
    "\\begin{cases}\n",
    "1,\\quad i=j,\\\\\n",
    "0,\\quad i\\neq j.\n",
    "\\end{cases}\n",
    "$$\n",
    "\n",
    "Then calculate the weights \n",
    "$$\n",
    "w_i = \\int_{-2}^1 l_i(x)\\, \\mathrm{d}x.\n",
    "$$\n",
    "\n",
    "*Hint: You can use the SymPy function $\\texttt{integrate}$ to check your calculations.*"
   ]
  },
  {
   "cell_type": "markdown",
   "metadata": {},
   "source": [
    "**e)** Now recheck your calculations as follows.\n",
    "The Gauss-Legendre rule for the interval $[-1,1]$ with $3$ quadrature points is given by\n",
    "\\begin{align*}\n",
    "\\{\\hat{x}_i\\}_{i=0}^2 &= \\left\\{-\\sqrt{\\tfrac{3}{5}}, 0, \\sqrt{\\tfrac{3}{5}} \\right\\}\n",
    "\\\\\n",
    "\\{\\hat{w}_i\\}_{i=0}^2 &= \\left\\{ \\tfrac{5}{9}, \\tfrac{8}{9}, \\tfrac{5}{9} \\right\\}\n",
    "\\end{align*}\n",
    "Now transfer this quadrature rule to the interval $[0,3]$ and confirm that you get the same quadrature points and weights you computed in 2a)-2d)."
   ]
  },
  {
   "cell_type": "markdown",
   "metadata": {
    "slideshow": {
     "slide_type": "subslide"
    }
   },
   "source": [
    "**f)**\n",
    "\n",
    "Finally, write down the quadrature rule on the form\n",
    "\n",
    "$$\n",
    "\\mathrm{GQR}[f](0,3) = \\sum_{j=1}^nw_jf(x_j).\n",
    "$$\n",
    "\n",
    "and check that this Gaussian quadrature rule has degree of exactness equal to $5$.\n",
    "\n",
    "*Hint: Use the `QR` function from the `SimpleQuadrature.ipynb` notebook.*"
   ]
  },
  {
   "cell_type": "markdown",
   "metadata": {},
   "source": [
    "## 3) More on the Gauss-Legendre quadrature with 3 quadrature points \n",
    "\n",
    "**a)** The error of Gauss-Legendre quadrature you developed in problem 2) over one interval is given by\n",
    "\\begin{align*}\n",
    "    E(a,b)= \\int_a^b f(x)dx- Q(a,b)=\\frac{(b-a)7}{2016000} f^{(6)}(\\eta), \\quad \\eta \\in (a,b).\n",
    "\\end{align*}\n",
    "\n",
    "Use this to find an error expression for the composite Gauss-Legendre quadrature\n",
    "$$ Q_m(a,b)= \\sum_{i=0}^{m-1} Q(x_i,x_{i+1}), $$\n",
    "where $Q(x_i,x_{i+1})$ is the basic quadrature over the interval $[x_i, x_{i+1}]$, $x_i=a +ih$, $i=0, 1, \\ldots, m$ and $h=(b-a)/m$. "
   ]
  },
  {
   "cell_type": "markdown",
   "metadata": {},
   "source": [
    "**b)** Based on the error expressions for the  Composite Gauss-Legendre derived in 3a), find the number of intervals $m$ that guarantee that \n",
    "the error in the respective composite quadrature methods is less than $10^{-8}$ \n",
    "when applied to $\\int_0^1 \\cos(\\pi x/2) dx$. \n",
    "\n",
    "*Hint:* use that $\\left\\vert\\dfrac{d^6}{dx^6} \\cos{ \\pi x /2}\\right\\vert \\leq 17$ for $x\\in [0,1]$."
   ]
  },
  {
   "cell_type": "markdown",
   "metadata": {},
   "source": [
    "**c)** Redo the previous exercise 3b) with the composite Simpson's rule instead where you can use that\n",
    "$\\left\\vert\\dfrac{d^4}{dx^4} \\cos{ \\pi x /2}\\right\\vert \\leq 6.1$ for $x\\in [0,1]$.\n",
    "Which composite method would you prefer if want to compute $ \\int_0^1 \\cos(\\pi x/2) dx$ numerically?"
   ]
  },
  {
   "cell_type": "markdown",
   "metadata": {},
   "source": [
    "**d)**\n",
    "Based on $Q_1(a, b)$ and $Q_2(a, b)$, find an error estimate for $Q_2(a, b)$ as an approximation to $\\int_0^1 \\cos(\\pi x/2)$.\n",
    "\n",
    "*Hint:* Again, you use that $|f^{(6)}(x)| <17 $ over the interval $[0,1]$."
   ]
  },
  {
   "cell_type": "markdown",
   "metadata": {},
   "source": [
    "**d)**\n",
    "Write a function implementing the Gauss-Legendre quadrature with error estimate from d).\n",
    "Compare the exact error and the error estimate."
   ]
  }
 ],
 "metadata": {
  "kernelspec": {
   "display_name": "Python 3 (ipykernel)",
   "language": "python",
   "name": "python3"
  },
  "language_info": {
   "codemirror_mode": {
    "name": "ipython",
    "version": 3
   },
   "file_extension": ".py",
   "mimetype": "text/x-python",
   "name": "python",
   "nbconvert_exporter": "python",
   "pygments_lexer": "ipython3",
   "version": "3.9.6"
  }
 },
 "nbformat": 4,
 "nbformat_minor": 4
}
