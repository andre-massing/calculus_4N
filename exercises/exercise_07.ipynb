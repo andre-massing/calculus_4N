{
 "cells": [
  {
   "cell_type": "markdown",
   "id": "british-cooperative",
   "metadata": {
    "slideshow": {
     "slide_type": "notes"
    }
   },
   "source": [
    "# TMA4130/35 Homework assignment 7\n",
    "\n",
    "This homework assignment is concerned with the implementation of\n",
    "explicit Runge-Kutta with adaptive time-step control and their application\n",
    "to a challenge application problem known as the (restricted) three-body problem.\n",
    "\n",
    "Naturally, you will be given two problem set, where the first focuses on \n",
    "the implementation of embedded Runge-Kutta methods while the second centers \n",
    "around the application of your shiny new implementation to the three-body problem\n",
    "and an assessment of the advantages of automatic error estimation \n",
    "and time-step selection compared with uniform time-step sizes.\n",
    "\n",
    "You will find much of necessary background and code in the `RungeKuttaNuMeODE.ipynb`\n",
    "and `AdaptiveNuMeODE.ipynb` notebooks.\n",
    "\n",
    "$\\newcommand{mb}[1]{\\mathbf{#1}}$"
   ]
  },
  {
   "cell_type": "markdown",
   "id": "split-adaptation",
   "metadata": {
    "slideshow": {
     "slide_type": "slide"
    }
   },
   "source": [
    "As always, we start by calling the necessary modules: And of course we want to import the required modules."
   ]
  },
  {
   "cell_type": "code",
   "execution_count": null,
   "id": "renewable-tooth",
   "metadata": {
    "slideshow": {
     "slide_type": "slide"
    }
   },
   "outputs": [],
   "source": [
    "%matplotlib inline\n",
    "\n",
    "import numpy as np\n",
    "from numpy import pi\n",
    "from numpy.linalg import solve, norm    \n",
    "import matplotlib.pyplot as plt\n",
    "\n",
    "import pandas as pd\n",
    "\n",
    "# Use a funny plotting style\n",
    "plt.xkcd()\n",
    "\n",
    "newparams = {'figure.figsize': (6.0, 6.0), 'axes.grid': True,\n",
    "             'lines.markersize': 8, 'lines.linewidth': 2,\n",
    "             'font.size': 14}\n",
    "plt.rcParams.update(newparams)"
   ]
  },
  {
   "cell_type": "markdown",
   "id": "e981e995-63f7-4047-b29b-d5f768549e5a",
   "metadata": {
    "tags": []
   },
   "source": [
    "## Problem 1: Embedded Runge-Kutta methods\n",
    "\n",
    "In this problem you are asked to implement an `EmbeddedExplicitRungeKutta` class\n",
    "which extends  the `ExplicitRungeKutta` class from the `RungeKuttaNuMeODE.ipynb`\n",
    "to include adaptive time-stepping. We start with a short review."
   ]
  },
  {
   "cell_type": "markdown",
   "id": "cc54b874-a160-44f5-88ed-884a8f9d1b2a",
   "metadata": {
    "slideshow": {
     "slide_type": "slide"
    }
   },
   "source": [
    "### Review: Runge-Kutta method with stepsize control\n",
    "\n",
    "A Runge - Kutta methods with an error estimate are usually called **embedded Runge - Kutta methods** or **Runge - Kutta pairs**, and\n",
    "the coefficients can be written in a Butcher tableau as follows\n",
    "\n",
    "$$\n",
    "\\begin{array}{c|ccccl}\n",
    "    c_1 & a_{11} & a_{12} & \\cdots & a_{1s} \\\\ \n",
    "    c_2 & a_{21} & a_{22} & \\cdots & a_{2s} \\\\ \n",
    "    \\vdots & \\vdots &&&\\vdots \\\\ \n",
    "    c_s & a_{s1} & a_{s2} & \\cdots & a_{ss} \\\\ \\hline\n",
    "        & b_1 & b_2 & \\cdots & b_s  & \\qquad\\text{Order $p$}\\\\ \\hline\n",
    "        & \\widehat{b}_1 & \\widehat{b_2} & \\cdots & \\widehat{b}_s  & \\qquad\\text{Order $\\widehat{p}= p+1$}\n",
    "   \\end{array}.\n",
    "$$"
   ]
  },
  {
   "cell_type": "markdown",
   "id": "5d9142e9-9199-4039-914d-5283ec3bc65a",
   "metadata": {
    "slideshow": {
     "slide_type": "slide"
    }
   },
   "source": [
    "Now for each time-step, the following **autmatic error estimation and time-step control mechanis** needs to be added:\n",
    "\n",
    "\n",
    "Given $t_n, \\mb{y}_n$ and a step size $\\tau_n$. \n",
    "* Do one step with the low order method (order $p$) and one step with a high order method (order $\\widehat{p}$):\n",
    " \\begin{align*}\n",
    "  \\mathbf{y}_{n+1} &= \\mathbf{y}_n + \\tau \\mathbf{\\Phi}(t_n, \\mathbf{y}_n; \\tau), && \\text{order $p$}, \\\\ \n",
    "  \\widehat{\\mathbf{y}}_{n+1} &= \\mathbf{y}_n + \\tau \\widehat{\\mathbf{\\Phi}}(t_n, \\mathbf{y}_n; \\tau), && \\text{order $\\widehat{p} = p+1$ or more}. \\\\ \n",
    "\\end{align*}\n",
    "\n",
    "* Then the error is simply estimated  by \n",
    "$$ \\mb{le}_{n+1} = \\tau_n\\sum_{i=1}^s (\\widehat{b}_i - b_i)\\mb{k}_i,\n",
    "$$ \n",
    "and a new time-step suggestion $\\tau_{new}$ is computed by\n",
    "$$\n",
    "\\tau_{new} \\approx  \\mathrm{fac} \\left( \\frac{\\text{Tol}}{\\|\\mb{le}_{n+1}\\|} \\right)^{\\frac{1}{p+1}} \\tau _{n}.\n",
    "$$\n",
    "where $\\mathrm{fac} \\approx 0.8$ is a safety factor,\n",
    "\n",
    "\n",
    "* if  $\\|\\mb{le}\\|_{n+1} < \\text{Tol}$\n",
    "\n",
    "    * Accept the solution $t_{n+1}, \\mb{y}_{n+1},\\widehat{\\mb{y}}_{n+1}$ as accurate enough and and set $\\mb{y}_{n+1} := \\widehat{\\mb{y}}_{n+1}$, i.e., use the better approximation to advance to $t_{n+1}$.\n",
    "\n",
    "    * If possible, use increased step size $\\tau_{n+1} := \\tau_{new}$ for the next step.\n",
    "\n",
    "* else\n",
    "\n",
    "    * Repeat the step from $(t_n,\\mb{y}_n)$ with a reduced step size $\\tau_n := \\tau_{new}$."
   ]
  },
  {
   "cell_type": "markdown",
   "id": "b2496786-cbf9-47cd-8a73-71acd6f9e97c",
   "metadata": {},
   "source": [
    "__Task a)__  Extend the Runge-Kutta class to include the autmatic error estimation and time-step control mechanism describe above by complementing the following code outline.\n",
    "Code sections which you need to complet are marked with a `# TODO ` comments, e.g.\n",
    "```Python\n",
    "# TODO: Extend previous __call__ routine to take in tolerance tol as well:\n",
    "    def __call__(self, y0, t0, T, f, Nmax):\n",
    "\n",
    "```\n",
    "\n",
    "Don't forget to take into account the points mention in the *Implementation* section in the `AdaptiveNuMeODE.ipynb` notebook to avoid infinite loops, to terminate the solution exactly in $T$ etc.\n",
    "\n",
    "**Hints:** You want to review how we implemented the Explicit-Euler-Heun method from scratch in code tutorial II `RungeKuttaCodeTutorialsPart_II.ipynb`. That will give a good idea of how you can complete the code outline below."
   ]
  },
  {
   "cell_type": "code",
   "execution_count": null,
   "id": "5f723a76-092c-45fb-81b7-d0e03dcc8b75",
   "metadata": {},
   "outputs": [],
   "source": [
    "import numpy as np\n",
    "from numpy.linalg import norm, solve\n",
    "import matplotlib.pyplot as plt\n",
    "\n",
    "class EmbeddedExplicitRungeKutta:\n",
    "    # TODO: Extend __init__ so that it also takes in 'bhat' and 'order' as additional argument \n",
    "    def __init__(self, a, b, c):\n",
    "        self.a = a\n",
    "        self.b = b\n",
    "        self.c = c\n",
    "        ...\n",
    "        ...\n",
    "\n",
    "    # TODO: Extend previous __call__ routine to take in tolerance 'tol' as well:\n",
    "    def __call__(self, y0, t0, T, f, Nmax):\n",
    "        \n",
    "        # TODO: Extract Butcher table and \n",
    "        a, b, c, bhat, order = ...\n",
    "        \n",
    "        # Stages\n",
    "        s = len(b)\n",
    "        ks = [np.zeros_like(y0, dtype=np.double) for s in range(s)]\n",
    "\n",
    "        # Start time-stepping\n",
    "        ys = [y0]\n",
    "        ts = [t0]\n",
    "\n",
    "        # TODO: What is a simple choice for the initial time step?\n",
    "        dt = ...\n",
    "\n",
    "        # Counting steps to avoid infinite loops\n",
    "        N = 0\n",
    "        N_rej = 0\n",
    "        \n",
    "        while(ts[-1] < T and N < Nmax):\n",
    "            t, y = ts[-1], ys[-1]\n",
    "            N += 1\n",
    "\n",
    "            # Compute stages derivatives k_j\n",
    "            for j in range(s):\n",
    "                t_j = t + c[j]*dt\n",
    "                dY_j = np.zeros_like(y, dtype=np.double)\n",
    "                for l in range(j):\n",
    "                    dY_j += a[j,l]*ks[l]\n",
    "\n",
    "                ks[j] = f(t_j, y + dt*dY_j)\n",
    "                \n",
    "            # Compute next time-step\n",
    "            dy = np.zeros_like(y, dtype=np.double)\n",
    "            for j in range(s):\n",
    "                dy += b[j]*ks[j]\n",
    "            \n",
    "            # If bhat was not given then fall back to a standard RKM with uniform step size\n",
    "            if bhat is None:\n",
    "                ys.append(y + dt*dy)\n",
    "                ts.append(t + dt)\n",
    "            # TODO: In the next lines, compute yhat or dyhat, estimate error, \n",
    "            # decide whether to accept step or not, compute new time step etc.\n",
    "            else:\n",
    "                # TODO: Compute dyhat\n",
    "                dyhat = ...\n",
    "                \n",
    "                # TODO: Error estimate, use norm() function for this\n",
    "                err = ...\n",
    "\n",
    "                # TODO: Accept time-step\n",
    "                if err <= tol:\n",
    "                    ...\n",
    "                    ...\n",
    "             \n",
    "                else:\n",
    "                    print(f\"Step is rejected at t = {t} with err = {err}\")\n",
    "                    N_rej += 1\n",
    "  \n",
    "                # TODO: Compute New step size\n",
    "                dt = ...\n",
    "        \n",
    "        print(f\"Finishing time-stepping reaching t = {ts[-1]} with final time T = {T}\")\n",
    "        print(f\"Used {N} steps out of {Nmax} with {N_rej} being rejected\")\n",
    "        \n",
    "        return (np.array(ts), np.array(ys))"
   ]
  },
  {
   "cell_type": "markdown",
   "id": "fc61644c-a757-4655-8cd1-943d882970f5",
   "metadata": {},
   "source": [
    "__Task b)__\n",
    "\n",
    "Test your implementation for the **Explicit Euler-Heun pair** and for the **Fehlberg method**.\n",
    "For each of Runge-Kutta methods, consider two test problems\n",
    "\n",
    "* $y'= \\lambda y$, $y(t_0) = y_0$ with exact solution $y(t) = y_0 e^{\\lambda (t-t_0)}$\n",
    "\n",
    "* $y' = -2 t y$,  $y(0) = y_0$  with exact solution $y(t) = e^{-t^2}$\n",
    "\n",
    "Solve these test problems numerically for a number of different $\\mathrm{Tol}$ to check whether you get reasonable results, \n",
    "e.g. by comparing it to the exact solution or to the corresponding explicit Runge-Kutta methods without time-stepping.\n",
    "\n",
    "\n",
    "Also, here are some orientation/check points for you from the reference implementation in the solution manual.\n",
    "In both test problems, we used $N_{\\mathrm{max}} = 100$, $\\mathrm{Tol} = 10^{-3}$, $t_0 = 0, T = 1$ and $y_0 = 1$.\n",
    "Then\n",
    "* the Explicit Euler-Heun pair uses $37$ steps for the first\n",
    "  test problem with $0$ rejections and $31$ steps for the second test problem with $2$ rejections, while\n",
    "* the Fehlberg method uses $4$ steps for the first\n",
    "  test problem with $0$ rejections and $6$ steps for the second test problem with $2$ rejections."
   ]
  },
  {
   "cell_type": "markdown",
   "id": "29014de6-3142-4283-b6f4-61cceffa4b2b",
   "metadata": {},
   "source": [
    "## Problem 2: Numerical solution of the restricted three body problem"
   ]
  },
  {
   "cell_type": "markdown",
   "id": "efbfc70a-82c3-4356-a42d-aa8e2cf16a9c",
   "metadata": {
    "slideshow": {
     "slide_type": "-"
    }
   },
   "source": [
    "### Brief history of the three body problem\n",
    "\n",
    "One of the first problems to be solved with differential equations was that of the motion of planets. Actually, some people will say that calculus was invented to solve the ODEs for planets. When there are two heavy bodies, e.g., earth and moon, the motion of their mass center $x_E$ and $x_M$ can be modeled by \n",
    "\\begin{align*}\n",
    "    m_E \\overset{\\cdot \\cdot}{x}_E(t) =& - G\\frac{m_E \\cdot m_M}{||x_E-x_M||^3} (x_E - x_M) \\\\\n",
    "    m_M \\overset{\\cdot \\cdot}{x}_M(t) =& - m_E \\overset{\\cdot \\cdot}{x_E}(t)\n",
    "\\end{align*}\n",
    "Where $m_E$ is the mass in kilograms of the Earth (resp. $m_M$ for the Moon) and $x_E$ are some coordinates in the outer space of the Earth (resp. $x_M$ for the Moon). Here $G$ is the [Graviational constant](https://en.wikipedia.org/wiki/Gravitational_constant).\n",
    "\n",
    "There are plenty of symmetries and tricks which can be used to find exact solutions. Nowadays, Kepler's elliptic orbits or the return of Halley's comet are well known exact solutions of this problem. But what happen when there are three or more objects? For instance, if one wants to model\n",
    "the motion of satellites or spaceships in the earth-moon system?\n",
    "Then the resulting ODE system does not as simple as before,\n",
    "\\begin{align}\n",
    "    \\label{eq.Earth}\n",
    "    m_E \\overset{\\cdot \\cdot}{x}_E(t) =& \n",
    "        - G\\frac{m_E \\cdot m_M}{||x_E-x_M||^3} ( x_E - x_M )\n",
    "        - G\\frac{m_E \\cdot m_S}{||x_E-x_S||^3} ( x_E - x_S ) \\\\\n",
    "    \\label{eq.Moon}\n",
    "    m_M \\overset{\\cdot \\cdot}{x}_M(t) =& \n",
    "        - G\\frac{m_M \\cdot m_E}{||x_M-x_E||^3} ( x_M - x_E )\n",
    "        - G\\frac{m_M \\cdot m_S}{||x_M-x_S||^3} ( x_M - x_S ) \\\\\n",
    "    m_S \\overset{\\cdot \\cdot}{x}_S(t) =& \n",
    "        - G\\frac{m_S \\cdot m_E}{||x_S-x_E||^3} ( x_S - x_E )\n",
    "        - G\\frac{m_S \\cdot m_M}{||x_S-x_M||^3} ( x_S - x_M )\n",
    "\\end{align}\n",
    "This do not look so simple anymore and exact solutions cannot be produced anymore through symmetry considerations. This is of course worrysome since space agencies and the telecomunication industries want to send devices and people into space, and it is thus of utmost importance \n",
    "to predict the trajectories of small-scale artifiical space objects with high accuracy.\n",
    "To this end, we want to make sure that communication satellites are put into stable orbits\n",
    "and that manned space rockets will return to earth and not get lost in the space.\n",
    "\n",
    "In the 1960s, people like [Richard Arenstorf](https://www.johndcook.com/blog/2020/02/08/arenstorf-orbit/) worked out this problem with a simple observation. Earth and Moon masses are around $5.972 \\cdot10^{24} \\mathrm{kg}$ and $7.348 \\cdot 10^{22}\\mathrm{kg}$, while artificial satellites are much lighter in comparison, e.g. for the Apollo missions it was around $10^5 \\mathrm{kg}.$ That means that a satellite is $10^{-17}$ as heavy as the moon.\n",
    "In other words, we can probably neglect the gravitational effects of human created space objects on the moon and earth (but not the other way around!). This leads to the so-called **restricted three body problem**,\n",
    "for which the following two periodic orbits were found by Arenstorf.\n",
    "\n",
    "<img src=\"https://wiki.math.ntnu.no/_media/tma4130/2021h/ArenstorfOrbit1.png\" width=256 height=256 /> <img src=\"https://wiki.math.ntnu.no/_media/tma4130/2021h/ArenstorfOrbit2.png\" width=256 height=256 />\n",
    "\n",
    "An important quantity in this problem is the relative mass of the moon\n",
    "$$\n",
    "\\mu :=  \\frac{m_M}{m_E + m_M}\n",
    "$$\n",
    "The high mass ratio between moon and satellite is thus also relevant from a computational point of view.\n",
    "In the first week of this course when the representation of numbers on computers were discussed, we learned \n",
    "that the relative accuracy is determined by the number of significant digits in the floating point representation. For the standard `double type` numbers available in $\\texttt{C++}$ or $\\texttt{Python}$, we have usually 16 digits at our disposal.\n",
    "Thus, numerical-wise taking the mass of the satellite $m_S$ into account when computing the relative moon mass does not make sense/is difficult since $m_E + m_M = m_E + m_M + m_S$ when these numbers are representated on a computer using standard float number representations.\n"
   ]
  },
  {
   "cell_type": "markdown",
   "id": "c850bbde-c20d-4811-8d87-a717da6da193",
   "metadata": {
    "slideshow": {
     "slide_type": "-"
    }
   },
   "source": [
    "### The restricted three-body problem"
   ]
  },
  {
   "cell_type": "markdown",
   "id": "962e9336-2d44-4785-8857-fe5bf21effcb",
   "metadata": {
    "slideshow": {
     "slide_type": "-"
    }
   },
   "source": [
    "We only sketch main ideas for how to derive the ODE system for the restricted three-body problem,\n",
    "for a detailed derivation, we refer to [these lecture notes](https://www.phys.uconn.edu/~rozman/Courses/P2200_13F/downloads/restricted-three-body.pdf).\n",
    "\n",
    "First, the unit for the lenght scale is changed so that the distance between Earth and Moon is $1$. \n",
    "Then the reference frame is changed so the $0$ corresponds to the center of gravity $x_E m_E + x_M m_M$ for the Earth-Moon system\n",
    "lies at the origin of the coordinate system. (Remember that the mass of the satellite can be neglected.).\n",
    "Also, the coordinate system is suppose to move along with the relative earth-moon position, such that the first coordinate axis\n",
    "is along the earth-moon axis.\n",
    "Also, due to symmetry considerations mentioned above, it is simpler to work with the relative mass of the moon defined\n",
    "\\begin{align*}\n",
    "    \\mu :=   \\frac{m_M}{m_E + m_M}  \\approx 0.012277471.\n",
    "\\end{align*}\n",
    "Note that $1-\\mu$ is then the relative mass of the earth. \n",
    " \n",
    "\n",
    "To this end, the satellite will move a $\\xi-\\eta$ plane with the earth and moon positions fixed at $(-\\mu, 0)$ and $(1-\\mu, 0)$, respectively.\n",
    "The coordinates $(\\xi(t),\\eta(t))$ of the moving satellite will then satisfies the ODE system"
   ]
  },
  {
   "cell_type": "markdown",
   "id": "5ebdd218-06d6-46dd-9ec3-063797e78369",
   "metadata": {
    "slideshow": {
     "slide_type": "-"
    }
   },
   "source": [
    "\\begin{align*}\n",
    "    \\frac{d^2}{dt^2} \\xi =& -2\\frac{d\\eta}{dt} + \\frac{\\partial}{\\partial \\xi} V \\\\\n",
    "    \\frac{d^2}{dt^2} \\eta =& 2\\frac{d\\xi}{dt} + \\frac{\\partial}{\\partial \\eta} V,\n",
    "\\end{align*}\n",
    "where $V, d_1, d_2$ are given by \n",
    "\\begin{align*}\n",
    "   V(\\xi,\\eta) =& \\frac{\\eta^2+\\xi^2}{2} + \\frac{1-\\mu}{d_1} + \\frac{\\mu}{d_2}\n",
    "   \\\\\n",
    "   d_1 &=\\sqrt{ (\\eta+\\mu)^2 + \\xi^2 }\n",
    "   \\\\\n",
    "   d_2 &=\\sqrt{ (\\eta-1+\\mu)^2 + \\xi^2 }\n",
    "\\end{align*}."
   ]
  },
  {
   "cell_type": "markdown",
   "id": "later-saver",
   "metadata": {},
   "source": [
    "**Task a)**\n",
    "Find the explicit expressions of $\\eta^{\\prime\\prime}(t)$ and $\\xi^{\\prime\\prime}(t)$ by explicitly calculating the\n",
    "derivatives $\\dfrac{\\partial}{\\partial\\eta}V$ and $\\dfrac{\\partial}{\\partial\\xi}V$.\n",
    "\n",
    "Then rewrite the system of second-order differential equations for $(\\xi,\\eta)$ as a system of first order ODEs.\n",
    "Verify that the number of initial conditions one need is 4.\n",
    "\n",
    "**Hint:** You might want to take a look at the end of the `IntroductionNuMeODE.ipynb` notebook, where we explained in general how\n",
    "to transform a $m$-order ODE into a first-order system. There is also an example transforming the 2nd order van der Pols equation into a first-order system. "
   ]
  },
  {
   "cell_type": "markdown",
   "id": "ambient-motel",
   "metadata": {},
   "source": [
    "**Task b)** Next define a `Python` function `f(t,y)` which implementents the right-hand side function for the first-order system you just derived.\n",
    "You can start from the following code snippet."
   ]
  },
  {
   "cell_type": "code",
   "execution_count": null,
   "id": "widespread-medicaid",
   "metadata": {},
   "outputs": [],
   "source": [
    "# Parameters for the system \n",
    "mu = 0.012277471\n",
    "earth = np.array( [-mu , 0 ])\n",
    "moon = np.array([ 1-mu , 0] )\n",
    "\n",
    "# Force field to be solved\n",
    "def f(t,y):\n",
    "    \n",
    "    # y = (xi,eta,xi_prime,eta_prime)\n",
    "    xi, eta, xi_prime, eta_prime = y \n",
    "\n",
    "    # the distances can be computed using linalg in numpy\n",
    "    d1 = np.linalg.norm( y[0:2] - earth , 2 )\n",
    "    # TODO\n",
    "    d2 = ...\n",
    "    \n",
    "    # the vector of derivatives\n",
    "    dy1 = xi_prime        \n",
    "    dy2 = eta_prime \n",
    "    \n",
    "    # TODO\n",
    "    dy3 =  ... # fill in here the second derivative of eta\n",
    "    dy4 =  ... # fill in here the second derivative of xi\n",
    "\n",
    "    return np.array([dy1,dy2,dy3,dy4])"
   ]
  },
  {
   "cell_type": "markdown",
   "id": "7f202bd6-d730-442c-9ef1-74fbb7f8bad9",
   "metadata": {},
   "source": [
    "**Task c)** Solve the ODE for $(\\xi(t),\\eta(t))$ for $t\\in [0,20]$ for *3 different sets of initial conditions*.\n",
    "\n",
    "In all three of them, we set\n",
    "\\begin{align*}\n",
    "    \\xi(0) &= 0.994 \\\\ \n",
    "    \\eta(0) &= 0 \\\\\n",
    "    \\xi^\\prime(0) &= 0 \n",
    "\\end{align*}\n",
    "\n",
    "In the first set $\\eta^\\prime(0)=-2.0317326$, in the second set $\\eta^\\prime(0)=-2.0015851$. These two conditions will generate the **periodic Arenstorf orbits** pictured above. \n",
    "In the third set $\\eta^\\prime(0)=-2.1$, and this will help to show that this problem is very sensitive to small changes in initial conditions.\n",
    "\n",
    "Use a the **classical Runge-Kutta method with $4$ stages** without time-step adaption, that is with a uniform step-size $\\tau  = \\dfrac{T-t_0}{N_{\\mathrm{max}}}$  for some given maximal number of steps $N_{\\mathrm{max}}$.\n",
    "Start from $N_{\\mathrm{max}} = 1000$ and try to find out, how large you have to choose $N_{\\mathrm{max}}$ to reproduce\n",
    "the two Arenstorf orbits shown above."
   ]
  },
  {
   "cell_type": "markdown",
   "id": "ff86a9ee-b5cf-43a4-9419-38de9c7625ec",
   "metadata": {},
   "source": [
    "**Task d)** Now rerun the experiment from **c)**, but this time the\n",
    "the  **time-step adaptive Fehlberg method** you implemented and tested in **Problem 1** with $N_{max}=1000$ and a tolerance of $10^{-6}$. \n",
    "\n",
    "For all three sets of initial conditions, record/find \n",
    "* the number of steps to reach the final time $T$\n",
    "* the number of rejected steps\n",
    "* the smallest time-step $\\tau_{\\mathrm{min}}$ and the largest time-step $\\tau_{\\mathrm{max}}$ used during the computation and caculate their ratio.\n",
    "\n",
    "Compare the work efficiency of the adaptive Fehlberg with the classical 4 stage Runge-Kutta methods. Which one would you prepare and why?\n",
    "\n",
    "**Hint:** To find the smallest and larges time-step, you can either record during the numerical computation or you\n",
    "can find them after the numerical computation by looking at the list of time-steps `ts` and use the \n",
    "[np.diff](https://numpy.org/doc/stable/reference/generated/numpy.diff.html) function."
   ]
  }
 ],
 "metadata": {
  "kernelspec": {
   "display_name": "Python 3",
   "language": "python",
   "name": "python3"
  },
  "language_info": {
   "codemirror_mode": {
    "name": "ipython",
    "version": 3
   },
   "file_extension": ".py",
   "mimetype": "text/x-python",
   "name": "python",
   "nbconvert_exporter": "python",
   "pygments_lexer": "ipython3",
   "version": "3.9.5"
  },
  "latex_envs": {
   "LaTeX_envs_menu_present": true,
   "autoclose": false,
   "autocomplete": true,
   "bibliofile": "biblio.bib",
   "cite_by": "apalike",
   "current_citInitial": 1,
   "eqLabelWithNumbers": true,
   "eqNumInitial": 1,
   "hotkeys": {
    "equation": "Ctrl-E",
    "itemize": "Ctrl-I"
   },
   "labels_anchors": false,
   "latex_user_defs": false,
   "report_style_numbering": false,
   "user_envs_cfg": false
  }
 },
 "nbformat": 4,
 "nbformat_minor": 5
}
